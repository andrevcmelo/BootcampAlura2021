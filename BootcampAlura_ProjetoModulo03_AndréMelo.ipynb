{
  "nbformat": 4,
  "nbformat_minor": 0,
  "metadata": {
    "colab": {
      "name": "BootcampAlura_ProjetoModulo03_AndréMelo.ipynb",
      "provenance": [],
      "collapsed_sections": [
        "3l2XKKuLYbEj"
      ],
      "authorship_tag": "ABX9TyPIqjIsowtZqZ/rV6LNAPPj",
      "include_colab_link": true
    },
    "kernelspec": {
      "name": "python3",
      "display_name": "Python 3"
    }
  },
  "cells": [
    {
      "cell_type": "markdown",
      "metadata": {
        "id": "view-in-github",
        "colab_type": "text"
      },
      "source": [
        "<a href=\"https://colab.research.google.com/github/andrevcmelo/BootcampAlura2021/blob/main/BootcampAlura_ProjetoModulo03_Andr%C3%A9Melo.ipynb\" target=\"_parent\"><img src=\"https://colab.research.google.com/assets/colab-badge.svg\" alt=\"Open In Colab\"/></a>"
      ]
    },
    {
      "cell_type": "markdown",
      "metadata": {
        "id": "KBMmoV-Y7ZU_"
      },
      "source": [
        "**Projeto do Módulo 03 do Bootcamp Alura em Data Science Aplicada 2020**\r\n",
        "\r\n",
        "**Aluno: [André Victor Costa de Melo](https://https://www.linkedin.com/in/andrevcmelo/)**\r\n",
        "\r\n",
        "O objetivo deste projeto é realizar uma análise exploratória na base de dados da pesquisa PeNSE de 2015, do IBGE, utilizando conhecimentos de estatística e visualização de dados.\r\n",
        "\r\n",
        "1. Informações sobre a PeNSE 2015 - https://www.ibge.gov.br/estatisticas/sociais/populacao/9134-pesquisa-nacional-de-saude-do-escolar.html?=&t=o-que-e\r\n",
        "\r\n",
        "2. IBGE Explica - PeNSE: https://www.youtube.com/watch?v=z4BBCHZUvD4\r\n",
        "\r\n",
        "3. Microdados Download: https://www.ibge.gov.br/estatisticas/downloads-estatisticas.html?caminho=pense/2015/microdados/\r\n",
        "\r\n",
        "4. Link Dicionário dos Dados: https://github.com/andrevcmelo/BootcampAlura2021/blob/main/bases_modulo3/Dicionario_PENSE_Microdados_AMOSTRA2.xls\r\n",
        "\r\n",
        "5. Link Base de Dados: https://raw.githubusercontent.com/andrevcmelo/BootcampAlura2021/main/bases_modulo3/PENSE_AMOSTRA2_ALUNOESCOLA.CSV"
      ]
    },
    {
      "cell_type": "markdown",
      "metadata": {
        "id": "_Lg1jZeAK4j9"
      },
      "source": [
        "# **Resumo**"
      ]
    },
    {
      "cell_type": "markdown",
      "metadata": {
        "id": "8HqWkfNBK62J"
      },
      "source": [
        "A Pesquisa Nacional de Saúde do Escolar - PeNSE teve início em 2009, fruto de parceria com o Ministério da Saúde e apoio do Ministério da Educação. Na edição de 2015, que utilizaremos como base de dados para este projeto, se destaca a disponibilização de informações oriundas de dois planos amostrais distintos: 1) escolares frequentando o 9o ano do ensino fundamental e **2)** escolares de 13 a 17 anos de idade frequentando as etapas do 6o ao 9o ano do ensino fundamental (antigas 5a a 8a séries) e da 1a a 3a série do ensino médio. Neste projeto iremos utilizar a **amostra 2**.\r\n",
        "\r\n",
        "A pesquisa fornece informações sobre as características básicas da população de estudo, divididas entre:\r\n",
        "1. `Dados dos alunos:` incluindo aspectos socioeconômicos, como escolaridade dos pais, inserção no mercado de trabalho e posse de bens e serviços; contextos social e familiar; fatores de risco comportamentais relacionados a hábitos alimentares, sedentarismo, tabagismo, consumo de álcool e outras drogas; saúde sexual e reprodutiva; exposição a acidentes e violências; hábitos de higiene; saúde bucal; saúde mental; e percepção da imagem corporal, entre outros tópicos. \r\n",
        "2. `Dados das escolas:` Características do ambiente escolar e do entorno são também contempladas, incluindo informações relacionadas à infraestrutura disponível para alimentação e atividade física; acessibilidade; saneamento básico; existência de regras e normas de conduta adotadas pelas escolas; políticas de assistência à saúde; e nível de segurança do entorno, entre outros aspectos."
      ]
    },
    {
      "cell_type": "markdown",
      "metadata": {
        "id": "hjNHVUntMvSm"
      },
      "source": [
        "Diante deste cenário da base de dados, irei avaliar algumas hipóteses através de análises exploratórias nos dados. As hipóteses que guiarão este projeto são:\r\n",
        "\r\n",
        "1. Os adolescentes brasileiros estão satisfeitos com seus corpos?\r\n",
        "2. Há uma alta frequência de bullying nas escolas?\r\n",
        "3. A aparência do corpo é o principal motivo de bullying?\r\n",
        "4. O racismo é frequente em relação aos principais motivos de bullying?\r\n",
        "5. Os alunos de escola pública costumam gastar mais tempo de deslocamento no dia a dia?\r\n",
        "6. Uma pesquisa recente noticiada na revista [Galileu](https://revistagalileu.globo.com/Ciencia/Saude/noticia/2020/12/jovens-brasileiros-estao-mais-altos-mas-nao-necessariamente-mais-saudaveis.html) aponta que as meninas de 19 anos têm em média 23,30 de IMC. A amostra utilizada condiz com a pesquisa (mesmo contendo dados de 2015)?"
      ]
    },
    {
      "cell_type": "markdown",
      "metadata": {
        "id": "MJ20LUPyGmWg"
      },
      "source": [
        "# **Análise dos Dados**"
      ]
    },
    {
      "cell_type": "markdown",
      "metadata": {
        "id": "oe2NCgYgYaIa"
      },
      "source": [
        "## Importação de Bibliotecas"
      ]
    },
    {
      "cell_type": "code",
      "metadata": {
        "id": "20BbFs9IZKtU"
      },
      "source": [
        "import numpy as np\r\n",
        "import pandas as pd\r\n",
        "import matplotlib.pyplot as plt\r\n",
        "import matplotlib.ticker as ticker\r\n",
        "import seaborn as sns\r\n",
        "import datetime\r\n",
        "import plotly.graph_objects as go\r\n",
        "import plotly.express as px\r\n",
        "from statsmodels.stats.weightstats import ztest\r\n",
        "import scipy.stats as sct"
      ],
      "execution_count": 106,
      "outputs": []
    },
    {
      "cell_type": "markdown",
      "metadata": {
        "id": "3l2XKKuLYbEj"
      },
      "source": [
        "## Importação de Dados"
      ]
    },
    {
      "cell_type": "code",
      "metadata": {
        "id": "F-shNYzHZM5A"
      },
      "source": [
        "#base de dados da Amostra 2\r\n",
        "url = 'https://raw.githubusercontent.com/andrevcmelo/BootcampAlura2021/main/bases_modulo3/PENSE_AMOSTRA2_ALUNOESCOLA.CSV'\r\n",
        "\r\n",
        "df = pd.read_csv(url, sep=';',thousands=\".\", decimal=\",\")"
      ],
      "execution_count": 49,
      "outputs": []
    },
    {
      "cell_type": "code",
      "metadata": {
        "colab": {
          "base_uri": "https://localhost:8080/"
        },
        "id": "v8uFvpujZNVr",
        "outputId": "a17f48fb-a6e4-4f66-f5ff-b46ccffcb3bc"
      },
      "source": [
        "df.info()"
      ],
      "execution_count": 50,
      "outputs": [
        {
          "output_type": "stream",
          "text": [
            "<class 'pandas.core.frame.DataFrame'>\n",
            "RangeIndex: 16556 entries, 0 to 16555\n",
            "Columns: 296 entries, ANOPESQ to turma\n",
            "dtypes: float64(10), int64(286)\n",
            "memory usage: 37.4 MB\n"
          ],
          "name": "stdout"
        }
      ]
    },
    {
      "cell_type": "code",
      "metadata": {
        "colab": {
          "base_uri": "https://localhost:8080/",
          "height": 0
        },
        "id": "gY_rXsd8ZQWX",
        "outputId": "926f4b2a-95ce-4630-c0ab-3e145a6b20be"
      },
      "source": [
        "df.head(5)"
      ],
      "execution_count": 51,
      "outputs": [
        {
          "output_type": "execute_result",
          "data": {
            "text/html": [
              "<div>\n",
              "<style scoped>\n",
              "    .dataframe tbody tr th:only-of-type {\n",
              "        vertical-align: middle;\n",
              "    }\n",
              "\n",
              "    .dataframe tbody tr th {\n",
              "        vertical-align: top;\n",
              "    }\n",
              "\n",
              "    .dataframe thead th {\n",
              "        text-align: right;\n",
              "    }\n",
              "</style>\n",
              "<table border=\"1\" class=\"dataframe\">\n",
              "  <thead>\n",
              "    <tr style=\"text-align: right;\">\n",
              "      <th></th>\n",
              "      <th>ANOPESQ</th>\n",
              "      <th>PAIS</th>\n",
              "      <th>REGEOGR</th>\n",
              "      <th>VB00004</th>\n",
              "      <th>VB01001</th>\n",
              "      <th>VB01002</th>\n",
              "      <th>VB01003</th>\n",
              "      <th>VB01004</th>\n",
              "      <th>VB01005</th>\n",
              "      <th>VB01006</th>\n",
              "      <th>VB01007</th>\n",
              "      <th>VB01008A</th>\n",
              "      <th>VB01010A</th>\n",
              "      <th>VB01011</th>\n",
              "      <th>VB01012</th>\n",
              "      <th>VB01013</th>\n",
              "      <th>VB01014</th>\n",
              "      <th>VB01015A</th>\n",
              "      <th>VB01016</th>\n",
              "      <th>VB01017</th>\n",
              "      <th>VB01018</th>\n",
              "      <th>VB01019</th>\n",
              "      <th>VB01020A</th>\n",
              "      <th>VB01021</th>\n",
              "      <th>VB01022</th>\n",
              "      <th>VB01023</th>\n",
              "      <th>VB01024</th>\n",
              "      <th>VB01025</th>\n",
              "      <th>VB01026</th>\n",
              "      <th>VB02001</th>\n",
              "      <th>VB02002</th>\n",
              "      <th>VB02004A</th>\n",
              "      <th>VB02010</th>\n",
              "      <th>VB02011</th>\n",
              "      <th>VB02013</th>\n",
              "      <th>VB02017A</th>\n",
              "      <th>VB02018A</th>\n",
              "      <th>VB02019A</th>\n",
              "      <th>VB02020A</th>\n",
              "      <th>VB02021</th>\n",
              "      <th>...</th>\n",
              "      <th>VE01P14A04</th>\n",
              "      <th>VE01P14A05</th>\n",
              "      <th>VE01P14A06</th>\n",
              "      <th>VE01P14A07</th>\n",
              "      <th>VE01P14A08</th>\n",
              "      <th>VE01P14A09</th>\n",
              "      <th>VE01P14A10</th>\n",
              "      <th>VE01P14A11</th>\n",
              "      <th>VE01P49</th>\n",
              "      <th>VE01P50</th>\n",
              "      <th>VE01P51</th>\n",
              "      <th>VE01P52</th>\n",
              "      <th>VE01P53</th>\n",
              "      <th>VE01P54</th>\n",
              "      <th>VE01P55</th>\n",
              "      <th>VE01P56</th>\n",
              "      <th>VE01P57</th>\n",
              "      <th>VE01P58</th>\n",
              "      <th>VE01P25</th>\n",
              "      <th>VE01P59</th>\n",
              "      <th>VE01P60</th>\n",
              "      <th>VE01P61</th>\n",
              "      <th>VE01P62</th>\n",
              "      <th>VE01P63</th>\n",
              "      <th>VE01P64</th>\n",
              "      <th>VE01P65</th>\n",
              "      <th>VE01P66</th>\n",
              "      <th>VE01P67</th>\n",
              "      <th>VE01P26</th>\n",
              "      <th>VE01P27</th>\n",
              "      <th>VE01P28A</th>\n",
              "      <th>VE01P68</th>\n",
              "      <th>VE01P69</th>\n",
              "      <th>VE01P70</th>\n",
              "      <th>VE01P71</th>\n",
              "      <th>VE01P72</th>\n",
              "      <th>V0041</th>\n",
              "      <th>aluno</th>\n",
              "      <th>escola</th>\n",
              "      <th>turma</th>\n",
              "    </tr>\n",
              "  </thead>\n",
              "  <tbody>\n",
              "    <tr>\n",
              "      <th>0</th>\n",
              "      <td>2015</td>\n",
              "      <td>76</td>\n",
              "      <td>1</td>\n",
              "      <td>1</td>\n",
              "      <td>2</td>\n",
              "      <td>1</td>\n",
              "      <td>13</td>\n",
              "      <td>7</td>\n",
              "      <td>7</td>\n",
              "      <td>1</td>\n",
              "      <td>2</td>\n",
              "      <td>7</td>\n",
              "      <td>3</td>\n",
              "      <td>2</td>\n",
              "      <td>-1</td>\n",
              "      <td>1</td>\n",
              "      <td>1</td>\n",
              "      <td>1</td>\n",
              "      <td>1</td>\n",
              "      <td>1</td>\n",
              "      <td>2</td>\n",
              "      <td>4</td>\n",
              "      <td>2</td>\n",
              "      <td>4</td>\n",
              "      <td>1</td>\n",
              "      <td>2</td>\n",
              "      <td>2</td>\n",
              "      <td>5</td>\n",
              "      <td>1</td>\n",
              "      <td>8</td>\n",
              "      <td>3</td>\n",
              "      <td>4</td>\n",
              "      <td>3</td>\n",
              "      <td>6</td>\n",
              "      <td>6</td>\n",
              "      <td>1</td>\n",
              "      <td>6</td>\n",
              "      <td>1</td>\n",
              "      <td>-1</td>\n",
              "      <td>2</td>\n",
              "      <td>...</td>\n",
              "      <td>2</td>\n",
              "      <td>1</td>\n",
              "      <td>2</td>\n",
              "      <td>2</td>\n",
              "      <td>2</td>\n",
              "      <td>2</td>\n",
              "      <td>2</td>\n",
              "      <td>2</td>\n",
              "      <td>2</td>\n",
              "      <td>1</td>\n",
              "      <td>1</td>\n",
              "      <td>1</td>\n",
              "      <td>1</td>\n",
              "      <td>1</td>\n",
              "      <td>1</td>\n",
              "      <td>1</td>\n",
              "      <td>1</td>\n",
              "      <td>5</td>\n",
              "      <td>1</td>\n",
              "      <td>1</td>\n",
              "      <td>2</td>\n",
              "      <td>2</td>\n",
              "      <td>-1</td>\n",
              "      <td>2</td>\n",
              "      <td>2</td>\n",
              "      <td>2</td>\n",
              "      <td>1</td>\n",
              "      <td>1</td>\n",
              "      <td>2</td>\n",
              "      <td>2</td>\n",
              "      <td>1</td>\n",
              "      <td>1</td>\n",
              "      <td>1</td>\n",
              "      <td>1</td>\n",
              "      <td>1</td>\n",
              "      <td>1</td>\n",
              "      <td>1</td>\n",
              "      <td>1</td>\n",
              "      <td>1</td>\n",
              "      <td>296</td>\n",
              "    </tr>\n",
              "    <tr>\n",
              "      <th>1</th>\n",
              "      <td>2015</td>\n",
              "      <td>76</td>\n",
              "      <td>1</td>\n",
              "      <td>1</td>\n",
              "      <td>2</td>\n",
              "      <td>1</td>\n",
              "      <td>14</td>\n",
              "      <td>4</td>\n",
              "      <td>7</td>\n",
              "      <td>1</td>\n",
              "      <td>1</td>\n",
              "      <td>7</td>\n",
              "      <td>3</td>\n",
              "      <td>2</td>\n",
              "      <td>-1</td>\n",
              "      <td>1</td>\n",
              "      <td>1</td>\n",
              "      <td>1</td>\n",
              "      <td>1</td>\n",
              "      <td>1</td>\n",
              "      <td>2</td>\n",
              "      <td>2</td>\n",
              "      <td>2</td>\n",
              "      <td>4</td>\n",
              "      <td>1</td>\n",
              "      <td>2</td>\n",
              "      <td>2</td>\n",
              "      <td>5</td>\n",
              "      <td>3</td>\n",
              "      <td>8</td>\n",
              "      <td>2</td>\n",
              "      <td>1</td>\n",
              "      <td>8</td>\n",
              "      <td>8</td>\n",
              "      <td>6</td>\n",
              "      <td>1</td>\n",
              "      <td>1</td>\n",
              "      <td>5</td>\n",
              "      <td>-1</td>\n",
              "      <td>2</td>\n",
              "      <td>...</td>\n",
              "      <td>2</td>\n",
              "      <td>1</td>\n",
              "      <td>2</td>\n",
              "      <td>2</td>\n",
              "      <td>2</td>\n",
              "      <td>2</td>\n",
              "      <td>2</td>\n",
              "      <td>2</td>\n",
              "      <td>2</td>\n",
              "      <td>1</td>\n",
              "      <td>1</td>\n",
              "      <td>1</td>\n",
              "      <td>1</td>\n",
              "      <td>1</td>\n",
              "      <td>1</td>\n",
              "      <td>1</td>\n",
              "      <td>1</td>\n",
              "      <td>5</td>\n",
              "      <td>1</td>\n",
              "      <td>1</td>\n",
              "      <td>2</td>\n",
              "      <td>2</td>\n",
              "      <td>-1</td>\n",
              "      <td>2</td>\n",
              "      <td>2</td>\n",
              "      <td>2</td>\n",
              "      <td>1</td>\n",
              "      <td>1</td>\n",
              "      <td>2</td>\n",
              "      <td>2</td>\n",
              "      <td>1</td>\n",
              "      <td>1</td>\n",
              "      <td>1</td>\n",
              "      <td>1</td>\n",
              "      <td>1</td>\n",
              "      <td>1</td>\n",
              "      <td>1</td>\n",
              "      <td>2</td>\n",
              "      <td>1</td>\n",
              "      <td>296</td>\n",
              "    </tr>\n",
              "    <tr>\n",
              "      <th>2</th>\n",
              "      <td>2015</td>\n",
              "      <td>76</td>\n",
              "      <td>1</td>\n",
              "      <td>1</td>\n",
              "      <td>1</td>\n",
              "      <td>4</td>\n",
              "      <td>13</td>\n",
              "      <td>6</td>\n",
              "      <td>7</td>\n",
              "      <td>1</td>\n",
              "      <td>1</td>\n",
              "      <td>5</td>\n",
              "      <td>5</td>\n",
              "      <td>2</td>\n",
              "      <td>-1</td>\n",
              "      <td>2</td>\n",
              "      <td>1</td>\n",
              "      <td>1</td>\n",
              "      <td>1</td>\n",
              "      <td>1</td>\n",
              "      <td>2</td>\n",
              "      <td>3</td>\n",
              "      <td>1</td>\n",
              "      <td>4</td>\n",
              "      <td>1</td>\n",
              "      <td>2</td>\n",
              "      <td>2</td>\n",
              "      <td>5</td>\n",
              "      <td>3</td>\n",
              "      <td>2</td>\n",
              "      <td>3</td>\n",
              "      <td>1</td>\n",
              "      <td>8</td>\n",
              "      <td>2</td>\n",
              "      <td>8</td>\n",
              "      <td>1</td>\n",
              "      <td>1</td>\n",
              "      <td>5</td>\n",
              "      <td>5</td>\n",
              "      <td>1</td>\n",
              "      <td>...</td>\n",
              "      <td>2</td>\n",
              "      <td>1</td>\n",
              "      <td>2</td>\n",
              "      <td>2</td>\n",
              "      <td>2</td>\n",
              "      <td>2</td>\n",
              "      <td>2</td>\n",
              "      <td>2</td>\n",
              "      <td>2</td>\n",
              "      <td>1</td>\n",
              "      <td>1</td>\n",
              "      <td>1</td>\n",
              "      <td>1</td>\n",
              "      <td>1</td>\n",
              "      <td>1</td>\n",
              "      <td>1</td>\n",
              "      <td>1</td>\n",
              "      <td>5</td>\n",
              "      <td>1</td>\n",
              "      <td>1</td>\n",
              "      <td>2</td>\n",
              "      <td>2</td>\n",
              "      <td>-1</td>\n",
              "      <td>2</td>\n",
              "      <td>2</td>\n",
              "      <td>2</td>\n",
              "      <td>1</td>\n",
              "      <td>1</td>\n",
              "      <td>2</td>\n",
              "      <td>2</td>\n",
              "      <td>1</td>\n",
              "      <td>1</td>\n",
              "      <td>1</td>\n",
              "      <td>1</td>\n",
              "      <td>1</td>\n",
              "      <td>1</td>\n",
              "      <td>1</td>\n",
              "      <td>3</td>\n",
              "      <td>1</td>\n",
              "      <td>296</td>\n",
              "    </tr>\n",
              "    <tr>\n",
              "      <th>3</th>\n",
              "      <td>2015</td>\n",
              "      <td>76</td>\n",
              "      <td>1</td>\n",
              "      <td>1</td>\n",
              "      <td>1</td>\n",
              "      <td>1</td>\n",
              "      <td>14</td>\n",
              "      <td>6</td>\n",
              "      <td>7</td>\n",
              "      <td>1</td>\n",
              "      <td>1</td>\n",
              "      <td>7</td>\n",
              "      <td>4</td>\n",
              "      <td>2</td>\n",
              "      <td>-1</td>\n",
              "      <td>1</td>\n",
              "      <td>1</td>\n",
              "      <td>1</td>\n",
              "      <td>1</td>\n",
              "      <td>1</td>\n",
              "      <td>2</td>\n",
              "      <td>4</td>\n",
              "      <td>2</td>\n",
              "      <td>4</td>\n",
              "      <td>1</td>\n",
              "      <td>2</td>\n",
              "      <td>2</td>\n",
              "      <td>6</td>\n",
              "      <td>3</td>\n",
              "      <td>2</td>\n",
              "      <td>4</td>\n",
              "      <td>1</td>\n",
              "      <td>3</td>\n",
              "      <td>2</td>\n",
              "      <td>7</td>\n",
              "      <td>1</td>\n",
              "      <td>5</td>\n",
              "      <td>1</td>\n",
              "      <td>-1</td>\n",
              "      <td>2</td>\n",
              "      <td>...</td>\n",
              "      <td>2</td>\n",
              "      <td>1</td>\n",
              "      <td>2</td>\n",
              "      <td>2</td>\n",
              "      <td>2</td>\n",
              "      <td>2</td>\n",
              "      <td>2</td>\n",
              "      <td>2</td>\n",
              "      <td>2</td>\n",
              "      <td>1</td>\n",
              "      <td>1</td>\n",
              "      <td>1</td>\n",
              "      <td>1</td>\n",
              "      <td>1</td>\n",
              "      <td>1</td>\n",
              "      <td>1</td>\n",
              "      <td>1</td>\n",
              "      <td>5</td>\n",
              "      <td>1</td>\n",
              "      <td>1</td>\n",
              "      <td>2</td>\n",
              "      <td>2</td>\n",
              "      <td>-1</td>\n",
              "      <td>2</td>\n",
              "      <td>2</td>\n",
              "      <td>2</td>\n",
              "      <td>1</td>\n",
              "      <td>1</td>\n",
              "      <td>2</td>\n",
              "      <td>2</td>\n",
              "      <td>1</td>\n",
              "      <td>1</td>\n",
              "      <td>1</td>\n",
              "      <td>1</td>\n",
              "      <td>1</td>\n",
              "      <td>1</td>\n",
              "      <td>1</td>\n",
              "      <td>4</td>\n",
              "      <td>1</td>\n",
              "      <td>296</td>\n",
              "    </tr>\n",
              "    <tr>\n",
              "      <th>4</th>\n",
              "      <td>2015</td>\n",
              "      <td>76</td>\n",
              "      <td>1</td>\n",
              "      <td>1</td>\n",
              "      <td>1</td>\n",
              "      <td>1</td>\n",
              "      <td>13</td>\n",
              "      <td>9</td>\n",
              "      <td>7</td>\n",
              "      <td>1</td>\n",
              "      <td>2</td>\n",
              "      <td>5</td>\n",
              "      <td>4</td>\n",
              "      <td>2</td>\n",
              "      <td>-1</td>\n",
              "      <td>2</td>\n",
              "      <td>1</td>\n",
              "      <td>1</td>\n",
              "      <td>1</td>\n",
              "      <td>1</td>\n",
              "      <td>2</td>\n",
              "      <td>5</td>\n",
              "      <td>1</td>\n",
              "      <td>4</td>\n",
              "      <td>1</td>\n",
              "      <td>2</td>\n",
              "      <td>2</td>\n",
              "      <td>6</td>\n",
              "      <td>5</td>\n",
              "      <td>6</td>\n",
              "      <td>3</td>\n",
              "      <td>5</td>\n",
              "      <td>2</td>\n",
              "      <td>6</td>\n",
              "      <td>2</td>\n",
              "      <td>1</td>\n",
              "      <td>5</td>\n",
              "      <td>1</td>\n",
              "      <td>5</td>\n",
              "      <td>1</td>\n",
              "      <td>...</td>\n",
              "      <td>2</td>\n",
              "      <td>1</td>\n",
              "      <td>2</td>\n",
              "      <td>2</td>\n",
              "      <td>2</td>\n",
              "      <td>2</td>\n",
              "      <td>2</td>\n",
              "      <td>2</td>\n",
              "      <td>2</td>\n",
              "      <td>1</td>\n",
              "      <td>1</td>\n",
              "      <td>1</td>\n",
              "      <td>1</td>\n",
              "      <td>1</td>\n",
              "      <td>1</td>\n",
              "      <td>1</td>\n",
              "      <td>1</td>\n",
              "      <td>5</td>\n",
              "      <td>1</td>\n",
              "      <td>1</td>\n",
              "      <td>2</td>\n",
              "      <td>2</td>\n",
              "      <td>-1</td>\n",
              "      <td>2</td>\n",
              "      <td>2</td>\n",
              "      <td>2</td>\n",
              "      <td>1</td>\n",
              "      <td>1</td>\n",
              "      <td>2</td>\n",
              "      <td>2</td>\n",
              "      <td>1</td>\n",
              "      <td>1</td>\n",
              "      <td>1</td>\n",
              "      <td>1</td>\n",
              "      <td>1</td>\n",
              "      <td>1</td>\n",
              "      <td>1</td>\n",
              "      <td>5</td>\n",
              "      <td>1</td>\n",
              "      <td>296</td>\n",
              "    </tr>\n",
              "  </tbody>\n",
              "</table>\n",
              "<p>5 rows × 296 columns</p>\n",
              "</div>"
            ],
            "text/plain": [
              "   ANOPESQ  PAIS  REGEOGR  VB00004  ...  V0041  aluno  escola  turma\n",
              "0     2015    76        1        1  ...      1      1       1    296\n",
              "1     2015    76        1        1  ...      1      2       1    296\n",
              "2     2015    76        1        1  ...      1      3       1    296\n",
              "3     2015    76        1        1  ...      1      4       1    296\n",
              "4     2015    76        1        1  ...      1      5       1    296\n",
              "\n",
              "[5 rows x 296 columns]"
            ]
          },
          "metadata": {
            "tags": []
          },
          "execution_count": 51
        }
      ]
    },
    {
      "cell_type": "markdown",
      "metadata": {
        "id": "ESYV6y9_YdJ-"
      },
      "source": [
        "## Tratamento dos dados"
      ]
    },
    {
      "cell_type": "markdown",
      "metadata": {
        "id": "WIqPFxpwZd_w"
      },
      "source": [
        "Como podemos ver, as colunas da base de dados estão em códigos, para facilitar a visualização e manipulação dos dados. Diante disto, usaremos o dicionário de dados fornecido pelo IBGE para renomear as colunas e alguns categóricos que iremos utilizar nas análises."
      ]
    },
    {
      "cell_type": "code",
      "metadata": {
        "id": "0w0t6Wl6ZT65"
      },
      "source": [
        "#Dicionários para auxiliar nas análises\r\n",
        "regiao = {\r\n",
        "    1: 'Norte',\r\n",
        "    2: 'Nordeste',\r\n",
        "    3: 'Sudeste',\r\n",
        "    4: 'Sul',\r\n",
        "    5: 'Centro-Oeste'\r\n",
        "}\r\n",
        "sexo = {\r\n",
        "    1: 'Masculino',\r\n",
        "    2: 'Feminino'\r\n",
        "}\r\n",
        "raca = {\r\n",
        "    1: 'Branca',\r\n",
        "    2: 'Preta',\r\n",
        "    3: 'Amarela',\r\n",
        "    4: 'Parda',\r\n",
        "    5: 'Indígena',\r\n",
        "    99: 'Não informado'\r\n",
        "}\r\n",
        "turno = {\r\n",
        "    1: 'Manhã',\r\n",
        "    2: 'Intermediário',\r\n",
        "    3: 'Tarde',\r\n",
        "    4: 'Noite',\r\n",
        "    5: 'Integral',\r\n",
        "    99: 'Não informado'\r\n",
        "}\r\n",
        "serie = {\r\n",
        "    1: '6º ano Ensino Fundamental',\r\n",
        "    2: '7º ano Ensino Fundamental',\r\n",
        "    3: '8º ano Ensino Fundamental',\r\n",
        "    4: '9º ano Ensino Fundamental',\r\n",
        "    5: '1º ano Ensino Médio',\r\n",
        "    6: '2º ano Ensino Médio',\r\n",
        "    7: '3º ano Ensino Médio',\r\n",
        "    99: 'Não informado'\r\n",
        "}\r\n",
        "situacao_escola = {\r\n",
        "    1: 'Urbana',\r\n",
        "    2: 'Rural'\r\n",
        "}\r\n",
        "tipo_escola = {\r\n",
        "    1: 'Pública',\r\n",
        "    2: 'Privada'\r\n",
        "}\r\n",
        "satisfacao = {\r\n",
        "    1: 'Muito satisfeito(a)',\r\n",
        "    2: 'Satisfeito(a)',\r\n",
        "    3: 'Indiferente',\r\n",
        "    4: 'Insatisfeito(a)',\r\n",
        "    5: 'Muito insatisfeito(a)',\r\n",
        "    99: 'Não informado'\r\n",
        "}\r\n",
        "frequencia = {\r\n",
        "    1: 'Nunca',\r\n",
        "    2: 'Raramente',\r\n",
        "    3: 'Às vezes',\r\n",
        "    4: 'Na maior parte do tempo',\r\n",
        "    5: 'Sempre',\r\n",
        "    99: 'Não informado'\r\n",
        "}\r\n",
        "motivo_bullying = {\r\n",
        "    -1: 'Pulo no questionário',\r\n",
        "    1: 'A minha cor ou raça',\r\n",
        "    2: 'A minha religião',\r\n",
        "    3: 'A aparência do meu rosto',\r\n",
        "    4: 'A aparência do meu corpo',\r\n",
        "    5: 'A minha orientação sexual',\r\n",
        "    6: 'A minha região de origem',\r\n",
        "    7: 'Outros motivos/causas',\r\n",
        "    99: 'Não informado'\r\n",
        "}\r\n",
        "sofreu_bullying = {\r\n",
        "    1: 'Sim',\r\n",
        "    2: 'Não',\r\n",
        "    3: 'Não sei o que é bullying',\r\n",
        "    99: 'Não informado'\r\n",
        "}"
      ],
      "execution_count": 52,
      "outputs": []
    },
    {
      "cell_type": "code",
      "metadata": {
        "colab": {
          "base_uri": "https://localhost:8080/",
          "height": 394
        },
        "id": "sfLxBfRpZUnH",
        "outputId": "6fd5ae10-c4ce-458f-8f5d-bce3d8308cdc"
      },
      "source": [
        "#Criando colunas \"traduzidas\" de acordo com o Dicionário de dados e inserindo em um novo DataFrame para facilitar as análises\r\n",
        "dados = pd.DataFrame()\r\n",
        "dados['Regiao'] = df['REGEOGR'].map(regiao)\r\n",
        "dados['Sexo'] = df['VB01001'].map(sexo)\r\n",
        "dados['Raça'] = df['VB01002'].map(raca)\r\n",
        "dados['Idade'] = df['VB01003']\r\n",
        "dados['Serie'] = df['VB01021'].map(serie)\r\n",
        "dados['Turno'] = df['VB01022'].map(turno)\r\n",
        "dados['DeslocDiario'] = df['TEMPODESLOC']\r\n",
        "dados['SituacaoEscola'] = df['V0006'].map(situacao_escola)\r\n",
        "dados['TipoEscola'] = df['V0007'].map(tipo_escola)\r\n",
        "dados['Altura'] = round(df['VB17004']/100,2)\r\n",
        "dados['Peso'] = round(df['VB17003'],2)\r\n",
        "dados['Satisfacao_Corpo'] = df['VB11007'].map(satisfacao)\r\n",
        "dados['Ja_Sofreu_Bullying'] = df['VB07010'].map(sofreu_bullying)\r\n",
        "dados['Frequencia_Bullying'] = df['VB07007'].map(frequencia)\r\n",
        "dados['Motivo_Bullying'] = df['VB07008'].map(motivo_bullying)\r\n",
        "\r\n",
        "dados.head(5)"
      ],
      "execution_count": 53,
      "outputs": [
        {
          "output_type": "execute_result",
          "data": {
            "text/html": [
              "<div>\n",
              "<style scoped>\n",
              "    .dataframe tbody tr th:only-of-type {\n",
              "        vertical-align: middle;\n",
              "    }\n",
              "\n",
              "    .dataframe tbody tr th {\n",
              "        vertical-align: top;\n",
              "    }\n",
              "\n",
              "    .dataframe thead th {\n",
              "        text-align: right;\n",
              "    }\n",
              "</style>\n",
              "<table border=\"1\" class=\"dataframe\">\n",
              "  <thead>\n",
              "    <tr style=\"text-align: right;\">\n",
              "      <th></th>\n",
              "      <th>Regiao</th>\n",
              "      <th>Sexo</th>\n",
              "      <th>Raça</th>\n",
              "      <th>Idade</th>\n",
              "      <th>Serie</th>\n",
              "      <th>Turno</th>\n",
              "      <th>DeslocDiario</th>\n",
              "      <th>SituacaoEscola</th>\n",
              "      <th>TipoEscola</th>\n",
              "      <th>Altura</th>\n",
              "      <th>Peso</th>\n",
              "      <th>Satisfacao_Corpo</th>\n",
              "      <th>Ja_Sofreu_Bullying</th>\n",
              "      <th>Frequencia_Bullying</th>\n",
              "      <th>Motivo_Bullying</th>\n",
              "    </tr>\n",
              "  </thead>\n",
              "  <tbody>\n",
              "    <tr>\n",
              "      <th>0</th>\n",
              "      <td>Norte</td>\n",
              "      <td>Feminino</td>\n",
              "      <td>Branca</td>\n",
              "      <td>13</td>\n",
              "      <td>9º ano Ensino Fundamental</td>\n",
              "      <td>Manhã</td>\n",
              "      <td>0.0</td>\n",
              "      <td>Urbana</td>\n",
              "      <td>Privada</td>\n",
              "      <td>1.57</td>\n",
              "      <td>37.1</td>\n",
              "      <td>Satisfeito(a)</td>\n",
              "      <td>Não</td>\n",
              "      <td>Nunca</td>\n",
              "      <td>Pulo no questionário</td>\n",
              "    </tr>\n",
              "    <tr>\n",
              "      <th>1</th>\n",
              "      <td>Norte</td>\n",
              "      <td>Feminino</td>\n",
              "      <td>Branca</td>\n",
              "      <td>14</td>\n",
              "      <td>9º ano Ensino Fundamental</td>\n",
              "      <td>Manhã</td>\n",
              "      <td>120.0</td>\n",
              "      <td>Urbana</td>\n",
              "      <td>Privada</td>\n",
              "      <td>1.52</td>\n",
              "      <td>50.2</td>\n",
              "      <td>Satisfeito(a)</td>\n",
              "      <td>Não</td>\n",
              "      <td>Nunca</td>\n",
              "      <td>Pulo no questionário</td>\n",
              "    </tr>\n",
              "    <tr>\n",
              "      <th>2</th>\n",
              "      <td>Norte</td>\n",
              "      <td>Masculino</td>\n",
              "      <td>Parda</td>\n",
              "      <td>13</td>\n",
              "      <td>9º ano Ensino Fundamental</td>\n",
              "      <td>Manhã</td>\n",
              "      <td>0.0</td>\n",
              "      <td>Urbana</td>\n",
              "      <td>Privada</td>\n",
              "      <td>1.61</td>\n",
              "      <td>48.2</td>\n",
              "      <td>Satisfeito(a)</td>\n",
              "      <td>Sim</td>\n",
              "      <td>Raramente</td>\n",
              "      <td>Outros motivos/causas</td>\n",
              "    </tr>\n",
              "    <tr>\n",
              "      <th>3</th>\n",
              "      <td>Norte</td>\n",
              "      <td>Masculino</td>\n",
              "      <td>Branca</td>\n",
              "      <td>14</td>\n",
              "      <td>9º ano Ensino Fundamental</td>\n",
              "      <td>Manhã</td>\n",
              "      <td>0.0</td>\n",
              "      <td>Urbana</td>\n",
              "      <td>Privada</td>\n",
              "      <td>1.72</td>\n",
              "      <td>69.4</td>\n",
              "      <td>Satisfeito(a)</td>\n",
              "      <td>Sim</td>\n",
              "      <td>Nunca</td>\n",
              "      <td>Pulo no questionário</td>\n",
              "    </tr>\n",
              "    <tr>\n",
              "      <th>4</th>\n",
              "      <td>Norte</td>\n",
              "      <td>Masculino</td>\n",
              "      <td>Branca</td>\n",
              "      <td>13</td>\n",
              "      <td>9º ano Ensino Fundamental</td>\n",
              "      <td>Manhã</td>\n",
              "      <td>30.0</td>\n",
              "      <td>Urbana</td>\n",
              "      <td>Privada</td>\n",
              "      <td>1.68</td>\n",
              "      <td>78.9</td>\n",
              "      <td>Insatisfeito(a)</td>\n",
              "      <td>Sim</td>\n",
              "      <td>Raramente</td>\n",
              "      <td>A aparência do meu corpo</td>\n",
              "    </tr>\n",
              "  </tbody>\n",
              "</table>\n",
              "</div>"
            ],
            "text/plain": [
              "  Regiao       Sexo  ... Frequencia_Bullying           Motivo_Bullying\n",
              "0  Norte   Feminino  ...               Nunca      Pulo no questionário\n",
              "1  Norte   Feminino  ...               Nunca      Pulo no questionário\n",
              "2  Norte  Masculino  ...           Raramente     Outros motivos/causas\n",
              "3  Norte  Masculino  ...               Nunca      Pulo no questionário\n",
              "4  Norte  Masculino  ...           Raramente  A aparência do meu corpo\n",
              "\n",
              "[5 rows x 15 columns]"
            ]
          },
          "metadata": {
            "tags": []
          },
          "execution_count": 53
        }
      ]
    },
    {
      "cell_type": "markdown",
      "metadata": {
        "id": "uZkZSnMdZ_Hk"
      },
      "source": [
        "Criando uma features para maximizar as possibilidades de análise, que são:\r\n",
        "1. IMC (Índice de Massa Corporal)\r\n",
        "2. Definição de Classes de IMC\r\n",
        "3. Classes de Altura\r\n",
        "4. Classes de Peso\r\n",
        "\r\n",
        "**Extra**: [Regra de Sturges](https://maestrovirtuale.com/regra-de-sturges-explicacao-aplicacoes-e-exemplos/#:~:text=A%20regra%20Sturges%20%C3%A9%20um%20m%C3%A9todo%20emp%C3%ADrico%20amplamente%20usado%20em,representando%20uma%20amostra%20ou%20popula%C3%A7%C3%A3o.) é um critério usado para determinar o número de classes ou intervalos necessários para representar graficamente um conjunto de dados estatísticos."
      ]
    },
    {
      "cell_type": "code",
      "metadata": {
        "colab": {
          "base_uri": "https://localhost:8080/",
          "height": 394
        },
        "id": "3QHykVrkZ-YJ",
        "outputId": "724c0d41-2073-4217-d78f-51596d26b75f"
      },
      "source": [
        "# 1.\r\n",
        "dados['IMC'] = round(dados['Peso'] / dados['Altura']**2,2)\r\n",
        "\r\n",
        "#2.\r\n",
        "classes_IMC = [0, 18, 25, 30, 60]\r\n",
        "rotulos_IMC = ['Desnutrido', 'Normal', 'Sobrepeso', 'Obesidade']\r\n",
        "dados['Classe_IMC'] = pd.cut(x = dados['IMC'], bins = classes_IMC, labels = rotulos_IMC, include_lowest=True)\r\n",
        "\r\n",
        "#K = número de intervalos de categoria para auxiliar em análises, utilizando a Regra de Sturges\r\n",
        "k = int(1 + ((10/3) * np.log10(len(dados))))\r\n",
        "\r\n",
        "#3.\r\n",
        "dados['Classe_Altura'] = pd.cut(x = dados['Altura'], bins = k, include_lowest=True)\r\n",
        "\r\n",
        "#4.\r\n",
        "dados['Classe_Peso'] = pd.cut(x = dados['Peso'], bins = k, include_lowest=True)\r\n",
        "\r\n",
        "dados.head(5)"
      ],
      "execution_count": 54,
      "outputs": [
        {
          "output_type": "execute_result",
          "data": {
            "text/html": [
              "<div>\n",
              "<style scoped>\n",
              "    .dataframe tbody tr th:only-of-type {\n",
              "        vertical-align: middle;\n",
              "    }\n",
              "\n",
              "    .dataframe tbody tr th {\n",
              "        vertical-align: top;\n",
              "    }\n",
              "\n",
              "    .dataframe thead th {\n",
              "        text-align: right;\n",
              "    }\n",
              "</style>\n",
              "<table border=\"1\" class=\"dataframe\">\n",
              "  <thead>\n",
              "    <tr style=\"text-align: right;\">\n",
              "      <th></th>\n",
              "      <th>Regiao</th>\n",
              "      <th>Sexo</th>\n",
              "      <th>Raça</th>\n",
              "      <th>Idade</th>\n",
              "      <th>Serie</th>\n",
              "      <th>Turno</th>\n",
              "      <th>DeslocDiario</th>\n",
              "      <th>SituacaoEscola</th>\n",
              "      <th>TipoEscola</th>\n",
              "      <th>Altura</th>\n",
              "      <th>Peso</th>\n",
              "      <th>Satisfacao_Corpo</th>\n",
              "      <th>Ja_Sofreu_Bullying</th>\n",
              "      <th>Frequencia_Bullying</th>\n",
              "      <th>Motivo_Bullying</th>\n",
              "      <th>IMC</th>\n",
              "      <th>Classe_IMC</th>\n",
              "      <th>Classe_Altura</th>\n",
              "      <th>Classe_Peso</th>\n",
              "    </tr>\n",
              "  </thead>\n",
              "  <tbody>\n",
              "    <tr>\n",
              "      <th>0</th>\n",
              "      <td>Norte</td>\n",
              "      <td>Feminino</td>\n",
              "      <td>Branca</td>\n",
              "      <td>13</td>\n",
              "      <td>9º ano Ensino Fundamental</td>\n",
              "      <td>Manhã</td>\n",
              "      <td>0.0</td>\n",
              "      <td>Urbana</td>\n",
              "      <td>Privada</td>\n",
              "      <td>1.57</td>\n",
              "      <td>37.1</td>\n",
              "      <td>Satisfeito(a)</td>\n",
              "      <td>Não</td>\n",
              "      <td>Nunca</td>\n",
              "      <td>Pulo no questionário</td>\n",
              "      <td>15.05</td>\n",
              "      <td>Desnutrido</td>\n",
              "      <td>(1.524, 1.571]</td>\n",
              "      <td>(34.94, 46.32]</td>\n",
              "    </tr>\n",
              "    <tr>\n",
              "      <th>1</th>\n",
              "      <td>Norte</td>\n",
              "      <td>Feminino</td>\n",
              "      <td>Branca</td>\n",
              "      <td>14</td>\n",
              "      <td>9º ano Ensino Fundamental</td>\n",
              "      <td>Manhã</td>\n",
              "      <td>120.0</td>\n",
              "      <td>Urbana</td>\n",
              "      <td>Privada</td>\n",
              "      <td>1.52</td>\n",
              "      <td>50.2</td>\n",
              "      <td>Satisfeito(a)</td>\n",
              "      <td>Não</td>\n",
              "      <td>Nunca</td>\n",
              "      <td>Pulo no questionário</td>\n",
              "      <td>21.73</td>\n",
              "      <td>Normal</td>\n",
              "      <td>(1.477, 1.524]</td>\n",
              "      <td>(46.32, 57.7]</td>\n",
              "    </tr>\n",
              "    <tr>\n",
              "      <th>2</th>\n",
              "      <td>Norte</td>\n",
              "      <td>Masculino</td>\n",
              "      <td>Parda</td>\n",
              "      <td>13</td>\n",
              "      <td>9º ano Ensino Fundamental</td>\n",
              "      <td>Manhã</td>\n",
              "      <td>0.0</td>\n",
              "      <td>Urbana</td>\n",
              "      <td>Privada</td>\n",
              "      <td>1.61</td>\n",
              "      <td>48.2</td>\n",
              "      <td>Satisfeito(a)</td>\n",
              "      <td>Sim</td>\n",
              "      <td>Raramente</td>\n",
              "      <td>Outros motivos/causas</td>\n",
              "      <td>18.59</td>\n",
              "      <td>Normal</td>\n",
              "      <td>(1.571, 1.619]</td>\n",
              "      <td>(46.32, 57.7]</td>\n",
              "    </tr>\n",
              "    <tr>\n",
              "      <th>3</th>\n",
              "      <td>Norte</td>\n",
              "      <td>Masculino</td>\n",
              "      <td>Branca</td>\n",
              "      <td>14</td>\n",
              "      <td>9º ano Ensino Fundamental</td>\n",
              "      <td>Manhã</td>\n",
              "      <td>0.0</td>\n",
              "      <td>Urbana</td>\n",
              "      <td>Privada</td>\n",
              "      <td>1.72</td>\n",
              "      <td>69.4</td>\n",
              "      <td>Satisfeito(a)</td>\n",
              "      <td>Sim</td>\n",
              "      <td>Nunca</td>\n",
              "      <td>Pulo no questionário</td>\n",
              "      <td>23.46</td>\n",
              "      <td>Normal</td>\n",
              "      <td>(1.713, 1.761]</td>\n",
              "      <td>(69.08, 80.46]</td>\n",
              "    </tr>\n",
              "    <tr>\n",
              "      <th>4</th>\n",
              "      <td>Norte</td>\n",
              "      <td>Masculino</td>\n",
              "      <td>Branca</td>\n",
              "      <td>13</td>\n",
              "      <td>9º ano Ensino Fundamental</td>\n",
              "      <td>Manhã</td>\n",
              "      <td>30.0</td>\n",
              "      <td>Urbana</td>\n",
              "      <td>Privada</td>\n",
              "      <td>1.68</td>\n",
              "      <td>78.9</td>\n",
              "      <td>Insatisfeito(a)</td>\n",
              "      <td>Sim</td>\n",
              "      <td>Raramente</td>\n",
              "      <td>A aparência do meu corpo</td>\n",
              "      <td>27.95</td>\n",
              "      <td>Sobrepeso</td>\n",
              "      <td>(1.666, 1.713]</td>\n",
              "      <td>(69.08, 80.46]</td>\n",
              "    </tr>\n",
              "  </tbody>\n",
              "</table>\n",
              "</div>"
            ],
            "text/plain": [
              "  Regiao       Sexo    Raça  ...  Classe_IMC   Classe_Altura     Classe_Peso\n",
              "0  Norte   Feminino  Branca  ...  Desnutrido  (1.524, 1.571]  (34.94, 46.32]\n",
              "1  Norte   Feminino  Branca  ...      Normal  (1.477, 1.524]   (46.32, 57.7]\n",
              "2  Norte  Masculino   Parda  ...      Normal  (1.571, 1.619]   (46.32, 57.7]\n",
              "3  Norte  Masculino  Branca  ...      Normal  (1.713, 1.761]  (69.08, 80.46]\n",
              "4  Norte  Masculino  Branca  ...   Sobrepeso  (1.666, 1.713]  (69.08, 80.46]\n",
              "\n",
              "[5 rows x 19 columns]"
            ]
          },
          "metadata": {
            "tags": []
          },
          "execution_count": 54
        }
      ]
    },
    {
      "cell_type": "markdown",
      "metadata": {
        "id": "JxHv0z-yE93m"
      },
      "source": [
        "## Resumo Geral da Base de Dados"
      ]
    },
    {
      "cell_type": "markdown",
      "metadata": {
        "id": "PQZOyH1UFNjM"
      },
      "source": [
        "Esta sessão tem como função mostarmos antecipadamente um quadro geral de algumas informações sobre a base de dados, contendo distribuições entre alguns parâmetros chave e suas respectivas porcentagens.\r\n",
        "\r\n",
        "Para isto, criei a função abaixo que recebe como parâmetros 1) a base de dados e 2) a coluna a ser analisada.\r\n",
        "\r\n",
        "**Lembrando que todos os dados da amostra foram fornecidos diretamente pelos estudantes e que os alunos possuem entre 11 e 19 anos.**"
      ]
    },
    {
      "cell_type": "code",
      "metadata": {
        "id": "jhjJsU8zFuvW"
      },
      "source": [
        "def tabela_frequencia_categoria(data, col):\r\n",
        "  frequencia = round(data[col].value_counts(normalize = True) * 100,2)\r\n",
        "  distribuicao = data[col].value_counts()\r\n",
        "  tabela = pd.DataFrame({'Distribuicao': distribuicao, 'Frequencia (%)': frequencia})\r\n",
        "  tabela.rename_axis('Atributos', axis = 1, inplace = True)\r\n",
        "  return tabela.style.format(\"{:,.2f}\").background_gradient(axis = 0, cmap = 'Reds')"
      ],
      "execution_count": 55,
      "outputs": []
    },
    {
      "cell_type": "markdown",
      "metadata": {
        "id": "6Ph9_Ll1PMPY"
      },
      "source": [
        "Podemos ver abaixo que na base de dados o quantitativo de alunos de escola pública é cerca de 3x maior que de escola Privada. Isto pode trazer uma certa tendência errônea em análises comparativas entre os tipos de escola, pois há um evidente desbalanceamento entre as classes."
      ]
    },
    {
      "cell_type": "code",
      "metadata": {
        "colab": {
          "base_uri": "https://localhost:8080/",
          "height": 82
        },
        "id": "S7CywlrBPL-p",
        "outputId": "f820a5eb-5940-4dc8-a87e-3d3f1109f927"
      },
      "source": [
        "#Distribuição entre escolas Públicas e Privadas da amostra da base de dados\r\n",
        "tabela_frequencia_categoria(dados,'TipoEscola')"
      ],
      "execution_count": 69,
      "outputs": [
        {
          "output_type": "execute_result",
          "data": {
            "text/html": [
              "<style  type=\"text/css\" >\n",
              "#T_2598814c_527b_11eb_b236_0242ac1c0002row0_col0,#T_2598814c_527b_11eb_b236_0242ac1c0002row0_col1{\n",
              "            background-color:  #67000d;\n",
              "            color:  #f1f1f1;\n",
              "        }#T_2598814c_527b_11eb_b236_0242ac1c0002row1_col0,#T_2598814c_527b_11eb_b236_0242ac1c0002row1_col1{\n",
              "            background-color:  #fff5f0;\n",
              "            color:  #000000;\n",
              "        }</style><table id=\"T_2598814c_527b_11eb_b236_0242ac1c0002\" ><thead>    <tr>        <th class=\"index_name level0\" >Atributos</th>        <th class=\"col_heading level0 col0\" >Distribuicao</th>        <th class=\"col_heading level0 col1\" >Frequencia (%)</th>    </tr></thead><tbody>\n",
              "                <tr>\n",
              "                        <th id=\"T_2598814c_527b_11eb_b236_0242ac1c0002level0_row0\" class=\"row_heading level0 row0\" >Pública</th>\n",
              "                        <td id=\"T_2598814c_527b_11eb_b236_0242ac1c0002row0_col0\" class=\"data row0 col0\" >12,381.00</td>\n",
              "                        <td id=\"T_2598814c_527b_11eb_b236_0242ac1c0002row0_col1\" class=\"data row0 col1\" >74.78</td>\n",
              "            </tr>\n",
              "            <tr>\n",
              "                        <th id=\"T_2598814c_527b_11eb_b236_0242ac1c0002level0_row1\" class=\"row_heading level0 row1\" >Privada</th>\n",
              "                        <td id=\"T_2598814c_527b_11eb_b236_0242ac1c0002row1_col0\" class=\"data row1 col0\" >4,175.00</td>\n",
              "                        <td id=\"T_2598814c_527b_11eb_b236_0242ac1c0002row1_col1\" class=\"data row1 col1\" >25.22</td>\n",
              "            </tr>\n",
              "    </tbody></table>"
            ],
            "text/plain": [
              "<pandas.io.formats.style.Styler at 0x7fab2f958160>"
            ]
          },
          "metadata": {
            "tags": []
          },
          "execution_count": 69
        }
      ]
    },
    {
      "cell_type": "markdown",
      "metadata": {
        "id": "rPcE120lGONG"
      },
      "source": [
        "Vemos abaixo uma predominância Parda e Branca na amostra, com aproximadamente 80% do total."
      ]
    },
    {
      "cell_type": "code",
      "metadata": {
        "colab": {
          "base_uri": "https://localhost:8080/",
          "height": 166
        },
        "id": "XISxtmSbFykO",
        "outputId": "4b287df0-fe6f-4eb6-8b27-567c10d18814"
      },
      "source": [
        "#Distribuição entre as raças dos estudantes da amostra da base de dados\r\n",
        "tabela_frequencia_categoria(dados,'Raça')"
      ],
      "execution_count": 56,
      "outputs": [
        {
          "output_type": "execute_result",
          "data": {
            "text/html": [
              "<style  type=\"text/css\" >\n",
              "#T_e1892f66_5279_11eb_b236_0242ac1c0002row0_col0,#T_e1892f66_5279_11eb_b236_0242ac1c0002row0_col1{\n",
              "            background-color:  #67000d;\n",
              "            color:  #f1f1f1;\n",
              "        }#T_e1892f66_5279_11eb_b236_0242ac1c0002row1_col0,#T_e1892f66_5279_11eb_b236_0242ac1c0002row1_col1{\n",
              "            background-color:  #71020e;\n",
              "            color:  #f1f1f1;\n",
              "        }#T_e1892f66_5279_11eb_b236_0242ac1c0002row2_col0,#T_e1892f66_5279_11eb_b236_0242ac1c0002row2_col1{\n",
              "            background-color:  #fcaf93;\n",
              "            color:  #000000;\n",
              "        }#T_e1892f66_5279_11eb_b236_0242ac1c0002row3_col0,#T_e1892f66_5279_11eb_b236_0242ac1c0002row3_col1{\n",
              "            background-color:  #fee4d8;\n",
              "            color:  #000000;\n",
              "        }#T_e1892f66_5279_11eb_b236_0242ac1c0002row4_col0,#T_e1892f66_5279_11eb_b236_0242ac1c0002row4_col1{\n",
              "            background-color:  #fee7dc;\n",
              "            color:  #000000;\n",
              "        }#T_e1892f66_5279_11eb_b236_0242ac1c0002row5_col0,#T_e1892f66_5279_11eb_b236_0242ac1c0002row5_col1{\n",
              "            background-color:  #fff5f0;\n",
              "            color:  #000000;\n",
              "        }</style><table id=\"T_e1892f66_5279_11eb_b236_0242ac1c0002\" ><thead>    <tr>        <th class=\"index_name level0\" >Atributos</th>        <th class=\"col_heading level0 col0\" >Distribuicao</th>        <th class=\"col_heading level0 col1\" >Frequencia (%)</th>    </tr></thead><tbody>\n",
              "                <tr>\n",
              "                        <th id=\"T_e1892f66_5279_11eb_b236_0242ac1c0002level0_row0\" class=\"row_heading level0 row0\" >Parda</th>\n",
              "                        <td id=\"T_e1892f66_5279_11eb_b236_0242ac1c0002row0_col0\" class=\"data row0 col0\" >6,726.00</td>\n",
              "                        <td id=\"T_e1892f66_5279_11eb_b236_0242ac1c0002row0_col1\" class=\"data row0 col1\" >40.63</td>\n",
              "            </tr>\n",
              "            <tr>\n",
              "                        <th id=\"T_e1892f66_5279_11eb_b236_0242ac1c0002level0_row1\" class=\"row_heading level0 row1\" >Branca</th>\n",
              "                        <td id=\"T_e1892f66_5279_11eb_b236_0242ac1c0002row1_col0\" class=\"data row1 col0\" >6,575.00</td>\n",
              "                        <td id=\"T_e1892f66_5279_11eb_b236_0242ac1c0002row1_col1\" class=\"data row1 col1\" >39.71</td>\n",
              "            </tr>\n",
              "            <tr>\n",
              "                        <th id=\"T_e1892f66_5279_11eb_b236_0242ac1c0002level0_row2\" class=\"row_heading level0 row2\" >Preta</th>\n",
              "                        <td id=\"T_e1892f66_5279_11eb_b236_0242ac1c0002row2_col0\" class=\"data row2 col0\" >1,939.00</td>\n",
              "                        <td id=\"T_e1892f66_5279_11eb_b236_0242ac1c0002row2_col1\" class=\"data row2 col1\" >11.71</td>\n",
              "            </tr>\n",
              "            <tr>\n",
              "                        <th id=\"T_e1892f66_5279_11eb_b236_0242ac1c0002level0_row3\" class=\"row_heading level0 row3\" >Amarela</th>\n",
              "                        <td id=\"T_e1892f66_5279_11eb_b236_0242ac1c0002row3_col0\" class=\"data row3 col0\" >712.00</td>\n",
              "                        <td id=\"T_e1892f66_5279_11eb_b236_0242ac1c0002row3_col1\" class=\"data row3 col1\" >4.30</td>\n",
              "            </tr>\n",
              "            <tr>\n",
              "                        <th id=\"T_e1892f66_5279_11eb_b236_0242ac1c0002level0_row4\" class=\"row_heading level0 row4\" >Indígena</th>\n",
              "                        <td id=\"T_e1892f66_5279_11eb_b236_0242ac1c0002row4_col0\" class=\"data row4 col0\" >581.00</td>\n",
              "                        <td id=\"T_e1892f66_5279_11eb_b236_0242ac1c0002row4_col1\" class=\"data row4 col1\" >3.51</td>\n",
              "            </tr>\n",
              "            <tr>\n",
              "                        <th id=\"T_e1892f66_5279_11eb_b236_0242ac1c0002level0_row5\" class=\"row_heading level0 row5\" >Não informado</th>\n",
              "                        <td id=\"T_e1892f66_5279_11eb_b236_0242ac1c0002row5_col0\" class=\"data row5 col0\" >23.00</td>\n",
              "                        <td id=\"T_e1892f66_5279_11eb_b236_0242ac1c0002row5_col1\" class=\"data row5 col1\" >0.14</td>\n",
              "            </tr>\n",
              "    </tbody></table>"
            ],
            "text/plain": [
              "<pandas.io.formats.style.Styler at 0x7fab2f9585f8>"
            ]
          },
          "metadata": {
            "tags": []
          },
          "execution_count": 56
        }
      ]
    },
    {
      "cell_type": "markdown",
      "metadata": {
        "id": "cA1yfyo5GFzE"
      },
      "source": [
        "Vemos abaixo uma distribuição bastante balanceada entre meninas e meninos na amostra."
      ]
    },
    {
      "cell_type": "code",
      "metadata": {
        "colab": {
          "base_uri": "https://localhost:8080/",
          "height": 82
        },
        "id": "7WkWZFBDF_xK",
        "outputId": "acd768ef-2a5c-4a06-c5a5-ee9f2aa72811"
      },
      "source": [
        "#Distribuição entre os sexos dos estudantes da amostra da base de dados\r\n",
        "tabela_frequencia_categoria(dados,'Sexo')"
      ],
      "execution_count": 57,
      "outputs": [
        {
          "output_type": "execute_result",
          "data": {
            "text/html": [
              "<style  type=\"text/css\" >\n",
              "#T_e18ddb4c_5279_11eb_b236_0242ac1c0002row0_col0,#T_e18ddb4c_5279_11eb_b236_0242ac1c0002row0_col1{\n",
              "            background-color:  #67000d;\n",
              "            color:  #f1f1f1;\n",
              "        }#T_e18ddb4c_5279_11eb_b236_0242ac1c0002row1_col0,#T_e18ddb4c_5279_11eb_b236_0242ac1c0002row1_col1{\n",
              "            background-color:  #fff5f0;\n",
              "            color:  #000000;\n",
              "        }</style><table id=\"T_e18ddb4c_5279_11eb_b236_0242ac1c0002\" ><thead>    <tr>        <th class=\"index_name level0\" >Atributos</th>        <th class=\"col_heading level0 col0\" >Distribuicao</th>        <th class=\"col_heading level0 col1\" >Frequencia (%)</th>    </tr></thead><tbody>\n",
              "                <tr>\n",
              "                        <th id=\"T_e18ddb4c_5279_11eb_b236_0242ac1c0002level0_row0\" class=\"row_heading level0 row0\" >Masculino</th>\n",
              "                        <td id=\"T_e18ddb4c_5279_11eb_b236_0242ac1c0002row0_col0\" class=\"data row0 col0\" >8,287.00</td>\n",
              "                        <td id=\"T_e18ddb4c_5279_11eb_b236_0242ac1c0002row0_col1\" class=\"data row0 col1\" >50.05</td>\n",
              "            </tr>\n",
              "            <tr>\n",
              "                        <th id=\"T_e18ddb4c_5279_11eb_b236_0242ac1c0002level0_row1\" class=\"row_heading level0 row1\" >Feminino</th>\n",
              "                        <td id=\"T_e18ddb4c_5279_11eb_b236_0242ac1c0002row1_col0\" class=\"data row1 col0\" >8,269.00</td>\n",
              "                        <td id=\"T_e18ddb4c_5279_11eb_b236_0242ac1c0002row1_col1\" class=\"data row1 col1\" >49.95</td>\n",
              "            </tr>\n",
              "    </tbody></table>"
            ],
            "text/plain": [
              "<pandas.io.formats.style.Styler at 0x7fab2f947a20>"
            ]
          },
          "metadata": {
            "tags": []
          },
          "execution_count": 57
        }
      ]
    },
    {
      "cell_type": "markdown",
      "metadata": {
        "id": "Dbfajg1LGzV0"
      },
      "source": [
        "Vemos abaixo um certo balanceamento entre os números de estudantes por série das escolas pesquisadas."
      ]
    },
    {
      "cell_type": "code",
      "metadata": {
        "colab": {
          "base_uri": "https://localhost:8080/",
          "height": 208
        },
        "id": "bseuPyj6GtJD",
        "outputId": "e8eac0e8-5ecd-420e-d46c-56bc8c17c688"
      },
      "source": [
        "#Distribuição entre as séries dos estudantes da amostra da base de dados\r\n",
        "tabela_frequencia_categoria(dados,'Serie')"
      ],
      "execution_count": 58,
      "outputs": [
        {
          "output_type": "execute_result",
          "data": {
            "text/html": [
              "<style  type=\"text/css\" >\n",
              "#T_e1927f58_5279_11eb_b236_0242ac1c0002row0_col0,#T_e1927f58_5279_11eb_b236_0242ac1c0002row0_col1{\n",
              "            background-color:  #67000d;\n",
              "            color:  #f1f1f1;\n",
              "        }#T_e1927f58_5279_11eb_b236_0242ac1c0002row1_col0,#T_e1927f58_5279_11eb_b236_0242ac1c0002row1_col1{\n",
              "            background-color:  #aa1016;\n",
              "            color:  #f1f1f1;\n",
              "        }#T_e1927f58_5279_11eb_b236_0242ac1c0002row2_col0,#T_e1927f58_5279_11eb_b236_0242ac1c0002row2_col1{\n",
              "            background-color:  #ac1117;\n",
              "            color:  #f1f1f1;\n",
              "        }#T_e1927f58_5279_11eb_b236_0242ac1c0002row3_col0,#T_e1927f58_5279_11eb_b236_0242ac1c0002row3_col1{\n",
              "            background-color:  #bb141a;\n",
              "            color:  #f1f1f1;\n",
              "        }#T_e1927f58_5279_11eb_b236_0242ac1c0002row4_col0,#T_e1927f58_5279_11eb_b236_0242ac1c0002row4_col1{\n",
              "            background-color:  #c1161b;\n",
              "            color:  #f1f1f1;\n",
              "        }#T_e1927f58_5279_11eb_b236_0242ac1c0002row5_col0,#T_e1927f58_5279_11eb_b236_0242ac1c0002row5_col1{\n",
              "            background-color:  #f44d38;\n",
              "            color:  #000000;\n",
              "        }#T_e1927f58_5279_11eb_b236_0242ac1c0002row6_col0,#T_e1927f58_5279_11eb_b236_0242ac1c0002row6_col1{\n",
              "            background-color:  #f4503a;\n",
              "            color:  #000000;\n",
              "        }#T_e1927f58_5279_11eb_b236_0242ac1c0002row7_col0,#T_e1927f58_5279_11eb_b236_0242ac1c0002row7_col1{\n",
              "            background-color:  #fff5f0;\n",
              "            color:  #000000;\n",
              "        }</style><table id=\"T_e1927f58_5279_11eb_b236_0242ac1c0002\" ><thead>    <tr>        <th class=\"index_name level0\" >Atributos</th>        <th class=\"col_heading level0 col0\" >Distribuicao</th>        <th class=\"col_heading level0 col1\" >Frequencia (%)</th>    </tr></thead><tbody>\n",
              "                <tr>\n",
              "                        <th id=\"T_e1927f58_5279_11eb_b236_0242ac1c0002level0_row0\" class=\"row_heading level0 row0\" >7º ano Ensino Fundamental</th>\n",
              "                        <td id=\"T_e1927f58_5279_11eb_b236_0242ac1c0002row0_col0\" class=\"data row0 col0\" >3,042.00</td>\n",
              "                        <td id=\"T_e1927f58_5279_11eb_b236_0242ac1c0002row0_col1\" class=\"data row0 col1\" >18.37</td>\n",
              "            </tr>\n",
              "            <tr>\n",
              "                        <th id=\"T_e1927f58_5279_11eb_b236_0242ac1c0002level0_row1\" class=\"row_heading level0 row1\" >8º ano Ensino Fundamental</th>\n",
              "                        <td id=\"T_e1927f58_5279_11eb_b236_0242ac1c0002row1_col0\" class=\"data row1 col0\" >2,604.00</td>\n",
              "                        <td id=\"T_e1927f58_5279_11eb_b236_0242ac1c0002row1_col1\" class=\"data row1 col1\" >15.73</td>\n",
              "            </tr>\n",
              "            <tr>\n",
              "                        <th id=\"T_e1927f58_5279_11eb_b236_0242ac1c0002level0_row2\" class=\"row_heading level0 row2\" >6º ano Ensino Fundamental</th>\n",
              "                        <td id=\"T_e1927f58_5279_11eb_b236_0242ac1c0002row2_col0\" class=\"data row2 col0\" >2,583.00</td>\n",
              "                        <td id=\"T_e1927f58_5279_11eb_b236_0242ac1c0002row2_col1\" class=\"data row2 col1\" >15.60</td>\n",
              "            </tr>\n",
              "            <tr>\n",
              "                        <th id=\"T_e1927f58_5279_11eb_b236_0242ac1c0002level0_row3\" class=\"row_heading level0 row3\" >2º ano Ensino Médio</th>\n",
              "                        <td id=\"T_e1927f58_5279_11eb_b236_0242ac1c0002row3_col0\" class=\"data row3 col0\" >2,438.00</td>\n",
              "                        <td id=\"T_e1927f58_5279_11eb_b236_0242ac1c0002row3_col1\" class=\"data row3 col1\" >14.73</td>\n",
              "            </tr>\n",
              "            <tr>\n",
              "                        <th id=\"T_e1927f58_5279_11eb_b236_0242ac1c0002level0_row4\" class=\"row_heading level0 row4\" >1º ano Ensino Médio</th>\n",
              "                        <td id=\"T_e1927f58_5279_11eb_b236_0242ac1c0002row4_col0\" class=\"data row4 col0\" >2,383.00</td>\n",
              "                        <td id=\"T_e1927f58_5279_11eb_b236_0242ac1c0002row4_col1\" class=\"data row4 col1\" >14.39</td>\n",
              "            </tr>\n",
              "            <tr>\n",
              "                        <th id=\"T_e1927f58_5279_11eb_b236_0242ac1c0002level0_row5\" class=\"row_heading level0 row5\" >9º ano Ensino Fundamental</th>\n",
              "                        <td id=\"T_e1927f58_5279_11eb_b236_0242ac1c0002row5_col0\" class=\"data row5 col0\" >1,761.00</td>\n",
              "                        <td id=\"T_e1927f58_5279_11eb_b236_0242ac1c0002row5_col1\" class=\"data row5 col1\" >10.64</td>\n",
              "            </tr>\n",
              "            <tr>\n",
              "                        <th id=\"T_e1927f58_5279_11eb_b236_0242ac1c0002level0_row6\" class=\"row_heading level0 row6\" >3º ano Ensino Médio</th>\n",
              "                        <td id=\"T_e1927f58_5279_11eb_b236_0242ac1c0002row6_col0\" class=\"data row6 col0\" >1,736.00</td>\n",
              "                        <td id=\"T_e1927f58_5279_11eb_b236_0242ac1c0002row6_col1\" class=\"data row6 col1\" >10.49</td>\n",
              "            </tr>\n",
              "            <tr>\n",
              "                        <th id=\"T_e1927f58_5279_11eb_b236_0242ac1c0002level0_row7\" class=\"row_heading level0 row7\" >Não informado</th>\n",
              "                        <td id=\"T_e1927f58_5279_11eb_b236_0242ac1c0002row7_col0\" class=\"data row7 col0\" >9.00</td>\n",
              "                        <td id=\"T_e1927f58_5279_11eb_b236_0242ac1c0002row7_col1\" class=\"data row7 col1\" >0.05</td>\n",
              "            </tr>\n",
              "    </tbody></table>"
            ],
            "text/plain": [
              "<pandas.io.formats.style.Styler at 0x7fab3001ce10>"
            ]
          },
          "metadata": {
            "tags": []
          },
          "execution_count": 58
        }
      ]
    },
    {
      "cell_type": "markdown",
      "metadata": {
        "id": "DnmwOUcFJLHb"
      },
      "source": [
        "Vemos abaixo as distribuições das alturas dos estudantes da base de dados. Juntando meninos e meninas, vemos que a maioria está entre 1.52 metros e 1.66 metros.\r\n",
        "Quando separamos entre meninos e meninas, observamos que as meninas variam a altura entre 1.51 metros e 1.68 metros. Entretanto, para os meninos, observamos que o intervalo de altura predominante é entre 1.59 metros e 1.74 metros."
      ]
    },
    {
      "cell_type": "code",
      "metadata": {
        "colab": {
          "base_uri": "https://localhost:8080/",
          "height": 355
        },
        "id": "l0ITwoLLJBHl",
        "outputId": "ab1bc327-a73f-4543-be01-474c9d4fc9c2"
      },
      "source": [
        "#Distribuição entre classes de Altura dos estudantes da amostra da base de dados\r\n",
        "tabela_frequencia_categoria(dados,'Classe_Altura')"
      ],
      "execution_count": 59,
      "outputs": [
        {
          "output_type": "execute_result",
          "data": {
            "text/html": [
              "<style  type=\"text/css\" >\n",
              "#T_e198311e_5279_11eb_b236_0242ac1c0002row0_col0,#T_e198311e_5279_11eb_b236_0242ac1c0002row0_col1{\n",
              "            background-color:  #67000d;\n",
              "            color:  #f1f1f1;\n",
              "        }#T_e198311e_5279_11eb_b236_0242ac1c0002row1_col0,#T_e198311e_5279_11eb_b236_0242ac1c0002row1_col1{\n",
              "            background-color:  #79040f;\n",
              "            color:  #f1f1f1;\n",
              "        }#T_e198311e_5279_11eb_b236_0242ac1c0002row2_col0,#T_e198311e_5279_11eb_b236_0242ac1c0002row2_col1{\n",
              "            background-color:  #900a12;\n",
              "            color:  #f1f1f1;\n",
              "        }#T_e198311e_5279_11eb_b236_0242ac1c0002row3_col0,#T_e198311e_5279_11eb_b236_0242ac1c0002row3_col1{\n",
              "            background-color:  #d11e1f;\n",
              "            color:  #f1f1f1;\n",
              "        }#T_e198311e_5279_11eb_b236_0242ac1c0002row4_col0,#T_e198311e_5279_11eb_b236_0242ac1c0002row4_col1{\n",
              "            background-color:  #e43027;\n",
              "            color:  #f1f1f1;\n",
              "        }#T_e198311e_5279_11eb_b236_0242ac1c0002row5_col0,#T_e198311e_5279_11eb_b236_0242ac1c0002row5_col1{\n",
              "            background-color:  #f85f43;\n",
              "            color:  #000000;\n",
              "        }#T_e198311e_5279_11eb_b236_0242ac1c0002row6_col0,#T_e198311e_5279_11eb_b236_0242ac1c0002row6_col1{\n",
              "            background-color:  #fca183;\n",
              "            color:  #000000;\n",
              "        }#T_e198311e_5279_11eb_b236_0242ac1c0002row7_col0{\n",
              "            background-color:  #fcc3ab;\n",
              "            color:  #000000;\n",
              "        }#T_e198311e_5279_11eb_b236_0242ac1c0002row7_col1{\n",
              "            background-color:  #fcc2aa;\n",
              "            color:  #000000;\n",
              "        }#T_e198311e_5279_11eb_b236_0242ac1c0002row8_col0,#T_e198311e_5279_11eb_b236_0242ac1c0002row8_col1{\n",
              "            background-color:  #fedccd;\n",
              "            color:  #000000;\n",
              "        }#T_e198311e_5279_11eb_b236_0242ac1c0002row9_col0,#T_e198311e_5279_11eb_b236_0242ac1c0002row9_col1{\n",
              "            background-color:  #fee2d5;\n",
              "            color:  #000000;\n",
              "        }#T_e198311e_5279_11eb_b236_0242ac1c0002row10_col0,#T_e198311e_5279_11eb_b236_0242ac1c0002row10_col1{\n",
              "            background-color:  #fee8de;\n",
              "            color:  #000000;\n",
              "        }#T_e198311e_5279_11eb_b236_0242ac1c0002row11_col0,#T_e198311e_5279_11eb_b236_0242ac1c0002row11_col1{\n",
              "            background-color:  #fff0e8;\n",
              "            color:  #000000;\n",
              "        }#T_e198311e_5279_11eb_b236_0242ac1c0002row12_col0,#T_e198311e_5279_11eb_b236_0242ac1c0002row12_col1{\n",
              "            background-color:  #fff3ed;\n",
              "            color:  #000000;\n",
              "        }#T_e198311e_5279_11eb_b236_0242ac1c0002row13_col0,#T_e198311e_5279_11eb_b236_0242ac1c0002row13_col1,#T_e198311e_5279_11eb_b236_0242ac1c0002row14_col0,#T_e198311e_5279_11eb_b236_0242ac1c0002row14_col1{\n",
              "            background-color:  #fff5f0;\n",
              "            color:  #000000;\n",
              "        }</style><table id=\"T_e198311e_5279_11eb_b236_0242ac1c0002\" ><thead>    <tr>        <th class=\"index_name level0\" >Atributos</th>        <th class=\"col_heading level0 col0\" >Distribuicao</th>        <th class=\"col_heading level0 col1\" >Frequencia (%)</th>    </tr></thead><tbody>\n",
              "                <tr>\n",
              "                        <th id=\"T_e198311e_5279_11eb_b236_0242ac1c0002level0_row0\" class=\"row_heading level0 row0\" >(1.619, 1.666]</th>\n",
              "                        <td id=\"T_e198311e_5279_11eb_b236_0242ac1c0002row0_col0\" class=\"data row0 col0\" >2,881.00</td>\n",
              "                        <td id=\"T_e198311e_5279_11eb_b236_0242ac1c0002row0_col1\" class=\"data row0 col1\" >17.40</td>\n",
              "            </tr>\n",
              "            <tr>\n",
              "                        <th id=\"T_e198311e_5279_11eb_b236_0242ac1c0002level0_row1\" class=\"row_heading level0 row1\" >(1.524, 1.571]</th>\n",
              "                        <td id=\"T_e198311e_5279_11eb_b236_0242ac1c0002row1_col0\" class=\"data row1 col0\" >2,776.00</td>\n",
              "                        <td id=\"T_e198311e_5279_11eb_b236_0242ac1c0002row1_col1\" class=\"data row1 col1\" >16.77</td>\n",
              "            </tr>\n",
              "            <tr>\n",
              "                        <th id=\"T_e198311e_5279_11eb_b236_0242ac1c0002level0_row2\" class=\"row_heading level0 row2\" >(1.571, 1.619]</th>\n",
              "                        <td id=\"T_e198311e_5279_11eb_b236_0242ac1c0002row2_col0\" class=\"data row2 col0\" >2,638.00</td>\n",
              "                        <td id=\"T_e198311e_5279_11eb_b236_0242ac1c0002row2_col1\" class=\"data row2 col1\" >15.93</td>\n",
              "            </tr>\n",
              "            <tr>\n",
              "                        <th id=\"T_e198311e_5279_11eb_b236_0242ac1c0002level0_row3\" class=\"row_heading level0 row3\" >(1.666, 1.713]</th>\n",
              "                        <td id=\"T_e198311e_5279_11eb_b236_0242ac1c0002row3_col0\" class=\"data row3 col0\" >2,098.00</td>\n",
              "                        <td id=\"T_e198311e_5279_11eb_b236_0242ac1c0002row3_col1\" class=\"data row3 col1\" >12.67</td>\n",
              "            </tr>\n",
              "            <tr>\n",
              "                        <th id=\"T_e198311e_5279_11eb_b236_0242ac1c0002level0_row4\" class=\"row_heading level0 row4\" >(1.477, 1.524]</th>\n",
              "                        <td id=\"T_e198311e_5279_11eb_b236_0242ac1c0002row4_col0\" class=\"data row4 col0\" >1,905.00</td>\n",
              "                        <td id=\"T_e198311e_5279_11eb_b236_0242ac1c0002row4_col1\" class=\"data row4 col1\" >11.51</td>\n",
              "            </tr>\n",
              "            <tr>\n",
              "                        <th id=\"T_e198311e_5279_11eb_b236_0242ac1c0002level0_row5\" class=\"row_heading level0 row5\" >(1.713, 1.761]</th>\n",
              "                        <td id=\"T_e198311e_5279_11eb_b236_0242ac1c0002row5_col0\" class=\"data row5 col0\" >1,531.00</td>\n",
              "                        <td id=\"T_e198311e_5279_11eb_b236_0242ac1c0002row5_col1\" class=\"data row5 col1\" >9.25</td>\n",
              "            </tr>\n",
              "            <tr>\n",
              "                        <th id=\"T_e198311e_5279_11eb_b236_0242ac1c0002level0_row6\" class=\"row_heading level0 row6\" >(1.429, 1.477]</th>\n",
              "                        <td id=\"T_e198311e_5279_11eb_b236_0242ac1c0002row6_col0\" class=\"data row6 col0\" >950.00</td>\n",
              "                        <td id=\"T_e198311e_5279_11eb_b236_0242ac1c0002row6_col1\" class=\"data row6 col1\" >5.74</td>\n",
              "            </tr>\n",
              "            <tr>\n",
              "                        <th id=\"T_e198311e_5279_11eb_b236_0242ac1c0002level0_row7\" class=\"row_heading level0 row7\" >(1.761, 1.808]</th>\n",
              "                        <td id=\"T_e198311e_5279_11eb_b236_0242ac1c0002row7_col0\" class=\"data row7 col0\" >655.00</td>\n",
              "                        <td id=\"T_e198311e_5279_11eb_b236_0242ac1c0002row7_col1\" class=\"data row7 col1\" >3.96</td>\n",
              "            </tr>\n",
              "            <tr>\n",
              "                        <th id=\"T_e198311e_5279_11eb_b236_0242ac1c0002level0_row8\" class=\"row_heading level0 row8\" >(1.382, 1.429]</th>\n",
              "                        <td id=\"T_e198311e_5279_11eb_b236_0242ac1c0002row8_col0\" class=\"data row8 col0\" >406.00</td>\n",
              "                        <td id=\"T_e198311e_5279_11eb_b236_0242ac1c0002row8_col1\" class=\"data row8 col1\" >2.45</td>\n",
              "            </tr>\n",
              "            <tr>\n",
              "                        <th id=\"T_e198311e_5279_11eb_b236_0242ac1c0002level0_row9\" class=\"row_heading level0 row9\" >(1.808, 1.855]</th>\n",
              "                        <td id=\"T_e198311e_5279_11eb_b236_0242ac1c0002row9_col0\" class=\"data row9 col0\" >334.00</td>\n",
              "                        <td id=\"T_e198311e_5279_11eb_b236_0242ac1c0002row9_col1\" class=\"data row9 col1\" >2.02</td>\n",
              "            </tr>\n",
              "            <tr>\n",
              "                        <th id=\"T_e198311e_5279_11eb_b236_0242ac1c0002level0_row10\" class=\"row_heading level0 row10\" >(1.335, 1.382]</th>\n",
              "                        <td id=\"T_e198311e_5279_11eb_b236_0242ac1c0002row10_col0\" class=\"data row10 col0\" >217.00</td>\n",
              "                        <td id=\"T_e198311e_5279_11eb_b236_0242ac1c0002row10_col1\" class=\"data row10 col1\" >1.31</td>\n",
              "            </tr>\n",
              "            <tr>\n",
              "                        <th id=\"T_e198311e_5279_11eb_b236_0242ac1c0002level0_row11\" class=\"row_heading level0 row11\" >(1.855, 1.903]</th>\n",
              "                        <td id=\"T_e198311e_5279_11eb_b236_0242ac1c0002row11_col0\" class=\"data row11 col0\" >103.00</td>\n",
              "                        <td id=\"T_e198311e_5279_11eb_b236_0242ac1c0002row11_col1\" class=\"data row11 col1\" >0.62</td>\n",
              "            </tr>\n",
              "            <tr>\n",
              "                        <th id=\"T_e198311e_5279_11eb_b236_0242ac1c0002level0_row12\" class=\"row_heading level0 row12\" >(1.287, 1.335]</th>\n",
              "                        <td id=\"T_e198311e_5279_11eb_b236_0242ac1c0002row12_col0\" class=\"data row12 col0\" >46.00</td>\n",
              "                        <td id=\"T_e198311e_5279_11eb_b236_0242ac1c0002row12_col1\" class=\"data row12 col1\" >0.28</td>\n",
              "            </tr>\n",
              "            <tr>\n",
              "                        <th id=\"T_e198311e_5279_11eb_b236_0242ac1c0002level0_row13\" class=\"row_heading level0 row13\" >(1.903, 1.95]</th>\n",
              "                        <td id=\"T_e198311e_5279_11eb_b236_0242ac1c0002row13_col0\" class=\"data row13 col0\" >13.00</td>\n",
              "                        <td id=\"T_e198311e_5279_11eb_b236_0242ac1c0002row13_col1\" class=\"data row13 col1\" >0.08</td>\n",
              "            </tr>\n",
              "            <tr>\n",
              "                        <th id=\"T_e198311e_5279_11eb_b236_0242ac1c0002level0_row14\" class=\"row_heading level0 row14\" >(1.2380000000000002, 1.287]</th>\n",
              "                        <td id=\"T_e198311e_5279_11eb_b236_0242ac1c0002row14_col0\" class=\"data row14 col0\" >3.00</td>\n",
              "                        <td id=\"T_e198311e_5279_11eb_b236_0242ac1c0002row14_col1\" class=\"data row14 col1\" >0.02</td>\n",
              "            </tr>\n",
              "    </tbody></table>"
            ],
            "text/plain": [
              "<pandas.io.formats.style.Styler at 0x7fab2f9582b0>"
            ]
          },
          "metadata": {
            "tags": []
          },
          "execution_count": 59
        }
      ]
    },
    {
      "cell_type": "markdown",
      "metadata": {
        "id": "ztpq_UbRN2rZ"
      },
      "source": [
        "Dividindo a base de dados entre meninos e meninas e recalculando seus intervalos de classes."
      ]
    },
    {
      "cell_type": "code",
      "metadata": {
        "colab": {
          "base_uri": "https://localhost:8080/"
        },
        "id": "PrxzhJ7bJfPW",
        "outputId": "6c44cd9a-ce78-402a-ff83-7f5358e6d274"
      },
      "source": [
        "dados_meninas = dados.loc[(dados[\"Sexo\"]==\"Feminino\")]\r\n",
        "dados_meninos = dados.loc[(dados[\"Sexo\"]==\"Masculino\")]\r\n",
        "\r\n",
        "#K = número de intervalos de categoria para auxiliar em análises, utilizando a Regra de Sturges\r\n",
        "kmeninas = int(1 + ((10/3) * np.log10(len(dados_meninas))))\r\n",
        "\r\n",
        "kmeninos = int(1 + ((10/3) * np.log10(len(dados_meninos))))\r\n",
        "\r\n",
        "#3.\r\n",
        "dados_meninas['Classe_Altura'] = pd.cut(x = dados_meninas['Altura'], bins = kmeninas, include_lowest=True)\r\n",
        "dados_meninos['Classe_Altura'] = pd.cut(x = dados_meninos['Altura'], bins = kmeninos, include_lowest=True)\r\n",
        "#4.\r\n",
        "dados_meninas['Classe_Peso'] = pd.cut(x = dados_meninas['Peso'], bins = kmeninas, include_lowest=True)\r\n",
        "dados_meninos['Classe_Peso'] = pd.cut(x = dados_meninos['Peso'], bins = kmeninos, include_lowest=True)"
      ],
      "execution_count": 60,
      "outputs": [
        {
          "output_type": "stream",
          "text": [
            "/usr/local/lib/python3.6/dist-packages/ipykernel_launcher.py:10: SettingWithCopyWarning:\n",
            "\n",
            "\n",
            "A value is trying to be set on a copy of a slice from a DataFrame.\n",
            "Try using .loc[row_indexer,col_indexer] = value instead\n",
            "\n",
            "See the caveats in the documentation: https://pandas.pydata.org/pandas-docs/stable/user_guide/indexing.html#returning-a-view-versus-a-copy\n",
            "\n",
            "/usr/local/lib/python3.6/dist-packages/ipykernel_launcher.py:11: SettingWithCopyWarning:\n",
            "\n",
            "\n",
            "A value is trying to be set on a copy of a slice from a DataFrame.\n",
            "Try using .loc[row_indexer,col_indexer] = value instead\n",
            "\n",
            "See the caveats in the documentation: https://pandas.pydata.org/pandas-docs/stable/user_guide/indexing.html#returning-a-view-versus-a-copy\n",
            "\n",
            "/usr/local/lib/python3.6/dist-packages/ipykernel_launcher.py:13: SettingWithCopyWarning:\n",
            "\n",
            "\n",
            "A value is trying to be set on a copy of a slice from a DataFrame.\n",
            "Try using .loc[row_indexer,col_indexer] = value instead\n",
            "\n",
            "See the caveats in the documentation: https://pandas.pydata.org/pandas-docs/stable/user_guide/indexing.html#returning-a-view-versus-a-copy\n",
            "\n",
            "/usr/local/lib/python3.6/dist-packages/ipykernel_launcher.py:14: SettingWithCopyWarning:\n",
            "\n",
            "\n",
            "A value is trying to be set on a copy of a slice from a DataFrame.\n",
            "Try using .loc[row_indexer,col_indexer] = value instead\n",
            "\n",
            "See the caveats in the documentation: https://pandas.pydata.org/pandas-docs/stable/user_guide/indexing.html#returning-a-view-versus-a-copy\n",
            "\n"
          ],
          "name": "stderr"
        }
      ]
    },
    {
      "cell_type": "code",
      "metadata": {
        "colab": {
          "base_uri": "https://localhost:8080/",
          "height": 334
        },
        "id": "5wsVdHD5JwqI",
        "outputId": "7a96f9a7-7bbb-4de9-b2b7-1111afbf6c9a"
      },
      "source": [
        "#Distribuição entre classes de Altura das meninas da amostra da base de dados\r\n",
        "tabela_frequencia_categoria(dados_meninas,'Classe_Altura')"
      ],
      "execution_count": 61,
      "outputs": [
        {
          "output_type": "execute_result",
          "data": {
            "text/html": [
              "<style  type=\"text/css\" >\n",
              "#T_e1a49e22_5279_11eb_b236_0242ac1c0002row0_col0,#T_e1a49e22_5279_11eb_b236_0242ac1c0002row0_col1{\n",
              "            background-color:  #67000d;\n",
              "            color:  #f1f1f1;\n",
              "        }#T_e1a49e22_5279_11eb_b236_0242ac1c0002row1_col0,#T_e1a49e22_5279_11eb_b236_0242ac1c0002row1_col1{\n",
              "            background-color:  #9f0e14;\n",
              "            color:  #f1f1f1;\n",
              "        }#T_e1a49e22_5279_11eb_b236_0242ac1c0002row2_col0,#T_e1a49e22_5279_11eb_b236_0242ac1c0002row2_col1{\n",
              "            background-color:  #c9181d;\n",
              "            color:  #f1f1f1;\n",
              "        }#T_e1a49e22_5279_11eb_b236_0242ac1c0002row3_col0,#T_e1a49e22_5279_11eb_b236_0242ac1c0002row3_col1{\n",
              "            background-color:  #e12d26;\n",
              "            color:  #f1f1f1;\n",
              "        }#T_e1a49e22_5279_11eb_b236_0242ac1c0002row4_col0,#T_e1a49e22_5279_11eb_b236_0242ac1c0002row4_col1{\n",
              "            background-color:  #fb7d5d;\n",
              "            color:  #000000;\n",
              "        }#T_e1a49e22_5279_11eb_b236_0242ac1c0002row5_col0,#T_e1a49e22_5279_11eb_b236_0242ac1c0002row5_col1{\n",
              "            background-color:  #fcc2aa;\n",
              "            color:  #000000;\n",
              "        }#T_e1a49e22_5279_11eb_b236_0242ac1c0002row6_col0,#T_e1a49e22_5279_11eb_b236_0242ac1c0002row6_col1{\n",
              "            background-color:  #fdcdb9;\n",
              "            color:  #000000;\n",
              "        }#T_e1a49e22_5279_11eb_b236_0242ac1c0002row7_col0,#T_e1a49e22_5279_11eb_b236_0242ac1c0002row7_col1{\n",
              "            background-color:  #fee7db;\n",
              "            color:  #000000;\n",
              "        }#T_e1a49e22_5279_11eb_b236_0242ac1c0002row8_col0,#T_e1a49e22_5279_11eb_b236_0242ac1c0002row8_col1{\n",
              "            background-color:  #ffeee7;\n",
              "            color:  #000000;\n",
              "        }#T_e1a49e22_5279_11eb_b236_0242ac1c0002row9_col0,#T_e1a49e22_5279_11eb_b236_0242ac1c0002row9_col1{\n",
              "            background-color:  #ffefe8;\n",
              "            color:  #000000;\n",
              "        }#T_e1a49e22_5279_11eb_b236_0242ac1c0002row10_col0,#T_e1a49e22_5279_11eb_b236_0242ac1c0002row10_col1{\n",
              "            background-color:  #fff3ed;\n",
              "            color:  #000000;\n",
              "        }#T_e1a49e22_5279_11eb_b236_0242ac1c0002row11_col0,#T_e1a49e22_5279_11eb_b236_0242ac1c0002row11_col1{\n",
              "            background-color:  #fff4ee;\n",
              "            color:  #000000;\n",
              "        }#T_e1a49e22_5279_11eb_b236_0242ac1c0002row12_col0,#T_e1a49e22_5279_11eb_b236_0242ac1c0002row12_col1,#T_e1a49e22_5279_11eb_b236_0242ac1c0002row13_col0,#T_e1a49e22_5279_11eb_b236_0242ac1c0002row13_col1{\n",
              "            background-color:  #fff5f0;\n",
              "            color:  #000000;\n",
              "        }</style><table id=\"T_e1a49e22_5279_11eb_b236_0242ac1c0002\" ><thead>    <tr>        <th class=\"index_name level0\" >Atributos</th>        <th class=\"col_heading level0 col0\" >Distribuicao</th>        <th class=\"col_heading level0 col1\" >Frequencia (%)</th>    </tr></thead><tbody>\n",
              "                <tr>\n",
              "                        <th id=\"T_e1a49e22_5279_11eb_b236_0242ac1c0002level0_row0\" class=\"row_heading level0 row0\" >(1.555, 1.597]</th>\n",
              "                        <td id=\"T_e1a49e22_5279_11eb_b236_0242ac1c0002row0_col0\" class=\"data row0 col0\" >1,885.00</td>\n",
              "                        <td id=\"T_e1a49e22_5279_11eb_b236_0242ac1c0002row0_col1\" class=\"data row0 col1\" >22.80</td>\n",
              "            </tr>\n",
              "            <tr>\n",
              "                        <th id=\"T_e1a49e22_5279_11eb_b236_0242ac1c0002level0_row1\" class=\"row_heading level0 row1\" >(1.597, 1.639]</th>\n",
              "                        <td id=\"T_e1a49e22_5279_11eb_b236_0242ac1c0002row1_col0\" class=\"data row1 col0\" >1,671.00</td>\n",
              "                        <td id=\"T_e1a49e22_5279_11eb_b236_0242ac1c0002row1_col1\" class=\"data row1 col1\" >20.21</td>\n",
              "            </tr>\n",
              "            <tr>\n",
              "                        <th id=\"T_e1a49e22_5279_11eb_b236_0242ac1c0002level0_row2\" class=\"row_heading level0 row2\" >(1.513, 1.555]</th>\n",
              "                        <td id=\"T_e1a49e22_5279_11eb_b236_0242ac1c0002row2_col0\" class=\"data row2 col0\" >1,428.00</td>\n",
              "                        <td id=\"T_e1a49e22_5279_11eb_b236_0242ac1c0002row2_col1\" class=\"data row2 col1\" >17.27</td>\n",
              "            </tr>\n",
              "            <tr>\n",
              "                        <th id=\"T_e1a49e22_5279_11eb_b236_0242ac1c0002level0_row3\" class=\"row_heading level0 row3\" >(1.639, 1.681]</th>\n",
              "                        <td id=\"T_e1a49e22_5279_11eb_b236_0242ac1c0002row3_col0\" class=\"data row3 col0\" >1,271.00</td>\n",
              "                        <td id=\"T_e1a49e22_5279_11eb_b236_0242ac1c0002row3_col1\" class=\"data row3 col1\" >15.37</td>\n",
              "            </tr>\n",
              "            <tr>\n",
              "                        <th id=\"T_e1a49e22_5279_11eb_b236_0242ac1c0002level0_row4\" class=\"row_heading level0 row4\" >(1.471, 1.513]</th>\n",
              "                        <td id=\"T_e1a49e22_5279_11eb_b236_0242ac1c0002row4_col0\" class=\"data row4 col0\" >831.00</td>\n",
              "                        <td id=\"T_e1a49e22_5279_11eb_b236_0242ac1c0002row4_col1\" class=\"data row4 col1\" >10.05</td>\n",
              "            </tr>\n",
              "            <tr>\n",
              "                        <th id=\"T_e1a49e22_5279_11eb_b236_0242ac1c0002level0_row5\" class=\"row_heading level0 row5\" >(1.429, 1.471]</th>\n",
              "                        <td id=\"T_e1a49e22_5279_11eb_b236_0242ac1c0002row5_col0\" class=\"data row5 col0\" >437.00</td>\n",
              "                        <td id=\"T_e1a49e22_5279_11eb_b236_0242ac1c0002row5_col1\" class=\"data row5 col1\" >5.28</td>\n",
              "            </tr>\n",
              "            <tr>\n",
              "                        <th id=\"T_e1a49e22_5279_11eb_b236_0242ac1c0002level0_row6\" class=\"row_heading level0 row6\" >(1.681, 1.724]</th>\n",
              "                        <td id=\"T_e1a49e22_5279_11eb_b236_0242ac1c0002row6_col0\" class=\"data row6 col0\" >363.00</td>\n",
              "                        <td id=\"T_e1a49e22_5279_11eb_b236_0242ac1c0002row6_col1\" class=\"data row6 col1\" >4.39</td>\n",
              "            </tr>\n",
              "            <tr>\n",
              "                        <th id=\"T_e1a49e22_5279_11eb_b236_0242ac1c0002level0_row7\" class=\"row_heading level0 row7\" >(1.386, 1.429]</th>\n",
              "                        <td id=\"T_e1a49e22_5279_11eb_b236_0242ac1c0002row7_col0\" class=\"data row7 col0\" >167.00</td>\n",
              "                        <td id=\"T_e1a49e22_5279_11eb_b236_0242ac1c0002row7_col1\" class=\"data row7 col1\" >2.02</td>\n",
              "            </tr>\n",
              "            <tr>\n",
              "                        <th id=\"T_e1a49e22_5279_11eb_b236_0242ac1c0002level0_row8\" class=\"row_heading level0 row8\" >(1.724, 1.766]</th>\n",
              "                        <td id=\"T_e1a49e22_5279_11eb_b236_0242ac1c0002row8_col0\" class=\"data row8 col0\" >80.00</td>\n",
              "                        <td id=\"T_e1a49e22_5279_11eb_b236_0242ac1c0002row8_col1\" class=\"data row8 col1\" >0.97</td>\n",
              "            </tr>\n",
              "            <tr>\n",
              "                        <th id=\"T_e1a49e22_5279_11eb_b236_0242ac1c0002level0_row9\" class=\"row_heading level0 row9\" >(1.344, 1.386]</th>\n",
              "                        <td id=\"T_e1a49e22_5279_11eb_b236_0242ac1c0002row9_col0\" class=\"data row9 col0\" >73.00</td>\n",
              "                        <td id=\"T_e1a49e22_5279_11eb_b236_0242ac1c0002row9_col1\" class=\"data row9 col1\" >0.88</td>\n",
              "            </tr>\n",
              "            <tr>\n",
              "                        <th id=\"T_e1a49e22_5279_11eb_b236_0242ac1c0002level0_row10\" class=\"row_heading level0 row10\" >(1.302, 1.344]</th>\n",
              "                        <td id=\"T_e1a49e22_5279_11eb_b236_0242ac1c0002row10_col0\" class=\"data row10 col0\" >27.00</td>\n",
              "                        <td id=\"T_e1a49e22_5279_11eb_b236_0242ac1c0002row10_col1\" class=\"data row10 col1\" >0.33</td>\n",
              "            </tr>\n",
              "            <tr>\n",
              "                        <th id=\"T_e1a49e22_5279_11eb_b236_0242ac1c0002level0_row11\" class=\"row_heading level0 row11\" >(1.766, 1.808]</th>\n",
              "                        <td id=\"T_e1a49e22_5279_11eb_b236_0242ac1c0002row11_col0\" class=\"data row11 col0\" >25.00</td>\n",
              "                        <td id=\"T_e1a49e22_5279_11eb_b236_0242ac1c0002row11_col1\" class=\"data row11 col1\" >0.30</td>\n",
              "            </tr>\n",
              "            <tr>\n",
              "                        <th id=\"T_e1a49e22_5279_11eb_b236_0242ac1c0002level0_row12\" class=\"row_heading level0 row12\" >(1.258, 1.302]</th>\n",
              "                        <td id=\"T_e1a49e22_5279_11eb_b236_0242ac1c0002row12_col0\" class=\"data row12 col0\" >7.00</td>\n",
              "                        <td id=\"T_e1a49e22_5279_11eb_b236_0242ac1c0002row12_col1\" class=\"data row12 col1\" >0.08</td>\n",
              "            </tr>\n",
              "            <tr>\n",
              "                        <th id=\"T_e1a49e22_5279_11eb_b236_0242ac1c0002level0_row13\" class=\"row_heading level0 row13\" >(1.808, 1.85]</th>\n",
              "                        <td id=\"T_e1a49e22_5279_11eb_b236_0242ac1c0002row13_col0\" class=\"data row13 col0\" >4.00</td>\n",
              "                        <td id=\"T_e1a49e22_5279_11eb_b236_0242ac1c0002row13_col1\" class=\"data row13 col1\" >0.05</td>\n",
              "            </tr>\n",
              "    </tbody></table>"
            ],
            "text/plain": [
              "<pandas.io.formats.style.Styler at 0x7fab2f96c8d0>"
            ]
          },
          "metadata": {
            "tags": []
          },
          "execution_count": 61
        }
      ]
    },
    {
      "cell_type": "code",
      "metadata": {
        "colab": {
          "base_uri": "https://localhost:8080/",
          "height": 334
        },
        "id": "v3CJCfVNJyln",
        "outputId": "1227371f-64a0-4950-a92d-8701ef37f852"
      },
      "source": [
        "#Distribuição entre classes de Altura dos meninos da amostra da base de dados\r\n",
        "tabela_frequencia_categoria(dados_meninos,'Classe_Altura')"
      ],
      "execution_count": 62,
      "outputs": [
        {
          "output_type": "execute_result",
          "data": {
            "text/html": [
              "<style  type=\"text/css\" >\n",
              "#T_e1aa7216_5279_11eb_b236_0242ac1c0002row0_col0,#T_e1aa7216_5279_11eb_b236_0242ac1c0002row0_col1{\n",
              "            background-color:  #67000d;\n",
              "            color:  #f1f1f1;\n",
              "        }#T_e1aa7216_5279_11eb_b236_0242ac1c0002row1_col0,#T_e1aa7216_5279_11eb_b236_0242ac1c0002row1_col1{\n",
              "            background-color:  #b61319;\n",
              "            color:  #f1f1f1;\n",
              "        }#T_e1aa7216_5279_11eb_b236_0242ac1c0002row2_col0,#T_e1aa7216_5279_11eb_b236_0242ac1c0002row2_col1{\n",
              "            background-color:  #d42121;\n",
              "            color:  #f1f1f1;\n",
              "        }#T_e1aa7216_5279_11eb_b236_0242ac1c0002row3_col0,#T_e1aa7216_5279_11eb_b236_0242ac1c0002row3_col1{\n",
              "            background-color:  #f5533b;\n",
              "            color:  #000000;\n",
              "        }#T_e1aa7216_5279_11eb_b236_0242ac1c0002row4_col0,#T_e1aa7216_5279_11eb_b236_0242ac1c0002row4_col1{\n",
              "            background-color:  #f96346;\n",
              "            color:  #000000;\n",
              "        }#T_e1aa7216_5279_11eb_b236_0242ac1c0002row5_col0,#T_e1aa7216_5279_11eb_b236_0242ac1c0002row5_col1{\n",
              "            background-color:  #fb7252;\n",
              "            color:  #000000;\n",
              "        }#T_e1aa7216_5279_11eb_b236_0242ac1c0002row6_col0,#T_e1aa7216_5279_11eb_b236_0242ac1c0002row6_col1{\n",
              "            background-color:  #fc8e6e;\n",
              "            color:  #000000;\n",
              "        }#T_e1aa7216_5279_11eb_b236_0242ac1c0002row7_col0,#T_e1aa7216_5279_11eb_b236_0242ac1c0002row7_col1{\n",
              "            background-color:  #fcae92;\n",
              "            color:  #000000;\n",
              "        }#T_e1aa7216_5279_11eb_b236_0242ac1c0002row8_col0,#T_e1aa7216_5279_11eb_b236_0242ac1c0002row8_col1{\n",
              "            background-color:  #fcbfa7;\n",
              "            color:  #000000;\n",
              "        }#T_e1aa7216_5279_11eb_b236_0242ac1c0002row9_col0,#T_e1aa7216_5279_11eb_b236_0242ac1c0002row9_col1{\n",
              "            background-color:  #fee5d9;\n",
              "            color:  #000000;\n",
              "        }#T_e1aa7216_5279_11eb_b236_0242ac1c0002row10_col0,#T_e1aa7216_5279_11eb_b236_0242ac1c0002row10_col1{\n",
              "            background-color:  #fee8dd;\n",
              "            color:  #000000;\n",
              "        }#T_e1aa7216_5279_11eb_b236_0242ac1c0002row11_col0,#T_e1aa7216_5279_11eb_b236_0242ac1c0002row11_col1{\n",
              "            background-color:  #fff1ea;\n",
              "            color:  #000000;\n",
              "        }#T_e1aa7216_5279_11eb_b236_0242ac1c0002row12_col0,#T_e1aa7216_5279_11eb_b236_0242ac1c0002row12_col1{\n",
              "            background-color:  #fff3ed;\n",
              "            color:  #000000;\n",
              "        }#T_e1aa7216_5279_11eb_b236_0242ac1c0002row13_col0,#T_e1aa7216_5279_11eb_b236_0242ac1c0002row13_col1{\n",
              "            background-color:  #fff5f0;\n",
              "            color:  #000000;\n",
              "        }</style><table id=\"T_e1aa7216_5279_11eb_b236_0242ac1c0002\" ><thead>    <tr>        <th class=\"index_name level0\" >Atributos</th>        <th class=\"col_heading level0 col0\" >Distribuicao</th>        <th class=\"col_heading level0 col1\" >Frequencia (%)</th>    </tr></thead><tbody>\n",
              "                <tr>\n",
              "                        <th id=\"T_e1aa7216_5279_11eb_b236_0242ac1c0002level0_row0\" class=\"row_heading level0 row0\" >(1.696, 1.747]</th>\n",
              "                        <td id=\"T_e1aa7216_5279_11eb_b236_0242ac1c0002row0_col0\" class=\"data row0 col0\" >1,584.00</td>\n",
              "                        <td id=\"T_e1aa7216_5279_11eb_b236_0242ac1c0002row0_col1\" class=\"data row0 col1\" >19.11</td>\n",
              "            </tr>\n",
              "            <tr>\n",
              "                        <th id=\"T_e1aa7216_5279_11eb_b236_0242ac1c0002level0_row1\" class=\"row_heading level0 row1\" >(1.646, 1.696]</th>\n",
              "                        <td id=\"T_e1aa7216_5279_11eb_b236_0242ac1c0002row1_col0\" class=\"data row1 col0\" >1,297.00</td>\n",
              "                        <td id=\"T_e1aa7216_5279_11eb_b236_0242ac1c0002row1_col1\" class=\"data row1 col1\" >15.65</td>\n",
              "            </tr>\n",
              "            <tr>\n",
              "                        <th id=\"T_e1aa7216_5279_11eb_b236_0242ac1c0002level0_row2\" class=\"row_heading level0 row2\" >(1.595, 1.646]</th>\n",
              "                        <td id=\"T_e1aa7216_5279_11eb_b236_0242ac1c0002row2_col0\" class=\"data row2 col0\" >1,136.00</td>\n",
              "                        <td id=\"T_e1aa7216_5279_11eb_b236_0242ac1c0002row2_col1\" class=\"data row2 col1\" >13.71</td>\n",
              "            </tr>\n",
              "            <tr>\n",
              "                        <th id=\"T_e1aa7216_5279_11eb_b236_0242ac1c0002level0_row3\" class=\"row_heading level0 row3\" >(1.747, 1.798]</th>\n",
              "                        <td id=\"T_e1aa7216_5279_11eb_b236_0242ac1c0002row3_col0\" class=\"data row3 col0\" >890.00</td>\n",
              "                        <td id=\"T_e1aa7216_5279_11eb_b236_0242ac1c0002row3_col1\" class=\"data row3 col1\" >10.74</td>\n",
              "            </tr>\n",
              "            <tr>\n",
              "                        <th id=\"T_e1aa7216_5279_11eb_b236_0242ac1c0002level0_row4\" class=\"row_heading level0 row4\" >(1.544, 1.595]</th>\n",
              "                        <td id=\"T_e1aa7216_5279_11eb_b236_0242ac1c0002row4_col0\" class=\"data row4 col0\" >821.00</td>\n",
              "                        <td id=\"T_e1aa7216_5279_11eb_b236_0242ac1c0002row4_col1\" class=\"data row4 col1\" >9.91</td>\n",
              "            </tr>\n",
              "            <tr>\n",
              "                        <th id=\"T_e1aa7216_5279_11eb_b236_0242ac1c0002level0_row5\" class=\"row_heading level0 row5\" >(1.494, 1.544]</th>\n",
              "                        <td id=\"T_e1aa7216_5279_11eb_b236_0242ac1c0002row5_col0\" class=\"data row5 col0\" >752.00</td>\n",
              "                        <td id=\"T_e1aa7216_5279_11eb_b236_0242ac1c0002row5_col1\" class=\"data row5 col1\" >9.07</td>\n",
              "            </tr>\n",
              "            <tr>\n",
              "                        <th id=\"T_e1aa7216_5279_11eb_b236_0242ac1c0002level0_row6\" class=\"row_heading level0 row6\" >(1.443, 1.494]</th>\n",
              "                        <td id=\"T_e1aa7216_5279_11eb_b236_0242ac1c0002row6_col0\" class=\"data row6 col0\" >619.00</td>\n",
              "                        <td id=\"T_e1aa7216_5279_11eb_b236_0242ac1c0002row6_col1\" class=\"data row6 col1\" >7.47</td>\n",
              "            </tr>\n",
              "            <tr>\n",
              "                        <th id=\"T_e1aa7216_5279_11eb_b236_0242ac1c0002level0_row7\" class=\"row_heading level0 row7\" >(1.798, 1.849]</th>\n",
              "                        <td id=\"T_e1aa7216_5279_11eb_b236_0242ac1c0002row7_col0\" class=\"data row7 col0\" >462.00</td>\n",
              "                        <td id=\"T_e1aa7216_5279_11eb_b236_0242ac1c0002row7_col1\" class=\"data row7 col1\" >5.57</td>\n",
              "            </tr>\n",
              "            <tr>\n",
              "                        <th id=\"T_e1aa7216_5279_11eb_b236_0242ac1c0002level0_row8\" class=\"row_heading level0 row8\" >(1.392, 1.443]</th>\n",
              "                        <td id=\"T_e1aa7216_5279_11eb_b236_0242ac1c0002row8_col0\" class=\"data row8 col0\" >376.00</td>\n",
              "                        <td id=\"T_e1aa7216_5279_11eb_b236_0242ac1c0002row8_col1\" class=\"data row8 col1\" >4.54</td>\n",
              "            </tr>\n",
              "            <tr>\n",
              "                        <th id=\"T_e1aa7216_5279_11eb_b236_0242ac1c0002level0_row9\" class=\"row_heading level0 row9\" >(1.341, 1.392]</th>\n",
              "                        <td id=\"T_e1aa7216_5279_11eb_b236_0242ac1c0002row9_col0\" class=\"data row9 col0\" >153.00</td>\n",
              "                        <td id=\"T_e1aa7216_5279_11eb_b236_0242ac1c0002row9_col1\" class=\"data row9 col1\" >1.85</td>\n",
              "            </tr>\n",
              "            <tr>\n",
              "                        <th id=\"T_e1aa7216_5279_11eb_b236_0242ac1c0002level0_row10\" class=\"row_heading level0 row10\" >(1.849, 1.899]</th>\n",
              "                        <td id=\"T_e1aa7216_5279_11eb_b236_0242ac1c0002row10_col0\" class=\"data row10 col0\" >131.00</td>\n",
              "                        <td id=\"T_e1aa7216_5279_11eb_b236_0242ac1c0002row10_col1\" class=\"data row10 col1\" >1.58</td>\n",
              "            </tr>\n",
              "            <tr>\n",
              "                        <th id=\"T_e1aa7216_5279_11eb_b236_0242ac1c0002level0_row11\" class=\"row_heading level0 row11\" >(1.291, 1.341]</th>\n",
              "                        <td id=\"T_e1aa7216_5279_11eb_b236_0242ac1c0002row11_col0\" class=\"data row11 col0\" >42.00</td>\n",
              "                        <td id=\"T_e1aa7216_5279_11eb_b236_0242ac1c0002row11_col1\" class=\"data row11 col1\" >0.51</td>\n",
              "            </tr>\n",
              "            <tr>\n",
              "                        <th id=\"T_e1aa7216_5279_11eb_b236_0242ac1c0002level0_row12\" class=\"row_heading level0 row12\" >(1.899, 1.95]</th>\n",
              "                        <td id=\"T_e1aa7216_5279_11eb_b236_0242ac1c0002row12_col0\" class=\"data row12 col0\" >22.00</td>\n",
              "                        <td id=\"T_e1aa7216_5279_11eb_b236_0242ac1c0002row12_col1\" class=\"data row12 col1\" >0.27</td>\n",
              "            </tr>\n",
              "            <tr>\n",
              "                        <th id=\"T_e1aa7216_5279_11eb_b236_0242ac1c0002level0_row13\" class=\"row_heading level0 row13\" >(1.2380000000000002, 1.291]</th>\n",
              "                        <td id=\"T_e1aa7216_5279_11eb_b236_0242ac1c0002row13_col0\" class=\"data row13 col0\" >2.00</td>\n",
              "                        <td id=\"T_e1aa7216_5279_11eb_b236_0242ac1c0002row13_col1\" class=\"data row13 col1\" >0.02</td>\n",
              "            </tr>\n",
              "    </tbody></table>"
            ],
            "text/plain": [
              "<pandas.io.formats.style.Styler at 0x7fab2f96c358>"
            ]
          },
          "metadata": {
            "tags": []
          },
          "execution_count": 62
        }
      ]
    },
    {
      "cell_type": "markdown",
      "metadata": {
        "id": "uMrTipWwKZ4S"
      },
      "source": [
        "Para avaliar um pouco mais sobre as alturas de meninos e meninas, vemos no gráfico abaixo a distribuição das alturas por idade e por sexo. Deste modo, podemos ver que as meninas \"param de crescer\" aos 13 anos, mantendo uma certa estabilidade de altura a partir daí. Já os meninos seguem crescendo, no geral, até os 16 anos e mantém uma certa estabilidade de altura a partir daí."
      ]
    },
    {
      "cell_type": "code",
      "metadata": {
        "colab": {
          "base_uri": "https://localhost:8080/",
          "height": 350
        },
        "id": "2zXiko3AKaMJ",
        "outputId": "9f517e52-03a2-4c31-c5d7-0a81f9bbff30"
      },
      "source": [
        "ax = sns.boxplot(data = dados, x = 'Idade', y = 'Altura', hue = 'Sexo', palette='pastel')\r\n",
        "ax.set_title('Boxplot Altura e Sexo dos Alunos')\r\n",
        "ax.figure.set_size_inches(10, 5)"
      ],
      "execution_count": 63,
      "outputs": [
        {
          "output_type": "display_data",
          "data": {
            "image/png": "[encoded data removed]",
            "text/plain": [
              "<Figure size 720x360 with 1 Axes>"
            ]
          },
          "metadata": {
            "tags": [],
            "needs_background": "light"
          }
        }
      ]
    },
    {
      "cell_type": "code",
      "metadata": {
        "colab": {
          "base_uri": "https://localhost:8080/",
          "height": 350
        },
        "id": "bsz-rjbyqZ2c",
        "outputId": "36b2f03a-e988-429b-ae5d-9ca01bcfc35e"
      },
      "source": [
        "ax = sns.histplot(data = dados, x = 'Altura', kde=True, hue = 'Sexo', palette='rocket_r')\r\n",
        "ax.set_title('Distribuição de Altura dos Alunos (Feminino x Masculino)')\r\n",
        "ax.figure.set_size_inches(10, 5)"
      ],
      "execution_count": 89,
      "outputs": [
        {
          "output_type": "display_data",
          "data": {
            "image/png": "[encoded data removed]",
            "text/plain": [
              "<Figure size 720x360 with 1 Axes>"
            ]
          },
          "metadata": {
            "tags": [],
            "needs_background": "light"
          }
        }
      ]
    },
    {
      "cell_type": "markdown",
      "metadata": {
        "id": "rA6Ni5ZQLo3c"
      },
      "source": [
        "Vemos abaixo as distribuições dos pesos dos estudantes da base de dados. Juntando meninos e meninas, vemos que a maioria está entre aproximadamente 35 KG e 69 KG.\r\n",
        "Quando separamos entre meninos e meninas, observamos que as meninas pesam em média entre 40 KG e 60 KG. Entretanto, para os meninos, observamos que o intervalo de altura predominante é entre 37 KG e 74 KG."
      ]
    },
    {
      "cell_type": "code",
      "metadata": {
        "colab": {
          "base_uri": "https://localhost:8080/",
          "height": 355
        },
        "id": "sRCg718HLpTU",
        "outputId": "73d9218b-decc-4746-9727-f50fedbc2d86"
      },
      "source": [
        "#Distribuição entre classes de Peso dos estudantes da amostra da base de dados\r\n",
        "tabela_frequencia_categoria(dados,'Classe_Peso')"
      ],
      "execution_count": 64,
      "outputs": [
        {
          "output_type": "execute_result",
          "data": {
            "text/html": [
              "<style  type=\"text/css\" >\n",
              "#T_e1fa1424_5279_11eb_b236_0242ac1c0002row0_col0,#T_e1fa1424_5279_11eb_b236_0242ac1c0002row0_col1{\n",
              "            background-color:  #67000d;\n",
              "            color:  #f1f1f1;\n",
              "        }#T_e1fa1424_5279_11eb_b236_0242ac1c0002row1_col0,#T_e1fa1424_5279_11eb_b236_0242ac1c0002row1_col1{\n",
              "            background-color:  #e22e27;\n",
              "            color:  #f1f1f1;\n",
              "        }#T_e1fa1424_5279_11eb_b236_0242ac1c0002row2_col0,#T_e1fa1424_5279_11eb_b236_0242ac1c0002row2_col1{\n",
              "            background-color:  #e93529;\n",
              "            color:  #f1f1f1;\n",
              "        }#T_e1fa1424_5279_11eb_b236_0242ac1c0002row3_col0,#T_e1fa1424_5279_11eb_b236_0242ac1c0002row3_col1{\n",
              "            background-color:  #fcbca2;\n",
              "            color:  #000000;\n",
              "        }#T_e1fa1424_5279_11eb_b236_0242ac1c0002row4_col0,#T_e1fa1424_5279_11eb_b236_0242ac1c0002row4_col1{\n",
              "            background-color:  #fdd5c4;\n",
              "            color:  #000000;\n",
              "        }#T_e1fa1424_5279_11eb_b236_0242ac1c0002row5_col0,#T_e1fa1424_5279_11eb_b236_0242ac1c0002row5_col1{\n",
              "            background-color:  #fee5d9;\n",
              "            color:  #000000;\n",
              "        }#T_e1fa1424_5279_11eb_b236_0242ac1c0002row6_col0,#T_e1fa1424_5279_11eb_b236_0242ac1c0002row6_col1{\n",
              "            background-color:  #fff0e8;\n",
              "            color:  #000000;\n",
              "        }#T_e1fa1424_5279_11eb_b236_0242ac1c0002row7_col0,#T_e1fa1424_5279_11eb_b236_0242ac1c0002row7_col1{\n",
              "            background-color:  #fff3ed;\n",
              "            color:  #000000;\n",
              "        }#T_e1fa1424_5279_11eb_b236_0242ac1c0002row8_col0,#T_e1fa1424_5279_11eb_b236_0242ac1c0002row8_col1,#T_e1fa1424_5279_11eb_b236_0242ac1c0002row9_col0,#T_e1fa1424_5279_11eb_b236_0242ac1c0002row9_col1,#T_e1fa1424_5279_11eb_b236_0242ac1c0002row10_col0,#T_e1fa1424_5279_11eb_b236_0242ac1c0002row10_col1,#T_e1fa1424_5279_11eb_b236_0242ac1c0002row11_col0,#T_e1fa1424_5279_11eb_b236_0242ac1c0002row11_col1,#T_e1fa1424_5279_11eb_b236_0242ac1c0002row12_col0,#T_e1fa1424_5279_11eb_b236_0242ac1c0002row12_col1,#T_e1fa1424_5279_11eb_b236_0242ac1c0002row13_col0,#T_e1fa1424_5279_11eb_b236_0242ac1c0002row13_col1,#T_e1fa1424_5279_11eb_b236_0242ac1c0002row14_col0,#T_e1fa1424_5279_11eb_b236_0242ac1c0002row14_col1{\n",
              "            background-color:  #fff5f0;\n",
              "            color:  #000000;\n",
              "        }</style><table id=\"T_e1fa1424_5279_11eb_b236_0242ac1c0002\" ><thead>    <tr>        <th class=\"index_name level0\" >Atributos</th>        <th class=\"col_heading level0 col0\" >Distribuicao</th>        <th class=\"col_heading level0 col1\" >Frequencia (%)</th>    </tr></thead><tbody>\n",
              "                <tr>\n",
              "                        <th id=\"T_e1fa1424_5279_11eb_b236_0242ac1c0002level0_row0\" class=\"row_heading level0 row0\" >(46.32, 57.7]</th>\n",
              "                        <td id=\"T_e1fa1424_5279_11eb_b236_0242ac1c0002row0_col0\" class=\"data row0 col0\" >5,754.00</td>\n",
              "                        <td id=\"T_e1fa1424_5279_11eb_b236_0242ac1c0002row0_col1\" class=\"data row0 col1\" >34.75</td>\n",
              "            </tr>\n",
              "            <tr>\n",
              "                        <th id=\"T_e1fa1424_5279_11eb_b236_0242ac1c0002level0_row1\" class=\"row_heading level0 row1\" >(34.94, 46.32]</th>\n",
              "                        <td id=\"T_e1fa1424_5279_11eb_b236_0242ac1c0002row1_col0\" class=\"data row1 col0\" >3,852.00</td>\n",
              "                        <td id=\"T_e1fa1424_5279_11eb_b236_0242ac1c0002row1_col1\" class=\"data row1 col1\" >23.27</td>\n",
              "            </tr>\n",
              "            <tr>\n",
              "                        <th id=\"T_e1fa1424_5279_11eb_b236_0242ac1c0002level0_row2\" class=\"row_heading level0 row2\" >(57.7, 69.08]</th>\n",
              "                        <td id=\"T_e1fa1424_5279_11eb_b236_0242ac1c0002row2_col0\" class=\"data row2 col0\" >3,724.00</td>\n",
              "                        <td id=\"T_e1fa1424_5279_11eb_b236_0242ac1c0002row2_col1\" class=\"data row2 col1\" >22.49</td>\n",
              "            </tr>\n",
              "            <tr>\n",
              "                        <th id=\"T_e1fa1424_5279_11eb_b236_0242ac1c0002level0_row3\" class=\"row_heading level0 row3\" >(69.08, 80.46]</th>\n",
              "                        <td id=\"T_e1fa1424_5279_11eb_b236_0242ac1c0002row3_col0\" class=\"data row3 col0\" >1,425.00</td>\n",
              "                        <td id=\"T_e1fa1424_5279_11eb_b236_0242ac1c0002row3_col1\" class=\"data row3 col1\" >8.61</td>\n",
              "            </tr>\n",
              "            <tr>\n",
              "                        <th id=\"T_e1fa1424_5279_11eb_b236_0242ac1c0002level0_row4\" class=\"row_heading level0 row4\" >(23.56, 34.94]</th>\n",
              "                        <td id=\"T_e1fa1424_5279_11eb_b236_0242ac1c0002row4_col0\" class=\"data row4 col0\" >927.00</td>\n",
              "                        <td id=\"T_e1fa1424_5279_11eb_b236_0242ac1c0002row4_col1\" class=\"data row4 col1\" >5.60</td>\n",
              "            </tr>\n",
              "            <tr>\n",
              "                        <th id=\"T_e1fa1424_5279_11eb_b236_0242ac1c0002level0_row5\" class=\"row_heading level0 row5\" >(80.46, 91.84]</th>\n",
              "                        <td id=\"T_e1fa1424_5279_11eb_b236_0242ac1c0002row5_col0\" class=\"data row5 col0\" >544.00</td>\n",
              "                        <td id=\"T_e1fa1424_5279_11eb_b236_0242ac1c0002row5_col1\" class=\"data row5 col1\" >3.29</td>\n",
              "            </tr>\n",
              "            <tr>\n",
              "                        <th id=\"T_e1fa1424_5279_11eb_b236_0242ac1c0002level0_row6\" class=\"row_heading level0 row6\" >(91.84, 103.22]</th>\n",
              "                        <td id=\"T_e1fa1424_5279_11eb_b236_0242ac1c0002row6_col0\" class=\"data row6 col0\" >202.00</td>\n",
              "                        <td id=\"T_e1fa1424_5279_11eb_b236_0242ac1c0002row6_col1\" class=\"data row6 col1\" >1.22</td>\n",
              "            </tr>\n",
              "            <tr>\n",
              "                        <th id=\"T_e1fa1424_5279_11eb_b236_0242ac1c0002level0_row7\" class=\"row_heading level0 row7\" >(103.22, 114.6]</th>\n",
              "                        <td id=\"T_e1fa1424_5279_11eb_b236_0242ac1c0002row7_col0\" class=\"data row7 col0\" >77.00</td>\n",
              "                        <td id=\"T_e1fa1424_5279_11eb_b236_0242ac1c0002row7_col1\" class=\"data row7 col1\" >0.47</td>\n",
              "            </tr>\n",
              "            <tr>\n",
              "                        <th id=\"T_e1fa1424_5279_11eb_b236_0242ac1c0002level0_row8\" class=\"row_heading level0 row8\" >(114.6, 125.98]</th>\n",
              "                        <td id=\"T_e1fa1424_5279_11eb_b236_0242ac1c0002row8_col0\" class=\"data row8 col0\" >20.00</td>\n",
              "                        <td id=\"T_e1fa1424_5279_11eb_b236_0242ac1c0002row8_col1\" class=\"data row8 col1\" >0.12</td>\n",
              "            </tr>\n",
              "            <tr>\n",
              "                        <th id=\"T_e1fa1424_5279_11eb_b236_0242ac1c0002level0_row9\" class=\"row_heading level0 row9\" >(125.98, 137.36]</th>\n",
              "                        <td id=\"T_e1fa1424_5279_11eb_b236_0242ac1c0002row9_col0\" class=\"data row9 col0\" >15.00</td>\n",
              "                        <td id=\"T_e1fa1424_5279_11eb_b236_0242ac1c0002row9_col1\" class=\"data row9 col1\" >0.09</td>\n",
              "            </tr>\n",
              "            <tr>\n",
              "                        <th id=\"T_e1fa1424_5279_11eb_b236_0242ac1c0002level0_row10\" class=\"row_heading level0 row10\" >(137.36, 148.74]</th>\n",
              "                        <td id=\"T_e1fa1424_5279_11eb_b236_0242ac1c0002row10_col0\" class=\"data row10 col0\" >6.00</td>\n",
              "                        <td id=\"T_e1fa1424_5279_11eb_b236_0242ac1c0002row10_col1\" class=\"data row10 col1\" >0.04</td>\n",
              "            </tr>\n",
              "            <tr>\n",
              "                        <th id=\"T_e1fa1424_5279_11eb_b236_0242ac1c0002level0_row11\" class=\"row_heading level0 row11\" >(148.74, 160.12]</th>\n",
              "                        <td id=\"T_e1fa1424_5279_11eb_b236_0242ac1c0002row11_col0\" class=\"data row11 col0\" >4.00</td>\n",
              "                        <td id=\"T_e1fa1424_5279_11eb_b236_0242ac1c0002row11_col1\" class=\"data row11 col1\" >0.02</td>\n",
              "            </tr>\n",
              "            <tr>\n",
              "                        <th id=\"T_e1fa1424_5279_11eb_b236_0242ac1c0002level0_row12\" class=\"row_heading level0 row12\" >(12.18, 23.56]</th>\n",
              "                        <td id=\"T_e1fa1424_5279_11eb_b236_0242ac1c0002row12_col0\" class=\"data row12 col0\" >3.00</td>\n",
              "                        <td id=\"T_e1fa1424_5279_11eb_b236_0242ac1c0002row12_col1\" class=\"data row12 col1\" >0.02</td>\n",
              "            </tr>\n",
              "            <tr>\n",
              "                        <th id=\"T_e1fa1424_5279_11eb_b236_0242ac1c0002level0_row13\" class=\"row_heading level0 row13\" >(160.12, 171.5]</th>\n",
              "                        <td id=\"T_e1fa1424_5279_11eb_b236_0242ac1c0002row13_col0\" class=\"data row13 col0\" >2.00</td>\n",
              "                        <td id=\"T_e1fa1424_5279_11eb_b236_0242ac1c0002row13_col1\" class=\"data row13 col1\" >0.01</td>\n",
              "            </tr>\n",
              "            <tr>\n",
              "                        <th id=\"T_e1fa1424_5279_11eb_b236_0242ac1c0002level0_row14\" class=\"row_heading level0 row14\" >(0.628, 12.18]</th>\n",
              "                        <td id=\"T_e1fa1424_5279_11eb_b236_0242ac1c0002row14_col0\" class=\"data row14 col0\" >1.00</td>\n",
              "                        <td id=\"T_e1fa1424_5279_11eb_b236_0242ac1c0002row14_col1\" class=\"data row14 col1\" >0.01</td>\n",
              "            </tr>\n",
              "    </tbody></table>"
            ],
            "text/plain": [
              "<pandas.io.formats.style.Styler at 0x7fab2f75c748>"
            ]
          },
          "metadata": {
            "tags": []
          },
          "execution_count": 64
        }
      ]
    },
    {
      "cell_type": "code",
      "metadata": {
        "colab": {
          "base_uri": "https://localhost:8080/",
          "height": 334
        },
        "id": "G_1rVGyvMeIN",
        "outputId": "cc570980-1158-4f24-e26b-40408e73faf1"
      },
      "source": [
        "#Distribuição entre classes de Peso das meninas da amostra da base de dados\r\n",
        "tabela_frequencia_categoria(dados_meninas,'Classe_Peso')"
      ],
      "execution_count": 65,
      "outputs": [
        {
          "output_type": "execute_result",
          "data": {
            "text/html": [
              "<style  type=\"text/css\" >\n",
              "#T_e2002242_5279_11eb_b236_0242ac1c0002row0_col0,#T_e2002242_5279_11eb_b236_0242ac1c0002row0_col1{\n",
              "            background-color:  #67000d;\n",
              "            color:  #f1f1f1;\n",
              "        }#T_e2002242_5279_11eb_b236_0242ac1c0002row1_col0,#T_e2002242_5279_11eb_b236_0242ac1c0002row1_col1{\n",
              "            background-color:  #8a0812;\n",
              "            color:  #f1f1f1;\n",
              "        }#T_e2002242_5279_11eb_b236_0242ac1c0002row2_col0,#T_e2002242_5279_11eb_b236_0242ac1c0002row2_col1{\n",
              "            background-color:  #fc8b6b;\n",
              "            color:  #000000;\n",
              "        }#T_e2002242_5279_11eb_b236_0242ac1c0002row3_col0,#T_e2002242_5279_11eb_b236_0242ac1c0002row3_col1{\n",
              "            background-color:  #fc9777;\n",
              "            color:  #000000;\n",
              "        }#T_e2002242_5279_11eb_b236_0242ac1c0002row4_col0,#T_e2002242_5279_11eb_b236_0242ac1c0002row4_col1{\n",
              "            background-color:  #fdd7c6;\n",
              "            color:  #000000;\n",
              "        }#T_e2002242_5279_11eb_b236_0242ac1c0002row5_col0,#T_e2002242_5279_11eb_b236_0242ac1c0002row5_col1{\n",
              "            background-color:  #feeae1;\n",
              "            color:  #000000;\n",
              "        }#T_e2002242_5279_11eb_b236_0242ac1c0002row6_col0,#T_e2002242_5279_11eb_b236_0242ac1c0002row6_col1{\n",
              "            background-color:  #ffede5;\n",
              "            color:  #000000;\n",
              "        }#T_e2002242_5279_11eb_b236_0242ac1c0002row7_col0,#T_e2002242_5279_11eb_b236_0242ac1c0002row7_col1{\n",
              "            background-color:  #fff2eb;\n",
              "            color:  #000000;\n",
              "        }#T_e2002242_5279_11eb_b236_0242ac1c0002row8_col0,#T_e2002242_5279_11eb_b236_0242ac1c0002row8_col1{\n",
              "            background-color:  #fff4ee;\n",
              "            color:  #000000;\n",
              "        }#T_e2002242_5279_11eb_b236_0242ac1c0002row9_col0,#T_e2002242_5279_11eb_b236_0242ac1c0002row9_col1,#T_e2002242_5279_11eb_b236_0242ac1c0002row10_col0,#T_e2002242_5279_11eb_b236_0242ac1c0002row10_col1,#T_e2002242_5279_11eb_b236_0242ac1c0002row11_col0,#T_e2002242_5279_11eb_b236_0242ac1c0002row11_col1,#T_e2002242_5279_11eb_b236_0242ac1c0002row12_col0,#T_e2002242_5279_11eb_b236_0242ac1c0002row12_col1,#T_e2002242_5279_11eb_b236_0242ac1c0002row13_col0,#T_e2002242_5279_11eb_b236_0242ac1c0002row13_col1{\n",
              "            background-color:  #fff5f0;\n",
              "            color:  #000000;\n",
              "        }</style><table id=\"T_e2002242_5279_11eb_b236_0242ac1c0002\" ><thead>    <tr>        <th class=\"index_name level0\" >Atributos</th>        <th class=\"col_heading level0 col0\" >Distribuicao</th>        <th class=\"col_heading level0 col1\" >Frequencia (%)</th>    </tr></thead><tbody>\n",
              "                <tr>\n",
              "                        <th id=\"T_e2002242_5279_11eb_b236_0242ac1c0002level0_row0\" class=\"row_heading level0 row0\" >(40.514, 50.321]</th>\n",
              "                        <td id=\"T_e2002242_5279_11eb_b236_0242ac1c0002row0_col0\" class=\"data row0 col0\" >2,763.00</td>\n",
              "                        <td id=\"T_e2002242_5279_11eb_b236_0242ac1c0002row0_col1\" class=\"data row0 col1\" >33.41</td>\n",
              "            </tr>\n",
              "            <tr>\n",
              "                        <th id=\"T_e2002242_5279_11eb_b236_0242ac1c0002level0_row1\" class=\"row_heading level0 row1\" >(50.321, 60.129]</th>\n",
              "                        <td id=\"T_e2002242_5279_11eb_b236_0242ac1c0002row1_col0\" class=\"data row1 col0\" >2,565.00</td>\n",
              "                        <td id=\"T_e2002242_5279_11eb_b236_0242ac1c0002row1_col1\" class=\"data row1 col1\" >31.02</td>\n",
              "            </tr>\n",
              "            <tr>\n",
              "                        <th id=\"T_e2002242_5279_11eb_b236_0242ac1c0002level0_row2\" class=\"row_heading level0 row2\" >(60.129, 69.936]</th>\n",
              "                        <td id=\"T_e2002242_5279_11eb_b236_0242ac1c0002row2_col0\" class=\"data row2 col0\" >1,095.00</td>\n",
              "                        <td id=\"T_e2002242_5279_11eb_b236_0242ac1c0002row2_col1\" class=\"data row2 col1\" >13.24</td>\n",
              "            </tr>\n",
              "            <tr>\n",
              "                        <th id=\"T_e2002242_5279_11eb_b236_0242ac1c0002level0_row3\" class=\"row_heading level0 row3\" >(30.707, 40.514]</th>\n",
              "                        <td id=\"T_e2002242_5279_11eb_b236_0242ac1c0002row3_col0\" class=\"data row3 col0\" >993.00</td>\n",
              "                        <td id=\"T_e2002242_5279_11eb_b236_0242ac1c0002row3_col1\" class=\"data row3 col1\" >12.01</td>\n",
              "            </tr>\n",
              "            <tr>\n",
              "                        <th id=\"T_e2002242_5279_11eb_b236_0242ac1c0002level0_row4\" class=\"row_heading level0 row4\" >(69.936, 79.743]</th>\n",
              "                        <td id=\"T_e2002242_5279_11eb_b236_0242ac1c0002row4_col0\" class=\"data row4 col0\" >435.00</td>\n",
              "                        <td id=\"T_e2002242_5279_11eb_b236_0242ac1c0002row4_col1\" class=\"data row4 col1\" >5.26</td>\n",
              "            </tr>\n",
              "            <tr>\n",
              "                        <th id=\"T_e2002242_5279_11eb_b236_0242ac1c0002level0_row5\" class=\"row_heading level0 row5\" >(79.743, 89.55]</th>\n",
              "                        <td id=\"T_e2002242_5279_11eb_b236_0242ac1c0002row5_col0\" class=\"data row5 col0\" >173.00</td>\n",
              "                        <td id=\"T_e2002242_5279_11eb_b236_0242ac1c0002row5_col1\" class=\"data row5 col1\" >2.09</td>\n",
              "            </tr>\n",
              "            <tr>\n",
              "                        <th id=\"T_e2002242_5279_11eb_b236_0242ac1c0002level0_row6\" class=\"row_heading level0 row6\" >(20.762, 30.707]</th>\n",
              "                        <td id=\"T_e2002242_5279_11eb_b236_0242ac1c0002row6_col0\" class=\"data row6 col0\" >139.00</td>\n",
              "                        <td id=\"T_e2002242_5279_11eb_b236_0242ac1c0002row6_col1\" class=\"data row6 col1\" >1.68</td>\n",
              "            </tr>\n",
              "            <tr>\n",
              "                        <th id=\"T_e2002242_5279_11eb_b236_0242ac1c0002level0_row7\" class=\"row_heading level0 row7\" >(89.55, 99.357]</th>\n",
              "                        <td id=\"T_e2002242_5279_11eb_b236_0242ac1c0002row7_col0\" class=\"data row7 col0\" >64.00</td>\n",
              "                        <td id=\"T_e2002242_5279_11eb_b236_0242ac1c0002row7_col1\" class=\"data row7 col1\" >0.77</td>\n",
              "            </tr>\n",
              "            <tr>\n",
              "                        <th id=\"T_e2002242_5279_11eb_b236_0242ac1c0002level0_row8\" class=\"row_heading level0 row8\" >(99.357, 109.164]</th>\n",
              "                        <td id=\"T_e2002242_5279_11eb_b236_0242ac1c0002row8_col0\" class=\"data row8 col0\" >31.00</td>\n",
              "                        <td id=\"T_e2002242_5279_11eb_b236_0242ac1c0002row8_col1\" class=\"data row8 col1\" >0.37</td>\n",
              "            </tr>\n",
              "            <tr>\n",
              "                        <th id=\"T_e2002242_5279_11eb_b236_0242ac1c0002level0_row9\" class=\"row_heading level0 row9\" >(109.164, 118.971]</th>\n",
              "                        <td id=\"T_e2002242_5279_11eb_b236_0242ac1c0002row9_col0\" class=\"data row9 col0\" >6.00</td>\n",
              "                        <td id=\"T_e2002242_5279_11eb_b236_0242ac1c0002row9_col1\" class=\"data row9 col1\" >0.07</td>\n",
              "            </tr>\n",
              "            <tr>\n",
              "                        <th id=\"T_e2002242_5279_11eb_b236_0242ac1c0002level0_row10\" class=\"row_heading level0 row10\" >(118.971, 128.779]</th>\n",
              "                        <td id=\"T_e2002242_5279_11eb_b236_0242ac1c0002row10_col0\" class=\"data row10 col0\" >3.00</td>\n",
              "                        <td id=\"T_e2002242_5279_11eb_b236_0242ac1c0002row10_col1\" class=\"data row10 col1\" >0.04</td>\n",
              "            </tr>\n",
              "            <tr>\n",
              "                        <th id=\"T_e2002242_5279_11eb_b236_0242ac1c0002level0_row11\" class=\"row_heading level0 row11\" >(148.393, 158.2]</th>\n",
              "                        <td id=\"T_e2002242_5279_11eb_b236_0242ac1c0002row11_col0\" class=\"data row11 col0\" >1.00</td>\n",
              "                        <td id=\"T_e2002242_5279_11eb_b236_0242ac1c0002row11_col1\" class=\"data row11 col1\" >0.01</td>\n",
              "            </tr>\n",
              "            <tr>\n",
              "                        <th id=\"T_e2002242_5279_11eb_b236_0242ac1c0002level0_row12\" class=\"row_heading level0 row12\" >(128.779, 138.586]</th>\n",
              "                        <td id=\"T_e2002242_5279_11eb_b236_0242ac1c0002row12_col0\" class=\"data row12 col0\" >1.00</td>\n",
              "                        <td id=\"T_e2002242_5279_11eb_b236_0242ac1c0002row12_col1\" class=\"data row12 col1\" >0.01</td>\n",
              "            </tr>\n",
              "            <tr>\n",
              "                        <th id=\"T_e2002242_5279_11eb_b236_0242ac1c0002level0_row13\" class=\"row_heading level0 row13\" >(138.586, 148.393]</th>\n",
              "                        <td id=\"T_e2002242_5279_11eb_b236_0242ac1c0002row13_col0\" class=\"data row13 col0\" >0.00</td>\n",
              "                        <td id=\"T_e2002242_5279_11eb_b236_0242ac1c0002row13_col1\" class=\"data row13 col1\" >0.00</td>\n",
              "            </tr>\n",
              "    </tbody></table>"
            ],
            "text/plain": [
              "<pandas.io.formats.style.Styler at 0x7fab2f75c2e8>"
            ]
          },
          "metadata": {
            "tags": []
          },
          "execution_count": 65
        }
      ]
    },
    {
      "cell_type": "code",
      "metadata": {
        "colab": {
          "base_uri": "https://localhost:8080/",
          "height": 334
        },
        "id": "tIFGlrAtMjOo",
        "outputId": "1aec62c9-aa1c-4f1a-a791-7e5fbfce0255"
      },
      "source": [
        "#Distribuição entre classes de Peso das meninos da amostra da base de dados\r\n",
        "tabela_frequencia_categoria(dados_meninos,'Classe_Peso')"
      ],
      "execution_count": 68,
      "outputs": [
        {
          "output_type": "execute_result",
          "data": {
            "text/html": [
              "<style  type=\"text/css\" >\n",
              "#T_8b4b0984_527a_11eb_b236_0242ac1c0002row0_col0,#T_8b4b0984_527a_11eb_b236_0242ac1c0002row0_col1{\n",
              "            background-color:  #67000d;\n",
              "            color:  #f1f1f1;\n",
              "        }#T_8b4b0984_527a_11eb_b236_0242ac1c0002row1_col0,#T_8b4b0984_527a_11eb_b236_0242ac1c0002row1_col1{\n",
              "            background-color:  #d52221;\n",
              "            color:  #f1f1f1;\n",
              "        }#T_8b4b0984_527a_11eb_b236_0242ac1c0002row2_col0,#T_8b4b0984_527a_11eb_b236_0242ac1c0002row2_col1{\n",
              "            background-color:  #f14331;\n",
              "            color:  #f1f1f1;\n",
              "        }#T_8b4b0984_527a_11eb_b236_0242ac1c0002row3_col0,#T_8b4b0984_527a_11eb_b236_0242ac1c0002row3_col1{\n",
              "            background-color:  #fcae92;\n",
              "            color:  #000000;\n",
              "        }#T_8b4b0984_527a_11eb_b236_0242ac1c0002row4_col0{\n",
              "            background-color:  #fcc2aa;\n",
              "            color:  #000000;\n",
              "        }#T_8b4b0984_527a_11eb_b236_0242ac1c0002row4_col1{\n",
              "            background-color:  #fcc1a8;\n",
              "            color:  #000000;\n",
              "        }#T_8b4b0984_527a_11eb_b236_0242ac1c0002row5_col0,#T_8b4b0984_527a_11eb_b236_0242ac1c0002row5_col1{\n",
              "            background-color:  #fee7dc;\n",
              "            color:  #000000;\n",
              "        }#T_8b4b0984_527a_11eb_b236_0242ac1c0002row6_col0,#T_8b4b0984_527a_11eb_b236_0242ac1c0002row6_col1{\n",
              "            background-color:  #fff0e8;\n",
              "            color:  #000000;\n",
              "        }#T_8b4b0984_527a_11eb_b236_0242ac1c0002row7_col0,#T_8b4b0984_527a_11eb_b236_0242ac1c0002row7_col1{\n",
              "            background-color:  #fff4ee;\n",
              "            color:  #000000;\n",
              "        }#T_8b4b0984_527a_11eb_b236_0242ac1c0002row8_col0,#T_8b4b0984_527a_11eb_b236_0242ac1c0002row8_col1{\n",
              "            background-color:  #fff4ef;\n",
              "            color:  #000000;\n",
              "        }#T_8b4b0984_527a_11eb_b236_0242ac1c0002row9_col0,#T_8b4b0984_527a_11eb_b236_0242ac1c0002row9_col1,#T_8b4b0984_527a_11eb_b236_0242ac1c0002row10_col0,#T_8b4b0984_527a_11eb_b236_0242ac1c0002row10_col1,#T_8b4b0984_527a_11eb_b236_0242ac1c0002row11_col0,#T_8b4b0984_527a_11eb_b236_0242ac1c0002row11_col1,#T_8b4b0984_527a_11eb_b236_0242ac1c0002row12_col0,#T_8b4b0984_527a_11eb_b236_0242ac1c0002row12_col1,#T_8b4b0984_527a_11eb_b236_0242ac1c0002row13_col0,#T_8b4b0984_527a_11eb_b236_0242ac1c0002row13_col1{\n",
              "            background-color:  #fff5f0;\n",
              "            color:  #000000;\n",
              "        }</style><table id=\"T_8b4b0984_527a_11eb_b236_0242ac1c0002\" ><thead>    <tr>        <th class=\"index_name level0\" >Atributos</th>        <th class=\"col_heading level0 col0\" >Distribuicao</th>        <th class=\"col_heading level0 col1\" >Frequencia (%)</th>    </tr></thead><tbody>\n",
              "                <tr>\n",
              "                        <th id=\"T_8b4b0984_527a_11eb_b236_0242ac1c0002level0_row0\" class=\"row_heading level0 row0\" >(49.571, 61.764]</th>\n",
              "                        <td id=\"T_8b4b0984_527a_11eb_b236_0242ac1c0002row0_col0\" class=\"data row0 col0\" >2,783.00</td>\n",
              "                        <td id=\"T_8b4b0984_527a_11eb_b236_0242ac1c0002row0_col1\" class=\"data row0 col1\" >33.58</td>\n",
              "            </tr>\n",
              "            <tr>\n",
              "                        <th id=\"T_8b4b0984_527a_11eb_b236_0242ac1c0002level0_row1\" class=\"row_heading level0 row1\" >(37.379, 49.571]</th>\n",
              "                        <td id=\"T_8b4b0984_527a_11eb_b236_0242ac1c0002row1_col0\" class=\"data row1 col0\" >1,981.00</td>\n",
              "                        <td id=\"T_8b4b0984_527a_11eb_b236_0242ac1c0002row1_col1\" class=\"data row1 col1\" >23.90</td>\n",
              "            </tr>\n",
              "            <tr>\n",
              "                        <th id=\"T_8b4b0984_527a_11eb_b236_0242ac1c0002level0_row2\" class=\"row_heading level0 row2\" >(61.764, 73.957]</th>\n",
              "                        <td id=\"T_8b4b0984_527a_11eb_b236_0242ac1c0002row2_col0\" class=\"data row2 col0\" >1,679.00</td>\n",
              "                        <td id=\"T_8b4b0984_527a_11eb_b236_0242ac1c0002row2_col1\" class=\"data row2 col1\" >20.26</td>\n",
              "            </tr>\n",
              "            <tr>\n",
              "                        <th id=\"T_8b4b0984_527a_11eb_b236_0242ac1c0002level0_row3\" class=\"row_heading level0 row3\" >(25.186, 37.379]</th>\n",
              "                        <td id=\"T_8b4b0984_527a_11eb_b236_0242ac1c0002row3_col0\" class=\"data row3 col0\" >810.00</td>\n",
              "                        <td id=\"T_8b4b0984_527a_11eb_b236_0242ac1c0002row3_col1\" class=\"data row3 col1\" >9.77</td>\n",
              "            </tr>\n",
              "            <tr>\n",
              "                        <th id=\"T_8b4b0984_527a_11eb_b236_0242ac1c0002level0_row4\" class=\"row_heading level0 row4\" >(73.957, 86.15]</th>\n",
              "                        <td id=\"T_8b4b0984_527a_11eb_b236_0242ac1c0002row4_col0\" class=\"data row4 col0\" >642.00</td>\n",
              "                        <td id=\"T_8b4b0984_527a_11eb_b236_0242ac1c0002row4_col1\" class=\"data row4 col1\" >7.75</td>\n",
              "            </tr>\n",
              "            <tr>\n",
              "                        <th id=\"T_8b4b0984_527a_11eb_b236_0242ac1c0002level0_row5\" class=\"row_heading level0 row5\" >(86.15, 98.343]</th>\n",
              "                        <td id=\"T_8b4b0984_527a_11eb_b236_0242ac1c0002row5_col0\" class=\"data row5 col0\" >237.00</td>\n",
              "                        <td id=\"T_8b4b0984_527a_11eb_b236_0242ac1c0002row5_col1\" class=\"data row5 col1\" >2.86</td>\n",
              "            </tr>\n",
              "            <tr>\n",
              "                        <th id=\"T_8b4b0984_527a_11eb_b236_0242ac1c0002level0_row6\" class=\"row_heading level0 row6\" >(98.343, 110.536]</th>\n",
              "                        <td id=\"T_8b4b0984_527a_11eb_b236_0242ac1c0002row6_col0\" class=\"data row6 col0\" >91.00</td>\n",
              "                        <td id=\"T_8b4b0984_527a_11eb_b236_0242ac1c0002row6_col1\" class=\"data row6 col1\" >1.10</td>\n",
              "            </tr>\n",
              "            <tr>\n",
              "                        <th id=\"T_8b4b0984_527a_11eb_b236_0242ac1c0002level0_row7\" class=\"row_heading level0 row7\" >(110.536, 122.729]</th>\n",
              "                        <td id=\"T_8b4b0984_527a_11eb_b236_0242ac1c0002row7_col0\" class=\"data row7 col0\" >30.00</td>\n",
              "                        <td id=\"T_8b4b0984_527a_11eb_b236_0242ac1c0002row7_col1\" class=\"data row7 col1\" >0.36</td>\n",
              "            </tr>\n",
              "            <tr>\n",
              "                        <th id=\"T_8b4b0984_527a_11eb_b236_0242ac1c0002level0_row8\" class=\"row_heading level0 row8\" >(122.729, 134.921]</th>\n",
              "                        <td id=\"T_8b4b0984_527a_11eb_b236_0242ac1c0002row8_col0\" class=\"data row8 col0\" >14.00</td>\n",
              "                        <td id=\"T_8b4b0984_527a_11eb_b236_0242ac1c0002row8_col1\" class=\"data row8 col1\" >0.17</td>\n",
              "            </tr>\n",
              "            <tr>\n",
              "                        <th id=\"T_8b4b0984_527a_11eb_b236_0242ac1c0002level0_row9\" class=\"row_heading level0 row9\" >(134.921, 147.114]</th>\n",
              "                        <td id=\"T_8b4b0984_527a_11eb_b236_0242ac1c0002row9_col0\" class=\"data row9 col0\" >8.00</td>\n",
              "                        <td id=\"T_8b4b0984_527a_11eb_b236_0242ac1c0002row9_col1\" class=\"data row9 col1\" >0.10</td>\n",
              "            </tr>\n",
              "            <tr>\n",
              "                        <th id=\"T_8b4b0984_527a_11eb_b236_0242ac1c0002level0_row10\" class=\"row_heading level0 row10\" >(12.993, 25.186]</th>\n",
              "                        <td id=\"T_8b4b0984_527a_11eb_b236_0242ac1c0002row10_col0\" class=\"data row10 col0\" >5.00</td>\n",
              "                        <td id=\"T_8b4b0984_527a_11eb_b236_0242ac1c0002row10_col1\" class=\"data row10 col1\" >0.06</td>\n",
              "            </tr>\n",
              "            <tr>\n",
              "                        <th id=\"T_8b4b0984_527a_11eb_b236_0242ac1c0002level0_row11\" class=\"row_heading level0 row11\" >(147.114, 159.307]</th>\n",
              "                        <td id=\"T_8b4b0984_527a_11eb_b236_0242ac1c0002row11_col0\" class=\"data row11 col0\" >4.00</td>\n",
              "                        <td id=\"T_8b4b0984_527a_11eb_b236_0242ac1c0002row11_col1\" class=\"data row11 col1\" >0.05</td>\n",
              "            </tr>\n",
              "            <tr>\n",
              "                        <th id=\"T_8b4b0984_527a_11eb_b236_0242ac1c0002level0_row12\" class=\"row_heading level0 row12\" >(159.307, 171.5]</th>\n",
              "                        <td id=\"T_8b4b0984_527a_11eb_b236_0242ac1c0002row12_col0\" class=\"data row12 col0\" >2.00</td>\n",
              "                        <td id=\"T_8b4b0984_527a_11eb_b236_0242ac1c0002row12_col1\" class=\"data row12 col1\" >0.02</td>\n",
              "            </tr>\n",
              "            <tr>\n",
              "                        <th id=\"T_8b4b0984_527a_11eb_b236_0242ac1c0002level0_row13\" class=\"row_heading level0 row13\" >(0.628, 12.993]</th>\n",
              "                        <td id=\"T_8b4b0984_527a_11eb_b236_0242ac1c0002row13_col0\" class=\"data row13 col0\" >1.00</td>\n",
              "                        <td id=\"T_8b4b0984_527a_11eb_b236_0242ac1c0002row13_col1\" class=\"data row13 col1\" >0.01</td>\n",
              "            </tr>\n",
              "    </tbody></table>"
            ],
            "text/plain": [
              "<pandas.io.formats.style.Styler at 0x7fab2f733d30>"
            ]
          },
          "metadata": {
            "tags": []
          },
          "execution_count": 68
        }
      ]
    },
    {
      "cell_type": "markdown",
      "metadata": {
        "id": "aq_prf6-IsmN"
      },
      "source": [
        "Vemos abaixo que a maioria dos estudantes estão na normalidade do peso, cerca de 25% considerados desnutridos e cerca de 4% considerados obesos."
      ]
    },
    {
      "cell_type": "code",
      "metadata": {
        "colab": {
          "base_uri": "https://localhost:8080/",
          "height": 124
        },
        "id": "DQt5dY7eIkH3",
        "outputId": "5014b619-9070-4b66-f7a5-aefcdbfe5900"
      },
      "source": [
        "#Distribuição entre classes de IMC dos estudantes da amostra da base de dados\r\n",
        "tabela_frequencia_categoria(dados,'Classe_IMC')"
      ],
      "execution_count": 67,
      "outputs": [
        {
          "output_type": "execute_result",
          "data": {
            "text/html": [
              "<style  type=\"text/css\" >\n",
              "#T_e20a8dc2_5279_11eb_b236_0242ac1c0002row0_col0,#T_e20a8dc2_5279_11eb_b236_0242ac1c0002row0_col1{\n",
              "            background-color:  #67000d;\n",
              "            color:  #f1f1f1;\n",
              "        }#T_e20a8dc2_5279_11eb_b236_0242ac1c0002row1_col0,#T_e20a8dc2_5279_11eb_b236_0242ac1c0002row1_col1{\n",
              "            background-color:  #fc9777;\n",
              "            color:  #000000;\n",
              "        }#T_e20a8dc2_5279_11eb_b236_0242ac1c0002row2_col0,#T_e20a8dc2_5279_11eb_b236_0242ac1c0002row2_col1{\n",
              "            background-color:  #fee1d4;\n",
              "            color:  #000000;\n",
              "        }#T_e20a8dc2_5279_11eb_b236_0242ac1c0002row3_col0,#T_e20a8dc2_5279_11eb_b236_0242ac1c0002row3_col1{\n",
              "            background-color:  #fff5f0;\n",
              "            color:  #000000;\n",
              "        }</style><table id=\"T_e20a8dc2_5279_11eb_b236_0242ac1c0002\" ><thead>    <tr>        <th class=\"index_name level0\" >Atributos</th>        <th class=\"col_heading level0 col0\" >Distribuicao</th>        <th class=\"col_heading level0 col1\" >Frequencia (%)</th>    </tr></thead><tbody>\n",
              "                <tr>\n",
              "                        <th id=\"T_e20a8dc2_5279_11eb_b236_0242ac1c0002level0_row0\" class=\"row_heading level0 row0\" >Normal</th>\n",
              "                        <td id=\"T_e20a8dc2_5279_11eb_b236_0242ac1c0002row0_col0\" class=\"data row0 col0\" >10,101.00</td>\n",
              "                        <td id=\"T_e20a8dc2_5279_11eb_b236_0242ac1c0002row0_col1\" class=\"data row0 col1\" >61.01</td>\n",
              "            </tr>\n",
              "            <tr>\n",
              "                        <th id=\"T_e20a8dc2_5279_11eb_b236_0242ac1c0002level0_row1\" class=\"row_heading level0 row1\" >Desnutrido</th>\n",
              "                        <td id=\"T_e20a8dc2_5279_11eb_b236_0242ac1c0002row1_col0\" class=\"data row1 col0\" >4,069.00</td>\n",
              "                        <td id=\"T_e20a8dc2_5279_11eb_b236_0242ac1c0002row1_col1\" class=\"data row1 col1\" >24.58</td>\n",
              "            </tr>\n",
              "            <tr>\n",
              "                        <th id=\"T_e20a8dc2_5279_11eb_b236_0242ac1c0002level0_row2\" class=\"row_heading level0 row2\" >Sobrepeso</th>\n",
              "                        <td id=\"T_e20a8dc2_5279_11eb_b236_0242ac1c0002row2_col0\" class=\"data row2 col0\" >1,751.00</td>\n",
              "                        <td id=\"T_e20a8dc2_5279_11eb_b236_0242ac1c0002row2_col1\" class=\"data row2 col1\" >10.58</td>\n",
              "            </tr>\n",
              "            <tr>\n",
              "                        <th id=\"T_e20a8dc2_5279_11eb_b236_0242ac1c0002level0_row3\" class=\"row_heading level0 row3\" >Obesidade</th>\n",
              "                        <td id=\"T_e20a8dc2_5279_11eb_b236_0242ac1c0002row3_col0\" class=\"data row3 col0\" >635.00</td>\n",
              "                        <td id=\"T_e20a8dc2_5279_11eb_b236_0242ac1c0002row3_col1\" class=\"data row3 col1\" >3.84</td>\n",
              "            </tr>\n",
              "    </tbody></table>"
            ],
            "text/plain": [
              "<pandas.io.formats.style.Styler at 0x7fab2f96cac8>"
            ]
          },
          "metadata": {
            "tags": []
          },
          "execution_count": 67
        }
      ]
    },
    {
      "cell_type": "markdown",
      "metadata": {
        "id": "tQZ--PTGYfSj"
      },
      "source": [
        "## Análises"
      ]
    },
    {
      "cell_type": "markdown",
      "metadata": {
        "id": "_tVEZWsaYjnE"
      },
      "source": [
        "###### **1) Os adolescentes brasileiros estão satisfeitos com seus corpos?**"
      ]
    },
    {
      "cell_type": "code",
      "metadata": {
        "colab": {
          "base_uri": "https://localhost:8080/",
          "height": 187
        },
        "id": "Up0xrl9uVZTU",
        "outputId": "d3995973-f9bc-4b52-9bdf-e86d32d119a5"
      },
      "source": [
        "#Satisfação com o próprio corpo (meninos x meninas) - Quantidade\r\n",
        "Satiscacao_Corpo = pd.crosstab(dados['Satisfacao_Corpo'], dados['Sexo'])\r\n",
        "Satiscacao_Corpo.style.background_gradient(axis = 0, cmap = 'Reds')"
      ],
      "execution_count": 70,
      "outputs": [
        {
          "output_type": "execute_result",
          "data": {
            "text/html": [
              "<style  type=\"text/css\" >\n",
              "#T_16db6062_527f_11eb_b236_0242ac1c0002row0_col0{\n",
              "            background-color:  #fcbfa7;\n",
              "            color:  #000000;\n",
              "        }#T_16db6062_527f_11eb_b236_0242ac1c0002row0_col1{\n",
              "            background-color:  #fcbca2;\n",
              "            color:  #000000;\n",
              "        }#T_16db6062_527f_11eb_b236_0242ac1c0002row1_col0{\n",
              "            background-color:  #fb7d5d;\n",
              "            color:  #000000;\n",
              "        }#T_16db6062_527f_11eb_b236_0242ac1c0002row1_col1{\n",
              "            background-color:  #fdcbb6;\n",
              "            color:  #000000;\n",
              "        }#T_16db6062_527f_11eb_b236_0242ac1c0002row2_col0{\n",
              "            background-color:  #fee2d5;\n",
              "            color:  #000000;\n",
              "        }#T_16db6062_527f_11eb_b236_0242ac1c0002row2_col1{\n",
              "            background-color:  #ffeee7;\n",
              "            color:  #000000;\n",
              "        }#T_16db6062_527f_11eb_b236_0242ac1c0002row3_col0{\n",
              "            background-color:  #f6563d;\n",
              "            color:  #000000;\n",
              "        }#T_16db6062_527f_11eb_b236_0242ac1c0002row3_col1{\n",
              "            background-color:  #c8171c;\n",
              "            color:  #f1f1f1;\n",
              "        }#T_16db6062_527f_11eb_b236_0242ac1c0002row4_col0,#T_16db6062_527f_11eb_b236_0242ac1c0002row4_col1{\n",
              "            background-color:  #fff5f0;\n",
              "            color:  #000000;\n",
              "        }#T_16db6062_527f_11eb_b236_0242ac1c0002row5_col0,#T_16db6062_527f_11eb_b236_0242ac1c0002row5_col1{\n",
              "            background-color:  #67000d;\n",
              "            color:  #f1f1f1;\n",
              "        }</style><table id=\"T_16db6062_527f_11eb_b236_0242ac1c0002\" ><thead>    <tr>        <th class=\"index_name level0\" >Sexo</th>        <th class=\"col_heading level0 col0\" >Feminino</th>        <th class=\"col_heading level0 col1\" >Masculino</th>    </tr>    <tr>        <th class=\"index_name level0\" >Satisfacao_Corpo</th>        <th class=\"blank\" ></th>        <th class=\"blank\" ></th>    </tr></thead><tbody>\n",
              "                <tr>\n",
              "                        <th id=\"T_16db6062_527f_11eb_b236_0242ac1c0002level0_row0\" class=\"row_heading level0 row0\" >Indiferente</th>\n",
              "                        <td id=\"T_16db6062_527f_11eb_b236_0242ac1c0002row0_col0\" class=\"data row0 col0\" >857</td>\n",
              "                        <td id=\"T_16db6062_527f_11eb_b236_0242ac1c0002row0_col1\" class=\"data row0 col1\" >950</td>\n",
              "            </tr>\n",
              "            <tr>\n",
              "                        <th id=\"T_16db6062_527f_11eb_b236_0242ac1c0002level0_row1\" class=\"row_heading level0 row1\" >Insatisfeito(a)</th>\n",
              "                        <td id=\"T_16db6062_527f_11eb_b236_0242ac1c0002row1_col0\" class=\"data row1 col0\" >1540</td>\n",
              "                        <td id=\"T_16db6062_527f_11eb_b236_0242ac1c0002row1_col1\" class=\"data row1 col1\" >786</td>\n",
              "            </tr>\n",
              "            <tr>\n",
              "                        <th id=\"T_16db6062_527f_11eb_b236_0242ac1c0002level0_row2\" class=\"row_heading level0 row2\" >Muito insatisfeito(a)</th>\n",
              "                        <td id=\"T_16db6062_527f_11eb_b236_0242ac1c0002row2_col0\" class=\"data row2 col0\" >454</td>\n",
              "                        <td id=\"T_16db6062_527f_11eb_b236_0242ac1c0002row2_col1\" class=\"data row2 col1\" >260</td>\n",
              "            </tr>\n",
              "            <tr>\n",
              "                        <th id=\"T_16db6062_527f_11eb_b236_0242ac1c0002level0_row3\" class=\"row_heading level0 row3\" >Muito satisfeito(a)</th>\n",
              "                        <td id=\"T_16db6062_527f_11eb_b236_0242ac1c0002row3_col0\" class=\"data row3 col0\" >1926</td>\n",
              "                        <td id=\"T_16db6062_527f_11eb_b236_0242ac1c0002row3_col1\" class=\"data row3 col1\" >2682</td>\n",
              "            </tr>\n",
              "            <tr>\n",
              "                        <th id=\"T_16db6062_527f_11eb_b236_0242ac1c0002level0_row4\" class=\"row_heading level0 row4\" >Não informado</th>\n",
              "                        <td id=\"T_16db6062_527f_11eb_b236_0242ac1c0002row4_col0\" class=\"data row4 col0\" >62</td>\n",
              "                        <td id=\"T_16db6062_527f_11eb_b236_0242ac1c0002row4_col1\" class=\"data row4 col1\" >119</td>\n",
              "            </tr>\n",
              "            <tr>\n",
              "                        <th id=\"T_16db6062_527f_11eb_b236_0242ac1c0002level0_row5\" class=\"row_heading level0 row5\" >Satisfeito(a)</th>\n",
              "                        <td id=\"T_16db6062_527f_11eb_b236_0242ac1c0002row5_col0\" class=\"data row5 col0\" >3430</td>\n",
              "                        <td id=\"T_16db6062_527f_11eb_b236_0242ac1c0002row5_col1\" class=\"data row5 col1\" >3490</td>\n",
              "            </tr>\n",
              "    </tbody></table>"
            ],
            "text/plain": [
              "<pandas.io.formats.style.Styler at 0x7fab2f776780>"
            ]
          },
          "metadata": {
            "tags": []
          },
          "execution_count": 70
        }
      ]
    },
    {
      "cell_type": "code",
      "metadata": {
        "colab": {
          "base_uri": "https://localhost:8080/",
          "height": 187
        },
        "id": "82fyaZpyV3mA",
        "outputId": "45296353-0473-4fb5-e273-730e78cb2a7b"
      },
      "source": [
        "#Satisfação com o próprio corpo (meninos x meninas) - Porcentagem Geral\r\n",
        "Satiscacao_Corpo_porcGeral = pd.crosstab(dados['Satisfacao_Corpo'], dados['Sexo'], normalize = True) * 100\r\n",
        "Satiscacao_Corpo_porcGeral.style.format(\"{:,.2f}\").background_gradient(axis = 0, cmap = 'Reds')"
      ],
      "execution_count": 71,
      "outputs": [
        {
          "output_type": "execute_result",
          "data": {
            "text/html": [
              "<style  type=\"text/css\" >\n",
              "#T_25e2d19e_527f_11eb_b236_0242ac1c0002row0_col0{\n",
              "            background-color:  #fcbfa7;\n",
              "            color:  #000000;\n",
              "        }#T_25e2d19e_527f_11eb_b236_0242ac1c0002row0_col1{\n",
              "            background-color:  #fcbca2;\n",
              "            color:  #000000;\n",
              "        }#T_25e2d19e_527f_11eb_b236_0242ac1c0002row1_col0{\n",
              "            background-color:  #fb7d5d;\n",
              "            color:  #000000;\n",
              "        }#T_25e2d19e_527f_11eb_b236_0242ac1c0002row1_col1{\n",
              "            background-color:  #fdcbb6;\n",
              "            color:  #000000;\n",
              "        }#T_25e2d19e_527f_11eb_b236_0242ac1c0002row2_col0{\n",
              "            background-color:  #fee2d5;\n",
              "            color:  #000000;\n",
              "        }#T_25e2d19e_527f_11eb_b236_0242ac1c0002row2_col1{\n",
              "            background-color:  #ffeee7;\n",
              "            color:  #000000;\n",
              "        }#T_25e2d19e_527f_11eb_b236_0242ac1c0002row3_col0{\n",
              "            background-color:  #f6563d;\n",
              "            color:  #000000;\n",
              "        }#T_25e2d19e_527f_11eb_b236_0242ac1c0002row3_col1{\n",
              "            background-color:  #c8171c;\n",
              "            color:  #f1f1f1;\n",
              "        }#T_25e2d19e_527f_11eb_b236_0242ac1c0002row4_col0,#T_25e2d19e_527f_11eb_b236_0242ac1c0002row4_col1{\n",
              "            background-color:  #fff5f0;\n",
              "            color:  #000000;\n",
              "        }#T_25e2d19e_527f_11eb_b236_0242ac1c0002row5_col0,#T_25e2d19e_527f_11eb_b236_0242ac1c0002row5_col1{\n",
              "            background-color:  #67000d;\n",
              "            color:  #f1f1f1;\n",
              "        }</style><table id=\"T_25e2d19e_527f_11eb_b236_0242ac1c0002\" ><thead>    <tr>        <th class=\"index_name level0\" >Sexo</th>        <th class=\"col_heading level0 col0\" >Feminino</th>        <th class=\"col_heading level0 col1\" >Masculino</th>    </tr>    <tr>        <th class=\"index_name level0\" >Satisfacao_Corpo</th>        <th class=\"blank\" ></th>        <th class=\"blank\" ></th>    </tr></thead><tbody>\n",
              "                <tr>\n",
              "                        <th id=\"T_25e2d19e_527f_11eb_b236_0242ac1c0002level0_row0\" class=\"row_heading level0 row0\" >Indiferente</th>\n",
              "                        <td id=\"T_25e2d19e_527f_11eb_b236_0242ac1c0002row0_col0\" class=\"data row0 col0\" >5.18</td>\n",
              "                        <td id=\"T_25e2d19e_527f_11eb_b236_0242ac1c0002row0_col1\" class=\"data row0 col1\" >5.74</td>\n",
              "            </tr>\n",
              "            <tr>\n",
              "                        <th id=\"T_25e2d19e_527f_11eb_b236_0242ac1c0002level0_row1\" class=\"row_heading level0 row1\" >Insatisfeito(a)</th>\n",
              "                        <td id=\"T_25e2d19e_527f_11eb_b236_0242ac1c0002row1_col0\" class=\"data row1 col0\" >9.30</td>\n",
              "                        <td id=\"T_25e2d19e_527f_11eb_b236_0242ac1c0002row1_col1\" class=\"data row1 col1\" >4.75</td>\n",
              "            </tr>\n",
              "            <tr>\n",
              "                        <th id=\"T_25e2d19e_527f_11eb_b236_0242ac1c0002level0_row2\" class=\"row_heading level0 row2\" >Muito insatisfeito(a)</th>\n",
              "                        <td id=\"T_25e2d19e_527f_11eb_b236_0242ac1c0002row2_col0\" class=\"data row2 col0\" >2.74</td>\n",
              "                        <td id=\"T_25e2d19e_527f_11eb_b236_0242ac1c0002row2_col1\" class=\"data row2 col1\" >1.57</td>\n",
              "            </tr>\n",
              "            <tr>\n",
              "                        <th id=\"T_25e2d19e_527f_11eb_b236_0242ac1c0002level0_row3\" class=\"row_heading level0 row3\" >Muito satisfeito(a)</th>\n",
              "                        <td id=\"T_25e2d19e_527f_11eb_b236_0242ac1c0002row3_col0\" class=\"data row3 col0\" >11.63</td>\n",
              "                        <td id=\"T_25e2d19e_527f_11eb_b236_0242ac1c0002row3_col1\" class=\"data row3 col1\" >16.20</td>\n",
              "            </tr>\n",
              "            <tr>\n",
              "                        <th id=\"T_25e2d19e_527f_11eb_b236_0242ac1c0002level0_row4\" class=\"row_heading level0 row4\" >Não informado</th>\n",
              "                        <td id=\"T_25e2d19e_527f_11eb_b236_0242ac1c0002row4_col0\" class=\"data row4 col0\" >0.37</td>\n",
              "                        <td id=\"T_25e2d19e_527f_11eb_b236_0242ac1c0002row4_col1\" class=\"data row4 col1\" >0.72</td>\n",
              "            </tr>\n",
              "            <tr>\n",
              "                        <th id=\"T_25e2d19e_527f_11eb_b236_0242ac1c0002level0_row5\" class=\"row_heading level0 row5\" >Satisfeito(a)</th>\n",
              "                        <td id=\"T_25e2d19e_527f_11eb_b236_0242ac1c0002row5_col0\" class=\"data row5 col0\" >20.72</td>\n",
              "                        <td id=\"T_25e2d19e_527f_11eb_b236_0242ac1c0002row5_col1\" class=\"data row5 col1\" >21.08</td>\n",
              "            </tr>\n",
              "    </tbody></table>"
            ],
            "text/plain": [
              "<pandas.io.formats.style.Styler at 0x7fab2f743b00>"
            ]
          },
          "metadata": {
            "tags": []
          },
          "execution_count": 71
        }
      ]
    },
    {
      "cell_type": "markdown",
      "metadata": {
        "id": "g4z5roZvV8vG"
      },
      "source": [
        "Como podemos notar acima, no geral, por volta de 70% dos entrevistados estão Satisfeitos ou Muito Satisfeitos com seus corpos.\r\n",
        "\r\n",
        "Abaixo podemos ver a divisão do nível de satisfação do corpo entre os sexos. Podemos notar que entre os Insatisfeitos e Muito Insatisfeitos, no geral, as meninas são mais dua vezes mais insatisfeitas com seus corpos em relação aos meninos."
      ]
    },
    {
      "cell_type": "code",
      "metadata": {
        "colab": {
          "base_uri": "https://localhost:8080/",
          "height": 187
        },
        "id": "Hvzlx_6YWLqv",
        "outputId": "f7150239-c1bb-4278-a823-6d120f0c254c"
      },
      "source": [
        "#Satisfação com o próprio corpo (meninos x meninas) - Porcentagem por Gênero\r\n",
        "Satiscacao_Corpo_porcGenero = pd.crosstab(dados['Satisfacao_Corpo'], dados['Sexo'], normalize = 'columns') * 100\r\n",
        "Satiscacao_Corpo_porcGenero.style.format(\"{:,.2f}\").background_gradient(axis = 0, cmap = 'Reds')"
      ],
      "execution_count": 72,
      "outputs": [
        {
          "output_type": "execute_result",
          "data": {
            "text/html": [
              "<style  type=\"text/css\" >\n",
              "#T_5b4e42be_527f_11eb_b236_0242ac1c0002row0_col0{\n",
              "            background-color:  #fcbfa7;\n",
              "            color:  #000000;\n",
              "        }#T_5b4e42be_527f_11eb_b236_0242ac1c0002row0_col1{\n",
              "            background-color:  #fcbca2;\n",
              "            color:  #000000;\n",
              "        }#T_5b4e42be_527f_11eb_b236_0242ac1c0002row1_col0{\n",
              "            background-color:  #fb7d5d;\n",
              "            color:  #000000;\n",
              "        }#T_5b4e42be_527f_11eb_b236_0242ac1c0002row1_col1{\n",
              "            background-color:  #fdcbb6;\n",
              "            color:  #000000;\n",
              "        }#T_5b4e42be_527f_11eb_b236_0242ac1c0002row2_col0{\n",
              "            background-color:  #fee2d5;\n",
              "            color:  #000000;\n",
              "        }#T_5b4e42be_527f_11eb_b236_0242ac1c0002row2_col1{\n",
              "            background-color:  #ffeee7;\n",
              "            color:  #000000;\n",
              "        }#T_5b4e42be_527f_11eb_b236_0242ac1c0002row3_col0{\n",
              "            background-color:  #f6563d;\n",
              "            color:  #000000;\n",
              "        }#T_5b4e42be_527f_11eb_b236_0242ac1c0002row3_col1{\n",
              "            background-color:  #c8171c;\n",
              "            color:  #f1f1f1;\n",
              "        }#T_5b4e42be_527f_11eb_b236_0242ac1c0002row4_col0,#T_5b4e42be_527f_11eb_b236_0242ac1c0002row4_col1{\n",
              "            background-color:  #fff5f0;\n",
              "            color:  #000000;\n",
              "        }#T_5b4e42be_527f_11eb_b236_0242ac1c0002row5_col0,#T_5b4e42be_527f_11eb_b236_0242ac1c0002row5_col1{\n",
              "            background-color:  #67000d;\n",
              "            color:  #f1f1f1;\n",
              "        }</style><table id=\"T_5b4e42be_527f_11eb_b236_0242ac1c0002\" ><thead>    <tr>        <th class=\"index_name level0\" >Sexo</th>        <th class=\"col_heading level0 col0\" >Feminino</th>        <th class=\"col_heading level0 col1\" >Masculino</th>    </tr>    <tr>        <th class=\"index_name level0\" >Satisfacao_Corpo</th>        <th class=\"blank\" ></th>        <th class=\"blank\" ></th>    </tr></thead><tbody>\n",
              "                <tr>\n",
              "                        <th id=\"T_5b4e42be_527f_11eb_b236_0242ac1c0002level0_row0\" class=\"row_heading level0 row0\" >Indiferente</th>\n",
              "                        <td id=\"T_5b4e42be_527f_11eb_b236_0242ac1c0002row0_col0\" class=\"data row0 col0\" >10.36</td>\n",
              "                        <td id=\"T_5b4e42be_527f_11eb_b236_0242ac1c0002row0_col1\" class=\"data row0 col1\" >11.46</td>\n",
              "            </tr>\n",
              "            <tr>\n",
              "                        <th id=\"T_5b4e42be_527f_11eb_b236_0242ac1c0002level0_row1\" class=\"row_heading level0 row1\" >Insatisfeito(a)</th>\n",
              "                        <td id=\"T_5b4e42be_527f_11eb_b236_0242ac1c0002row1_col0\" class=\"data row1 col0\" >18.62</td>\n",
              "                        <td id=\"T_5b4e42be_527f_11eb_b236_0242ac1c0002row1_col1\" class=\"data row1 col1\" >9.48</td>\n",
              "            </tr>\n",
              "            <tr>\n",
              "                        <th id=\"T_5b4e42be_527f_11eb_b236_0242ac1c0002level0_row2\" class=\"row_heading level0 row2\" >Muito insatisfeito(a)</th>\n",
              "                        <td id=\"T_5b4e42be_527f_11eb_b236_0242ac1c0002row2_col0\" class=\"data row2 col0\" >5.49</td>\n",
              "                        <td id=\"T_5b4e42be_527f_11eb_b236_0242ac1c0002row2_col1\" class=\"data row2 col1\" >3.14</td>\n",
              "            </tr>\n",
              "            <tr>\n",
              "                        <th id=\"T_5b4e42be_527f_11eb_b236_0242ac1c0002level0_row3\" class=\"row_heading level0 row3\" >Muito satisfeito(a)</th>\n",
              "                        <td id=\"T_5b4e42be_527f_11eb_b236_0242ac1c0002row3_col0\" class=\"data row3 col0\" >23.29</td>\n",
              "                        <td id=\"T_5b4e42be_527f_11eb_b236_0242ac1c0002row3_col1\" class=\"data row3 col1\" >32.36</td>\n",
              "            </tr>\n",
              "            <tr>\n",
              "                        <th id=\"T_5b4e42be_527f_11eb_b236_0242ac1c0002level0_row4\" class=\"row_heading level0 row4\" >Não informado</th>\n",
              "                        <td id=\"T_5b4e42be_527f_11eb_b236_0242ac1c0002row4_col0\" class=\"data row4 col0\" >0.75</td>\n",
              "                        <td id=\"T_5b4e42be_527f_11eb_b236_0242ac1c0002row4_col1\" class=\"data row4 col1\" >1.44</td>\n",
              "            </tr>\n",
              "            <tr>\n",
              "                        <th id=\"T_5b4e42be_527f_11eb_b236_0242ac1c0002level0_row5\" class=\"row_heading level0 row5\" >Satisfeito(a)</th>\n",
              "                        <td id=\"T_5b4e42be_527f_11eb_b236_0242ac1c0002row5_col0\" class=\"data row5 col0\" >41.48</td>\n",
              "                        <td id=\"T_5b4e42be_527f_11eb_b236_0242ac1c0002row5_col1\" class=\"data row5 col1\" >42.11</td>\n",
              "            </tr>\n",
              "    </tbody></table>"
            ],
            "text/plain": [
              "<pandas.io.formats.style.Styler at 0x7fab2f743630>"
            ]
          },
          "metadata": {
            "tags": []
          },
          "execution_count": 72
        }
      ]
    },
    {
      "cell_type": "markdown",
      "metadata": {
        "id": "VroICDFxW2Ey"
      },
      "source": [
        "**Conclusão:** Em 2015, por volta de 70% dos estudantes da amostra estão Satisfeitos com seus corpos. Entretanto, quando tratamos da insatisfação, as meninas são duas vezes mais insatisfeitas em relação ao seu corpo. Esta questão deve gerar uma reflexão sobre as ações de marketing e pressão social aplicada nas meninas para seguirem os 'padrões de beleza' estabelecidos na sociedade e suas implicações no psicológico das pessoas, principalmente nas meninas."
      ]
    },
    {
      "cell_type": "markdown",
      "metadata": {
        "id": "aQA8hfIQYp_T"
      },
      "source": [
        "###### **2) Há uma alta frequência de bullying nas escolas?**"
      ]
    },
    {
      "cell_type": "code",
      "metadata": {
        "colab": {
          "base_uri": "https://localhost:8080/",
          "height": 124
        },
        "id": "wiSREmR6Xjrh",
        "outputId": "811d8a2f-7368-4783-974b-b161ecb8cc64"
      },
      "source": [
        "#Distribuição das respostas sobre a pergunta \"Você já sofreu bullying?\"\r\n",
        "tabela_frequencia_categoria(dados,'Ja_Sofreu_Bullying')"
      ],
      "execution_count": 73,
      "outputs": [
        {
          "output_type": "execute_result",
          "data": {
            "text/html": [
              "<style  type=\"text/css\" >\n",
              "#T_44b5f0a0_5280_11eb_b236_0242ac1c0002row0_col0,#T_44b5f0a0_5280_11eb_b236_0242ac1c0002row0_col1{\n",
              "            background-color:  #67000d;\n",
              "            color:  #f1f1f1;\n",
              "        }#T_44b5f0a0_5280_11eb_b236_0242ac1c0002row1_col0,#T_44b5f0a0_5280_11eb_b236_0242ac1c0002row1_col1{\n",
              "            background-color:  #9d0d14;\n",
              "            color:  #f1f1f1;\n",
              "        }#T_44b5f0a0_5280_11eb_b236_0242ac1c0002row2_col0,#T_44b5f0a0_5280_11eb_b236_0242ac1c0002row2_col1{\n",
              "            background-color:  #ffeee7;\n",
              "            color:  #000000;\n",
              "        }#T_44b5f0a0_5280_11eb_b236_0242ac1c0002row3_col0,#T_44b5f0a0_5280_11eb_b236_0242ac1c0002row3_col1{\n",
              "            background-color:  #fff5f0;\n",
              "            color:  #000000;\n",
              "        }</style><table id=\"T_44b5f0a0_5280_11eb_b236_0242ac1c0002\" ><thead>    <tr>        <th class=\"index_name level0\" >Atributos</th>        <th class=\"col_heading level0 col0\" >Distribuicao</th>        <th class=\"col_heading level0 col1\" >Frequencia (%)</th>    </tr></thead><tbody>\n",
              "                <tr>\n",
              "                        <th id=\"T_44b5f0a0_5280_11eb_b236_0242ac1c0002level0_row0\" class=\"row_heading level0 row0\" >Não</th>\n",
              "                        <td id=\"T_44b5f0a0_5280_11eb_b236_0242ac1c0002row0_col0\" class=\"data row0 col0\" >8,533.00</td>\n",
              "                        <td id=\"T_44b5f0a0_5280_11eb_b236_0242ac1c0002row0_col1\" class=\"data row0 col1\" >51.54</td>\n",
              "            </tr>\n",
              "            <tr>\n",
              "                        <th id=\"T_44b5f0a0_5280_11eb_b236_0242ac1c0002level0_row1\" class=\"row_heading level0 row1\" >Sim</th>\n",
              "                        <td id=\"T_44b5f0a0_5280_11eb_b236_0242ac1c0002row1_col0\" class=\"data row1 col0\" >7,584.00</td>\n",
              "                        <td id=\"T_44b5f0a0_5280_11eb_b236_0242ac1c0002row1_col1\" class=\"data row1 col1\" >45.81</td>\n",
              "            </tr>\n",
              "            <tr>\n",
              "                        <th id=\"T_44b5f0a0_5280_11eb_b236_0242ac1c0002level0_row2\" class=\"row_heading level0 row2\" >Não sei o que é bullying</th>\n",
              "                        <td id=\"T_44b5f0a0_5280_11eb_b236_0242ac1c0002row2_col0\" class=\"data row2 col0\" >387.00</td>\n",
              "                        <td id=\"T_44b5f0a0_5280_11eb_b236_0242ac1c0002row2_col1\" class=\"data row2 col1\" >2.34</td>\n",
              "            </tr>\n",
              "            <tr>\n",
              "                        <th id=\"T_44b5f0a0_5280_11eb_b236_0242ac1c0002level0_row3\" class=\"row_heading level0 row3\" >Não informado</th>\n",
              "                        <td id=\"T_44b5f0a0_5280_11eb_b236_0242ac1c0002row3_col0\" class=\"data row3 col0\" >52.00</td>\n",
              "                        <td id=\"T_44b5f0a0_5280_11eb_b236_0242ac1c0002row3_col1\" class=\"data row3 col1\" >0.31</td>\n",
              "            </tr>\n",
              "    </tbody></table>"
            ],
            "text/plain": [
              "<pandas.io.formats.style.Styler at 0x7fab300382e8>"
            ]
          },
          "metadata": {
            "tags": []
          },
          "execution_count": 73
        }
      ]
    },
    {
      "cell_type": "code",
      "metadata": {
        "colab": {
          "base_uri": "https://localhost:8080/",
          "height": 166
        },
        "id": "_J1oP4W0X7-R",
        "outputId": "96f94668-d133-4e70-f7aa-c8ec80ce9789"
      },
      "source": [
        "#Distribuição das respostas sobre a pergunta \"Qual frequência você sofre bullying?\"\r\n",
        "tabela_frequencia_categoria(dados,'Frequencia_Bullying')"
      ],
      "execution_count": 74,
      "outputs": [
        {
          "output_type": "execute_result",
          "data": {
            "text/html": [
              "<style  type=\"text/css\" >\n",
              "#T_73101e44_5280_11eb_b236_0242ac1c0002row0_col0,#T_73101e44_5280_11eb_b236_0242ac1c0002row0_col1{\n",
              "            background-color:  #67000d;\n",
              "            color:  #f1f1f1;\n",
              "        }#T_73101e44_5280_11eb_b236_0242ac1c0002row1_col0,#T_73101e44_5280_11eb_b236_0242ac1c0002row1_col1{\n",
              "            background-color:  #fc9070;\n",
              "            color:  #000000;\n",
              "        }#T_73101e44_5280_11eb_b236_0242ac1c0002row2_col0,#T_73101e44_5280_11eb_b236_0242ac1c0002row2_col1{\n",
              "            background-color:  #fcb499;\n",
              "            color:  #000000;\n",
              "        }#T_73101e44_5280_11eb_b236_0242ac1c0002row3_col0,#T_73101e44_5280_11eb_b236_0242ac1c0002row3_col1{\n",
              "            background-color:  #feeae1;\n",
              "            color:  #000000;\n",
              "        }#T_73101e44_5280_11eb_b236_0242ac1c0002row4_col0,#T_73101e44_5280_11eb_b236_0242ac1c0002row4_col1{\n",
              "            background-color:  #ffede5;\n",
              "            color:  #000000;\n",
              "        }#T_73101e44_5280_11eb_b236_0242ac1c0002row5_col0,#T_73101e44_5280_11eb_b236_0242ac1c0002row5_col1{\n",
              "            background-color:  #fff5f0;\n",
              "            color:  #000000;\n",
              "        }</style><table id=\"T_73101e44_5280_11eb_b236_0242ac1c0002\" ><thead>    <tr>        <th class=\"index_name level0\" >Atributos</th>        <th class=\"col_heading level0 col0\" >Distribuicao</th>        <th class=\"col_heading level0 col1\" >Frequencia (%)</th>    </tr></thead><tbody>\n",
              "                <tr>\n",
              "                        <th id=\"T_73101e44_5280_11eb_b236_0242ac1c0002level0_row0\" class=\"row_heading level0 row0\" >Nunca</th>\n",
              "                        <td id=\"T_73101e44_5280_11eb_b236_0242ac1c0002row0_col0\" class=\"data row0 col0\" >9,147.00</td>\n",
              "                        <td id=\"T_73101e44_5280_11eb_b236_0242ac1c0002row0_col1\" class=\"data row0 col1\" >55.25</td>\n",
              "            </tr>\n",
              "            <tr>\n",
              "                        <th id=\"T_73101e44_5280_11eb_b236_0242ac1c0002level0_row1\" class=\"row_heading level0 row1\" >Raramente</th>\n",
              "                        <td id=\"T_73101e44_5280_11eb_b236_0242ac1c0002row1_col0\" class=\"data row1 col0\" >3,541.00</td>\n",
              "                        <td id=\"T_73101e44_5280_11eb_b236_0242ac1c0002row1_col1\" class=\"data row1 col1\" >21.39</td>\n",
              "            </tr>\n",
              "            <tr>\n",
              "                        <th id=\"T_73101e44_5280_11eb_b236_0242ac1c0002level0_row2\" class=\"row_heading level0 row2\" >Às vezes</th>\n",
              "                        <td id=\"T_73101e44_5280_11eb_b236_0242ac1c0002row2_col0\" class=\"data row2 col0\" >2,550.00</td>\n",
              "                        <td id=\"T_73101e44_5280_11eb_b236_0242ac1c0002row2_col1\" class=\"data row2 col1\" >15.40</td>\n",
              "            </tr>\n",
              "            <tr>\n",
              "                        <th id=\"T_73101e44_5280_11eb_b236_0242ac1c0002level0_row3\" class=\"row_heading level0 row3\" >Na maior parte do tempo</th>\n",
              "                        <td id=\"T_73101e44_5280_11eb_b236_0242ac1c0002row3_col0\" class=\"data row3 col0\" >670.00</td>\n",
              "                        <td id=\"T_73101e44_5280_11eb_b236_0242ac1c0002row3_col1\" class=\"data row3 col1\" >4.05</td>\n",
              "            </tr>\n",
              "            <tr>\n",
              "                        <th id=\"T_73101e44_5280_11eb_b236_0242ac1c0002level0_row4\" class=\"row_heading level0 row4\" >Sempre</th>\n",
              "                        <td id=\"T_73101e44_5280_11eb_b236_0242ac1c0002row4_col0\" class=\"data row4 col0\" >545.00</td>\n",
              "                        <td id=\"T_73101e44_5280_11eb_b236_0242ac1c0002row4_col1\" class=\"data row4 col1\" >3.29</td>\n",
              "            </tr>\n",
              "            <tr>\n",
              "                        <th id=\"T_73101e44_5280_11eb_b236_0242ac1c0002level0_row5\" class=\"row_heading level0 row5\" >Não informado</th>\n",
              "                        <td id=\"T_73101e44_5280_11eb_b236_0242ac1c0002row5_col0\" class=\"data row5 col0\" >103.00</td>\n",
              "                        <td id=\"T_73101e44_5280_11eb_b236_0242ac1c0002row5_col1\" class=\"data row5 col1\" >0.62</td>\n",
              "            </tr>\n",
              "    </tbody></table>"
            ],
            "text/plain": [
              "<pandas.io.formats.style.Styler at 0x7fab2f743940>"
            ]
          },
          "metadata": {
            "tags": []
          },
          "execution_count": 74
        }
      ]
    },
    {
      "cell_type": "markdown",
      "metadata": {
        "id": "V02PlFoyYcx2"
      },
      "source": [
        "**Conclusão:** Em 2015, 45% dos entrevistados relataram que já sofreram bullying. Adicionalmente, podemos notar que cerca de 15% sofre bullying as vezes, 4% sofre com frequência e 3% sofre com alta frequência. Isto demonstra a necessidade de atuação de suporte para as menorias. \r\n",
        "\r\n",
        "Entretanto, apenas 2.34% dos alunos não sabiam o que era bullying, isto demonstra uma alta conscientização sobre o tema."
      ]
    },
    {
      "cell_type": "markdown",
      "metadata": {
        "id": "0SEpap5-YsJi"
      },
      "source": [
        "###### **3) A aparência do corpo é o principal motivo de bullying?**"
      ]
    },
    {
      "cell_type": "markdown",
      "metadata": {
        "id": "T5amnUoqdlri"
      },
      "source": [
        "Já foi apresentado uma avaliação sobre a satisfação com o próprio corpo e sobre a ocorrência de bullying. Nesta avaliação, iremos verificar a correlação entre eles. Será que o bullying sobre aparência do corpo pode interferir com a própria satisfação com o corpo?"
      ]
    },
    {
      "cell_type": "code",
      "metadata": {
        "colab": {
          "base_uri": "https://localhost:8080/",
          "height": 229
        },
        "id": "-1bdKS9PeL8z",
        "outputId": "22b93f28-816d-4570-9dc1-970c4f069360"
      },
      "source": [
        "#Distribuição dos motivos de bullying \r\n",
        "tabela_frequencia_categoria(dados,'Motivo_Bullying')"
      ],
      "execution_count": 76,
      "outputs": [
        {
          "output_type": "execute_result",
          "data": {
            "text/html": [
              "<style  type=\"text/css\" >\n",
              "#T_429b5842_5284_11eb_b236_0242ac1c0002row0_col0,#T_429b5842_5284_11eb_b236_0242ac1c0002row0_col1{\n",
              "            background-color:  #67000d;\n",
              "            color:  #f1f1f1;\n",
              "        }#T_429b5842_5284_11eb_b236_0242ac1c0002row1_col0,#T_429b5842_5284_11eb_b236_0242ac1c0002row1_col1{\n",
              "            background-color:  #fb7050;\n",
              "            color:  #000000;\n",
              "        }#T_429b5842_5284_11eb_b236_0242ac1c0002row2_col0,#T_429b5842_5284_11eb_b236_0242ac1c0002row2_col1{\n",
              "            background-color:  #fee3d6;\n",
              "            color:  #000000;\n",
              "        }#T_429b5842_5284_11eb_b236_0242ac1c0002row3_col0,#T_429b5842_5284_11eb_b236_0242ac1c0002row3_col1{\n",
              "            background-color:  #feeae0;\n",
              "            color:  #000000;\n",
              "        }#T_429b5842_5284_11eb_b236_0242ac1c0002row4_col0,#T_429b5842_5284_11eb_b236_0242ac1c0002row4_col1{\n",
              "            background-color:  #ffefe8;\n",
              "            color:  #000000;\n",
              "        }#T_429b5842_5284_11eb_b236_0242ac1c0002row5_col0,#T_429b5842_5284_11eb_b236_0242ac1c0002row5_col1{\n",
              "            background-color:  #fff2ec;\n",
              "            color:  #000000;\n",
              "        }#T_429b5842_5284_11eb_b236_0242ac1c0002row6_col0,#T_429b5842_5284_11eb_b236_0242ac1c0002row6_col1{\n",
              "            background-color:  #fff4ee;\n",
              "            color:  #000000;\n",
              "        }#T_429b5842_5284_11eb_b236_0242ac1c0002row7_col0,#T_429b5842_5284_11eb_b236_0242ac1c0002row7_col1{\n",
              "            background-color:  #fff4ef;\n",
              "            color:  #000000;\n",
              "        }#T_429b5842_5284_11eb_b236_0242ac1c0002row8_col0,#T_429b5842_5284_11eb_b236_0242ac1c0002row8_col1{\n",
              "            background-color:  #fff5f0;\n",
              "            color:  #000000;\n",
              "        }</style><table id=\"T_429b5842_5284_11eb_b236_0242ac1c0002\" ><thead>    <tr>        <th class=\"index_name level0\" >Atributos</th>        <th class=\"col_heading level0 col0\" >Distribuicao</th>        <th class=\"col_heading level0 col1\" >Frequencia (%)</th>    </tr></thead><tbody>\n",
              "                <tr>\n",
              "                        <th id=\"T_429b5842_5284_11eb_b236_0242ac1c0002level0_row0\" class=\"row_heading level0 row0\" >Pulo no questionário</th>\n",
              "                        <td id=\"T_429b5842_5284_11eb_b236_0242ac1c0002row0_col0\" class=\"data row0 col0\" >9,250.00</td>\n",
              "                        <td id=\"T_429b5842_5284_11eb_b236_0242ac1c0002row0_col1\" class=\"data row0 col1\" >55.87</td>\n",
              "            </tr>\n",
              "            <tr>\n",
              "                        <th id=\"T_429b5842_5284_11eb_b236_0242ac1c0002level0_row1\" class=\"row_heading level0 row1\" >Outros motivos/causas</th>\n",
              "                        <td id=\"T_429b5842_5284_11eb_b236_0242ac1c0002row1_col0\" class=\"data row1 col0\" >4,489.00</td>\n",
              "                        <td id=\"T_429b5842_5284_11eb_b236_0242ac1c0002row1_col1\" class=\"data row1 col1\" >27.11</td>\n",
              "            </tr>\n",
              "            <tr>\n",
              "                        <th id=\"T_429b5842_5284_11eb_b236_0242ac1c0002level0_row2\" class=\"row_heading level0 row2\" >A aparência do meu corpo</th>\n",
              "                        <td id=\"T_429b5842_5284_11eb_b236_0242ac1c0002row2_col0\" class=\"data row2 col0\" >1,110.00</td>\n",
              "                        <td id=\"T_429b5842_5284_11eb_b236_0242ac1c0002row2_col1\" class=\"data row2 col1\" >6.70</td>\n",
              "            </tr>\n",
              "            <tr>\n",
              "                        <th id=\"T_429b5842_5284_11eb_b236_0242ac1c0002level0_row3\" class=\"row_heading level0 row3\" >A aparência do meu rosto</th>\n",
              "                        <td id=\"T_429b5842_5284_11eb_b236_0242ac1c0002row3_col0\" class=\"data row3 col0\" >705.00</td>\n",
              "                        <td id=\"T_429b5842_5284_11eb_b236_0242ac1c0002row3_col1\" class=\"data row3 col1\" >4.26</td>\n",
              "            </tr>\n",
              "            <tr>\n",
              "                        <th id=\"T_429b5842_5284_11eb_b236_0242ac1c0002level0_row4\" class=\"row_heading level0 row4\" >A minha cor ou raça</th>\n",
              "                        <td id=\"T_429b5842_5284_11eb_b236_0242ac1c0002row4_col0\" class=\"data row4 col0\" >403.00</td>\n",
              "                        <td id=\"T_429b5842_5284_11eb_b236_0242ac1c0002row4_col1\" class=\"data row4 col1\" >2.43</td>\n",
              "            </tr>\n",
              "            <tr>\n",
              "                        <th id=\"T_429b5842_5284_11eb_b236_0242ac1c0002level0_row5\" class=\"row_heading level0 row5\" >A minha religião</th>\n",
              "                        <td id=\"T_429b5842_5284_11eb_b236_0242ac1c0002row5_col0\" class=\"data row5 col0\" >241.00</td>\n",
              "                        <td id=\"T_429b5842_5284_11eb_b236_0242ac1c0002row5_col1\" class=\"data row5 col1\" >1.46</td>\n",
              "            </tr>\n",
              "            <tr>\n",
              "                        <th id=\"T_429b5842_5284_11eb_b236_0242ac1c0002level0_row6\" class=\"row_heading level0 row6\" >A minha orientação sexual</th>\n",
              "                        <td id=\"T_429b5842_5284_11eb_b236_0242ac1c0002row6_col0\" class=\"data row6 col0\" >160.00</td>\n",
              "                        <td id=\"T_429b5842_5284_11eb_b236_0242ac1c0002row6_col1\" class=\"data row6 col1\" >0.97</td>\n",
              "            </tr>\n",
              "            <tr>\n",
              "                        <th id=\"T_429b5842_5284_11eb_b236_0242ac1c0002level0_row7\" class=\"row_heading level0 row7\" >A minha região de origem</th>\n",
              "                        <td id=\"T_429b5842_5284_11eb_b236_0242ac1c0002row7_col0\" class=\"data row7 col0\" >119.00</td>\n",
              "                        <td id=\"T_429b5842_5284_11eb_b236_0242ac1c0002row7_col1\" class=\"data row7 col1\" >0.72</td>\n",
              "            </tr>\n",
              "            <tr>\n",
              "                        <th id=\"T_429b5842_5284_11eb_b236_0242ac1c0002level0_row8\" class=\"row_heading level0 row8\" >Não informado</th>\n",
              "                        <td id=\"T_429b5842_5284_11eb_b236_0242ac1c0002row8_col0\" class=\"data row8 col0\" >79.00</td>\n",
              "                        <td id=\"T_429b5842_5284_11eb_b236_0242ac1c0002row8_col1\" class=\"data row8 col1\" >0.48</td>\n",
              "            </tr>\n",
              "    </tbody></table>"
            ],
            "text/plain": [
              "<pandas.io.formats.style.Styler at 0x7fab2f75c780>"
            ]
          },
          "metadata": {
            "tags": []
          },
          "execution_count": 76
        }
      ]
    },
    {
      "cell_type": "markdown",
      "metadata": {
        "id": "7JYJuiwHeU50"
      },
      "source": [
        "Podemos conferir uma correlação entre o número de alunos que disseram nunca sofrer bullying (9,147.00) com o número de pessoas que pularam o questionário na sessão de motivo do bullying (9,250.00). Desta forma, menos da metade da amostra será válida para a avaliação da hipótese apresentada.\r\n",
        "\r\n",
        "Ainda mais, 27% da amostra respondeu \"Outros motivos/causas\". O que nos sobra cerca de 15% da amostra total para tirarmos alguma conclusão."
      ]
    },
    {
      "cell_type": "markdown",
      "metadata": {
        "id": "0r2-MedXfdZT"
      },
      "source": [
        "Entretanto, o 3° maior percentual de respostas para os motivos do bullying foi de \"Aparência do meu corpo\". Então, conseguimos manter a hipótese minimamente válida para darmos continuidade (simploriamente, sem utilização de testes estatísticos para validar hipótese)\r\n"
      ]
    },
    {
      "cell_type": "markdown",
      "metadata": {
        "id": "i2Fp7d4-gDBb"
      },
      "source": [
        "Entre os Insatisfeitos e Muito Insatisfeitos, podemos observar que o índice do IMC está na faixa de Sobrepeso."
      ]
    },
    {
      "cell_type": "code",
      "metadata": {
        "colab": {
          "base_uri": "https://localhost:8080/",
          "height": 187
        },
        "id": "lffC4z1jXm5y",
        "outputId": "e8ea1383-dfc3-41c4-f6bd-ab759ec95807"
      },
      "source": [
        "#IMC médio das Categorias de Estudantes que por Satisfação com seu corpo\r\n",
        "Satiscacao_Corpo_porcGeneroSatisfacao2 = pd.crosstab(index = dados['Satisfacao_Corpo'], \\\r\n",
        "                                                     columns = dados['Sexo'], aggfunc=np.mean, values = dados['IMC'] ).round(2)\r\n",
        "Satiscacao_Corpo_porcGeneroSatisfacao2.style.format(\"{:,.2f}\").background_gradient(axis = 0, cmap = 'Reds')"
      ],
      "execution_count": 75,
      "outputs": [
        {
          "output_type": "execute_result",
          "data": {
            "text/html": [
              "<style  type=\"text/css\" >\n",
              "#T_1cbad904_5284_11eb_b236_0242ac1c0002row0_col0{\n",
              "            background-color:  #f4503a;\n",
              "            color:  #000000;\n",
              "        }#T_1cbad904_5284_11eb_b236_0242ac1c0002row0_col1{\n",
              "            background-color:  #e63328;\n",
              "            color:  #f1f1f1;\n",
              "        }#T_1cbad904_5284_11eb_b236_0242ac1c0002row1_col0{\n",
              "            background-color:  #c8171c;\n",
              "            color:  #f1f1f1;\n",
              "        }#T_1cbad904_5284_11eb_b236_0242ac1c0002row1_col1,#T_1cbad904_5284_11eb_b236_0242ac1c0002row2_col0{\n",
              "            background-color:  #67000d;\n",
              "            color:  #f1f1f1;\n",
              "        }#T_1cbad904_5284_11eb_b236_0242ac1c0002row2_col1{\n",
              "            background-color:  #b31218;\n",
              "            color:  #f1f1f1;\n",
              "        }#T_1cbad904_5284_11eb_b236_0242ac1c0002row3_col0,#T_1cbad904_5284_11eb_b236_0242ac1c0002row3_col1{\n",
              "            background-color:  #fff5f0;\n",
              "            color:  #000000;\n",
              "        }#T_1cbad904_5284_11eb_b236_0242ac1c0002row4_col0{\n",
              "            background-color:  #fcbda4;\n",
              "            color:  #000000;\n",
              "        }#T_1cbad904_5284_11eb_b236_0242ac1c0002row4_col1{\n",
              "            background-color:  #fdcab5;\n",
              "            color:  #000000;\n",
              "        }#T_1cbad904_5284_11eb_b236_0242ac1c0002row5_col0{\n",
              "            background-color:  #fdcdb9;\n",
              "            color:  #000000;\n",
              "        }#T_1cbad904_5284_11eb_b236_0242ac1c0002row5_col1{\n",
              "            background-color:  #fcbba1;\n",
              "            color:  #000000;\n",
              "        }</style><table id=\"T_1cbad904_5284_11eb_b236_0242ac1c0002\" ><thead>    <tr>        <th class=\"index_name level0\" >Sexo</th>        <th class=\"col_heading level0 col0\" >Feminino</th>        <th class=\"col_heading level0 col1\" >Masculino</th>    </tr>    <tr>        <th class=\"index_name level0\" >Satisfacao_Corpo</th>        <th class=\"blank\" ></th>        <th class=\"blank\" ></th>    </tr></thead><tbody>\n",
              "                <tr>\n",
              "                        <th id=\"T_1cbad904_5284_11eb_b236_0242ac1c0002level0_row0\" class=\"row_heading level0 row0\" >Indiferente</th>\n",
              "                        <td id=\"T_1cbad904_5284_11eb_b236_0242ac1c0002row0_col0\" class=\"data row0 col0\" >21.95</td>\n",
              "                        <td id=\"T_1cbad904_5284_11eb_b236_0242ac1c0002row0_col1\" class=\"data row0 col1\" >21.94</td>\n",
              "            </tr>\n",
              "            <tr>\n",
              "                        <th id=\"T_1cbad904_5284_11eb_b236_0242ac1c0002level0_row1\" class=\"row_heading level0 row1\" >Insatisfeito(a)</th>\n",
              "                        <td id=\"T_1cbad904_5284_11eb_b236_0242ac1c0002row1_col0\" class=\"data row1 col0\" >22.66</td>\n",
              "                        <td id=\"T_1cbad904_5284_11eb_b236_0242ac1c0002row1_col1\" class=\"data row1 col1\" >23.03</td>\n",
              "            </tr>\n",
              "            <tr>\n",
              "                        <th id=\"T_1cbad904_5284_11eb_b236_0242ac1c0002level0_row2\" class=\"row_heading level0 row2\" >Muito insatisfeito(a)</th>\n",
              "                        <td id=\"T_1cbad904_5284_11eb_b236_0242ac1c0002row2_col0\" class=\"data row2 col0\" >23.54</td>\n",
              "                        <td id=\"T_1cbad904_5284_11eb_b236_0242ac1c0002row2_col1\" class=\"data row2 col1\" >22.48</td>\n",
              "            </tr>\n",
              "            <tr>\n",
              "                        <th id=\"T_1cbad904_5284_11eb_b236_0242ac1c0002level0_row3\" class=\"row_heading level0 row3\" >Muito satisfeito(a)</th>\n",
              "                        <td id=\"T_1cbad904_5284_11eb_b236_0242ac1c0002row3_col0\" class=\"data row3 col0\" >19.86</td>\n",
              "                        <td id=\"T_1cbad904_5284_11eb_b236_0242ac1c0002row3_col1\" class=\"data row3 col1\" >19.86</td>\n",
              "            </tr>\n",
              "            <tr>\n",
              "                        <th id=\"T_1cbad904_5284_11eb_b236_0242ac1c0002level0_row4\" class=\"row_heading level0 row4\" >Não informado</th>\n",
              "                        <td id=\"T_1cbad904_5284_11eb_b236_0242ac1c0002row4_col0\" class=\"data row4 col0\" >20.76</td>\n",
              "                        <td id=\"T_1cbad904_5284_11eb_b236_0242ac1c0002row4_col1\" class=\"data row4 col1\" >20.50</td>\n",
              "            </tr>\n",
              "            <tr>\n",
              "                        <th id=\"T_1cbad904_5284_11eb_b236_0242ac1c0002level0_row5\" class=\"row_heading level0 row5\" >Satisfeito(a)</th>\n",
              "                        <td id=\"T_1cbad904_5284_11eb_b236_0242ac1c0002row5_col0\" class=\"data row5 col0\" >20.55</td>\n",
              "                        <td id=\"T_1cbad904_5284_11eb_b236_0242ac1c0002row5_col1\" class=\"data row5 col1\" >20.66</td>\n",
              "            </tr>\n",
              "    </tbody></table>"
            ],
            "text/plain": [
              "<pandas.io.formats.style.Styler at 0x7fab2f70a2e8>"
            ]
          },
          "metadata": {
            "tags": []
          },
          "execution_count": 75
        }
      ]
    },
    {
      "cell_type": "markdown",
      "metadata": {
        "id": "LAOpSwjbgn1d"
      },
      "source": [
        "Tendo como ponto de referência a Satisfação do Corpo vs a Frequencia de Bullying, vemos que os Muito Insatisfeito possuem o maior índice em Frequência de Bullying \"Na maior parte do tempo\" e em \"Às vezes\"."
      ]
    },
    {
      "cell_type": "code",
      "metadata": {
        "colab": {
          "base_uri": "https://localhost:8080/",
          "height": 187
        },
        "id": "WGO-B7xdggAA",
        "outputId": "34aad249-f4e2-4754-b1f8-af4a06eb80d8"
      },
      "source": [
        "#Será que os estudantes mais insatisfeitos com seus corpos sofrem bullying referente ao seu peso?\r\n",
        "Satiscacao_Corpo_Bullying = pd.crosstab(index = dados['Satisfacao_Corpo'], \\\r\n",
        "                                                     columns = dados['Frequencia_Bullying'], normalize = 'index') * 100 #,aggfunc=np.mean, values = dados['IMC'] ).round(1)\r\n",
        "Satiscacao_Corpo_Bullying.round(2).style.format(\"{:,.2f}\").background_gradient(axis = 1, cmap = 'Reds')"
      ],
      "execution_count": 77,
      "outputs": [
        {
          "output_type": "execute_result",
          "data": {
            "text/html": [
              "<style  type=\"text/css\" >\n",
              "#T_aab26cb2_5285_11eb_b236_0242ac1c0002row0_col0{\n",
              "            background-color:  #fee1d4;\n",
              "            color:  #000000;\n",
              "        }#T_aab26cb2_5285_11eb_b236_0242ac1c0002row0_col1,#T_aab26cb2_5285_11eb_b236_0242ac1c0002row1_col1,#T_aab26cb2_5285_11eb_b236_0242ac1c0002row2_col1,#T_aab26cb2_5285_11eb_b236_0242ac1c0002row3_col1,#T_aab26cb2_5285_11eb_b236_0242ac1c0002row4_col1,#T_aab26cb2_5285_11eb_b236_0242ac1c0002row5_col1{\n",
              "            background-color:  #67000d;\n",
              "            color:  #f1f1f1;\n",
              "        }#T_aab26cb2_5285_11eb_b236_0242ac1c0002row0_col2,#T_aab26cb2_5285_11eb_b236_0242ac1c0002row1_col2,#T_aab26cb2_5285_11eb_b236_0242ac1c0002row2_col2,#T_aab26cb2_5285_11eb_b236_0242ac1c0002row3_col2,#T_aab26cb2_5285_11eb_b236_0242ac1c0002row4_col0,#T_aab26cb2_5285_11eb_b236_0242ac1c0002row5_col2{\n",
              "            background-color:  #fff5f0;\n",
              "            color:  #000000;\n",
              "        }#T_aab26cb2_5285_11eb_b236_0242ac1c0002row0_col3{\n",
              "            background-color:  #f75b40;\n",
              "            color:  #000000;\n",
              "        }#T_aab26cb2_5285_11eb_b236_0242ac1c0002row0_col4{\n",
              "            background-color:  #feeae1;\n",
              "            color:  #000000;\n",
              "        }#T_aab26cb2_5285_11eb_b236_0242ac1c0002row0_col5,#T_aab26cb2_5285_11eb_b236_0242ac1c0002row5_col3{\n",
              "            background-color:  #fc8d6d;\n",
              "            color:  #000000;\n",
              "        }#T_aab26cb2_5285_11eb_b236_0242ac1c0002row1_col0{\n",
              "            background-color:  #fee5d9;\n",
              "            color:  #000000;\n",
              "        }#T_aab26cb2_5285_11eb_b236_0242ac1c0002row1_col3{\n",
              "            background-color:  #f7593f;\n",
              "            color:  #000000;\n",
              "        }#T_aab26cb2_5285_11eb_b236_0242ac1c0002row1_col4{\n",
              "            background-color:  #ffebe2;\n",
              "            color:  #000000;\n",
              "        }#T_aab26cb2_5285_11eb_b236_0242ac1c0002row1_col5{\n",
              "            background-color:  #fc8e6e;\n",
              "            color:  #000000;\n",
              "        }#T_aab26cb2_5285_11eb_b236_0242ac1c0002row2_col0{\n",
              "            background-color:  #fcbfa7;\n",
              "            color:  #000000;\n",
              "        }#T_aab26cb2_5285_11eb_b236_0242ac1c0002row2_col3{\n",
              "            background-color:  #fa6648;\n",
              "            color:  #000000;\n",
              "        }#T_aab26cb2_5285_11eb_b236_0242ac1c0002row2_col4{\n",
              "            background-color:  #fca285;\n",
              "            color:  #000000;\n",
              "        }#T_aab26cb2_5285_11eb_b236_0242ac1c0002row2_col5{\n",
              "            background-color:  #f24633;\n",
              "            color:  #000000;\n",
              "        }#T_aab26cb2_5285_11eb_b236_0242ac1c0002row3_col0{\n",
              "            background-color:  #ffece4;\n",
              "            color:  #000000;\n",
              "        }#T_aab26cb2_5285_11eb_b236_0242ac1c0002row3_col3{\n",
              "            background-color:  #fcb99f;\n",
              "            color:  #000000;\n",
              "        }#T_aab26cb2_5285_11eb_b236_0242ac1c0002row3_col4{\n",
              "            background-color:  #ffece3;\n",
              "            color:  #000000;\n",
              "        }#T_aab26cb2_5285_11eb_b236_0242ac1c0002row3_col5{\n",
              "            background-color:  #fcbea5;\n",
              "            color:  #000000;\n",
              "        }#T_aab26cb2_5285_11eb_b236_0242ac1c0002row4_col2{\n",
              "            background-color:  #b91419;\n",
              "            color:  #f1f1f1;\n",
              "        }#T_aab26cb2_5285_11eb_b236_0242ac1c0002row4_col3{\n",
              "            background-color:  #fdccb8;\n",
              "            color:  #000000;\n",
              "        }#T_aab26cb2_5285_11eb_b236_0242ac1c0002row4_col4{\n",
              "            background-color:  #fff2ec;\n",
              "            color:  #000000;\n",
              "        }#T_aab26cb2_5285_11eb_b236_0242ac1c0002row4_col5{\n",
              "            background-color:  #fcc3ab;\n",
              "            color:  #000000;\n",
              "        }#T_aab26cb2_5285_11eb_b236_0242ac1c0002row5_col0{\n",
              "            background-color:  #ffede5;\n",
              "            color:  #000000;\n",
              "        }#T_aab26cb2_5285_11eb_b236_0242ac1c0002row5_col4{\n",
              "            background-color:  #fff0e8;\n",
              "            color:  #000000;\n",
              "        }#T_aab26cb2_5285_11eb_b236_0242ac1c0002row5_col5{\n",
              "            background-color:  #fcc4ad;\n",
              "            color:  #000000;\n",
              "        }</style><table id=\"T_aab26cb2_5285_11eb_b236_0242ac1c0002\" ><thead>    <tr>        <th class=\"index_name level0\" >Frequencia_Bullying</th>        <th class=\"col_heading level0 col0\" >Na maior parte do tempo</th>        <th class=\"col_heading level0 col1\" >Nunca</th>        <th class=\"col_heading level0 col2\" >Não informado</th>        <th class=\"col_heading level0 col3\" >Raramente</th>        <th class=\"col_heading level0 col4\" >Sempre</th>        <th class=\"col_heading level0 col5\" >Às vezes</th>    </tr>    <tr>        <th class=\"index_name level0\" >Satisfacao_Corpo</th>        <th class=\"blank\" ></th>        <th class=\"blank\" ></th>        <th class=\"blank\" ></th>        <th class=\"blank\" ></th>        <th class=\"blank\" ></th>        <th class=\"blank\" ></th>    </tr></thead><tbody>\n",
              "                <tr>\n",
              "                        <th id=\"T_aab26cb2_5285_11eb_b236_0242ac1c0002level0_row0\" class=\"row_heading level0 row0\" >Indiferente</th>\n",
              "                        <td id=\"T_aab26cb2_5285_11eb_b236_0242ac1c0002row0_col0\" class=\"data row0 col0\" >5.70</td>\n",
              "                        <td id=\"T_aab26cb2_5285_11eb_b236_0242ac1c0002row0_col1\" class=\"data row0 col1\" >46.93</td>\n",
              "                        <td id=\"T_aab26cb2_5285_11eb_b236_0242ac1c0002row0_col2\" class=\"data row0 col2\" >0.22</td>\n",
              "                        <td id=\"T_aab26cb2_5285_11eb_b236_0242ac1c0002row0_col3\" class=\"data row0 col3\" >25.40</td>\n",
              "                        <td id=\"T_aab26cb2_5285_11eb_b236_0242ac1c0002row0_col4\" class=\"data row0 col4\" >3.15</td>\n",
              "                        <td id=\"T_aab26cb2_5285_11eb_b236_0242ac1c0002row0_col5\" class=\"data row0 col5\" >18.59</td>\n",
              "            </tr>\n",
              "            <tr>\n",
              "                        <th id=\"T_aab26cb2_5285_11eb_b236_0242ac1c0002level0_row1\" class=\"row_heading level0 row1\" >Insatisfeito(a)</th>\n",
              "                        <td id=\"T_aab26cb2_5285_11eb_b236_0242ac1c0002row1_col0\" class=\"data row1 col0\" >4.77</td>\n",
              "                        <td id=\"T_aab26cb2_5285_11eb_b236_0242ac1c0002row1_col1\" class=\"data row1 col1\" >47.42</td>\n",
              "                        <td id=\"T_aab26cb2_5285_11eb_b236_0242ac1c0002row1_col2\" class=\"data row1 col2\" >0.26</td>\n",
              "                        <td id=\"T_aab26cb2_5285_11eb_b236_0242ac1c0002row1_col3\" class=\"data row1 col3\" >25.97</td>\n",
              "                        <td id=\"T_aab26cb2_5285_11eb_b236_0242ac1c0002row1_col4\" class=\"data row1 col4\" >3.05</td>\n",
              "                        <td id=\"T_aab26cb2_5285_11eb_b236_0242ac1c0002row1_col5\" class=\"data row1 col5\" >18.53</td>\n",
              "            </tr>\n",
              "            <tr>\n",
              "                        <th id=\"T_aab26cb2_5285_11eb_b236_0242ac1c0002level0_row2\" class=\"row_heading level0 row2\" >Muito insatisfeito(a)</th>\n",
              "                        <td id=\"T_aab26cb2_5285_11eb_b236_0242ac1c0002row2_col0\" class=\"data row2 col0\" >9.10</td>\n",
              "                        <td id=\"T_aab26cb2_5285_11eb_b236_0242ac1c0002row2_col1\" class=\"data row2 col1\" >36.83</td>\n",
              "                        <td id=\"T_aab26cb2_5285_11eb_b236_0242ac1c0002row2_col2\" class=\"data row2 col2\" >0.56</td>\n",
              "                        <td id=\"T_aab26cb2_5285_11eb_b236_0242ac1c0002row2_col3\" class=\"data row2 col3\" >19.05</td>\n",
              "                        <td id=\"T_aab26cb2_5285_11eb_b236_0242ac1c0002row2_col4\" class=\"data row2 col4\" >12.32</td>\n",
              "                        <td id=\"T_aab26cb2_5285_11eb_b236_0242ac1c0002row2_col5\" class=\"data row2 col5\" >22.13</td>\n",
              "            </tr>\n",
              "            <tr>\n",
              "                        <th id=\"T_aab26cb2_5285_11eb_b236_0242ac1c0002level0_row3\" class=\"row_heading level0 row3\" >Muito satisfeito(a)</th>\n",
              "                        <td id=\"T_aab26cb2_5285_11eb_b236_0242ac1c0002row3_col0\" class=\"data row3 col0\" >3.60</td>\n",
              "                        <td id=\"T_aab26cb2_5285_11eb_b236_0242ac1c0002row3_col1\" class=\"data row3 col1\" >61.11</td>\n",
              "                        <td id=\"T_aab26cb2_5285_11eb_b236_0242ac1c0002row3_col2\" class=\"data row3 col2\" >0.41</td>\n",
              "                        <td id=\"T_aab26cb2_5285_11eb_b236_0242ac1c0002row3_col3\" class=\"data row3 col3\" >15.89</td>\n",
              "                        <td id=\"T_aab26cb2_5285_11eb_b236_0242ac1c0002row3_col4\" class=\"data row3 col4\" >3.91</td>\n",
              "                        <td id=\"T_aab26cb2_5285_11eb_b236_0242ac1c0002row3_col5\" class=\"data row3 col5\" >15.08</td>\n",
              "            </tr>\n",
              "            <tr>\n",
              "                        <th id=\"T_aab26cb2_5285_11eb_b236_0242ac1c0002level0_row4\" class=\"row_heading level0 row4\" >Não informado</th>\n",
              "                        <td id=\"T_aab26cb2_5285_11eb_b236_0242ac1c0002row4_col0\" class=\"data row4 col0\" >3.87</td>\n",
              "                        <td id=\"T_aab26cb2_5285_11eb_b236_0242ac1c0002row4_col1\" class=\"data row4 col1\" >38.12</td>\n",
              "                        <td id=\"T_aab26cb2_5285_11eb_b236_0242ac1c0002row4_col2\" class=\"data row4 col2\" >31.49</td>\n",
              "                        <td id=\"T_aab26cb2_5285_11eb_b236_0242ac1c0002row4_col3\" class=\"data row4 col3\" >10.50</td>\n",
              "                        <td id=\"T_aab26cb2_5285_11eb_b236_0242ac1c0002row4_col4\" class=\"data row4 col4\" >4.42</td>\n",
              "                        <td id=\"T_aab26cb2_5285_11eb_b236_0242ac1c0002row4_col5\" class=\"data row4 col5\" >11.60</td>\n",
              "            </tr>\n",
              "            <tr>\n",
              "                        <th id=\"T_aab26cb2_5285_11eb_b236_0242ac1c0002level0_row5\" class=\"row_heading level0 row5\" >Satisfeito(a)</th>\n",
              "                        <td id=\"T_aab26cb2_5285_11eb_b236_0242ac1c0002row5_col0\" class=\"data row5 col0\" >3.15</td>\n",
              "                        <td id=\"T_aab26cb2_5285_11eb_b236_0242ac1c0002row5_col1\" class=\"data row5 col1\" >58.50</td>\n",
              "                        <td id=\"T_aab26cb2_5285_11eb_b236_0242ac1c0002row5_col2\" class=\"data row5 col2\" >0.19</td>\n",
              "                        <td id=\"T_aab26cb2_5285_11eb_b236_0242ac1c0002row5_col3\" class=\"data row5 col3\" >22.99</td>\n",
              "                        <td id=\"T_aab26cb2_5285_11eb_b236_0242ac1c0002row5_col4\" class=\"data row5 col4\" >2.04</td>\n",
              "                        <td id=\"T_aab26cb2_5285_11eb_b236_0242ac1c0002row5_col5\" class=\"data row5 col5\" >13.14</td>\n",
              "            </tr>\n",
              "    </tbody></table>"
            ],
            "text/plain": [
              "<pandas.io.formats.style.Styler at 0x7fab2f70a668>"
            ]
          },
          "metadata": {
            "tags": []
          },
          "execution_count": 77
        }
      ]
    },
    {
      "cell_type": "markdown",
      "metadata": {
        "id": "3YD7i1-3jqPr"
      },
      "source": [
        "Corroborando com a relação acima, mostramos abaixo a correlação entre Motivo do Bullying vs Satisfação do Corpo, onde vemos os maiores índices em \"Aparencia do meu corpo\" e \"Insatisfeito e Muito Insatisfeito\""
      ]
    },
    {
      "cell_type": "code",
      "metadata": {
        "colab": {
          "base_uri": "https://localhost:8080/",
          "height": 221
        },
        "id": "aaQYLVbzjm8N",
        "outputId": "f8a73d0e-1df9-4ad4-8e69-952254d46ad4"
      },
      "source": [
        "#Será que há relação entre Insatisfação com o Corpo e os principais motivos de bullying?\r\n",
        "Satiscacao_Corpo_Bullying = pd.crosstab(index = dados['Satisfacao_Corpo'], \\\r\n",
        "                                                     columns = dados['Motivo_Bullying'], normalize = True) * 100 #,aggfunc=np.mean, values = dados['IMC'] ).round(1)\r\n",
        "Satiscacao_Corpo_Bullying.round(2).style.format(\"{:,.2f}\").background_gradient(axis = 1, cmap = 'Reds')"
      ],
      "execution_count": 78,
      "outputs": [
        {
          "output_type": "execute_result",
          "data": {
            "text/html": [
              "<style  type=\"text/css\" >\n",
              "#T_88db18a8_5287_11eb_b236_0242ac1c0002row0_col0{\n",
              "            background-color:  #fcc4ad;\n",
              "            color:  #000000;\n",
              "        }#T_88db18a8_5287_11eb_b236_0242ac1c0002row0_col1{\n",
              "            background-color:  #fee5d8;\n",
              "            color:  #000000;\n",
              "        }#T_88db18a8_5287_11eb_b236_0242ac1c0002row0_col2,#T_88db18a8_5287_11eb_b236_0242ac1c0002row3_col0,#T_88db18a8_5287_11eb_b236_0242ac1c0002row4_col2{\n",
              "            background-color:  #ffeee7;\n",
              "            color:  #000000;\n",
              "        }#T_88db18a8_5287_11eb_b236_0242ac1c0002row0_col3,#T_88db18a8_5287_11eb_b236_0242ac1c0002row3_col5,#T_88db18a8_5287_11eb_b236_0242ac1c0002row4_col0,#T_88db18a8_5287_11eb_b236_0242ac1c0002row5_col2{\n",
              "            background-color:  #fff1ea;\n",
              "            color:  #000000;\n",
              "        }#T_88db18a8_5287_11eb_b236_0242ac1c0002row0_col4,#T_88db18a8_5287_11eb_b236_0242ac1c0002row2_col4,#T_88db18a8_5287_11eb_b236_0242ac1c0002row4_col3,#T_88db18a8_5287_11eb_b236_0242ac1c0002row4_col4,#T_88db18a8_5287_11eb_b236_0242ac1c0002row5_col5{\n",
              "            background-color:  #fff3ed;\n",
              "            color:  #000000;\n",
              "        }#T_88db18a8_5287_11eb_b236_0242ac1c0002row0_col5,#T_88db18a8_5287_11eb_b236_0242ac1c0002row1_col2{\n",
              "            background-color:  #fff0e9;\n",
              "            color:  #000000;\n",
              "        }#T_88db18a8_5287_11eb_b236_0242ac1c0002row0_col6,#T_88db18a8_5287_11eb_b236_0242ac1c0002row1_col4,#T_88db18a8_5287_11eb_b236_0242ac1c0002row1_col6,#T_88db18a8_5287_11eb_b236_0242ac1c0002row2_col6,#T_88db18a8_5287_11eb_b236_0242ac1c0002row3_col6,#T_88db18a8_5287_11eb_b236_0242ac1c0002row4_col5,#T_88db18a8_5287_11eb_b236_0242ac1c0002row5_col3,#T_88db18a8_5287_11eb_b236_0242ac1c0002row5_col4,#T_88db18a8_5287_11eb_b236_0242ac1c0002row5_col6{\n",
              "            background-color:  #fff5f0;\n",
              "            color:  #000000;\n",
              "        }#T_88db18a8_5287_11eb_b236_0242ac1c0002row0_col7{\n",
              "            background-color:  #e83429;\n",
              "            color:  #f1f1f1;\n",
              "        }#T_88db18a8_5287_11eb_b236_0242ac1c0002row0_col8,#T_88db18a8_5287_11eb_b236_0242ac1c0002row1_col8,#T_88db18a8_5287_11eb_b236_0242ac1c0002row2_col8,#T_88db18a8_5287_11eb_b236_0242ac1c0002row3_col8,#T_88db18a8_5287_11eb_b236_0242ac1c0002row4_col8,#T_88db18a8_5287_11eb_b236_0242ac1c0002row5_col8{\n",
              "            background-color:  #67000d;\n",
              "            color:  #f1f1f1;\n",
              "        }#T_88db18a8_5287_11eb_b236_0242ac1c0002row1_col0{\n",
              "            background-color:  #fcae92;\n",
              "            color:  #000000;\n",
              "        }#T_88db18a8_5287_11eb_b236_0242ac1c0002row1_col1{\n",
              "            background-color:  #fee6da;\n",
              "            color:  #000000;\n",
              "        }#T_88db18a8_5287_11eb_b236_0242ac1c0002row1_col3{\n",
              "            background-color:  #fff2ec;\n",
              "            color:  #000000;\n",
              "        }#T_88db18a8_5287_11eb_b236_0242ac1c0002row1_col5,#T_88db18a8_5287_11eb_b236_0242ac1c0002row3_col4{\n",
              "            background-color:  #fff4ef;\n",
              "            color:  #000000;\n",
              "        }#T_88db18a8_5287_11eb_b236_0242ac1c0002row1_col7{\n",
              "            background-color:  #f24734;\n",
              "            color:  #000000;\n",
              "        }#T_88db18a8_5287_11eb_b236_0242ac1c0002row2_col0{\n",
              "            background-color:  #f24633;\n",
              "            color:  #000000;\n",
              "        }#T_88db18a8_5287_11eb_b236_0242ac1c0002row2_col1{\n",
              "            background-color:  #fee0d2;\n",
              "            color:  #000000;\n",
              "        }#T_88db18a8_5287_11eb_b236_0242ac1c0002row2_col2{\n",
              "            background-color:  #fee7db;\n",
              "            color:  #000000;\n",
              "        }#T_88db18a8_5287_11eb_b236_0242ac1c0002row2_col3,#T_88db18a8_5287_11eb_b236_0242ac1c0002row3_col2{\n",
              "            background-color:  #ffede5;\n",
              "            color:  #000000;\n",
              "        }#T_88db18a8_5287_11eb_b236_0242ac1c0002row2_col5{\n",
              "            background-color:  #ffefe8;\n",
              "            color:  #000000;\n",
              "        }#T_88db18a8_5287_11eb_b236_0242ac1c0002row2_col7{\n",
              "            background-color:  #dd2a25;\n",
              "            color:  #f1f1f1;\n",
              "        }#T_88db18a8_5287_11eb_b236_0242ac1c0002row3_col1{\n",
              "            background-color:  #feeae1;\n",
              "            color:  #000000;\n",
              "        }#T_88db18a8_5287_11eb_b236_0242ac1c0002row3_col3{\n",
              "            background-color:  #fff4ee;\n",
              "            color:  #000000;\n",
              "        }#T_88db18a8_5287_11eb_b236_0242ac1c0002row3_col7{\n",
              "            background-color:  #fc9272;\n",
              "            color:  #000000;\n",
              "        }#T_88db18a8_5287_11eb_b236_0242ac1c0002row4_col1,#T_88db18a8_5287_11eb_b236_0242ac1c0002row4_col6{\n",
              "            background-color:  #ffece4;\n",
              "            color:  #000000;\n",
              "        }#T_88db18a8_5287_11eb_b236_0242ac1c0002row4_col7{\n",
              "            background-color:  #fcbfa7;\n",
              "            color:  #000000;\n",
              "        }#T_88db18a8_5287_11eb_b236_0242ac1c0002row5_col0{\n",
              "            background-color:  #ffebe2;\n",
              "            color:  #000000;\n",
              "        }#T_88db18a8_5287_11eb_b236_0242ac1c0002row5_col1{\n",
              "            background-color:  #ffece3;\n",
              "            color:  #000000;\n",
              "        }#T_88db18a8_5287_11eb_b236_0242ac1c0002row5_col7{\n",
              "            background-color:  #fb7050;\n",
              "            color:  #000000;\n",
              "        }</style><table id=\"T_88db18a8_5287_11eb_b236_0242ac1c0002\" ><thead>    <tr>        <th class=\"index_name level0\" >Motivo_Bullying</th>        <th class=\"col_heading level0 col0\" >A aparência do meu corpo</th>        <th class=\"col_heading level0 col1\" >A aparência do meu rosto</th>        <th class=\"col_heading level0 col2\" >A minha cor ou raça</th>        <th class=\"col_heading level0 col3\" >A minha orientação sexual</th>        <th class=\"col_heading level0 col4\" >A minha região de origem</th>        <th class=\"col_heading level0 col5\" >A minha religião</th>        <th class=\"col_heading level0 col6\" >Não informado</th>        <th class=\"col_heading level0 col7\" >Outros motivos/causas</th>        <th class=\"col_heading level0 col8\" >Pulo no questionário</th>    </tr>    <tr>        <th class=\"index_name level0\" >Satisfacao_Corpo</th>        <th class=\"blank\" ></th>        <th class=\"blank\" ></th>        <th class=\"blank\" ></th>        <th class=\"blank\" ></th>        <th class=\"blank\" ></th>        <th class=\"blank\" ></th>        <th class=\"blank\" ></th>        <th class=\"blank\" ></th>        <th class=\"blank\" ></th>    </tr></thead><tbody>\n",
              "                <tr>\n",
              "                        <th id=\"T_88db18a8_5287_11eb_b236_0242ac1c0002level0_row0\" class=\"row_heading level0 row0\" >Indiferente</th>\n",
              "                        <td id=\"T_88db18a8_5287_11eb_b236_0242ac1c0002row0_col0\" class=\"data row0 col0\" >1.17</td>\n",
              "                        <td id=\"T_88db18a8_5287_11eb_b236_0242ac1c0002row0_col1\" class=\"data row0 col1\" >0.54</td>\n",
              "                        <td id=\"T_88db18a8_5287_11eb_b236_0242ac1c0002row0_col2\" class=\"data row0 col2\" >0.24</td>\n",
              "                        <td id=\"T_88db18a8_5287_11eb_b236_0242ac1c0002row0_col3\" class=\"data row0 col3\" >0.16</td>\n",
              "                        <td id=\"T_88db18a8_5287_11eb_b236_0242ac1c0002row0_col4\" class=\"data row0 col4\" >0.10</td>\n",
              "                        <td id=\"T_88db18a8_5287_11eb_b236_0242ac1c0002row0_col5\" class=\"data row0 col5\" >0.17</td>\n",
              "                        <td id=\"T_88db18a8_5287_11eb_b236_0242ac1c0002row0_col6\" class=\"data row0 col6\" >0.03</td>\n",
              "                        <td id=\"T_88db18a8_5287_11eb_b236_0242ac1c0002row0_col7\" class=\"data row0 col7\" >3.35</td>\n",
              "                        <td id=\"T_88db18a8_5287_11eb_b236_0242ac1c0002row0_col8\" class=\"data row0 col8\" >5.15</td>\n",
              "            </tr>\n",
              "            <tr>\n",
              "                        <th id=\"T_88db18a8_5287_11eb_b236_0242ac1c0002level0_row1\" class=\"row_heading level0 row1\" >Insatisfeito(a)</th>\n",
              "                        <td id=\"T_88db18a8_5287_11eb_b236_0242ac1c0002row1_col0\" class=\"data row1 col0\" >1.99</td>\n",
              "                        <td id=\"T_88db18a8_5287_11eb_b236_0242ac1c0002row1_col1\" class=\"data row1 col1\" >0.67</td>\n",
              "                        <td id=\"T_88db18a8_5287_11eb_b236_0242ac1c0002row1_col2\" class=\"data row1 col2\" >0.25</td>\n",
              "                        <td id=\"T_88db18a8_5287_11eb_b236_0242ac1c0002row1_col3\" class=\"data row1 col3\" >0.18</td>\n",
              "                        <td id=\"T_88db18a8_5287_11eb_b236_0242ac1c0002row1_col4\" class=\"data row1 col4\" >0.08</td>\n",
              "                        <td id=\"T_88db18a8_5287_11eb_b236_0242ac1c0002row1_col5\" class=\"data row1 col5\" >0.11</td>\n",
              "                        <td id=\"T_88db18a8_5287_11eb_b236_0242ac1c0002row1_col6\" class=\"data row1 col6\" >0.06</td>\n",
              "                        <td id=\"T_88db18a8_5287_11eb_b236_0242ac1c0002row1_col7\" class=\"data row1 col7\" >4.00</td>\n",
              "                        <td id=\"T_88db18a8_5287_11eb_b236_0242ac1c0002row1_col8\" class=\"data row1 col8\" >6.70</td>\n",
              "            </tr>\n",
              "            <tr>\n",
              "                        <th id=\"T_88db18a8_5287_11eb_b236_0242ac1c0002level0_row2\" class=\"row_heading level0 row2\" >Muito insatisfeito(a)</th>\n",
              "                        <td id=\"T_88db18a8_5287_11eb_b236_0242ac1c0002row2_col0\" class=\"data row2 col0\" >0.97</td>\n",
              "                        <td id=\"T_88db18a8_5287_11eb_b236_0242ac1c0002row2_col1\" class=\"data row2 col1\" >0.22</td>\n",
              "                        <td id=\"T_88db18a8_5287_11eb_b236_0242ac1c0002row2_col2\" class=\"data row2 col2\" >0.16</td>\n",
              "                        <td id=\"T_88db18a8_5287_11eb_b236_0242ac1c0002row2_col3\" class=\"data row2 col3\" >0.10</td>\n",
              "                        <td id=\"T_88db18a8_5287_11eb_b236_0242ac1c0002row2_col4\" class=\"data row2 col4\" >0.04</td>\n",
              "                        <td id=\"T_88db18a8_5287_11eb_b236_0242ac1c0002row2_col5\" class=\"data row2 col5\" >0.08</td>\n",
              "                        <td id=\"T_88db18a8_5287_11eb_b236_0242ac1c0002row2_col6\" class=\"data row2 col6\" >0.02</td>\n",
              "                        <td id=\"T_88db18a8_5287_11eb_b236_0242ac1c0002row2_col7\" class=\"data row2 col7\" >1.11</td>\n",
              "                        <td id=\"T_88db18a8_5287_11eb_b236_0242ac1c0002row2_col8\" class=\"data row2 col8\" >1.61</td>\n",
              "            </tr>\n",
              "            <tr>\n",
              "                        <th id=\"T_88db18a8_5287_11eb_b236_0242ac1c0002level0_row3\" class=\"row_heading level0 row3\" >Muito satisfeito(a)</th>\n",
              "                        <td id=\"T_88db18a8_5287_11eb_b236_0242ac1c0002row3_col0\" class=\"data row3 col0\" >0.85</td>\n",
              "                        <td id=\"T_88db18a8_5287_11eb_b236_0242ac1c0002row3_col1\" class=\"data row3 col1\" >1.20</td>\n",
              "                        <td id=\"T_88db18a8_5287_11eb_b236_0242ac1c0002row3_col2\" class=\"data row3 col2\" >0.95</td>\n",
              "                        <td id=\"T_88db18a8_5287_11eb_b236_0242ac1c0002row3_col3\" class=\"data row3 col3\" >0.28</td>\n",
              "                        <td id=\"T_88db18a8_5287_11eb_b236_0242ac1c0002row3_col4\" class=\"data row3 col4\" >0.21</td>\n",
              "                        <td id=\"T_88db18a8_5287_11eb_b236_0242ac1c0002row3_col5\" class=\"data row3 col5\" >0.54</td>\n",
              "                        <td id=\"T_88db18a8_5287_11eb_b236_0242ac1c0002row3_col6\" class=\"data row3 col6\" >0.13</td>\n",
              "                        <td id=\"T_88db18a8_5287_11eb_b236_0242ac1c0002row3_col7\" class=\"data row3 col7\" >6.54</td>\n",
              "                        <td id=\"T_88db18a8_5287_11eb_b236_0242ac1c0002row3_col8\" class=\"data row3 col8\" >17.12</td>\n",
              "            </tr>\n",
              "            <tr>\n",
              "                        <th id=\"T_88db18a8_5287_11eb_b236_0242ac1c0002level0_row4\" class=\"row_heading level0 row4\" >Não informado</th>\n",
              "                        <td id=\"T_88db18a8_5287_11eb_b236_0242ac1c0002row4_col0\" class=\"data row4 col0\" >0.02</td>\n",
              "                        <td id=\"T_88db18a8_5287_11eb_b236_0242ac1c0002row4_col1\" class=\"data row4 col1\" >0.04</td>\n",
              "                        <td id=\"T_88db18a8_5287_11eb_b236_0242ac1c0002row4_col2\" class=\"data row4 col2\" >0.03</td>\n",
              "                        <td id=\"T_88db18a8_5287_11eb_b236_0242ac1c0002row4_col3\" class=\"data row4 col3\" >0.01</td>\n",
              "                        <td id=\"T_88db18a8_5287_11eb_b236_0242ac1c0002row4_col4\" class=\"data row4 col4\" >0.01</td>\n",
              "                        <td id=\"T_88db18a8_5287_11eb_b236_0242ac1c0002row4_col5\" class=\"data row4 col5\" >0.00</td>\n",
              "                        <td id=\"T_88db18a8_5287_11eb_b236_0242ac1c0002row4_col6\" class=\"data row4 col6\" >0.04</td>\n",
              "                        <td id=\"T_88db18a8_5287_11eb_b236_0242ac1c0002row4_col7\" class=\"data row4 col7\" >0.18</td>\n",
              "                        <td id=\"T_88db18a8_5287_11eb_b236_0242ac1c0002row4_col8\" class=\"data row4 col8\" >0.76</td>\n",
              "            </tr>\n",
              "            <tr>\n",
              "                        <th id=\"T_88db18a8_5287_11eb_b236_0242ac1c0002level0_row5\" class=\"row_heading level0 row5\" >Satisfeito(a)</th>\n",
              "                        <td id=\"T_88db18a8_5287_11eb_b236_0242ac1c0002row5_col0\" class=\"data row5 col0\" >1.71</td>\n",
              "                        <td id=\"T_88db18a8_5287_11eb_b236_0242ac1c0002row5_col1\" class=\"data row5 col1\" >1.58</td>\n",
              "                        <td id=\"T_88db18a8_5287_11eb_b236_0242ac1c0002row5_col2\" class=\"data row5 col2\" >0.80</td>\n",
              "                        <td id=\"T_88db18a8_5287_11eb_b236_0242ac1c0002row5_col3\" class=\"data row5 col3\" >0.23</td>\n",
              "                        <td id=\"T_88db18a8_5287_11eb_b236_0242ac1c0002row5_col4\" class=\"data row5 col4\" >0.28</td>\n",
              "                        <td id=\"T_88db18a8_5287_11eb_b236_0242ac1c0002row5_col5\" class=\"data row5 col5\" >0.55</td>\n",
              "                        <td id=\"T_88db18a8_5287_11eb_b236_0242ac1c0002row5_col6\" class=\"data row5 col6\" >0.19</td>\n",
              "                        <td id=\"T_88db18a8_5287_11eb_b236_0242ac1c0002row5_col7\" class=\"data row5 col7\" >11.92</td>\n",
              "                        <td id=\"T_88db18a8_5287_11eb_b236_0242ac1c0002row5_col8\" class=\"data row5 col8\" >24.53</td>\n",
              "            </tr>\n",
              "    </tbody></table>"
            ],
            "text/plain": [
              "<pandas.io.formats.style.Styler at 0x7fab2f70ada0>"
            ]
          },
          "metadata": {
            "tags": []
          },
          "execution_count": 78
        }
      ]
    },
    {
      "cell_type": "code",
      "metadata": {
        "colab": {
          "base_uri": "https://localhost:8080/",
          "height": 458
        },
        "id": "iOcDd7azkL1I",
        "outputId": "ff53d326-689b-4660-b82f-9a4a02aefe25"
      },
      "source": [
        "#Outra forma de visualizar a mesma informação\r\n",
        "def plot_heatmap(cross_table, fmt='g'):\r\n",
        "    fig, ax = plt.subplots(figsize=(8, 5))\r\n",
        "    sns.heatmap(cross_table,\r\n",
        "                annot=True,\r\n",
        "                fmt=fmt,\r\n",
        "                cmap='rocket_r',\r\n",
        "                linewidths=.5,\r\n",
        "                ax=ax)\r\n",
        "    plt.show();\r\n",
        "    \r\n",
        "plot_heatmap(Satiscacao_Corpo_Bullying.round(2))"
      ],
      "execution_count": 80,
      "outputs": [
        {
          "output_type": "display_data",
          "data": {
            "image/png": "[encoded data removed]",
            "text/plain": [
              "<Figure size 576x360 with 2 Axes>"
            ]
          },
          "metadata": {
            "tags": [],
            "needs_background": "light"
          }
        }
      ]
    },
    {
      "cell_type": "markdown",
      "metadata": {
        "id": "Jj7t1TJGkzMG"
      },
      "source": [
        "Por final, observando a coluna de Satisfação do Corpo, vemos que as respostas dos alunos Insatisfeitos e Muito Insatisfeitos predominam na \"Aparência do meu corpo\"."
      ]
    },
    {
      "cell_type": "code",
      "metadata": {
        "colab": {
          "base_uri": "https://localhost:8080/",
          "height": 221
        },
        "id": "VieNQz2lkzfo",
        "outputId": "9130dc85-faef-420c-b15c-51c5c24d88ba"
      },
      "source": [
        "#E em relação aos insatisfeitos, quais serão os principais motivos de bullying?\r\n",
        "Satiscacao_Corpo_Bullying_2 = pd.crosstab(index = dados['Satisfacao_Corpo'], \\\r\n",
        "                                                     columns = dados['Motivo_Bullying'], normalize = 'index') * 100 #,aggfunc=np.mean, values = dados['IMC'] ).round(1)\r\n",
        "Satiscacao_Corpo_Bullying_2.round(2).style.format(\"{:,.2f}\").background_gradient(axis = 1, cmap = 'Reds')"
      ],
      "execution_count": 82,
      "outputs": [
        {
          "output_type": "execute_result",
          "data": {
            "text/html": [
              "<style  type=\"text/css\" >\n",
              "#T_448cd44c_5288_11eb_b236_0242ac1c0002row0_col0{\n",
              "            background-color:  #fcc3ab;\n",
              "            color:  #000000;\n",
              "        }#T_448cd44c_5288_11eb_b236_0242ac1c0002row0_col1{\n",
              "            background-color:  #fee5d8;\n",
              "            color:  #000000;\n",
              "        }#T_448cd44c_5288_11eb_b236_0242ac1c0002row0_col2,#T_448cd44c_5288_11eb_b236_0242ac1c0002row3_col0,#T_448cd44c_5288_11eb_b236_0242ac1c0002row4_col2{\n",
              "            background-color:  #ffeee7;\n",
              "            color:  #000000;\n",
              "        }#T_448cd44c_5288_11eb_b236_0242ac1c0002row0_col3,#T_448cd44c_5288_11eb_b236_0242ac1c0002row0_col5,#T_448cd44c_5288_11eb_b236_0242ac1c0002row3_col5,#T_448cd44c_5288_11eb_b236_0242ac1c0002row5_col2{\n",
              "            background-color:  #fff1ea;\n",
              "            color:  #000000;\n",
              "        }#T_448cd44c_5288_11eb_b236_0242ac1c0002row0_col4,#T_448cd44c_5288_11eb_b236_0242ac1c0002row5_col5{\n",
              "            background-color:  #fff3ed;\n",
              "            color:  #000000;\n",
              "        }#T_448cd44c_5288_11eb_b236_0242ac1c0002row0_col6,#T_448cd44c_5288_11eb_b236_0242ac1c0002row1_col4,#T_448cd44c_5288_11eb_b236_0242ac1c0002row1_col6,#T_448cd44c_5288_11eb_b236_0242ac1c0002row2_col6,#T_448cd44c_5288_11eb_b236_0242ac1c0002row3_col6,#T_448cd44c_5288_11eb_b236_0242ac1c0002row4_col5,#T_448cd44c_5288_11eb_b236_0242ac1c0002row5_col3,#T_448cd44c_5288_11eb_b236_0242ac1c0002row5_col4,#T_448cd44c_5288_11eb_b236_0242ac1c0002row5_col6{\n",
              "            background-color:  #fff5f0;\n",
              "            color:  #000000;\n",
              "        }#T_448cd44c_5288_11eb_b236_0242ac1c0002row0_col7{\n",
              "            background-color:  #e83429;\n",
              "            color:  #f1f1f1;\n",
              "        }#T_448cd44c_5288_11eb_b236_0242ac1c0002row0_col8,#T_448cd44c_5288_11eb_b236_0242ac1c0002row1_col8,#T_448cd44c_5288_11eb_b236_0242ac1c0002row2_col8,#T_448cd44c_5288_11eb_b236_0242ac1c0002row3_col8,#T_448cd44c_5288_11eb_b236_0242ac1c0002row4_col8,#T_448cd44c_5288_11eb_b236_0242ac1c0002row5_col8{\n",
              "            background-color:  #67000d;\n",
              "            color:  #f1f1f1;\n",
              "        }#T_448cd44c_5288_11eb_b236_0242ac1c0002row1_col0{\n",
              "            background-color:  #fcae92;\n",
              "            color:  #000000;\n",
              "        }#T_448cd44c_5288_11eb_b236_0242ac1c0002row1_col1{\n",
              "            background-color:  #fee6da;\n",
              "            color:  #000000;\n",
              "        }#T_448cd44c_5288_11eb_b236_0242ac1c0002row1_col2{\n",
              "            background-color:  #fff0e9;\n",
              "            color:  #000000;\n",
              "        }#T_448cd44c_5288_11eb_b236_0242ac1c0002row1_col3,#T_448cd44c_5288_11eb_b236_0242ac1c0002row4_col3{\n",
              "            background-color:  #fff2ec;\n",
              "            color:  #000000;\n",
              "        }#T_448cd44c_5288_11eb_b236_0242ac1c0002row1_col5,#T_448cd44c_5288_11eb_b236_0242ac1c0002row3_col3,#T_448cd44c_5288_11eb_b236_0242ac1c0002row4_col4{\n",
              "            background-color:  #fff4ee;\n",
              "            color:  #000000;\n",
              "        }#T_448cd44c_5288_11eb_b236_0242ac1c0002row1_col7{\n",
              "            background-color:  #f24633;\n",
              "            color:  #000000;\n",
              "        }#T_448cd44c_5288_11eb_b236_0242ac1c0002row2_col0{\n",
              "            background-color:  #f24734;\n",
              "            color:  #000000;\n",
              "        }#T_448cd44c_5288_11eb_b236_0242ac1c0002row2_col1{\n",
              "            background-color:  #fee0d2;\n",
              "            color:  #000000;\n",
              "        }#T_448cd44c_5288_11eb_b236_0242ac1c0002row2_col2{\n",
              "            background-color:  #fee7db;\n",
              "            color:  #000000;\n",
              "        }#T_448cd44c_5288_11eb_b236_0242ac1c0002row2_col3{\n",
              "            background-color:  #ffeee6;\n",
              "            color:  #000000;\n",
              "        }#T_448cd44c_5288_11eb_b236_0242ac1c0002row2_col4,#T_448cd44c_5288_11eb_b236_0242ac1c0002row3_col4{\n",
              "            background-color:  #fff4ef;\n",
              "            color:  #000000;\n",
              "        }#T_448cd44c_5288_11eb_b236_0242ac1c0002row2_col5,#T_448cd44c_5288_11eb_b236_0242ac1c0002row4_col0{\n",
              "            background-color:  #fff0e8;\n",
              "            color:  #000000;\n",
              "        }#T_448cd44c_5288_11eb_b236_0242ac1c0002row2_col7{\n",
              "            background-color:  #dd2a25;\n",
              "            color:  #f1f1f1;\n",
              "        }#T_448cd44c_5288_11eb_b236_0242ac1c0002row3_col1{\n",
              "            background-color:  #feeae1;\n",
              "            color:  #000000;\n",
              "        }#T_448cd44c_5288_11eb_b236_0242ac1c0002row3_col2,#T_448cd44c_5288_11eb_b236_0242ac1c0002row4_col6{\n",
              "            background-color:  #ffede5;\n",
              "            color:  #000000;\n",
              "        }#T_448cd44c_5288_11eb_b236_0242ac1c0002row3_col7{\n",
              "            background-color:  #fc9272;\n",
              "            color:  #000000;\n",
              "        }#T_448cd44c_5288_11eb_b236_0242ac1c0002row4_col1,#T_448cd44c_5288_11eb_b236_0242ac1c0002row5_col1{\n",
              "            background-color:  #ffece3;\n",
              "            color:  #000000;\n",
              "        }#T_448cd44c_5288_11eb_b236_0242ac1c0002row4_col7{\n",
              "            background-color:  #fcbfa7;\n",
              "            color:  #000000;\n",
              "        }#T_448cd44c_5288_11eb_b236_0242ac1c0002row5_col0{\n",
              "            background-color:  #ffebe2;\n",
              "            color:  #000000;\n",
              "        }#T_448cd44c_5288_11eb_b236_0242ac1c0002row5_col7{\n",
              "            background-color:  #fb7050;\n",
              "            color:  #000000;\n",
              "        }</style><table id=\"T_448cd44c_5288_11eb_b236_0242ac1c0002\" ><thead>    <tr>        <th class=\"index_name level0\" >Motivo_Bullying</th>        <th class=\"col_heading level0 col0\" >A aparência do meu corpo</th>        <th class=\"col_heading level0 col1\" >A aparência do meu rosto</th>        <th class=\"col_heading level0 col2\" >A minha cor ou raça</th>        <th class=\"col_heading level0 col3\" >A minha orientação sexual</th>        <th class=\"col_heading level0 col4\" >A minha região de origem</th>        <th class=\"col_heading level0 col5\" >A minha religião</th>        <th class=\"col_heading level0 col6\" >Não informado</th>        <th class=\"col_heading level0 col7\" >Outros motivos/causas</th>        <th class=\"col_heading level0 col8\" >Pulo no questionário</th>    </tr>    <tr>        <th class=\"index_name level0\" >Satisfacao_Corpo</th>        <th class=\"blank\" ></th>        <th class=\"blank\" ></th>        <th class=\"blank\" ></th>        <th class=\"blank\" ></th>        <th class=\"blank\" ></th>        <th class=\"blank\" ></th>        <th class=\"blank\" ></th>        <th class=\"blank\" ></th>        <th class=\"blank\" ></th>    </tr></thead><tbody>\n",
              "                <tr>\n",
              "                        <th id=\"T_448cd44c_5288_11eb_b236_0242ac1c0002level0_row0\" class=\"row_heading level0 row0\" >Indiferente</th>\n",
              "                        <td id=\"T_448cd44c_5288_11eb_b236_0242ac1c0002row0_col0\" class=\"data row0 col0\" >10.74</td>\n",
              "                        <td id=\"T_448cd44c_5288_11eb_b236_0242ac1c0002row0_col1\" class=\"data row0 col1\" >4.98</td>\n",
              "                        <td id=\"T_448cd44c_5288_11eb_b236_0242ac1c0002row0_col2\" class=\"data row0 col2\" >2.21</td>\n",
              "                        <td id=\"T_448cd44c_5288_11eb_b236_0242ac1c0002row0_col3\" class=\"data row0 col3\" >1.49</td>\n",
              "                        <td id=\"T_448cd44c_5288_11eb_b236_0242ac1c0002row0_col4\" class=\"data row0 col4\" >0.89</td>\n",
              "                        <td id=\"T_448cd44c_5288_11eb_b236_0242ac1c0002row0_col5\" class=\"data row0 col5\" >1.55</td>\n",
              "                        <td id=\"T_448cd44c_5288_11eb_b236_0242ac1c0002row0_col6\" class=\"data row0 col6\" >0.28</td>\n",
              "                        <td id=\"T_448cd44c_5288_11eb_b236_0242ac1c0002row0_col7\" class=\"data row0 col7\" >30.71</td>\n",
              "                        <td id=\"T_448cd44c_5288_11eb_b236_0242ac1c0002row0_col8\" class=\"data row0 col8\" >47.15</td>\n",
              "            </tr>\n",
              "            <tr>\n",
              "                        <th id=\"T_448cd44c_5288_11eb_b236_0242ac1c0002level0_row1\" class=\"row_heading level0 row1\" >Insatisfeito(a)</th>\n",
              "                        <td id=\"T_448cd44c_5288_11eb_b236_0242ac1c0002row1_col0\" class=\"data row1 col0\" >14.14</td>\n",
              "                        <td id=\"T_448cd44c_5288_11eb_b236_0242ac1c0002row1_col1\" class=\"data row1 col1\" >4.77</td>\n",
              "                        <td id=\"T_448cd44c_5288_11eb_b236_0242ac1c0002row1_col2\" class=\"data row1 col2\" >1.76</td>\n",
              "                        <td id=\"T_448cd44c_5288_11eb_b236_0242ac1c0002row1_col3\" class=\"data row1 col3\" >1.29</td>\n",
              "                        <td id=\"T_448cd44c_5288_11eb_b236_0242ac1c0002row1_col4\" class=\"data row1 col4\" >0.60</td>\n",
              "                        <td id=\"T_448cd44c_5288_11eb_b236_0242ac1c0002row1_col5\" class=\"data row1 col5\" >0.82</td>\n",
              "                        <td id=\"T_448cd44c_5288_11eb_b236_0242ac1c0002row1_col6\" class=\"data row1 col6\" >0.43</td>\n",
              "                        <td id=\"T_448cd44c_5288_11eb_b236_0242ac1c0002row1_col7\" class=\"data row1 col7\" >28.50</td>\n",
              "                        <td id=\"T_448cd44c_5288_11eb_b236_0242ac1c0002row1_col8\" class=\"data row1 col8\" >47.68</td>\n",
              "            </tr>\n",
              "            <tr>\n",
              "                        <th id=\"T_448cd44c_5288_11eb_b236_0242ac1c0002level0_row2\" class=\"row_heading level0 row2\" >Muito insatisfeito(a)</th>\n",
              "                        <td id=\"T_448cd44c_5288_11eb_b236_0242ac1c0002row2_col0\" class=\"data row2 col0\" >22.41</td>\n",
              "                        <td id=\"T_448cd44c_5288_11eb_b236_0242ac1c0002row2_col1\" class=\"data row2 col1\" >5.18</td>\n",
              "                        <td id=\"T_448cd44c_5288_11eb_b236_0242ac1c0002row2_col2\" class=\"data row2 col2\" >3.78</td>\n",
              "                        <td id=\"T_448cd44c_5288_11eb_b236_0242ac1c0002row2_col3\" class=\"data row2 col3\" >2.24</td>\n",
              "                        <td id=\"T_448cd44c_5288_11eb_b236_0242ac1c0002row2_col4\" class=\"data row2 col4\" >0.84</td>\n",
              "                        <td id=\"T_448cd44c_5288_11eb_b236_0242ac1c0002row2_col5\" class=\"data row2 col5\" >1.82</td>\n",
              "                        <td id=\"T_448cd44c_5288_11eb_b236_0242ac1c0002row2_col6\" class=\"data row2 col6\" >0.56</td>\n",
              "                        <td id=\"T_448cd44c_5288_11eb_b236_0242ac1c0002row2_col7\" class=\"data row2 col7\" >25.77</td>\n",
              "                        <td id=\"T_448cd44c_5288_11eb_b236_0242ac1c0002row2_col8\" class=\"data row2 col8\" >37.39</td>\n",
              "            </tr>\n",
              "            <tr>\n",
              "                        <th id=\"T_448cd44c_5288_11eb_b236_0242ac1c0002level0_row3\" class=\"row_heading level0 row3\" >Muito satisfeito(a)</th>\n",
              "                        <td id=\"T_448cd44c_5288_11eb_b236_0242ac1c0002row3_col0\" class=\"data row3 col0\" >3.04</td>\n",
              "                        <td id=\"T_448cd44c_5288_11eb_b236_0242ac1c0002row3_col1\" class=\"data row3 col1\" >4.32</td>\n",
              "                        <td id=\"T_448cd44c_5288_11eb_b236_0242ac1c0002row3_col2\" class=\"data row3 col2\" >3.41</td>\n",
              "                        <td id=\"T_448cd44c_5288_11eb_b236_0242ac1c0002row3_col3\" class=\"data row3 col3\" >1.02</td>\n",
              "                        <td id=\"T_448cd44c_5288_11eb_b236_0242ac1c0002row3_col4\" class=\"data row3 col4\" >0.76</td>\n",
              "                        <td id=\"T_448cd44c_5288_11eb_b236_0242ac1c0002row3_col5\" class=\"data row3 col5\" >1.95</td>\n",
              "                        <td id=\"T_448cd44c_5288_11eb_b236_0242ac1c0002row3_col6\" class=\"data row3 col6\" >0.48</td>\n",
              "                        <td id=\"T_448cd44c_5288_11eb_b236_0242ac1c0002row3_col7\" class=\"data row3 col7\" >23.50</td>\n",
              "                        <td id=\"T_448cd44c_5288_11eb_b236_0242ac1c0002row3_col8\" class=\"data row3 col8\" >61.52</td>\n",
              "            </tr>\n",
              "            <tr>\n",
              "                        <th id=\"T_448cd44c_5288_11eb_b236_0242ac1c0002level0_row4\" class=\"row_heading level0 row4\" >Não informado</th>\n",
              "                        <td id=\"T_448cd44c_5288_11eb_b236_0242ac1c0002row4_col0\" class=\"data row4 col0\" >2.21</td>\n",
              "                        <td id=\"T_448cd44c_5288_11eb_b236_0242ac1c0002row4_col1\" class=\"data row4 col1\" >3.87</td>\n",
              "                        <td id=\"T_448cd44c_5288_11eb_b236_0242ac1c0002row4_col2\" class=\"data row4 col2\" >2.76</td>\n",
              "                        <td id=\"T_448cd44c_5288_11eb_b236_0242ac1c0002row4_col3\" class=\"data row4 col3\" >1.10</td>\n",
              "                        <td id=\"T_448cd44c_5288_11eb_b236_0242ac1c0002row4_col4\" class=\"data row4 col4\" >0.55</td>\n",
              "                        <td id=\"T_448cd44c_5288_11eb_b236_0242ac1c0002row4_col5\" class=\"data row4 col5\" >0.00</td>\n",
              "                        <td id=\"T_448cd44c_5288_11eb_b236_0242ac1c0002row4_col6\" class=\"data row4 col6\" >3.31</td>\n",
              "                        <td id=\"T_448cd44c_5288_11eb_b236_0242ac1c0002row4_col7\" class=\"data row4 col7\" >16.57</td>\n",
              "                        <td id=\"T_448cd44c_5288_11eb_b236_0242ac1c0002row4_col8\" class=\"data row4 col8\" >69.61</td>\n",
              "            </tr>\n",
              "            <tr>\n",
              "                        <th id=\"T_448cd44c_5288_11eb_b236_0242ac1c0002level0_row5\" class=\"row_heading level0 row5\" >Satisfeito(a)</th>\n",
              "                        <td id=\"T_448cd44c_5288_11eb_b236_0242ac1c0002row5_col0\" class=\"data row5 col0\" >4.09</td>\n",
              "                        <td id=\"T_448cd44c_5288_11eb_b236_0242ac1c0002row5_col1\" class=\"data row5 col1\" >3.77</td>\n",
              "                        <td id=\"T_448cd44c_5288_11eb_b236_0242ac1c0002row5_col2\" class=\"data row5 col2\" >1.92</td>\n",
              "                        <td id=\"T_448cd44c_5288_11eb_b236_0242ac1c0002row5_col3\" class=\"data row5 col3\" >0.55</td>\n",
              "                        <td id=\"T_448cd44c_5288_11eb_b236_0242ac1c0002row5_col4\" class=\"data row5 col4\" >0.68</td>\n",
              "                        <td id=\"T_448cd44c_5288_11eb_b236_0242ac1c0002row5_col5\" class=\"data row5 col5\" >1.32</td>\n",
              "                        <td id=\"T_448cd44c_5288_11eb_b236_0242ac1c0002row5_col6\" class=\"data row5 col6\" >0.46</td>\n",
              "                        <td id=\"T_448cd44c_5288_11eb_b236_0242ac1c0002row5_col7\" class=\"data row5 col7\" >28.53</td>\n",
              "                        <td id=\"T_448cd44c_5288_11eb_b236_0242ac1c0002row5_col8\" class=\"data row5 col8\" >58.68</td>\n",
              "            </tr>\n",
              "    </tbody></table>"
            ],
            "text/plain": [
              "<pandas.io.formats.style.Styler at 0x7fab2f76fbe0>"
            ]
          },
          "metadata": {
            "tags": []
          },
          "execution_count": 82
        }
      ]
    },
    {
      "cell_type": "markdown",
      "metadata": {
        "id": "dC__jvBBlBAy"
      },
      "source": [
        "**Conclusão:** Apesarda maioria dos alunos responderem que não sofrem bullying, quando utilizamos os dados dos alunos que sofrem bullying, percebemos que o maior índice de bullying é em relação ao corpo do adolescente. Como indicativo adicional, vimos que o IMC, em geral, é equivalente ao sobrepeso. Podemos concluir que há um forte indício que poderíamos analisar mais a fundo utilizando novas bases de dados e avaliarmos com mais profundidade a relação entre o sobrepeso dos adolescentes e o bullying imposto pela sociedade para estas pessoas, que poderia resultar em ações de conscientização contra este tipo de abuso."
      ]
    },
    {
      "cell_type": "markdown",
      "metadata": {
        "id": "DUQMeHfwYsyY"
      },
      "source": [
        "###### **4) O racismo é frequente em relação aos principais motivos de bullying?**"
      ]
    },
    {
      "cell_type": "markdown",
      "metadata": {
        "id": "k4IJj5CfmZpw"
      },
      "source": [
        "Podemos relacionar o aumento de casos de racismo em 2020 com a prática de bullying racial já nas escolas?"
      ]
    },
    {
      "cell_type": "code",
      "metadata": {
        "colab": {
          "base_uri": "https://localhost:8080/",
          "height": 204
        },
        "id": "kZ4jtRsamYWL",
        "outputId": "4f126ca7-b564-4fb1-ed64-1fe243a1991f"
      },
      "source": [
        "#E o racismo, será que está entre os principais motivos de bullying?\r\n",
        "Satiscacao_Corpo_Bullying_3 = pd.crosstab(index = dados['Raça'], \\\r\n",
        "                                                     columns = dados['Motivo_Bullying'],  normalize = 'index') * 100\r\n",
        "Satiscacao_Corpo_Bullying_3.round(2).style.format(\"{:,.2f}\").background_gradient(axis = 1, cmap = 'Reds')"
      ],
      "execution_count": 83,
      "outputs": [
        {
          "output_type": "execute_result",
          "data": {
            "text/html": [
              "<style  type=\"text/css\" >\n",
              "#T_3ad3a998_5289_11eb_b236_0242ac1c0002row0_col0{\n",
              "            background-color:  #fedccd;\n",
              "            color:  #000000;\n",
              "        }#T_3ad3a998_5289_11eb_b236_0242ac1c0002row0_col1,#T_3ad3a998_5289_11eb_b236_0242ac1c0002row1_col1,#T_3ad3a998_5289_11eb_b236_0242ac1c0002row5_col0,#T_3ad3a998_5289_11eb_b236_0242ac1c0002row5_col1{\n",
              "            background-color:  #feeae1;\n",
              "            color:  #000000;\n",
              "        }#T_3ad3a998_5289_11eb_b236_0242ac1c0002row0_col2,#T_3ad3a998_5289_11eb_b236_0242ac1c0002row0_col5{\n",
              "            background-color:  #fff0e9;\n",
              "            color:  #000000;\n",
              "        }#T_3ad3a998_5289_11eb_b236_0242ac1c0002row0_col3,#T_3ad3a998_5289_11eb_b236_0242ac1c0002row1_col4,#T_3ad3a998_5289_11eb_b236_0242ac1c0002row2_col4,#T_3ad3a998_5289_11eb_b236_0242ac1c0002row4_col4{\n",
              "            background-color:  #fff4ef;\n",
              "            color:  #000000;\n",
              "        }#T_3ad3a998_5289_11eb_b236_0242ac1c0002row0_col4,#T_3ad3a998_5289_11eb_b236_0242ac1c0002row1_col5{\n",
              "            background-color:  #fff3ed;\n",
              "            color:  #000000;\n",
              "        }#T_3ad3a998_5289_11eb_b236_0242ac1c0002row0_col6,#T_3ad3a998_5289_11eb_b236_0242ac1c0002row1_col6,#T_3ad3a998_5289_11eb_b236_0242ac1c0002row2_col3,#T_3ad3a998_5289_11eb_b236_0242ac1c0002row2_col6,#T_3ad3a998_5289_11eb_b236_0242ac1c0002row3_col0,#T_3ad3a998_5289_11eb_b236_0242ac1c0002row3_col1,#T_3ad3a998_5289_11eb_b236_0242ac1c0002row3_col3,#T_3ad3a998_5289_11eb_b236_0242ac1c0002row3_col4,#T_3ad3a998_5289_11eb_b236_0242ac1c0002row3_col5,#T_3ad3a998_5289_11eb_b236_0242ac1c0002row4_col6,#T_3ad3a998_5289_11eb_b236_0242ac1c0002row5_col4,#T_3ad3a998_5289_11eb_b236_0242ac1c0002row5_col6{\n",
              "            background-color:  #fff5f0;\n",
              "            color:  #000000;\n",
              "        }#T_3ad3a998_5289_11eb_b236_0242ac1c0002row0_col7{\n",
              "            background-color:  #fb7c5c;\n",
              "            color:  #000000;\n",
              "        }#T_3ad3a998_5289_11eb_b236_0242ac1c0002row0_col8,#T_3ad3a998_5289_11eb_b236_0242ac1c0002row1_col8,#T_3ad3a998_5289_11eb_b236_0242ac1c0002row2_col8,#T_3ad3a998_5289_11eb_b236_0242ac1c0002row3_col8,#T_3ad3a998_5289_11eb_b236_0242ac1c0002row4_col8,#T_3ad3a998_5289_11eb_b236_0242ac1c0002row5_col8{\n",
              "            background-color:  #67000d;\n",
              "            color:  #f1f1f1;\n",
              "        }#T_3ad3a998_5289_11eb_b236_0242ac1c0002row1_col0{\n",
              "            background-color:  #fee1d3;\n",
              "            color:  #000000;\n",
              "        }#T_3ad3a998_5289_11eb_b236_0242ac1c0002row1_col2,#T_3ad3a998_5289_11eb_b236_0242ac1c0002row1_col3,#T_3ad3a998_5289_11eb_b236_0242ac1c0002row4_col3,#T_3ad3a998_5289_11eb_b236_0242ac1c0002row5_col3{\n",
              "            background-color:  #fff4ee;\n",
              "            color:  #000000;\n",
              "        }#T_3ad3a998_5289_11eb_b236_0242ac1c0002row1_col7{\n",
              "            background-color:  #f96044;\n",
              "            color:  #000000;\n",
              "        }#T_3ad3a998_5289_11eb_b236_0242ac1c0002row2_col0{\n",
              "            background-color:  #fee4d8;\n",
              "            color:  #000000;\n",
              "        }#T_3ad3a998_5289_11eb_b236_0242ac1c0002row2_col1{\n",
              "            background-color:  #ffebe2;\n",
              "            color:  #000000;\n",
              "        }#T_3ad3a998_5289_11eb_b236_0242ac1c0002row2_col2{\n",
              "            background-color:  #ffeee6;\n",
              "            color:  #000000;\n",
              "        }#T_3ad3a998_5289_11eb_b236_0242ac1c0002row2_col5,#T_3ad3a998_5289_11eb_b236_0242ac1c0002row4_col5{\n",
              "            background-color:  #fff2ec;\n",
              "            color:  #000000;\n",
              "        }#T_3ad3a998_5289_11eb_b236_0242ac1c0002row2_col7{\n",
              "            background-color:  #fb7555;\n",
              "            color:  #000000;\n",
              "        }#T_3ad3a998_5289_11eb_b236_0242ac1c0002row3_col2{\n",
              "            background-color:  #fdc6b0;\n",
              "            color:  #000000;\n",
              "        }#T_3ad3a998_5289_11eb_b236_0242ac1c0002row3_col6{\n",
              "            background-color:  #fee9df;\n",
              "            color:  #000000;\n",
              "        }#T_3ad3a998_5289_11eb_b236_0242ac1c0002row3_col7{\n",
              "            background-color:  #fc9879;\n",
              "            color:  #000000;\n",
              "        }#T_3ad3a998_5289_11eb_b236_0242ac1c0002row4_col0{\n",
              "            background-color:  #fee2d5;\n",
              "            color:  #000000;\n",
              "        }#T_3ad3a998_5289_11eb_b236_0242ac1c0002row4_col1{\n",
              "            background-color:  #fee8de;\n",
              "            color:  #000000;\n",
              "        }#T_3ad3a998_5289_11eb_b236_0242ac1c0002row4_col2,#T_3ad3a998_5289_11eb_b236_0242ac1c0002row5_col5{\n",
              "            background-color:  #fff1ea;\n",
              "            color:  #000000;\n",
              "        }#T_3ad3a998_5289_11eb_b236_0242ac1c0002row4_col7{\n",
              "            background-color:  #fb7050;\n",
              "            color:  #000000;\n",
              "        }#T_3ad3a998_5289_11eb_b236_0242ac1c0002row5_col2{\n",
              "            background-color:  #fedaca;\n",
              "            color:  #000000;\n",
              "        }#T_3ad3a998_5289_11eb_b236_0242ac1c0002row5_col7{\n",
              "            background-color:  #fc9b7c;\n",
              "            color:  #000000;\n",
              "        }</style><table id=\"T_3ad3a998_5289_11eb_b236_0242ac1c0002\" ><thead>    <tr>        <th class=\"index_name level0\" >Motivo_Bullying</th>        <th class=\"col_heading level0 col0\" >A aparência do meu corpo</th>        <th class=\"col_heading level0 col1\" >A aparência do meu rosto</th>        <th class=\"col_heading level0 col2\" >A minha cor ou raça</th>        <th class=\"col_heading level0 col3\" >A minha orientação sexual</th>        <th class=\"col_heading level0 col4\" >A minha região de origem</th>        <th class=\"col_heading level0 col5\" >A minha religião</th>        <th class=\"col_heading level0 col6\" >Não informado</th>        <th class=\"col_heading level0 col7\" >Outros motivos/causas</th>        <th class=\"col_heading level0 col8\" >Pulo no questionário</th>    </tr>    <tr>        <th class=\"index_name level0\" >Raça</th>        <th class=\"blank\" ></th>        <th class=\"blank\" ></th>        <th class=\"blank\" ></th>        <th class=\"blank\" ></th>        <th class=\"blank\" ></th>        <th class=\"blank\" ></th>        <th class=\"blank\" ></th>        <th class=\"blank\" ></th>        <th class=\"blank\" ></th>    </tr></thead><tbody>\n",
              "                <tr>\n",
              "                        <th id=\"T_3ad3a998_5289_11eb_b236_0242ac1c0002level0_row0\" class=\"row_heading level0 row0\" >Amarela</th>\n",
              "                        <td id=\"T_3ad3a998_5289_11eb_b236_0242ac1c0002row0_col0\" class=\"data row0 col0\" >8.15</td>\n",
              "                        <td id=\"T_3ad3a998_5289_11eb_b236_0242ac1c0002row0_col1\" class=\"data row0 col1\" >3.93</td>\n",
              "                        <td id=\"T_3ad3a998_5289_11eb_b236_0242ac1c0002row0_col2\" class=\"data row0 col2\" >1.97</td>\n",
              "                        <td id=\"T_3ad3a998_5289_11eb_b236_0242ac1c0002row0_col3\" class=\"data row0 col3\" >0.70</td>\n",
              "                        <td id=\"T_3ad3a998_5289_11eb_b236_0242ac1c0002row0_col4\" class=\"data row0 col4\" >1.12</td>\n",
              "                        <td id=\"T_3ad3a998_5289_11eb_b236_0242ac1c0002row0_col5\" class=\"data row0 col5\" >2.11</td>\n",
              "                        <td id=\"T_3ad3a998_5289_11eb_b236_0242ac1c0002row0_col6\" class=\"data row0 col6\" >0.42</td>\n",
              "                        <td id=\"T_3ad3a998_5289_11eb_b236_0242ac1c0002row0_col7\" class=\"data row0 col7\" >25.28</td>\n",
              "                        <td id=\"T_3ad3a998_5289_11eb_b236_0242ac1c0002row0_col8\" class=\"data row0 col8\" >56.32</td>\n",
              "            </tr>\n",
              "            <tr>\n",
              "                        <th id=\"T_3ad3a998_5289_11eb_b236_0242ac1c0002level0_row1\" class=\"row_heading level0 row1\" >Branca</th>\n",
              "                        <td id=\"T_3ad3a998_5289_11eb_b236_0242ac1c0002row1_col0\" class=\"data row1 col0\" >7.30</td>\n",
              "                        <td id=\"T_3ad3a998_5289_11eb_b236_0242ac1c0002row1_col1\" class=\"data row1 col1\" >4.02</td>\n",
              "                        <td id=\"T_3ad3a998_5289_11eb_b236_0242ac1c0002row1_col2\" class=\"data row1 col2\" >1.00</td>\n",
              "                        <td id=\"T_3ad3a998_5289_11eb_b236_0242ac1c0002row1_col3\" class=\"data row1 col3\" >0.96</td>\n",
              "                        <td id=\"T_3ad3a998_5289_11eb_b236_0242ac1c0002row1_col4\" class=\"data row1 col4\" >0.76</td>\n",
              "                        <td id=\"T_3ad3a998_5289_11eb_b236_0242ac1c0002row1_col5\" class=\"data row1 col5\" >1.25</td>\n",
              "                        <td id=\"T_3ad3a998_5289_11eb_b236_0242ac1c0002row1_col6\" class=\"data row1 col6\" >0.52</td>\n",
              "                        <td id=\"T_3ad3a998_5289_11eb_b236_0242ac1c0002row1_col7\" class=\"data row1 col7\" >29.13</td>\n",
              "                        <td id=\"T_3ad3a998_5289_11eb_b236_0242ac1c0002row1_col8\" class=\"data row1 col8\" >55.07</td>\n",
              "            </tr>\n",
              "            <tr>\n",
              "                        <th id=\"T_3ad3a998_5289_11eb_b236_0242ac1c0002level0_row2\" class=\"row_heading level0 row2\" >Indígena</th>\n",
              "                        <td id=\"T_3ad3a998_5289_11eb_b236_0242ac1c0002row2_col0\" class=\"data row2 col0\" >6.37</td>\n",
              "                        <td id=\"T_3ad3a998_5289_11eb_b236_0242ac1c0002row2_col1\" class=\"data row2 col1\" >4.13</td>\n",
              "                        <td id=\"T_3ad3a998_5289_11eb_b236_0242ac1c0002row2_col2\" class=\"data row2 col2\" >3.10</td>\n",
              "                        <td id=\"T_3ad3a998_5289_11eb_b236_0242ac1c0002row2_col3\" class=\"data row2 col3\" >0.86</td>\n",
              "                        <td id=\"T_3ad3a998_5289_11eb_b236_0242ac1c0002row2_col4\" class=\"data row2 col4\" >1.03</td>\n",
              "                        <td id=\"T_3ad3a998_5289_11eb_b236_0242ac1c0002row2_col5\" class=\"data row2 col5\" >1.72</td>\n",
              "                        <td id=\"T_3ad3a998_5289_11eb_b236_0242ac1c0002row2_col6\" class=\"data row2 col6\" >0.69</td>\n",
              "                        <td id=\"T_3ad3a998_5289_11eb_b236_0242ac1c0002row2_col7\" class=\"data row2 col7\" >26.33</td>\n",
              "                        <td id=\"T_3ad3a998_5289_11eb_b236_0242ac1c0002row2_col8\" class=\"data row2 col8\" >55.77</td>\n",
              "            </tr>\n",
              "            <tr>\n",
              "                        <th id=\"T_3ad3a998_5289_11eb_b236_0242ac1c0002level0_row3\" class=\"row_heading level0 row3\" >Não informado</th>\n",
              "                        <td id=\"T_3ad3a998_5289_11eb_b236_0242ac1c0002row3_col0\" class=\"data row3 col0\" >0.00</td>\n",
              "                        <td id=\"T_3ad3a998_5289_11eb_b236_0242ac1c0002row3_col1\" class=\"data row3 col1\" >0.00</td>\n",
              "                        <td id=\"T_3ad3a998_5289_11eb_b236_0242ac1c0002row3_col2\" class=\"data row3 col2\" >13.04</td>\n",
              "                        <td id=\"T_3ad3a998_5289_11eb_b236_0242ac1c0002row3_col3\" class=\"data row3 col3\" >0.00</td>\n",
              "                        <td id=\"T_3ad3a998_5289_11eb_b236_0242ac1c0002row3_col4\" class=\"data row3 col4\" >0.00</td>\n",
              "                        <td id=\"T_3ad3a998_5289_11eb_b236_0242ac1c0002row3_col5\" class=\"data row3 col5\" >0.00</td>\n",
              "                        <td id=\"T_3ad3a998_5289_11eb_b236_0242ac1c0002row3_col6\" class=\"data row3 col6\" >4.35</td>\n",
              "                        <td id=\"T_3ad3a998_5289_11eb_b236_0242ac1c0002row3_col7\" class=\"data row3 col7\" >21.74</td>\n",
              "                        <td id=\"T_3ad3a998_5289_11eb_b236_0242ac1c0002row3_col8\" class=\"data row3 col8\" >60.87</td>\n",
              "            </tr>\n",
              "            <tr>\n",
              "                        <th id=\"T_3ad3a998_5289_11eb_b236_0242ac1c0002level0_row4\" class=\"row_heading level0 row4\" >Parda</th>\n",
              "                        <td id=\"T_3ad3a998_5289_11eb_b236_0242ac1c0002row4_col0\" class=\"data row4 col0\" >6.74</td>\n",
              "                        <td id=\"T_3ad3a998_5289_11eb_b236_0242ac1c0002row4_col1\" class=\"data row4 col1\" >4.59</td>\n",
              "                        <td id=\"T_3ad3a998_5289_11eb_b236_0242ac1c0002row4_col2\" class=\"data row4 col2\" >1.92</td>\n",
              "                        <td id=\"T_3ad3a998_5289_11eb_b236_0242ac1c0002row4_col3\" class=\"data row4 col3\" >0.97</td>\n",
              "                        <td id=\"T_3ad3a998_5289_11eb_b236_0242ac1c0002row4_col4\" class=\"data row4 col4\" >0.64</td>\n",
              "                        <td id=\"T_3ad3a998_5289_11eb_b236_0242ac1c0002row4_col5\" class=\"data row4 col5\" >1.47</td>\n",
              "                        <td id=\"T_3ad3a998_5289_11eb_b236_0242ac1c0002row4_col6\" class=\"data row4 col6\" >0.42</td>\n",
              "                        <td id=\"T_3ad3a998_5289_11eb_b236_0242ac1c0002row4_col7\" class=\"data row4 col7\" >27.28</td>\n",
              "                        <td id=\"T_3ad3a998_5289_11eb_b236_0242ac1c0002row4_col8\" class=\"data row4 col8\" >55.98</td>\n",
              "            </tr>\n",
              "            <tr>\n",
              "                        <th id=\"T_3ad3a998_5289_11eb_b236_0242ac1c0002level0_row5\" class=\"row_heading level0 row5\" >Preta</th>\n",
              "                        <td id=\"T_3ad3a998_5289_11eb_b236_0242ac1c0002row5_col0\" class=\"data row5 col0\" >4.23</td>\n",
              "                        <td id=\"T_3ad3a998_5289_11eb_b236_0242ac1c0002row5_col1\" class=\"data row5 col1\" >4.13</td>\n",
              "                        <td id=\"T_3ad3a998_5289_11eb_b236_0242ac1c0002row5_col2\" class=\"data row5 col2\" >8.92</td>\n",
              "                        <td id=\"T_3ad3a998_5289_11eb_b236_0242ac1c0002row5_col3\" class=\"data row5 col3\" >1.13</td>\n",
              "                        <td id=\"T_3ad3a998_5289_11eb_b236_0242ac1c0002row5_col4\" class=\"data row5 col4\" >0.62</td>\n",
              "                        <td id=\"T_3ad3a998_5289_11eb_b236_0242ac1c0002row5_col5\" class=\"data row5 col5\" >1.81</td>\n",
              "                        <td id=\"T_3ad3a998_5289_11eb_b236_0242ac1c0002row5_col6\" class=\"data row5 col6\" >0.46</td>\n",
              "                        <td id=\"T_3ad3a998_5289_11eb_b236_0242ac1c0002row5_col7\" class=\"data row5 col7\" >20.68</td>\n",
              "                        <td id=\"T_3ad3a998_5289_11eb_b236_0242ac1c0002row5_col8\" class=\"data row5 col8\" >58.02</td>\n",
              "            </tr>\n",
              "    </tbody></table>"
            ],
            "text/plain": [
              "<pandas.io.formats.style.Styler at 0x7fab2cd4b518>"
            ]
          },
          "metadata": {
            "tags": []
          },
          "execution_count": 83
        }
      ]
    },
    {
      "cell_type": "markdown",
      "metadata": {
        "id": "L5mLYrazm1yC"
      },
      "source": [
        "**Conclusão:** Como vemos, a raça com maior representatividade de casos de bullying na categoria \"A minha cor ou raça\" é na raça Negra. Olhando os dados de 2015 e os casos de racismo recentes, podemos ver que o racismo é um problema sério a ser combatido já nas escolas, enquanto as crianças -os futuros adultos- estão sendo formados."
      ]
    },
    {
      "cell_type": "markdown",
      "metadata": {
        "id": "VCEFJVo3YtK4"
      },
      "source": [
        "###### **5) Os alunos de escola pública costumam gastar mais tempo de deslocamento no dia a dia?**"
      ]
    },
    {
      "cell_type": "markdown",
      "metadata": {
        "id": "ZpcQ_fpJovEU"
      },
      "source": [
        "Demonstramos abaixo uma distribuição dos tempos de deslocamento diário dos estudantes. "
      ]
    },
    {
      "cell_type": "code",
      "metadata": {
        "colab": {
          "base_uri": "https://localhost:8080/",
          "height": 350
        },
        "id": "ATsiKLNZosHF",
        "outputId": "c5949fca-9c93-4893-8400-ad800f8a4acb"
      },
      "source": [
        "mean =dados['DeslocDiario'].mean()\r\n",
        "median =dados['DeslocDiario'].median()\r\n",
        "mode =dados['DeslocDiario'].mode()\r\n",
        "\r\n",
        "ax = sns.histplot(data = dados, x = dados['DeslocDiario'], palette='pastel')\r\n",
        "ax.axvline(mean, color='r', linestyle='--')\r\n",
        "ax.axvline(median, color='g', linestyle='-')\r\n",
        "ax.axvline(mode[0], color='black', linestyle='-')\r\n",
        "plt.legend({'Média':mean,'Mediana':median,'Moda':mode})\r\n",
        "ax.set_title('Distribuição do Tempo de Deslocamento gasto pelos Alunos, em minutos')\r\n",
        "ax.figure.set_size_inches(10, 5)"
      ],
      "execution_count": 84,
      "outputs": [
        {
          "output_type": "display_data",
          "data": {
            "image/png": "[encoded data removed]",
            "text/plain": [
              "<Figure size 720x360 with 1 Axes>"
            ]
          },
          "metadata": {
            "tags": [],
            "needs_background": "light"
          }
        }
      ]
    },
    {
      "cell_type": "markdown",
      "metadata": {
        "id": "q8C1Ne9XpId8"
      },
      "source": [
        "Entretanto, a Moda indica que o valor mais utilizado é 0. Como é extremamente incomum a maioria das pessoas gastarem 0 minutos de deslocamento diário, iremos retirar os zeros para refazer a mesma análise."
      ]
    },
    {
      "cell_type": "code",
      "metadata": {
        "colab": {
          "base_uri": "https://localhost:8080/",
          "height": 350
        },
        "id": "XeY7Xt3apJzP",
        "outputId": "8da0d993-979b-4eab-f527-d23f5252a1c7"
      },
      "source": [
        "dados_deslocamento = dados[dados['DeslocDiario'] != 0]\r\n",
        "\r\n",
        "mean =dados_deslocamento['DeslocDiario'].mean()\r\n",
        "median =dados_deslocamento['DeslocDiario'].median()\r\n",
        "mode =dados_deslocamento['DeslocDiario'].mode()\r\n",
        "\r\n",
        "ax = sns.histplot(data = dados_deslocamento, x = dados_deslocamento['DeslocDiario'], palette='pastel')\r\n",
        "ax.axvline(mean, color='r', linestyle='--')\r\n",
        "ax.axvline(median, color='g', linestyle='-')\r\n",
        "ax.axvline(mode[0], color='black', linestyle='-')\r\n",
        "plt.legend({'Média':mean,'Mediana':median,'Moda':mode})\r\n",
        "ax.set_title('Distribuição do Tempo de Deslocamento gasto pelos Alunos, em minutos')\r\n",
        "ax.figure.set_size_inches(10, 5)"
      ],
      "execution_count": 85,
      "outputs": [
        {
          "output_type": "display_data",
          "data": {
            "image/png": "[encoded data removed]",
            "text/plain": [
              "<Figure size 720x360 with 1 Axes>"
            ]
          },
          "metadata": {
            "tags": [],
            "needs_background": "light"
          }
        }
      ]
    },
    {
      "cell_type": "code",
      "metadata": {
        "colab": {
          "base_uri": "https://localhost:8080/"
        },
        "id": "rqjaBnTPpysF",
        "outputId": "8ff91ca4-fa01-4f60-e4e5-d58dc6d292c2"
      },
      "source": [
        "print(\"Média de Deslocamento: \",mean)\r\n",
        "print(\"Moda de Deslocamento: \",mode)"
      ],
      "execution_count": 88,
      "outputs": [
        {
          "output_type": "stream",
          "text": [
            "Média de Deslocamento:  124.59165335463258\n",
            "Moda de Deslocamento:  0    50.0\n",
            "dtype: float64\n"
          ],
          "name": "stdout"
        }
      ]
    },
    {
      "cell_type": "code",
      "metadata": {
        "colab": {
          "base_uri": "https://localhost:8080/",
          "height": 542
        },
        "id": "QTOuaGDbpehu",
        "outputId": "0f0e9e17-d0d0-4b15-af72-93fe2222b666"
      },
      "source": [
        "#Boxplot com Pyplot Express\r\n",
        "fig = px.box(dados_deslocamento, y=\"DeslocDiario\", points=\"all\", title = \"Distribuição dos Deslocamentos Diários\")\r\n",
        "fig.show()"
      ],
      "execution_count": 87,
      "outputs": [
        {
          "output_type": "display_data",
          "data": {
            "text/html": [
              "<html>\n",
              "<head><meta charset=\"utf-8\" /></head>\n",
              "<body>\n",
              "    <div>\n",
              "            <script src=\"https://cdnjs.cloudflare.com/ajax/libs/mathjax/2.7.5/MathJax.js?config=TeX-AMS-MML_SVG\"></script><script type=\"text/javascript\">if (window.MathJax) {MathJax.Hub.Config({SVG: {font: \"STIX-Web\"}});}</script>\n",
              "                <script type=\"text/javascript\">window.PlotlyConfig = {MathJaxConfig: 'local'};</script>\n",
              "        <script src=\"https://cdn.plot.ly/plotly-latest.min.js\"></script>    \n",
              "            <div id=\"59ee41cc-6944-4f96-b24e-a5f566327100\" class=\"plotly-graph-div\" style=\"height:525px; width:100%;\"></div>\n",
              "            <script type=\"text/javascript\">\n",
              "                \n",
              "                    window.PLOTLYENV=window.PLOTLYENV || {};\n",
              "                    \n",
              "                if (document.getElementById(\"59ee41cc-6944-4f96-b24e-a5f566327100\")) {\n",
              "                    Plotly.newPlot(\n",
              "                        '59ee41cc-6944-4f96-b24e-a5f566327100',\n",
              "                        [{\"alignmentgroup\": \"True\", \"boxpoints\": \"all\", \"hoverlabel\": {\"namelength\": 0}, \"hovertemplate\": \"DeslocDiario=%{y}\", \"legendgroup\": \"\", \"marker\": {\"color\": \"#636efa\"}, \"name\": \"\", \"notched\": false, \"offsetgroup\": \"\", \"orientation\": \"v\", \"showlegend\": false, \"type\": \"box\", \"x0\": \" \", \"xaxis\": \"x\", \"y\": [120.0, 30.0, 35.0, 5.0, 5.0, 150.0, 30.0, 220.0, 25.0, 25.0, 45.0, 25.0, 100.0, 175.0, 35.0, 165.0, 105.0, 50.0, 50.0, 150.0, 90.0, 70.0, 50.0, 125.0, 5.0, 80.0, 45.0, 10.0, 60.0, 330.0, 90.0, 30.0, 25.0, 360.0, 70.0, 45.0, 70.0, 75.0, 75.0, 35.0, 5.0, 250.0, 45.0, 210.0, 515.0, 50.0, 200.0, 150.0, 60.0, 150.0, 165.0, 50.0, 70.0, 30.0, 280.0, 60.0, 275.0, 50.0, 480.0, 5.0, 150.0, 245.0, 50.0, 135.0, 50.0, 35.0, 25.0, 15.0, 60.0, 25.0, 150.0, 15.0, 60.0, 25.0, 15.0, 50.0, 150.0, 55.0, 250.0, 265.0, 210.0, 290.0, 90.0, 70.0, 30.0, 300.0, 10.0, 30.0, 250.0, 45.0, 25.0, 210.0, 70.0, 125.0, 350.0, 70.0, 70.0, 280.0, 120.0, 165.0, 280.0, 55.0, 150.0, 60.0, 100.0, 70.0, 35.0, 120.0, 15.0, 50.0, 65.0, 50.0, 150.0, 360.0, 65.0, 50.0, 60.0, 55.0, 150.0, 45.0, 100.0, 165.0, 180.0, 15.0, 140.0, 85.0, 75.0, 230.0, 140.0, 100.0, 165.0, 100.0, 180.0, 50.0, 15.0, 45.0, 50.0, 50.0, 70.0, 125.0, 60.0, 210.0, 210.0, 120.0, 100.0, 10.0, 120.0, 35.0, 50.0, 25.0, 35.0, 175.0, 50.0, 70.0, 5.0, 50.0, 25.0, 50.0, 130.0, 70.0, 10.0, 30.0, 25.0, 415.0, 15.0, 50.0, 120.0, 35.0, 560.0, 40.0, 125.0, 35.0, 50.0, 40.0, 100.0, 50.0, 30.0, 165.0, 455.0, 50.0, 55.0, 70.0, 50.0, 390.0, 50.0, 50.0, 50.0, 30.0, 60.0, 70.0, 50.0, 70.0, 210.0, 50.0, 180.0, 50.0, 210.0, 350.0, 350.0, 70.0, 125.0, 210.0, 75.0, 60.0, 390.0, 60.0, 50.0, 210.0, 140.0, 45.0, 250.0, 60.0, 25.0, 95.0, 300.0, 100.0, 50.0, 150.0, 100.0, 70.0, 200.0, 80.0, 100.0, 300.0, 70.0, 150.0, 65.0, 50.0, 15.0, 150.0, 50.0, 150.0, 30.0, 150.0, 60.0, 45.0, 150.0, 25.0, 5.0, 20.0, 70.0, 90.0, 350.0, 325.0, 65.0, 5.0, 5.0, 55.0, 50.0, 50.0, 100.0, 55.0, 95.0, 50.0, 50.0, 200.0, 50.0, 65.0, 60.0, 300.0, 210.0, 50.0, 120.0, 90.0, 30.0, 210.0, 350.0, 80.0, 30.0, 70.0, 50.0, 200.0, 50.0, 105.0, 50.0, 180.0, 70.0, 50.0, 70.0, 265.0, 30.0, 105.0, 240.0, 180.0, 105.0, 95.0, 150.0, 250.0, 250.0, 165.0, 50.0, 225.0, 150.0, 195.0, 180.0, 30.0, 60.0, 125.0, 70.0, 50.0, 230.0, 90.0, 120.0, 50.0, 50.0, 210.0, 55.0, 45.0, 60.0, 50.0, 65.0, 35.0, 50.0, 25.0, 70.0, 35.0, 25.0, 10.0, 50.0, 480.0, 30.0, 180.0, 50.0, 65.0, 65.0, 100.0, 5.0, 150.0, 50.0, 35.0, 50.0, 50.0, 50.0, 60.0, 60.0, 5.0, 20.0, 150.0, 30.0, 15.0, 50.0, 15.0, 150.0, 300.0, 50.0, 5.0, 5.0, 35.0, 15.0, 10.0, 235.0, 60.0, 70.0, 150.0, 250.0, 65.0, 60.0, 55.0, 250.0, 35.0, 225.0, 490.0, 175.0, 5.0, 455.0, 180.0, 150.0, 30.0, 110.0, 50.0, 450.0, 150.0, 150.0, 60.0, 25.0, 50.0, 50.0, 120.0, 150.0, 50.0, 70.0, 70.0, 75.0, 70.0, 715.0, 195.0, 70.0, 40.0, 50.0, 60.0, 60.0, 270.0, 10.0, 100.0, 50.0, 30.0, 250.0, 70.0, 205.0, 20.0, 250.0, 25.0, 30.0, 455.0, 30.0, 25.0, 50.0, 560.0, 150.0, 90.0, 135.0, 60.0, 100.0, 150.0, 50.0, 455.0, 105.0, 80.0, 150.0, 50.0, 70.0, 50.0, 70.0, 50.0, 50.0, 50.0, 10.0, 15.0, 25.0, 70.0, 50.0, 265.0, 210.0, 150.0, 70.0, 50.0, 105.0, 210.0, 180.0, 70.0, 55.0, 60.0, 30.0, 35.0, 10.0, 395.0, 60.0, 35.0, 275.0, 90.0, 70.0, 285.0, 120.0, 125.0, 60.0, 5.0, 75.0, 30.0, 50.0, 110.0, 50.0, 200.0, 150.0, 50.0, 250.0, 150.0, 90.0, 75.0, 5.0, 130.0, 150.0, 50.0, 100.0, 50.0, 70.0, 180.0, 50.0, 600.0, 210.0, 50.0, 75.0, 50.0, 120.0, 235.0, 60.0, 150.0, 150.0, 350.0, 400.0, 90.0, 50.0, 60.0, 50.0, 350.0, 175.0, 150.0, 100.0, 70.0, 225.0, 10.0, 45.0, 180.0, 300.0, 300.0, 15.0, 150.0, 70.0, 35.0, 180.0, 65.0, 105.0, 150.0, 120.0, 25.0, 140.0, 25.0, 210.0, 60.0, 150.0, 90.0, 490.0, 15.0, 195.0, 30.0, 50.0, 65.0, 175.0, 30.0, 120.0, 25.0, 100.0, 30.0, 45.0, 25.0, 180.0, 65.0, 150.0, 70.0, 45.0, 25.0, 55.0, 50.0, 10.0, 10.0, 30.0, 45.0, 20.0, 50.0, 75.0, 120.0, 35.0, 50.0, 5.0, 50.0, 50.0, 35.0, 185.0, 25.0, 25.0, 70.0, 10.0, 20.0, 70.0, 105.0, 10.0, 35.0, 10.0, 400.0, 75.0, 40.0, 425.0, 35.0, 50.0, 175.0, 70.0, 50.0, 150.0, 400.0, 100.0, 70.0, 400.0, 15.0, 65.0, 110.0, 150.0, 60.0, 50.0, 25.0, 50.0, 150.0, 50.0, 85.0, 125.0, 50.0, 150.0, 50.0, 60.0, 125.0, 25.0, 50.0, 150.0, 125.0, 210.0, 50.0, 50.0, 85.0, 5.0, 25.0, 175.0, 150.0, 210.0, 50.0, 75.0, 25.0, 50.0, 150.0, 50.0, 50.0, 150.0, 120.0, 60.0, 665.0, 350.0, 50.0, 175.0, 70.0, 300.0, 30.0, 250.0, 175.0, 50.0, 25.0, 250.0, 30.0, 100.0, 100.0, 420.0, 100.0, 350.0, 140.0, 200.0, 165.0, 140.0, 80.0, 150.0, 50.0, 350.0, 250.0, 50.0, 35.0, 250.0, 100.0, 100.0, 30.0, 30.0, 50.0, 350.0, 150.0, 250.0, 250.0, 300.0, 300.0, 120.0, 175.0, 300.0, 150.0, 50.0, 225.0, 175.0, 200.0, 150.0, 250.0, 60.0, 150.0, 240.0, 105.0, 150.0, 140.0, 150.0, 100.0, 150.0, 140.0, 150.0, 135.0, 50.0, 315.0, 70.0, 195.0, 455.0, 65.0, 90.0, 150.0, 25.0, 150.0, 115.0, 5.0, 210.0, 40.0, 315.0, 100.0, 10.0, 50.0, 55.0, 360.0, 100.0, 60.0, 55.0, 175.0, 50.0, 455.0, 50.0, 5.0, 105.0, 35.0, 150.0, 105.0, 400.0, 20.0, 75.0, 90.0, 50.0, 25.0, 100.0, 45.0, 100.0, 105.0, 50.0, 70.0, 250.0, 30.0, 100.0, 200.0, 30.0, 50.0, 315.0, 180.0, 400.0, 50.0, 25.0, 50.0, 60.0, 75.0, 105.0, 205.0, 150.0, 450.0, 60.0, 250.0, 35.0, 40.0, 60.0, 35.0, 45.0, 55.0, 450.0, 150.0, 210.0, 225.0, 140.0, 70.0, 50.0, 50.0, 150.0, 125.0, 15.0, 45.0, 225.0, 125.0, 25.0, 455.0, 385.0, 150.0, 45.0, 35.0, 200.0, 65.0, 45.0, 5.0, 70.0, 5.0, 35.0, 5.0, 20.0, 130.0, 55.0, 70.0, 455.0, 65.0, 35.0, 210.0, 300.0, 130.0, 65.0, 10.0, 280.0, 650.0, 70.0, 40.0, 5.0, 35.0, 20.0, 35.0, 50.0, 40.0, 50.0, 120.0, 60.0, 50.0, 70.0, 130.0, 165.0, 10.0, 210.0, 50.0, 125.0, 70.0, 65.0, 50.0, 50.0, 400.0, 150.0, 25.0, 100.0, 175.0, 50.0, 50.0, 300.0, 50.0, 40.0, 105.0, 150.0, 275.0, 50.0, 100.0, 355.0, 50.0, 70.0, 40.0, 150.0, 130.0, 150.0, 20.0, 40.0, 50.0, 30.0, 135.0, 55.0, 65.0, 5.0, 210.0, 180.0, 5.0, 50.0, 35.0, 150.0, 30.0, 35.0, 15.0, 25.0, 125.0, 345.0, 270.0, 150.0, 270.0, 50.0, 50.0, 300.0, 150.0, 50.0, 75.0, 70.0, 10.0, 60.0, 150.0, 100.0, 20.0, 35.0, 70.0, 165.0, 70.0, 630.0, 265.0, 70.0, 40.0, 150.0, 10.0, 70.0, 300.0, 50.0, 350.0, 40.0, 150.0, 50.0, 15.0, 270.0, 90.0, 35.0, 10.0, 350.0, 25.0, 15.0, 75.0, 15.0, 105.0, 140.0, 280.0, 10.0, 240.0, 40.0, 150.0, 50.0, 45.0, 70.0, 150.0, 30.0, 495.0, 520.0, 175.0, 35.0, 65.0, 10.0, 150.0, 415.0, 450.0, 60.0, 10.0, 10.0, 35.0, 125.0, 125.0, 50.0, 50.0, 30.0, 75.0, 150.0, 440.0, 105.0, 180.0, 780.0, 300.0, 150.0, 280.0, 150.0, 120.0, 40.0, 45.0, 250.0, 280.0, 50.0, 175.0, 25.0, 240.0, 150.0, 60.0, 135.0, 125.0, 275.0, 185.0, 75.0, 60.0, 250.0, 150.0, 250.0, 125.0, 135.0, 250.0, 250.0, 50.0, 350.0, 300.0, 200.0, 45.0, 40.0, 50.0, 120.0, 140.0, 165.0, 30.0, 275.0, 150.0, 45.0, 40.0, 10.0, 150.0, 150.0, 150.0, 75.0, 45.0, 225.0, 105.0, 5.0, 210.0, null, 5.0, 15.0, 50.0, 50.0, 35.0, 30.0, 50.0, 5.0, 385.0, 60.0, 10.0, 10.0, 40.0, 50.0, 100.0, 35.0, 50.0, 55.0, 30.0, 30.0, 105.0, 5.0, 55.0, 150.0, 55.0, 60.0, 15.0, 25.0, 165.0, 30.0, 30.0, 20.0, 25.0, 10.0, 120.0, 30.0, 50.0, 70.0, 25.0, 50.0, 105.0, 60.0, 50.0, 180.0, 70.0, 150.0, 150.0, 135.0, 65.0, 50.0, 90.0, 40.0, 55.0, 105.0, 60.0, 25.0, 110.0, 50.0, 325.0, 350.0, 50.0, 50.0, 65.0, 105.0, 50.0, 400.0, 50.0, 70.0, 80.0, 40.0, 50.0, 50.0, 200.0, 70.0, 50.0, 225.0, 250.0, 5.0, 50.0, 60.0, 5.0, 50.0, 105.0, 225.0, 5.0, 40.0, 10.0, 150.0, 5.0, 360.0, 130.0, 70.0, 105.0, 10.0, 35.0, 60.0, 70.0, 10.0, 60.0, 50.0, 60.0, 50.0, 25.0, 40.0, 10.0, 150.0, 25.0, 140.0, 180.0, 200.0, 70.0, null, 15.0, 250.0, 45.0, 910.0, 30.0, 90.0, 150.0, 350.0, 50.0, 485.0, 50.0, 135.0, 385.0, 90.0, 350.0, 90.0, 5.0, 250.0, 300.0, 175.0, 60.0, 450.0, 245.0, 90.0, 210.0, 250.0, 50.0, 250.0, 910.0, 495.0, 25.0, 75.0, 250.0, 210.0, 70.0, 35.0, 50.0, 50.0, 50.0, 50.0, 10.0, 75.0, 60.0, 70.0, 50.0, 150.0, 50.0, 50.0, 25.0, 55.0, 50.0, 35.0, 50.0, 150.0, 150.0, 450.0, 175.0, 200.0, 150.0, 50.0, 50.0, 200.0, 200.0, 250.0, 50.0, 150.0, 120.0, 30.0, 115.0, 260.0, 250.0, 455.0, 450.0, 165.0, 100.0, 50.0, 50.0, 300.0, 125.0, 120.0, 275.0, 250.0, 75.0, 70.0, 295.0, 85.0, 200.0, 90.0, 250.0, 210.0, 650.0, 445.0, 250.0, 150.0, 250.0, 150.0, 165.0, 55.0, 90.0, 180.0, 150.0, 90.0, 150.0, 70.0, 150.0, 25.0, 165.0, 55.0, 50.0, 225.0, 180.0, 150.0, 70.0, 200.0, 150.0, 150.0, 165.0, 250.0, 280.0, 50.0, 280.0, 100.0, 50.0, 50.0, 350.0, 70.0, 150.0, 250.0, 250.0, 150.0, 50.0, 210.0, 165.0, 70.0, 150.0, 150.0, 250.0, 280.0, 150.0, 60.0, 425.0, 100.0, 140.0, 5.0, 250.0, 390.0, 455.0, 45.0, 150.0, 60.0, 60.0, 200.0, 25.0, 10.0, 50.0, 100.0, 270.0, 335.0, 25.0, 55.0, 150.0, 10.0, 15.0, 200.0, 200.0, 35.0, 10.0, 180.0, 75.0, 50.0, 180.0, 45.0, 10.0, 40.0, 350.0, 400.0, 100.0, 45.0, 70.0, 40.0, 55.0, 50.0, 495.0, 150.0, 500.0, 50.0, 55.0, 60.0, 150.0, 75.0, 75.0, 55.0, 90.0, 150.0, 60.0, 150.0, 780.0, 50.0, 50.0, 565.0, 50.0, 90.0, 70.0, 5.0, 70.0, 70.0, 135.0, 70.0, 150.0, 150.0, 50.0, 150.0, 100.0, 105.0, 60.0, 350.0, 55.0, 10.0, 150.0, 50.0, 125.0, 50.0, 60.0, 60.0, 40.0, 30.0, 330.0, 150.0, 180.0, 15.0, 125.0, 30.0, 150.0, 30.0, 30.0, 275.0, 150.0, 140.0, 50.0, 70.0, 120.0, 55.0, 105.0, 350.0, 75.0, 150.0, 70.0, 35.0, 10.0, 420.0, 50.0, 45.0, 50.0, 50.0, 50.0, 50.0, 50.0, 25.0, 120.0, 10.0, 150.0, 105.0, 30.0, 35.0, 200.0, 30.0, 50.0, 25.0, 60.0, 30.0, 10.0, 75.0, 150.0, 455.0, 210.0, 150.0, 30.0, 75.0, 30.0, 50.0, 350.0, 120.0, 165.0, 50.0, 50.0, 200.0, 150.0, 455.0, 50.0, 195.0, 200.0, 150.0, 180.0, 130.0, 150.0, 50.0, 135.0, 75.0, 195.0, 420.0, 70.0, 100.0, 10.0, 50.0, 250.0, 70.0, 25.0, 180.0, 10.0, 180.0, 30.0, 250.0, 450.0, 120.0, 150.0, 150.0, 150.0, 165.0, 55.0, 25.0, 30.0, 265.0, 100.0, 50.0, 115.0, 35.0, 25.0, 50.0, 10.0, 35.0, 65.0, 15.0, 175.0, 225.0, 50.0, 555.0, 65.0, 50.0, 50.0, 55.0, 490.0, 250.0, 60.0, 50.0, 30.0, 20.0, 210.0, 150.0, 20.0, 50.0, 50.0, 75.0, 70.0, 50.0, 70.0, 45.0, 195.0, 70.0, 105.0, 70.0, 150.0, 125.0, 75.0, 100.0, 50.0, 5.0, 125.0, 70.0, 45.0, 105.0, 75.0, 40.0, 140.0, 10.0, 130.0, 300.0, 150.0, 300.0, 50.0, 125.0, 140.0, 50.0, 270.0, 175.0, 70.0, 45.0, 5.0, 65.0, 65.0, 150.0, 90.0, 280.0, 385.0, 15.0, 140.0, 300.0, 30.0, 150.0, 70.0, 280.0, 200.0, 200.0, 500.0, 215.0, 150.0, 200.0, 150.0, 120.0, 250.0, 150.0, 70.0, 50.0, 150.0, 250.0, 630.0, 190.0, 50.0, 210.0, 25.0, 125.0, 25.0, 90.0, 390.0, 250.0, 125.0, 490.0, 210.0, 50.0, 245.0, 25.0, 160.0, 25.0, 250.0, 50.0, 160.0, 125.0, 100.0, 70.0, 105.0, 350.0, 50.0, 20.0, 40.0, 30.0, 175.0, 365.0, 630.0, 325.0, 40.0, 120.0, 305.0, 420.0, 125.0, 400.0, 250.0, 50.0, 210.0, 60.0, 245.0, 560.0, 350.0, 15.0, 50.0, 50.0, 150.0, 110.0, 35.0, 70.0, 150.0, 180.0, 10.0, 250.0, 250.0, 250.0, 35.0, 120.0, 455.0, 150.0, 120.0, 30.0, 150.0, 250.0, 90.0, 630.0, 50.0, 90.0, 200.0, 105.0, 120.0, 175.0, 200.0, 250.0, 65.0, 55.0, 45.0, 70.0, 175.0, 40.0, 400.0, 110.0, 150.0, 50.0, 5.0, 25.0, 200.0, 35.0, 50.0, 75.0, 100.0, 50.0, 35.0, 200.0, 125.0, 30.0, 250.0, 60.0, 35.0, 115.0, 100.0, 50.0, 150.0, 140.0, 60.0, 20.0, 100.0, 65.0, 300.0, 150.0, 30.0, 50.0, 10.0, 25.0, 50.0, 50.0, 5.0, 50.0, 50.0, 20.0, 30.0, 10.0, 65.0, 200.0, 30.0, 55.0, 20.0, 200.0, 125.0, 35.0, 30.0, 70.0, 65.0, 5.0, 215.0, 30.0, 350.0, 300.0, 245.0, 140.0, 5.0, 60.0, 135.0, 75.0, 300.0, 150.0, 55.0, 300.0, 210.0, 120.0, 35.0, 5.0, 240.0, 600.0, 420.0, 550.0, 330.0, 400.0, 500.0, 50.0, 80.0, 20.0, 305.0, 195.0, 195.0, 190.0, 245.0, 125.0, 600.0, 70.0, 60.0, 350.0, 315.0, 25.0, 50.0, 120.0, 50.0, 50.0, 60.0, 10.0, 150.0, 350.0, 5.0, 150.0, 20.0, 45.0, 5.0, 460.0, 5.0, 20.0, 135.0, 60.0, 35.0, 60.0, 60.0, 70.0, 180.0, 100.0, 60.0, 150.0, 195.0, 770.0, 50.0, 10.0, 70.0, 50.0, 120.0, 200.0, 150.0, 200.0, 420.0, 50.0, 200.0, 165.0, 25.0, 300.0, 60.0, 350.0, 45.0, 150.0, 200.0, 50.0, 50.0, 90.0, 30.0, 210.0, 200.0, 150.0, 105.0, 150.0, 150.0, 15.0, 50.0, 450.0, 150.0, 210.0, 30.0, 25.0, 5.0, 5.0, 50.0, 150.0, 140.0, 150.0, 185.0, 150.0, 60.0, 385.0, 140.0, 250.0, 75.0, 5.0, 260.0, 50.0, 60.0, 135.0, 180.0, 40.0, 210.0, 75.0, 120.0, 50.0, 90.0, 390.0, 165.0, 125.0, 120.0, 150.0, 15.0, 270.0, 180.0, 75.0, 550.0, 175.0, 70.0, 225.0, 40.0, 120.0, 90.0, 225.0, 15.0, 15.0, 95.0, 60.0, 180.0, 35.0, 100.0, 75.0, 90.0, 180.0, 150.0, 50.0, 60.0, 180.0, 50.0, 60.0, 60.0, 90.0, 60.0, 90.0, 100.0, 45.0, 25.0, 15.0, 275.0, 195.0, 75.0, 60.0, 25.0, 60.0, 125.0, 10.0, 275.0, 150.0, 150.0, 125.0, 35.0, 195.0, 40.0, 420.0, 70.0, 565.0, 490.0, 70.0, 300.0, 280.0, 100.0, 50.0, 130.0, 100.0, 50.0, 25.0, 140.0, 50.0, 105.0, 30.0, 390.0, 50.0, 100.0, 50.0, 70.0, 85.0, 100.0, 30.0, 35.0, 50.0, 85.0, 70.0, 70.0, 55.0, 150.0, 60.0, 515.0, 50.0, null, 35.0, 210.0, 120.0, 180.0, 135.0, 75.0, 55.0, 70.0, 195.0, 100.0, 45.0, 70.0, 25.0, 165.0, 70.0, 175.0, 55.0, 60.0, 195.0, 45.0, 70.0, 210.0, 170.0, 250.0, 60.0, 65.0, 15.0, 55.0, 70.0, 50.0, 10.0, 50.0, 10.0, 40.0, 200.0, 105.0, 50.0, 50.0, 35.0, 120.0, 245.0, 20.0, 95.0, 25.0, 490.0, 50.0, 140.0, 50.0, 55.0, 50.0, 105.0, 50.0, 10.0, 100.0, 50.0, 50.0, 90.0, 50.0, 70.0, 55.0, 50.0, 15.0, 30.0, 150.0, 70.0, 50.0, 50.0, 150.0, 210.0, 420.0, 50.0, 490.0, 150.0, 40.0, 25.0, 50.0, 120.0, 200.0, 50.0, 25.0, 50.0, 70.0, 140.0, 50.0, 105.0, 105.0, 280.0, 70.0, 90.0, 100.0, 150.0, 210.0, 50.0, 100.0, 50.0, 135.0, 60.0, 45.0, 450.0, 550.0, 30.0, 105.0, 70.0, 415.0, 490.0, 35.0, 115.0, 100.0, 595.0, 110.0, 60.0, 45.0, 100.0, 40.0, 125.0, 250.0, 175.0, 35.0, 100.0, 440.0, 630.0, 40.0, 40.0, 150.0, 150.0, 30.0, 50.0, 210.0, 35.0, 150.0, 50.0, 35.0, 55.0, 35.0, 210.0, 70.0, 25.0, 50.0, 135.0, 50.0, 140.0, 45.0, 55.0, 150.0, 100.0, 50.0, 40.0, 60.0, 150.0, 30.0, 25.0, 70.0, 70.0, 35.0, 60.0, 100.0, 50.0, 15.0, 55.0, 85.0, 150.0, 140.0, 50.0, 50.0, 70.0, 150.0, 50.0, 40.0, 45.0, 30.0, 70.0, 50.0, 50.0, 50.0, 135.0, 5.0, 50.0, 100.0, 140.0, 150.0, 140.0, 120.0, 50.0, 210.0, 40.0, 325.0, 55.0, 195.0, 50.0, 150.0, 45.0, 10.0, 45.0, 25.0, 5.0, 350.0, 5.0, 30.0, 65.0, 45.0, 150.0, 35.0, 40.0, 5.0, 5.0, 55.0, 70.0, 15.0, 175.0, 60.0, 150.0, 30.0, 165.0, 20.0, 20.0, 5.0, 60.0, 25.0, 35.0, 80.0, 110.0, 300.0, 25.0, 50.0, 210.0, 35.0, 130.0, 455.0, 590.0, 20.0, 60.0, 200.0, 250.0, 245.0, 185.0, 150.0, 125.0, 45.0, 55.0, 45.0, 200.0, 35.0, 140.0, 35.0, 110.0, 75.0, 130.0, 90.0, 200.0, 175.0, 210.0, 100.0, 400.0, 400.0, 225.0, 5.0, 235.0, null, 360.0, 30.0, 245.0, 320.0, 300.0, 70.0, 225.0, 250.0, 270.0, 85.0, 350.0, 100.0, 95.0, 150.0, 5.0, 50.0, 175.0, 165.0, 80.0, 90.0, 300.0, 250.0, 125.0, 250.0, 210.0, 350.0, 25.0, 50.0, 50.0, 15.0, 500.0, 50.0, 150.0, 455.0, 225.0, 250.0, 245.0, 70.0, 15.0, 160.0, 275.0, 155.0, 50.0, 100.0, 50.0, 150.0, 250.0, 60.0, 250.0, 90.0, 45.0, 100.0, 105.0, 50.0, 50.0, 150.0, 50.0, 65.0, 50.0, 95.0, 150.0, 70.0, 90.0, 50.0, 150.0, 150.0, 450.0, 20.0, 35.0, 55.0, 180.0, 50.0, 150.0, 75.0, 30.0, 150.0, 225.0, 55.0, 90.0, 100.0, 165.0, 20.0, 75.0, 50.0, 75.0, 5.0, 150.0, 40.0, 100.0, 60.0, 180.0, 150.0, 30.0, 150.0, 75.0, 490.0, 150.0, 50.0, 210.0, 55.0, 50.0, 50.0, 200.0, 50.0, 165.0, 150.0, 100.0, 150.0, 75.0, 150.0, 50.0, 180.0, 70.0, 20.0, 20.0, 100.0, 455.0, 30.0, 60.0, 180.0, 55.0, 270.0, 15.0, 50.0, 50.0, 30.0, 105.0, 5.0, 45.0, 205.0, 200.0, 60.0, 75.0, 200.0, 50.0, 70.0, 455.0, 65.0, 250.0, 50.0, 50.0, 25.0, 75.0, 535.0, 110.0, 90.0, 5.0, 150.0, 105.0, 65.0, 55.0, 250.0, 180.0, 630.0, 235.0, 125.0, 25.0, 35.0, 30.0, 5.0, 25.0, 25.0, 10.0, 120.0, 25.0, 5.0, 50.0, 45.0, 455.0, 165.0, 65.0, 200.0, 30.0, 150.0, 60.0, 910.0, 35.0, 200.0, 65.0, 420.0, 165.0, 30.0, 465.0, 350.0, 100.0, 50.0, 450.0, 30.0, 25.0, 115.0, 50.0, 355.0, 130.0, 150.0, 50.0, 50.0, 350.0, 150.0, 100.0, 250.0, 100.0, 50.0, 385.0, 75.0, 250.0, 150.0, 150.0, 125.0, 90.0, 50.0, 50.0, 350.0, 40.0, 30.0, 90.0, 150.0, 70.0, 325.0, 140.0, 50.0, 105.0, 40.0, 50.0, 70.0, 50.0, 60.0, 50.0, 70.0, 35.0, 50.0, 25.0, 100.0, 295.0, 15.0, 150.0, 50.0, 25.0, 30.0, 5.0, 150.0, 75.0, 50.0, 175.0, 70.0, 70.0, 50.0, 70.0, 125.0, 180.0, 80.0, 210.0, 70.0, 150.0, 150.0, 350.0, 150.0, 210.0, 150.0, 25.0, 20.0, 150.0, 120.0, 150.0, 60.0, 490.0, 35.0, 30.0, 40.0, 35.0, 35.0, 10.0, 30.0, 245.0, 220.0, 30.0, 45.0, 45.0, 60.0, 295.0, 105.0, 120.0, 25.0, 35.0, 85.0, 50.0, 75.0, 130.0, 165.0, 35.0, 50.0, 200.0, 105.0, 180.0, 50.0, 50.0, 100.0, 50.0, 150.0, 25.0, 155.0, 25.0, 45.0, 25.0, 45.0, 55.0, 280.0, 180.0, 60.0, 10.0, 30.0, 35.0, 180.0, 50.0, 150.0, 50.0, 70.0, 150.0, 390.0, 250.0, 150.0, 210.0, 150.0, 70.0, 50.0, 70.0, 250.0, 200.0, 35.0, 100.0, 130.0, 90.0, 160.0, 30.0, 50.0, 35.0, 50.0, 50.0, 30.0, 65.0, 120.0, 55.0, 90.0, 55.0, 150.0, 300.0, 25.0, 30.0, 30.0, 25.0, 50.0, 50.0, 25.0, 105.0, 65.0, 5.0, 70.0, 65.0, null, 610.0, 250.0, 35.0, 250.0, null, 210.0, 50.0, 60.0, 140.0, 70.0, 250.0, 45.0, 60.0, 70.0, 105.0, 50.0, 50.0, 50.0, 70.0, 5.0, 30.0, 75.0, 180.0, 245.0, 350.0, 180.0, 100.0, 230.0, 5.0, 30.0, 125.0, 40.0, 30.0, 15.0, 380.0, 50.0, 25.0, 350.0, 5.0, 25.0, 360.0, 40.0, 105.0, 125.0, 60.0, 650.0, 150.0, 250.0, 120.0, 25.0, 500.0, 15.0, 50.0, 55.0, 175.0, 100.0, 150.0, 60.0, 150.0, 50.0, 100.0, 50.0, 50.0, 5.0, 150.0, 60.0, 50.0, 100.0, 60.0, 35.0, 350.0, 150.0, 50.0, 150.0, 150.0, 150.0, 50.0, 90.0, 150.0, 50.0, 70.0, 70.0, 100.0, 70.0, 60.0, 50.0, 275.0, 20.0, 150.0, 50.0, 70.0, 10.0, 135.0, 20.0, 180.0, 60.0, 10.0, 50.0, 50.0, 15.0, 35.0, 60.0, 15.0, 300.0, 15.0, 50.0, 60.0, 60.0, 50.0, 65.0, 40.0, 30.0, 10.0, 25.0, 25.0, 120.0, 30.0, 70.0, 165.0, 195.0, 70.0, 165.0, 60.0, 165.0, 35.0, 50.0, 15.0, 70.0, 125.0, 35.0, 50.0, 50.0, 35.0, 40.0, 50.0, 50.0, 70.0, 50.0, 50.0, 60.0, 20.0, 90.0, 50.0, 50.0, 150.0, 100.0, 70.0, 150.0, 150.0, 165.0, 235.0, 25.0, 210.0, 50.0, 180.0, 150.0, 75.0, 30.0, 35.0, 170.0, 30.0, 60.0, 170.0, 80.0, 180.0, 35.0, 75.0, 60.0, 90.0, 125.0, 150.0, 15.0, 35.0, 50.0, 100.0, 50.0, 490.0, 70.0, 210.0, 75.0, 50.0, 50.0, 10.0, 70.0, 15.0, 60.0, 10.0, 135.0, 25.0, 50.0, 455.0, 150.0, 110.0, 325.0, 390.0, 10.0, 325.0, 195.0, 200.0, 125.0, 250.0, 150.0, 380.0, 60.0, 5.0, 60.0, 20.0, 15.0, 60.0, null, 15.0, 20.0, 245.0, 305.0, 5.0, 50.0, 105.0, 70.0, 70.0, 455.0, 35.0, 45.0, 65.0, 135.0, 30.0, 140.0, 70.0, 60.0, 105.0, 60.0, 375.0, 175.0, 150.0, 50.0, 545.0, 275.0, 290.0, 300.0, 55.0, 130.0, 50.0, 150.0, 135.0, 35.0, 40.0, 100.0, 250.0, 195.0, 45.0, 200.0, 180.0, 50.0, 70.0, 25.0, 180.0, 40.0, 50.0, 50.0, 180.0, 70.0, 60.0, 250.0, 150.0, 200.0, 70.0, 175.0, 50.0, 330.0, 50.0, 200.0, 125.0, 105.0, 5.0, 60.0, 450.0, 35.0, 125.0, 120.0, 120.0, 30.0, 20.0, 50.0, 195.0, 150.0, 150.0, 60.0, 35.0, 5.0, 20.0, 150.0, 40.0, 50.0, 150.0, 150.0, 35.0, 350.0, 10.0, 5.0, 50.0, 165.0, 25.0, 150.0, 60.0, 20.0, 50.0, 25.0, 275.0, 50.0, 250.0, 150.0, 80.0, 35.0, 90.0, 125.0, 150.0, 50.0, 50.0, 70.0, 290.0, 65.0, 30.0, 90.0, 50.0, 845.0, 265.0, 15.0, 70.0, 100.0, 35.0, 65.0, 70.0, 50.0, 300.0, 95.0, 50.0, 10.0, 70.0, 235.0, 55.0, 20.0, 65.0, 50.0, 250.0, 250.0, 35.0, 270.0, 300.0, 180.0, 165.0, 35.0, 315.0, 250.0, 360.0, 295.0, 325.0, 105.0, 390.0, 250.0, 350.0, 440.0, 165.0, 350.0, 90.0, 70.0, 150.0, 30.0, 75.0, 175.0, 140.0, 420.0, 70.0, 25.0, 90.0, 125.0, 250.0, 90.0, 35.0, 300.0, 175.0, 250.0, 150.0, 150.0, 200.0, 405.0, 35.0, 135.0, 420.0, 25.0, 70.0, 100.0, 50.0, 35.0, 250.0, 770.0, 5.0, 150.0, 250.0, 50.0, 65.0, 200.0, 15.0, 40.0, 5.0, 140.0, 50.0, 150.0, 150.0, 210.0, 125.0, 60.0, 35.0, 25.0, 350.0, 200.0, 65.0, 200.0, 85.0, 350.0, 105.0, 50.0, 250.0, 200.0, 50.0, 495.0, 150.0, 245.0, 65.0, 250.0, 145.0, 435.0, 200.0, 200.0, 25.0, 100.0, 35.0, 25.0, 50.0, 35.0, 100.0, 30.0, 150.0, 50.0, 50.0, 210.0, 350.0, 65.0, 180.0, 50.0, 35.0, 50.0, 25.0, 25.0, 150.0, 25.0, 70.0, 250.0, 150.0, 60.0, 210.0, 250.0, 60.0, 50.0, 70.0, 50.0, 120.0, 45.0, 70.0, 60.0, 150.0, 50.0, 15.0, 50.0, 50.0, 25.0, 15.0, 35.0, 50.0, 150.0, 75.0, 35.0, 50.0, 260.0, 120.0, 250.0, 120.0, 130.0, 100.0, 210.0, 180.0, 50.0, 25.0, 150.0, 30.0, 50.0, 140.0, 35.0, 105.0, 100.0, 225.0, 10.0, 105.0, 350.0, 50.0, 150.0, 50.0, 350.0, 5.0, 15.0, 50.0, 175.0, 195.0, 300.0, 50.0, 230.0, 135.0, 165.0, 250.0, 50.0, 105.0, 50.0, 50.0, 50.0, 125.0, 210.0, 150.0, 65.0, 50.0, 390.0, 25.0, 60.0, 60.0, 30.0, 50.0, 70.0, 105.0, 10.0, 30.0, 45.0, 150.0, 150.0, 85.0, 5.0, 15.0, 390.0, 120.0, 130.0, 250.0, 150.0, 125.0, 50.0, 25.0, 50.0, 110.0, 210.0, 20.0, 330.0, 105.0, 50.0, 205.0, 150.0, 90.0, 490.0, 195.0, 25.0, 175.0, 195.0, 50.0, 150.0, 70.0, 35.0, 615.0, 25.0, 35.0, 910.0, 150.0, 385.0, 100.0, 15.0, 50.0, 50.0, 65.0, 195.0, 350.0, 45.0, 350.0, 55.0, 5.0, 5.0, 100.0, 460.0, 70.0, 420.0, 45.0, 55.0, 5.0, 25.0, 50.0, 40.0, 90.0, 70.0, 75.0, 415.0, 15.0, 245.0, 40.0, 40.0, 30.0, 50.0, 45.0, 60.0, 150.0, 5.0, 70.0, 175.0, 45.0, 50.0, 150.0, 150.0, 55.0, 15.0, 230.0, 150.0, 90.0, 10.0, 25.0, 75.0, 10.0, 120.0, 50.0, 10.0, 50.0, 30.0, 250.0, 455.0, 175.0, 10.0, 550.0, 60.0, 30.0, 90.0, 210.0, 60.0, 110.0, 50.0, 300.0, 70.0, 50.0, 300.0, 275.0, 135.0, 150.0, 200.0, 50.0, 420.0, 245.0, 60.0, 100.0, 250.0, 45.0, 45.0, 35.0, 250.0, 250.0, 50.0, 20.0, 250.0, 15.0, 50.0, 410.0, 150.0, 50.0, 75.0, 25.0, 210.0, 250.0, 100.0, 275.0, 10.0, 350.0, 150.0, 90.0, 180.0, 25.0, 350.0, 55.0, 75.0, 250.0, 350.0, 120.0, 50.0, 150.0, 350.0, 50.0, 250.0, 30.0, 50.0, 50.0, 50.0, 55.0, 5.0, 75.0, 245.0, 550.0, 150.0, 50.0, 25.0, 150.0, 455.0, 455.0, 25.0, 70.0, 50.0, 50.0, 50.0, 50.0, 150.0, 210.0, 150.0, 200.0, 60.0, 50.0, 50.0, 605.0, 200.0, 150.0, 210.0, 50.0, 150.0, 210.0, 150.0, 65.0, 450.0, 50.0, 250.0, 100.0, 50.0, 150.0, 105.0, 55.0, 150.0, 50.0, 50.0, 100.0, 125.0, 60.0, 105.0, 150.0, 150.0, 350.0, 150.0, 150.0, 400.0, 85.0, 150.0, 25.0, 50.0, 90.0, 250.0, 285.0, 50.0, 75.0, 115.0, 45.0, 50.0, 210.0, 150.0, 350.0, 150.0, 55.0, 165.0, 50.0, 75.0, 385.0, 455.0, 10.0, 100.0, 50.0, 150.0, 25.0, 50.0, 50.0, 50.0, 50.0, 150.0, 60.0, 150.0, 150.0, 75.0, 70.0, 150.0, 175.0, 50.0, 30.0, 30.0, 210.0, 350.0, 50.0, 15.0, 200.0, 55.0, 50.0, 60.0, 150.0, 305.0, 50.0, 450.0, 300.0, 300.0, 35.0, 50.0, 250.0, 125.0, 50.0, 50.0, 150.0, 70.0, 175.0, 350.0, 250.0, 150.0, 450.0, 50.0, 50.0, 150.0, 70.0, 150.0, 150.0, 50.0, 150.0, 330.0, 120.0, 50.0, 70.0, 350.0, 50.0, 10.0, 150.0, 50.0, 60.0, 55.0, 215.0, 210.0, 150.0, 60.0, 40.0, 25.0, 70.0, 10.0, 210.0, 150.0, 420.0, 150.0, 180.0, 60.0, 350.0, 275.0, 25.0, 150.0, 100.0, 50.0, 50.0, 60.0, 195.0, 75.0, 225.0, 200.0, 350.0, 75.0, 250.0, 30.0, 180.0, 195.0, 50.0, 150.0, 30.0, 250.0, 140.0, 60.0, 50.0, 660.0, 50.0, 150.0, 150.0, 125.0, 150.0, 30.0, 70.0, 350.0, 350.0, 105.0, 120.0, 60.0, 65.0, 60.0, 5.0, 25.0, 75.0, 665.0, 350.0, 30.0, 245.0, 5.0, 50.0, 25.0, 40.0, 70.0, 5.0, 150.0, 55.0, 35.0, 400.0, 15.0, 30.0, 50.0, 315.0, 400.0, 90.0, 100.0, 50.0, 250.0, 50.0, 175.0, 90.0, 60.0, 10.0, 20.0, 100.0, 10.0, 105.0, 150.0, 120.0, 30.0, 75.0, 225.0, 15.0, 45.0, 60.0, 50.0, 150.0, 30.0, 55.0, 50.0, 15.0, 175.0, 60.0, 50.0, 15.0, 105.0, 150.0, 120.0, 75.0, 45.0, 50.0, 45.0, 35.0, 15.0, 60.0, 70.0, 70.0, 50.0, 300.0, 105.0, 135.0, 50.0, 150.0, 60.0, 200.0, 50.0, 250.0, 200.0, 210.0, 120.0, 180.0, 250.0, 75.0, 125.0, 175.0, 100.0, 250.0, 140.0, 280.0, 50.0, 90.0, 300.0, 420.0, 30.0, 25.0, 105.0, 50.0, 90.0, 100.0, 230.0, 50.0, 150.0, 130.0, 50.0, 70.0, 90.0, 200.0, 175.0, 30.0, 250.0, 50.0, 60.0, 30.0, 150.0, 50.0, 50.0, 60.0, 75.0, 55.0, 210.0, 650.0, 250.0, 150.0, 15.0, 195.0, 120.0, 350.0, 125.0, 75.0, 275.0, 200.0, 150.0, 210.0, 350.0, 150.0, 55.0, 200.0, 125.0, 65.0, 195.0, 150.0, 200.0, 350.0, 50.0, 150.0, 250.0, 25.0, 45.0, 150.0, 250.0, 150.0, 300.0, 250.0, 350.0, 175.0, 210.0, 75.0, 210.0, 250.0, 150.0, 150.0, 65.0, 390.0, 535.0, 100.0, 70.0, 100.0, 30.0, 15.0, 50.0, 10.0, 35.0, 250.0, 85.0, 650.0, 385.0, 240.0, 575.0, 25.0, 70.0, 910.0, 125.0, 5.0, 200.0, 350.0, 30.0, 150.0, 310.0, 55.0, 45.0, 140.0, 45.0, 65.0, 140.0, 45.0, 50.0, 280.0, 60.0, 10.0, 45.0, 150.0, 15.0, 40.0, 60.0, 60.0, 10.0, 15.0, 180.0, 30.0, 40.0, 35.0, 50.0, 70.0, 210.0, 150.0, 350.0, 50.0, 150.0, 35.0, 250.0, 65.0, 35.0, 165.0, 70.0, 250.0, 50.0, 120.0, 180.0, 50.0, 60.0, 70.0, 200.0, 45.0, 50.0, 50.0, 50.0, 90.0, 50.0, 350.0, 660.0, 60.0, 210.0, 150.0, 105.0, 165.0, 210.0, 150.0, 70.0, 50.0, 70.0, 175.0, 515.0, 50.0, 300.0, 215.0, 50.0, 150.0, 100.0, 45.0, 195.0, 210.0, 90.0, 175.0, 60.0, 300.0, 210.0, 60.0, 300.0, 140.0, 60.0, 105.0, 15.0, 45.0, 30.0, 35.0, 240.0, 300.0, 90.0, 105.0, 50.0, 455.0, 60.0, 70.0, 60.0, 540.0, 65.0, 60.0, 180.0, 180.0, 60.0, 100.0, 200.0, 250.0, 100.0, 60.0, 50.0, 180.0, 70.0, 60.0, 60.0, 90.0, 150.0, 360.0, 60.0, 360.0, 90.0, 60.0, 150.0, 210.0, 75.0, 500.0, 105.0, 200.0, 100.0, 150.0, 25.0, 50.0, 200.0, 200.0, 25.0, 165.0, 150.0, 90.0, 50.0, 50.0, 20.0, 125.0, 25.0, 155.0, 60.0, 75.0, 250.0, 100.0, 75.0, 150.0, 150.0, 780.0, 150.0, 20.0, 75.0, 5.0, 25.0, 325.0, 95.0, 90.0, 500.0, 50.0, 15.0, 65.0, 15.0, 110.0, 15.0, 5.0, 195.0, 5.0, 40.0, 10.0, 105.0, 10.0, 320.0, 770.0, 15.0, 100.0, 35.0, 35.0, 250.0, 180.0, 30.0, 75.0, 335.0, 40.0, 35.0, 150.0, 50.0, 55.0, 50.0, 150.0, 55.0, 5.0, 15.0, 455.0, 70.0, 180.0, 15.0, 150.0, 50.0, 10.0, 65.0, 50.0, 165.0, 50.0, 25.0, 100.0, 180.0, 275.0, 105.0, 50.0, 55.0, 120.0, 70.0, 150.0, 65.0, 60.0, 35.0, 100.0, 50.0, 150.0, 300.0, 60.0, 50.0, 90.0, 50.0, 40.0, 150.0, 25.0, 250.0, 50.0, 50.0, 75.0, 5.0, 120.0, 10.0, 70.0, 270.0, 35.0, 50.0, 45.0, 250.0, 50.0, 210.0, 75.0, 95.0, 150.0, 60.0, 135.0, 270.0, 165.0, 150.0, 150.0, 175.0, 225.0, 50.0, 15.0, 250.0, 90.0, 255.0, 75.0, 60.0, 150.0, 200.0, 100.0, 250.0, 50.0, 100.0, 275.0, 30.0, 250.0, 70.0, 15.0, 150.0, 150.0, 50.0, 175.0, 70.0, 75.0, 150.0, 225.0, 490.0, 150.0, 60.0, 250.0, 350.0, 150.0, 250.0, 150.0, 25.0, 30.0, 150.0, 30.0, 150.0, 200.0, 150.0, 75.0, 250.0, 150.0, 125.0, 150.0, 420.0, 90.0, 350.0, 910.0, 150.0, 150.0, 200.0, 70.0, 50.0, 150.0, 200.0, 180.0, 135.0, 70.0, 175.0, 250.0, 60.0, 300.0, 50.0, 455.0, 50.0, 55.0, 455.0, 100.0, 35.0, 10.0, 75.0, 165.0, 50.0, 45.0, 250.0, 110.0, 105.0, 60.0, 540.0, 350.0, 35.0, 50.0, 120.0, 140.0, 150.0, 455.0, 350.0, 350.0, 65.0, 40.0, 40.0, 175.0, 70.0, 60.0, 50.0, 50.0, 135.0, 60.0, 105.0, 60.0, 840.0, 75.0, 120.0, 280.0, 630.0, 60.0, 60.0, 165.0, 120.0, 180.0, 60.0, 225.0, 50.0, 455.0, 65.0, 250.0, 60.0, 50.0, 65.0, 200.0, 50.0, 25.0, 40.0, 50.0, 60.0, 50.0, 50.0, 50.0, 60.0, 150.0, 20.0, 150.0, 20.0, 200.0, 50.0, 35.0, 70.0, 50.0, 25.0, 110.0, 135.0, 275.0, 80.0, 5.0, 165.0, 360.0, 370.0, 75.0, 350.0, 35.0, 50.0, 50.0, 50.0, 50.0, 355.0, 90.0, 50.0, 70.0, 120.0, 50.0, 350.0, 30.0, 60.0, 50.0, 25.0, 15.0, 50.0, 70.0, 25.0, 75.0, 70.0, 25.0, 180.0, 15.0, 25.0, 35.0, 105.0, 50.0, 180.0, 50.0, 125.0, 15.0, 50.0, 250.0, 50.0, 210.0, 25.0, 150.0, 150.0, 50.0, 50.0, 120.0, 50.0, 150.0, 60.0, 105.0, 150.0, 50.0, 180.0, 70.0, 50.0, 250.0, 490.0, 55.0, 75.0, 60.0, 350.0, 60.0, 55.0, 250.0, 60.0, 100.0, 105.0, 50.0, 450.0, 130.0, 470.0, 280.0, 175.0, 125.0, 150.0, 150.0, 210.0, 70.0, 50.0, 105.0, 50.0, 65.0, 175.0, 50.0, 75.0, 35.0, 55.0, 45.0, 15.0, 50.0, null, 40.0, 105.0, 350.0, 45.0, 70.0, 50.0, 25.0, 50.0, 50.0, 50.0, 150.0, 50.0, 100.0, 210.0, 25.0, 195.0, 100.0, 50.0, 80.0, 75.0, 150.0, 30.0, 80.0, 15.0, 200.0, 70.0, 75.0, 50.0, 350.0, 125.0, 25.0, 45.0, 45.0, 130.0, 335.0, 150.0, 50.0, 75.0, 50.0, 5.0, 35.0, 35.0, 60.0, 50.0, 60.0, 230.0, 50.0, 30.0, 30.0, 25.0, 150.0, 50.0, 70.0, 45.0, 45.0, 60.0, 100.0, 50.0, 50.0, 60.0, 70.0, 35.0, 55.0, 25.0, 65.0, 70.0, 25.0, 75.0, 10.0, 75.0, 5.0, 65.0, 125.0, 150.0, 15.0, 50.0, 180.0, 95.0, 120.0, 30.0, 65.0, 5.0, 420.0, 30.0, 20.0, 350.0, 250.0, 185.0, 50.0, 50.0, 100.0, 200.0, 50.0, 200.0, 250.0, 200.0, 250.0, 60.0, 35.0, 50.0, 50.0, 100.0, 60.0, 50.0, 250.0, 150.0, 50.0, 150.0, 350.0, 85.0, 120.0, 50.0, 75.0, 135.0, 75.0, 135.0, 150.0, 40.0, 45.0, 135.0, 25.0, 55.0, 50.0, 50.0, 150.0, 35.0, 10.0, 25.0, 520.0, 130.0, 60.0, 15.0, 350.0, 35.0, 5.0, 25.0, 55.0, 55.0, 60.0, 130.0, 50.0, 250.0, 60.0, 50.0, 100.0, 120.0, 50.0, 90.0, 165.0, 75.0, 250.0, 50.0, 90.0, 280.0, 300.0, 105.0, 150.0, 350.0, 45.0, 50.0, 420.0, 50.0, 60.0, 40.0, 185.0, 105.0, 225.0, 280.0, 50.0, 35.0, 50.0, 70.0, 150.0, 350.0, 100.0, 250.0, 165.0, 25.0, 20.0, 60.0, 15.0, 100.0, 5.0, 50.0, 10.0, 50.0, 50.0, 60.0, 45.0, 50.0, 50.0, 70.0, 55.0, 15.0, 50.0, 15.0, 60.0, 100.0, 120.0, 120.0, 35.0, 180.0, 45.0, 60.0, 120.0, 150.0, 50.0, 90.0, 5.0, 150.0, 135.0, 25.0, 30.0, 20.0, 120.0, 50.0, 70.0, 10.0, 50.0, 140.0, 25.0, 45.0, 70.0, 180.0, 180.0, 70.0, 55.0, 50.0, 30.0, 20.0, 100.0, 490.0, 60.0, 50.0, 25.0, 90.0, 120.0, 5.0, 150.0, 10.0, 45.0, 25.0, 140.0, 50.0, 50.0, 50.0, 50.0, 60.0, 55.0, 65.0, 210.0, 50.0, 50.0, 50.0, 75.0, 80.0, 25.0, 50.0, 150.0, 180.0, 50.0, 50.0, 135.0, 50.0, null, 150.0, 70.0, 25.0, 50.0, 150.0, 75.0, 245.0, 70.0, 150.0, 60.0, 150.0, 50.0, 150.0, 60.0, 50.0, 275.0, 385.0, 250.0, null, 50.0, 910.0, 50.0, 55.0, 450.0, 350.0, 45.0, 150.0, 125.0, 100.0, 200.0, 350.0, 65.0, 150.0, 25.0, 250.0, 75.0, 105.0, 650.0, 210.0, 910.0, 75.0, 650.0, 250.0, 150.0, 150.0, 60.0, 150.0, null, 150.0, 150.0, 325.0, 100.0, 125.0, 140.0, 50.0, 5.0, 15.0, 50.0, 180.0, 15.0, 150.0, 140.0, 45.0, 105.0, 165.0, 25.0, 50.0, 50.0, 25.0, 70.0, 75.0, 150.0, 70.0, 20.0, 25.0, 50.0, 40.0, 200.0, 25.0, 50.0, 195.0, 60.0, 25.0, 10.0, 45.0, 50.0, 55.0, 150.0, 105.0, 65.0, 70.0, 50.0, 135.0, 150.0, 50.0, 90.0, 5.0, 75.0, 135.0, 35.0, 275.0, 20.0, 245.0, 60.0, 25.0, 150.0, 90.0, 90.0, 30.0, 70.0, 50.0, 200.0, 20.0, 120.0, 45.0, 450.0, 5.0, 50.0, 50.0, 50.0, 105.0, 60.0, 100.0, 120.0, 50.0, 180.0, 50.0, 490.0, 60.0, 30.0, 125.0, 90.0, 420.0, 300.0, 50.0, 25.0, 15.0, 50.0, 50.0, 70.0, 125.0, 70.0, 70.0, 25.0, 5.0, 60.0, 20.0, 150.0, 70.0, 455.0, 55.0, 35.0, 70.0, 140.0, 95.0, 120.0, 50.0, 5.0, 50.0, null, 195.0, 135.0, 70.0, 250.0, 280.0, 55.0, 70.0, 55.0, 5.0, 70.0, 510.0, 25.0, 50.0, 50.0, 50.0, 65.0, 910.0, 195.0, 150.0, 125.0, 70.0, 50.0, 45.0, 35.0, 100.0, 45.0, 30.0, 175.0, 35.0, 100.0, 85.0, 55.0, 45.0, 40.0, 150.0, 50.0, 50.0, 15.0, 100.0, 315.0, 45.0, 50.0, 150.0, 105.0, 230.0, 100.0, 150.0, 100.0, 25.0, 60.0, 50.0, 70.0, 50.0, 150.0, 90.0, 210.0, 50.0, 55.0, 100.0, 140.0, 120.0, 275.0, 50.0, 125.0, 70.0, 350.0, 360.0, 150.0, 50.0, 35.0, 175.0, 300.0, 415.0, 50.0, 50.0, 335.0, 200.0, 65.0, 400.0, 210.0, 110.0, 35.0, 60.0, 210.0, 100.0, 15.0, 5.0, 520.0, 45.0, 140.0, 100.0, 75.0, 90.0, 60.0, 40.0, 200.0, 25.0, 45.0, 350.0, 150.0, 70.0, 135.0, 75.0, 65.0, 30.0, 210.0, 70.0, 20.0, 150.0, 120.0, 150.0, 150.0, 145.0, 45.0, 165.0, 150.0, 50.0, 200.0, 25.0, 50.0, 5.0, 150.0, 150.0, 50.0, 150.0, 150.0, 150.0, 70.0, 280.0, 25.0, 35.0, 280.0, 25.0, 200.0, 170.0, 210.0, 50.0, 50.0, 455.0, 50.0, 845.0, 50.0, 250.0, 40.0, 25.0, 30.0, 70.0, 15.0, 385.0, 35.0, 25.0, 125.0, 90.0, 5.0, 250.0, 125.0, 55.0, 450.0, 75.0, 100.0, 225.0, 250.0, 250.0, 15.0, 150.0, 100.0, 5.0, 25.0, 105.0, 55.0, 90.0, 15.0, 100.0, 55.0, 105.0, 70.0, 150.0, 50.0, 50.0, 125.0, 210.0, 30.0, 230.0, 50.0, 130.0, 150.0, 50.0, 120.0, 50.0, 350.0, 50.0, 50.0, 150.0, 50.0, 175.0, 280.0, 120.0, 165.0, 200.0, 50.0, 105.0, 30.0, 50.0, 50.0, 70.0, 50.0, 140.0, 210.0, 450.0, 150.0, 65.0, 325.0, 50.0, 70.0, null, 40.0, 245.0, 60.0, 55.0, 50.0, 5.0, 50.0, 140.0, 210.0, 70.0, 150.0, 50.0, 60.0, 150.0, 70.0, 50.0, 150.0, 70.0, 50.0, 165.0, 180.0, 165.0, 210.0, 105.0, 15.0, 25.0, 105.0, 290.0, 90.0, 450.0, 410.0, 5.0, 385.0, 150.0, 150.0, 125.0, 30.0, 325.0, null, 15.0, 170.0, 5.0, 100.0, 105.0, 30.0, 280.0, 210.0, 50.0, 25.0, 210.0, 105.0, 30.0, 55.0, 150.0, 180.0, 55.0, 30.0, 20.0, 50.0, 5.0, 90.0, 150.0, 25.0, 225.0, 25.0, 10.0, 420.0, 85.0, 165.0, 460.0, 150.0, 435.0, 155.0, 350.0, 770.0, 150.0, 25.0, 25.0, 195.0, 150.0, 185.0, 50.0, 70.0, 25.0, 50.0, 330.0, 185.0, 250.0, 50.0, 280.0, 420.0, 35.0, 210.0, 385.0, 60.0, 450.0, 55.0, 150.0, 5.0, 50.0, 355.0, 250.0, 25.0, 150.0, 180.0, 230.0, 50.0, 350.0, 50.0, 55.0, 135.0, 35.0, 150.0, 200.0, 15.0, 40.0, 90.0, 325.0, null, 250.0, 165.0, 490.0, 180.0, 5.0, 245.0, 70.0, 45.0, 600.0, 140.0, 45.0, 50.0, 15.0, 70.0, 150.0, 780.0, 50.0, 50.0, 325.0, 200.0, 150.0, 30.0, 90.0, 50.0, 300.0, 150.0, 50.0, 35.0, 225.0, 420.0, 210.0, 250.0, 650.0, 200.0, 125.0, 275.0, 105.0, 140.0, 200.0, 280.0, 225.0, 650.0, 25.0, 35.0, 20.0, 175.0, 210.0, 350.0, 130.0, 130.0, 65.0, 230.0, 75.0, 75.0, 250.0, 585.0, 650.0, 650.0, 35.0, 105.0, 350.0, 210.0, 165.0, 60.0, 60.0, 50.0, 75.0, 180.0, 175.0, 180.0, 325.0, 35.0, 250.0, 240.0, 250.0, 100.0, 150.0, 245.0, 50.0, 350.0, 150.0, 165.0, 65.0, 65.0, 300.0, 150.0, 150.0, 50.0, 40.0, 40.0, 70.0, 140.0, 75.0, 35.0, 350.0, 70.0, 440.0, 50.0, 415.0, 10.0, 100.0, 5.0, 5.0, 30.0, 125.0, 70.0, 25.0, 20.0, 150.0, 50.0, 50.0, 150.0, 100.0, 60.0, 150.0, 50.0, 50.0, 65.0, 15.0, 75.0, 250.0, 325.0, 350.0, 100.0, 15.0, 25.0, 100.0, 325.0, 135.0, 85.0, 325.0, 250.0, 150.0, 55.0, 150.0, 150.0, 150.0, 90.0, 210.0, 50.0, 50.0, 150.0, 150.0, 75.0, 25.0, 100.0, 175.0, 630.0, 250.0, 180.0, 485.0, 55.0, 150.0, 350.0, 910.0, 60.0, 50.0, 300.0, 125.0, 385.0, 180.0, 610.0, 195.0, 225.0, 300.0, 75.0, 30.0, 210.0, 50.0, 130.0, 330.0, 100.0, 175.0, 150.0, 90.0, 50.0, 75.0, 50.0, 125.0, 275.0, 20.0, 50.0, 60.0, 150.0, 45.0, 250.0, 350.0, 50.0, 70.0, 50.0, 50.0, 60.0, 70.0, 30.0, 120.0, 50.0, 125.0, 140.0, 50.0, 70.0, 25.0, 50.0, 150.0, 275.0, 45.0, 60.0, 150.0, 70.0, 50.0, 105.0, 150.0, 50.0, 70.0, 35.0, 60.0, 350.0, 60.0, 90.0, 70.0, 75.0, 105.0, 25.0, 50.0, 75.0, 25.0, 30.0, 50.0, 75.0, 70.0, 35.0, 180.0, 325.0, 650.0, 50.0, 150.0, 140.0, 560.0, 390.0, 50.0, 150.0, 60.0, 130.0, 150.0, 420.0, 120.0, 385.0, 195.0, 80.0, 250.0, 50.0, 210.0, 315.0, 20.0, 250.0, 60.0, 235.0, 25.0, 110.0, 70.0, 70.0, 150.0, 70.0, 60.0, 70.0, 225.0, 50.0, 35.0, 350.0, 175.0, 70.0, 50.0, 440.0, 75.0, 70.0, 35.0, 50.0, 40.0, 195.0, 50.0, 250.0, 105.0, 150.0, 50.0, 30.0, 150.0, 30.0, 70.0, 150.0, 50.0, 180.0, 75.0, 50.0, 50.0, 10.0, 105.0, 30.0, 65.0, 200.0, 180.0, 5.0, 100.0, 25.0, 120.0, 50.0, 150.0, 150.0, 55.0, 200.0, 50.0, 50.0, 45.0, 70.0, 150.0, 55.0, 150.0, 55.0, 70.0, 50.0, 100.0, 105.0, 30.0, 150.0, 50.0, 60.0, 50.0, 5.0, 140.0, 150.0, 150.0, 75.0, 50.0, 30.0, 650.0, 50.0, 75.0, 20.0, 60.0, 250.0, 100.0, 100.0, 300.0, 150.0, 150.0, 90.0, 50.0, 50.0, 65.0, 400.0, 20.0, 10.0, 210.0, 70.0, 60.0, 60.0, 280.0, 275.0, 70.0, 300.0, 390.0, 60.0, 325.0, 15.0, 250.0, 35.0, 30.0, 50.0, 135.0, 150.0, 30.0, 125.0, 780.0, 65.0, 80.0, 60.0, 105.0, 210.0, 75.0, 25.0, 150.0, 255.0, 105.0, 115.0, 455.0, 420.0, 105.0, 150.0, 50.0, 105.0, 150.0, 90.0, 350.0, 150.0, 75.0, 100.0, 45.0, 150.0, 150.0, 25.0, 50.0, 125.0, 350.0, 120.0, 200.0, 150.0, 280.0, 150.0, 150.0, 35.0, 50.0, 150.0, 165.0, 200.0, 50.0, 50.0, 25.0, 100.0, 125.0, 65.0, 275.0, 35.0, 230.0, 450.0, 50.0, 50.0, 180.0, 150.0, 50.0, 195.0, 150.0, 60.0, 180.0, 15.0, 50.0, 45.0, 150.0, 50.0, 90.0, 25.0, 50.0, 50.0, 250.0, 150.0, 50.0, 55.0, 150.0, 65.0, 55.0, 175.0, 280.0, 70.0, 25.0, 40.0, 150.0, 300.0, 75.0, 150.0, 50.0, 20.0, 50.0, 50.0, 25.0, 105.0, 420.0, 450.0, 50.0, 150.0, 50.0, 150.0, 60.0, 50.0, 105.0, 105.0, 250.0, 140.0, 250.0, 50.0, 350.0, 35.0, 50.0, 105.0, 150.0, 210.0, 350.0, 350.0, 150.0, 175.0, 150.0, 350.0, 250.0, 715.0, 105.0, 150.0, 80.0, 200.0, 195.0, 350.0, 150.0, 540.0, 265.0, 50.0, 150.0, 250.0, 250.0, 210.0, 330.0, 200.0, 150.0, 60.0, 180.0, 250.0, 35.0, 125.0, 180.0, 40.0, 150.0, 150.0, 50.0, 50.0, 50.0, 420.0, 60.0, 140.0, 180.0, 150.0, 50.0, 30.0, 70.0, 55.0, 50.0, 30.0, 135.0, 15.0, 140.0, 275.0, 75.0, 10.0, 150.0, 200.0, 150.0, 55.0, 175.0, null, 70.0, 60.0, 250.0, 135.0, 50.0, 60.0, 50.0, 20.0, 390.0, 35.0, 250.0, 70.0, 350.0, 5.0, 45.0, 150.0, 70.0, 30.0, 50.0, 35.0, 110.0, 730.0, 210.0, 325.0, 65.0, 90.0, 5.0, 455.0, 55.0, 210.0, 240.0, 300.0, 150.0, 175.0, 25.0, 20.0, 50.0, 50.0, 50.0, 50.0, 50.0, 150.0, 25.0, 50.0, 280.0, 50.0, 150.0, 40.0, 150.0, 100.0, 50.0, 50.0, 50.0, 150.0, 150.0, 160.0, 50.0, 150.0, 50.0, 5.0, 50.0, 25.0, 300.0, 25.0, 150.0, 115.0, 50.0, 30.0, 50.0, 180.0, 50.0, 50.0, 50.0, 60.0, 15.0, 25.0, 35.0, 25.0, 50.0, 450.0, 65.0, 120.0, 50.0, 15.0, 5.0, 125.0, 105.0, 560.0, 25.0, 25.0, 180.0, 70.0, 125.0, 50.0, 40.0, 350.0, 175.0, 150.0, 50.0, 85.0, 350.0, 175.0, 150.0, 35.0, 50.0, 245.0, 240.0, 70.0, 350.0, 250.0, 50.0, 70.0, 65.0, 55.0, 50.0, 35.0, 150.0, 30.0, 50.0, 150.0, 280.0, 75.0, 70.0, 40.0, 45.0, 30.0, 50.0, 75.0, 90.0, 350.0, 25.0, 265.0, 165.0, 55.0, 70.0, 150.0, 275.0, 65.0, 70.0, 50.0, 125.0, 5.0, 70.0, 35.0, 215.0, 50.0, 15.0, 300.0, 150.0, 300.0, 125.0, 150.0, 275.0, 50.0, 50.0, 145.0, 60.0, 35.0, 30.0, 40.0, 40.0, null, 100.0, 300.0, 135.0, 55.0, 50.0, 250.0, 50.0, 30.0, 210.0, 50.0, 180.0, 50.0, 250.0, 50.0, 35.0, 140.0, 150.0, 50.0, 150.0, 150.0, 25.0, 50.0, 90.0, 180.0, 60.0, 70.0, 250.0, 150.0, 50.0, 50.0, 50.0, 70.0, 70.0, 50.0, 150.0, 60.0, 60.0, 50.0, 300.0, 50.0, null, 60.0, 75.0, 250.0, 50.0, 150.0, 70.0, 50.0, 50.0, 25.0, 25.0, 30.0, 650.0, 190.0, 165.0, 30.0, 50.0, 70.0, 50.0, 70.0, null, 165.0, 200.0, 70.0, 110.0, 150.0, 60.0, 200.0, 50.0, 150.0, 100.0, 70.0, 140.0, 150.0, 60.0, 300.0, 50.0, 150.0, 55.0, 25.0, 100.0, 50.0, 265.0, 50.0, 10.0, 50.0, 50.0, 70.0, 90.0, 165.0, 140.0, 135.0, 180.0, 15.0, 150.0, 70.0, 210.0, 50.0, 50.0, 5.0, 50.0, 50.0, 25.0, 60.0, 50.0, 70.0, 280.0, 60.0, 50.0, 210.0, 150.0, 140.0, 50.0, 150.0, 50.0, 210.0, 210.0, 35.0, 55.0, 75.0, 50.0, 65.0, 50.0, 50.0, 50.0, 55.0, 55.0, 50.0, 70.0, 125.0, 150.0, 350.0, 140.0, 50.0, 105.0, 115.0, 50.0, 50.0, 70.0, 70.0, 80.0, 360.0, 455.0, 150.0, 200.0, 85.0, 300.0, 780.0, 150.0, 15.0, 70.0, 50.0, 95.0, 180.0, 215.0, 105.0, 150.0, 540.0, 55.0, 50.0, 120.0, 250.0, 225.0, 70.0, 210.0, 395.0, 630.0, 140.0, 150.0, 50.0, 50.0, 130.0, 30.0, 100.0, 45.0, 50.0, 490.0, 50.0, 120.0, 210.0, 250.0, 100.0, 50.0, 55.0, 380.0, 150.0, 70.0, 280.0, 650.0, 30.0, 300.0, 400.0, 5.0, 50.0, 65.0, 455.0, 70.0, 150.0, 30.0, 50.0, 40.0, 50.0, 780.0, 55.0, 75.0, 70.0, 55.0, 75.0, 60.0, 50.0, 50.0, 100.0, 150.0, 100.0, 50.0, 30.0, 15.0, 25.0, 50.0, 180.0, 50.0, 90.0, 105.0, 35.0, 10.0, 90.0, 325.0, 70.0, 210.0, 275.0, 175.0, 125.0, 55.0, 325.0, 50.0, 105.0, 10.0, 70.0, 20.0, 210.0, 125.0, 75.0, 30.0, 210.0, 75.0, 90.0, 125.0, 55.0, 70.0, 290.0, 5.0, 60.0, 70.0, 15.0, 35.0, 70.0, 10.0, 70.0, 75.0, 25.0, 70.0, 90.0, 25.0, 90.0, 25.0, 180.0, 35.0, 75.0, 40.0, 175.0, 35.0, 35.0, 90.0, 70.0, 10.0, 75.0, 60.0, 10.0, 30.0, 35.0, 30.0, 150.0, 150.0, 30.0, 140.0, 200.0, 50.0, 175.0, 60.0, 50.0, 50.0, 95.0, 300.0, 35.0, 230.0, 70.0, 180.0, 250.0, 70.0, 20.0, 25.0, 420.0, 70.0, 40.0, 50.0, 240.0, 350.0, 350.0, 30.0, 60.0, 30.0, 25.0, 90.0, 70.0, 70.0, 250.0, 150.0, 140.0, 60.0, 50.0, 30.0, 350.0, 180.0, 50.0, 180.0, 70.0, 70.0, 150.0, 50.0, 50.0, 50.0, 5.0, 10.0, 50.0, 50.0, 75.0, 185.0, 50.0, 100.0, 55.0, 150.0, 50.0, 25.0, 50.0, 50.0, 70.0, 50.0, 50.0, 70.0, 180.0, 60.0, 90.0, 55.0, 180.0, 155.0, 180.0, 35.0, 55.0, 50.0, 5.0, 150.0, 35.0, 60.0, 70.0, 50.0, 210.0, 50.0, 50.0, 50.0, 140.0, 505.0, 275.0, 150.0, 50.0, 280.0, 210.0, 55.0, 35.0, 150.0, 25.0, 165.0, 200.0, 55.0, 50.0, 250.0, 150.0, 210.0, 150.0, 55.0, 70.0, 70.0, 165.0, 30.0, 50.0, 140.0, 105.0, 210.0, 45.0, 210.0, 50.0, 195.0, 490.0, 25.0, 100.0, 60.0, 50.0, 120.0, 55.0, 50.0, 280.0, 50.0, 50.0, 130.0, 300.0, 55.0, 90.0, 50.0, 50.0, 50.0, 150.0, 25.0, 60.0, 30.0, 35.0, 165.0, 140.0, 30.0, 50.0, 700.0, 180.0, 250.0, 135.0, 45.0, 15.0, 100.0, 175.0, 150.0, 60.0, 70.0, 25.0, 50.0, 70.0, 300.0, 60.0, 70.0, 210.0, 50.0, 70.0, 100.0, 25.0, 70.0, 30.0, 45.0, 50.0, 300.0, 55.0, 210.0, 50.0, 60.0, 50.0, 300.0, 35.0, 150.0, 50.0, 135.0, 50.0, 50.0, 50.0, 35.0, 150.0, 50.0, 25.0, 250.0, 50.0, 150.0, 220.0, 30.0, 70.0, 35.0, 35.0, 50.0, 60.0, 210.0, 50.0, 70.0, 35.0, 50.0, 105.0, 70.0, 65.0, 30.0, 50.0, 55.0, 50.0, 50.0, 150.0, 25.0, 210.0, 135.0, 200.0, 150.0, 75.0, 75.0, 50.0, 195.0, 70.0, 150.0, 150.0, 150.0, 350.0, 70.0, 150.0, 70.0, 50.0, 50.0, 250.0, 105.0, 50.0, 70.0, 70.0, 175.0, 150.0, 50.0, 50.0, 50.0, 25.0, 140.0, 50.0, 25.0, 50.0, 25.0, 50.0, 50.0, 150.0, 50.0, 125.0, 210.0, 50.0, 75.0, 165.0, 150.0, 135.0, 250.0, 50.0, 35.0, 150.0, 225.0, 60.0, 400.0, 280.0, 150.0, 195.0, 50.0, 325.0, 50.0, 195.0, 45.0, 250.0, 250.0, 50.0, 45.0, 150.0, 200.0, 150.0, 175.0, 350.0, 150.0, 275.0, 5.0, 50.0, 150.0, 450.0, 300.0, 250.0, 50.0, 150.0, 50.0, 25.0, 195.0, 50.0, 180.0, 180.0, 70.0, 100.0, 50.0, 50.0, 120.0, 210.0, 300.0, 70.0, 385.0, 50.0, 240.0, 180.0, 60.0, 35.0, 100.0, 100.0, 50.0, 70.0, 150.0, 50.0, 35.0, 50.0, 150.0, 250.0, 50.0, 60.0, 50.0, 180.0, 65.0, 50.0, 360.0, 75.0, 150.0, 180.0, 35.0, 55.0, 50.0, 70.0, 50.0, 45.0, 40.0, 35.0, 50.0, 50.0, 125.0, 50.0, 60.0, null, 25.0, 75.0, 165.0, 150.0, 75.0, 45.0, 25.0, 285.0, 120.0, 60.0, 10.0, 90.0, 10.0, 390.0, 95.0, 100.0, 385.0, 225.0, 125.0, 175.0, 210.0, 150.0, 250.0, 15.0, 45.0, 50.0, 70.0, 15.0, 200.0, 210.0, 280.0, 50.0, 40.0, 490.0, 15.0, 25.0, 150.0, 55.0, 50.0, 300.0, 40.0, 50.0, 210.0, 350.0, 550.0, 70.0, 50.0, 25.0, 70.0, 50.0, 30.0, 490.0, 150.0, 30.0, 105.0, 50.0, 30.0, 25.0, 150.0, 325.0, 245.0, 300.0, 300.0, 5.0, 150.0, 30.0, 75.0, 50.0, 175.0, 100.0, 45.0, 75.0, 70.0, 150.0, 225.0, 50.0, 180.0, 50.0, 50.0, 50.0, 65.0, 70.0, 65.0, 50.0, 455.0, 30.0, 100.0, 50.0, 30.0, 10.0, 45.0, 70.0, 300.0, 225.0, 150.0, 55.0, 105.0, 45.0, 65.0, 15.0, 200.0, 105.0, 70.0, 30.0, 70.0, 50.0, 60.0, 10.0, 50.0, 45.0, 50.0, 50.0, 50.0, 5.0, 55.0, 140.0, 120.0, 180.0, 125.0, 50.0, 50.0, 180.0, 420.0, 15.0, 335.0, 15.0, 50.0, 30.0, 50.0, 50.0, 90.0, 165.0, 60.0, 50.0, 150.0, 50.0, 5.0, 350.0, 105.0, 25.0, 100.0, 245.0, 55.0, 150.0, 150.0, 70.0, 70.0, 105.0, 165.0, 15.0, 50.0, 5.0, 140.0, 25.0, 50.0, 50.0, 200.0, 25.0, 50.0, 50.0, 60.0, 50.0, 50.0, 50.0, 75.0, 5.0, 650.0, 250.0, 325.0, 245.0, 25.0, 45.0, 770.0, 75.0, 70.0, 10.0, 70.0, 75.0, 125.0, 25.0, 530.0, 10.0, 30.0, 20.0, 50.0, 140.0, 70.0, 125.0, 50.0, 50.0, 50.0, 30.0, 25.0, 50.0, 50.0, 260.0, 70.0, 5.0, 90.0, 450.0, 180.0, 60.0, 70.0, 50.0, 35.0, 45.0, 240.0, 100.0, 25.0, 180.0, 40.0, 50.0, 250.0, 50.0, 100.0, 250.0, 50.0, 30.0, 325.0, 55.0, 45.0, 50.0, 25.0, 70.0, 50.0, 250.0, 50.0, 140.0, 165.0, 55.0, 30.0, 455.0, 15.0, 150.0, 75.0, 175.0, 25.0, 150.0, 115.0, 150.0, 180.0, 300.0, 105.0, 180.0, 25.0, 180.0, 25.0, 350.0, 90.0, 60.0, 120.0, 135.0, 210.0, 75.0, 50.0, 195.0, 5.0, 275.0, 35.0, 450.0, 30.0, 210.0, 350.0, 70.0, 360.0, 350.0, 150.0, 50.0, 700.0, 150.0, 75.0, 180.0, 15.0, 50.0, 45.0, 210.0, 25.0, 210.0, 75.0, 50.0, 5.0, 150.0, 50.0, 390.0, 75.0, 250.0, 225.0, 45.0, 195.0, 50.0, 200.0, 200.0, 35.0, 165.0, 250.0, 120.0, 10.0, 150.0, 35.0, 90.0, 60.0, 15.0, 75.0, 25.0, 35.0, 180.0, 50.0, 210.0, 130.0, 15.0, 70.0, 50.0, 60.0, 65.0, 50.0, 35.0, 35.0, 215.0, 5.0, 50.0, 50.0, 70.0, 150.0, 50.0, 150.0, 50.0, 50.0, 25.0, 205.0, 60.0, 70.0, 10.0, 150.0, 50.0, 50.0, 180.0, 5.0, 10.0, 60.0, 50.0, 35.0, 20.0, 105.0, 25.0, 70.0, 45.0, 100.0, 50.0, 50.0, 100.0, 70.0, 50.0, 50.0, 55.0, 30.0, 20.0, 420.0, 65.0, 120.0, 50.0, 60.0, 15.0, 25.0, 105.0, 250.0, 200.0, 115.0, 420.0, 70.0, 135.0, 70.0, 195.0, 350.0, null, 210.0, 165.0, 245.0, null, 70.0, 50.0, 50.0, 15.0, 35.0, 50.0, 110.0, 910.0, 55.0, 50.0, 50.0, 30.0, 135.0, 70.0, 50.0, 150.0, 195.0, 150.0, 50.0, 300.0, 120.0, 150.0, 55.0, 250.0, 20.0, 50.0, 200.0, 75.0, 255.0, 50.0, 70.0, 350.0, 70.0, 65.0, 250.0, 15.0, 350.0, 135.0, 105.0, 190.0, 45.0, 210.0, 25.0, 15.0, 65.0, 275.0, 65.0, 70.0, 150.0, 150.0, 250.0, 150.0, 50.0, 45.0, 25.0, 35.0, 50.0, 250.0, 50.0, 250.0, 45.0, 50.0, 330.0, 150.0, 150.0, 60.0, 55.0, 70.0, 70.0, 105.0, 150.0, 460.0, 405.0, 20.0, 90.0, 150.0, 60.0, 90.0, 40.0, 75.0, 5.0, 120.0, 175.0, 455.0, 40.0, 65.0, 70.0, 490.0, 770.0, 165.0, 125.0, 660.0, 175.0, 50.0, 20.0, 50.0, 35.0, 45.0, 25.0, 15.0, 75.0, 50.0, 70.0, 105.0, 15.0, 210.0, 35.0, 105.0, 150.0, 10.0, 250.0, 60.0, 5.0, 175.0, 60.0, 85.0, 50.0, 50.0, 15.0, 110.0, 5.0, 315.0, 25.0, 15.0, 75.0, 90.0, 90.0, 150.0, 30.0, 195.0, 70.0, 35.0, 65.0, 5.0, 150.0, 10.0, 50.0, 60.0, 200.0, 70.0, 45.0, 10.0, 420.0, 90.0, null, 105.0, 240.0, 250.0, 50.0, 105.0, 50.0, 150.0, 35.0, 150.0, 5.0, 150.0, 210.0, 60.0, 50.0, 75.0, 180.0, 45.0, 30.0, 50.0, 385.0, 30.0, 10.0, 120.0, 90.0, 105.0, 40.0, 50.0, 35.0, 10.0, 45.0, 50.0, 125.0, 450.0, 210.0, 520.0, 275.0, 225.0, 30.0, 180.0, 50.0, 210.0, null, 150.0, 345.0, 25.0, 180.0, 60.0, 780.0, 180.0, 400.0, 25.0, 50.0, 30.0, 450.0, 150.0, 45.0, 30.0, 20.0, 150.0, 10.0, 50.0, 50.0, 50.0, 315.0, 50.0, 50.0, 30.0, 150.0, 150.0, 50.0, 180.0, 50.0, 25.0, 60.0, 150.0, 165.0, 210.0, 60.0, 50.0, 150.0, 150.0, 35.0, 150.0, 230.0, 55.0, 70.0, 450.0, 235.0, 65.0, 50.0, 135.0, 50.0, 15.0, 105.0, 140.0, 225.0, 35.0, 175.0, 350.0, 25.0, 55.0, 30.0, 105.0, 490.0, 30.0, 55.0, 250.0, 100.0, 150.0, 210.0, 50.0, 325.0, 250.0, 210.0, 215.0, 30.0, 50.0, 30.0, 60.0, 20.0, 325.0, 5.0, 70.0, 50.0, 55.0, 50.0, 55.0, 60.0, 35.0, 60.0, 50.0, 60.0, 210.0, 25.0, 55.0, 150.0, 210.0, 50.0, 180.0, 70.0, 50.0, 105.0, 90.0, 70.0, 50.0, 335.0, 150.0, 150.0, 490.0, 50.0, 100.0, 30.0, 150.0, 215.0, 135.0, 250.0, 15.0, 70.0, 30.0, 50.0, 60.0, 150.0, 185.0, 175.0, 105.0, 150.0, 300.0, 70.0, 150.0, 130.0, 50.0, 120.0, 55.0, 50.0, 50.0, 100.0, 150.0, 135.0, 90.0, 50.0, 125.0, 265.0, 50.0, 25.0, 150.0, 60.0, 30.0, 50.0, 70.0, 200.0, 495.0, 15.0, 75.0, 90.0, 50.0, 150.0, 60.0, 150.0, 50.0, 135.0, 180.0, 140.0, 100.0, 35.0, 150.0, 175.0, 560.0, 180.0, 50.0, 20.0, 65.0, 90.0, 150.0, 45.0, 50.0, 350.0, 50.0, 25.0, 45.0, 50.0, 30.0, 250.0, 150.0, 50.0, 210.0, 35.0, 50.0, 50.0, 150.0, 50.0, 50.0, 60.0, 130.0, 130.0, 70.0, 150.0, 150.0, 55.0, 50.0, 50.0, 25.0, 5.0, 85.0, 50.0, 150.0, 250.0, 385.0, 910.0, 60.0, 100.0, 210.0, 120.0, 120.0, 200.0, 300.0, 165.0, 300.0, 50.0, 150.0, 50.0, 165.0, 50.0, 190.0, 250.0, 200.0, 75.0, 55.0, 150.0, 15.0, 50.0, 50.0, 35.0, 50.0, 10.0, 50.0, 150.0, 50.0, 25.0, 55.0, 150.0, 60.0, 50.0, 210.0, 75.0, 150.0, 35.0, 150.0, 150.0, 90.0, 5.0, 50.0, 70.0, 5.0, 35.0, 55.0, 40.0, 20.0, 5.0, 185.0, 250.0, 50.0, 5.0, 150.0, 135.0, 25.0, 20.0, 60.0, 85.0, 50.0, 40.0, 75.0, 60.0, 125.0, 200.0, 70.0, 15.0, 200.0, 55.0, 125.0, 165.0, 45.0, 50.0, 75.0, 150.0, 150.0, 250.0, 75.0, 150.0, 315.0, 70.0, 60.0, 180.0, 50.0, 210.0, 60.0, 350.0, 15.0, 5.0, 350.0, 175.0, 50.0, 75.0, 280.0, 350.0, 50.0, 250.0, 50.0, 40.0, 445.0, 220.0, 50.0, 450.0, 35.0, 50.0, 30.0, 250.0, 100.0, 45.0, 150.0, 50.0, 50.0, 70.0, 165.0, 50.0, 65.0, 20.0, 150.0, 50.0, 150.0, 270.0, 210.0, 50.0, 30.0, 40.0, 150.0, 150.0, 35.0, 50.0, 50.0, 250.0, 65.0, 130.0, 160.0, 35.0, 35.0, 35.0, 20.0, 35.0, 195.0, 10.0, 60.0, 25.0, 70.0, 70.0, 85.0, 30.0, 65.0, 110.0, 15.0, 40.0, 55.0, 40.0, 70.0, 100.0, 55.0, 55.0, 70.0, 200.0, 250.0, 60.0, 120.0, 350.0, 160.0, 75.0, 70.0, 55.0, 85.0, 75.0, 35.0, 55.0, 45.0, 50.0, 35.0, 70.0, 75.0, 25.0, 20.0, 35.0, 90.0, 70.0, 275.0, 335.0, 180.0, 210.0, 50.0, 10.0, 60.0, 30.0, 150.0, 150.0, 60.0, 50.0, 45.0, 325.0, 50.0, 100.0, 150.0, 50.0, 100.0, 75.0, 135.0, 50.0, 30.0, 15.0, 150.0, 10.0, 35.0, 50.0, 45.0, 70.0, 50.0, 150.0, 50.0, 90.0, 50.0, 50.0, 350.0, 90.0, 150.0, 490.0, 350.0, 490.0, 15.0, 45.0, 165.0, 55.0, 60.0, 80.0, 715.0, 250.0, 25.0, 560.0, 40.0, 135.0, 150.0, 150.0, 150.0, 500.0, 100.0, 50.0, 45.0, 50.0, 40.0, 195.0, 210.0, 50.0, 55.0, 180.0, 50.0, 60.0, 50.0, 150.0, 50.0, 50.0, 50.0, 15.0, 10.0, 50.0, 780.0, 370.0, 50.0, 70.0, 100.0, 270.0, 70.0, 50.0, 35.0, 50.0, 70.0, 50.0, 105.0, 55.0, 65.0, 50.0, 25.0, 180.0, 15.0, 50.0, 210.0, 250.0, 50.0, 10.0, 75.0, 55.0, 150.0, 45.0, 50.0, 65.0, 175.0, 70.0, 10.0, 50.0, 50.0, 25.0, 70.0, 50.0, 50.0, 40.0, 50.0, 50.0, 20.0, 50.0, 50.0, 40.0, 25.0, 70.0, 50.0, 40.0, 210.0, 210.0, 45.0, 210.0, 60.0, 150.0, 25.0, 50.0, 25.0, 50.0, 120.0, 30.0, 50.0, 50.0, 50.0, 90.0, 320.0, 40.0, 15.0, 75.0, 30.0, 45.0, 30.0, 15.0, 175.0, 150.0, 150.0, 450.0, 75.0, 210.0, 315.0, 200.0, 200.0, 150.0, 105.0, 30.0, 150.0, 50.0, 75.0, 910.0, 75.0, 300.0, 250.0, 40.0, 400.0, 150.0, 225.0, 50.0, 125.0, 60.0, 150.0, 105.0, 50.0, 45.0, 40.0, 150.0, 150.0, 350.0, 700.0, 250.0, 50.0, 225.0, 250.0, 490.0, 55.0, 910.0, 350.0, 50.0, 150.0, 50.0, 50.0, 250.0, 250.0, 350.0, 70.0, 150.0, 200.0, 180.0, 150.0, 50.0, 110.0, 150.0, 60.0, 50.0, 250.0, 150.0, 150.0, 210.0, 300.0, 350.0, 75.0, 50.0, 40.0, 75.0, 250.0, 120.0, 350.0, 150.0, 180.0, 150.0, 40.0, 25.0, 10.0, 50.0, 360.0, 120.0, 35.0, 120.0, 50.0, 70.0, 125.0, 50.0, 50.0, 135.0, 35.0, 70.0, 25.0, 70.0, 20.0, 275.0, 150.0, 50.0, 50.0, 50.0, 150.0, 70.0, 250.0, 45.0, 70.0, 25.0, 175.0, 25.0, 150.0, 210.0, 180.0, 35.0, 100.0, 50.0, 50.0, 50.0, 60.0, 65.0, 105.0, 25.0, 50.0, 150.0, 50.0, 350.0, 50.0, 70.0, 5.0, 50.0, 50.0, 100.0, 560.0, 350.0, 165.0, 35.0, 350.0, 200.0, 75.0, 50.0, 150.0, 500.0, 150.0, 150.0, 250.0, 75.0, 50.0, 250.0, 210.0, 165.0, 25.0, 150.0, 25.0, 5.0, 250.0, 75.0, 250.0, 265.0, 150.0, 75.0, 15.0, 5.0, 45.0, 35.0, 75.0, 50.0, 195.0, 105.0, 50.0, 5.0, 55.0, 45.0, 15.0, 45.0, 75.0, 15.0, 30.0, 70.0, 150.0, 35.0, 60.0, 50.0, 50.0, 50.0, 50.0, 25.0, 50.0, 50.0, 25.0, 50.0, 10.0, 20.0, 70.0, 50.0, 40.0, 60.0, 150.0, 50.0, 80.0, 45.0, 75.0, 50.0, 50.0, 55.0, 30.0, 50.0, 75.0, 50.0, 60.0, 30.0, 50.0, 60.0, 75.0, 25.0, 50.0, 45.0, 50.0, 50.0, 210.0, 75.0, 55.0, 125.0, 100.0, 70.0, 100.0, 60.0, 35.0, 70.0, 25.0, 5.0, 50.0, 40.0, 30.0, 150.0, 15.0, 180.0, 100.0, 60.0, 10.0, 30.0, 135.0, 5.0, 105.0, 30.0, 100.0, 50.0, 30.0, 135.0, 35.0, 50.0, 210.0, 55.0, 45.0, 75.0, 150.0, 140.0, 150.0, 90.0, 50.0, 100.0, 50.0, 140.0, 50.0, 100.0, 20.0, 105.0, 30.0, 60.0, 50.0, 115.0, 50.0, 195.0, 75.0, 30.0, 35.0, 115.0, 50.0, 90.0, 65.0, 90.0, 50.0, 180.0, 50.0, 100.0, 55.0, 70.0, 70.0, 50.0, 10.0, 10.0, 65.0, 15.0, 70.0, 50.0, 50.0, 60.0, 35.0, 10.0, 20.0, 50.0, 180.0, 150.0, 50.0, 140.0, 65.0, 70.0, 70.0, 20.0, 150.0, 280.0, 105.0, 180.0, 70.0, 50.0, 50.0, 60.0, 60.0, 910.0, 55.0, 50.0, 5.0, 50.0, 70.0, 60.0, 50.0, 70.0, 50.0, 290.0, 250.0, 25.0, 100.0, 150.0, 50.0, 150.0, 10.0, 50.0, 50.0, 50.0, 50.0, null, 50.0, 50.0, 50.0, 140.0, 50.0, 50.0, 50.0, 40.0, 50.0, 55.0, 50.0, 25.0, 35.0, 300.0, 45.0, 25.0, 210.0, 30.0, 210.0, 20.0, 70.0, 30.0, 75.0, 35.0, 75.0, 45.0, 60.0, 75.0, 105.0, 120.0, 30.0, 35.0, 75.0, 50.0, 55.0, 300.0, 60.0, 50.0, 50.0, 50.0, 150.0, 55.0, 50.0, 180.0, 150.0, 55.0, 150.0, 50.0, 50.0, 145.0, 350.0, 50.0, 50.0, 25.0, 250.0, 75.0, 25.0, 195.0, 50.0, 150.0, 150.0, 250.0, 70.0, 50.0, 105.0, 175.0, 150.0, 30.0, 150.0, 70.0, 300.0, 150.0, 350.0, 5.0, 100.0, 50.0, 50.0, 30.0, 35.0, 190.0, 50.0, 55.0, 30.0, 180.0, 70.0, 150.0, 65.0, 10.0, 50.0, 400.0, 50.0, 60.0, 60.0, 350.0, 70.0, 250.0, 50.0, 50.0, 210.0, 50.0, 35.0, 95.0, 450.0, 250.0, 280.0, 390.0, 50.0, 55.0, 90.0, 100.0, 70.0, 70.0, 70.0, 55.0, 5.0, 75.0, 45.0, 25.0, 180.0, 50.0, 30.0, 50.0, 50.0, 35.0, 50.0, 50.0, 10.0, 55.0, 50.0, 15.0, 50.0, 50.0, 50.0, 50.0, 165.0, 50.0, 105.0, 25.0, 45.0, 90.0, 35.0, 25.0, 30.0, 50.0, 150.0, 25.0, 420.0, 90.0, 50.0, 280.0, 45.0, 150.0, 70.0, 350.0, 60.0, 135.0, 210.0, 225.0, 75.0, 150.0, 135.0, 135.0, 25.0, 10.0, 75.0, 50.0, 45.0, 65.0, 50.0, 95.0, 200.0, 125.0, 70.0, 70.0, 50.0, 30.0, 5.0, 650.0, 280.0, 50.0, 455.0, 50.0, 70.0, 50.0, 50.0, 60.0, 60.0, 350.0, 70.0, 75.0, 50.0, 210.0, 150.0, 300.0, 150.0, 50.0, 105.0, 75.0, 50.0, 490.0, 65.0, 50.0, 70.0, 150.0, 50.0, 200.0, 210.0, 630.0, 180.0, 400.0, 50.0, 70.0, 120.0, 150.0, 100.0, 300.0, 50.0, 300.0, 30.0, 50.0, 50.0, 10.0, 25.0, 50.0, 100.0, 150.0, 150.0, 150.0, 150.0, 70.0, 150.0, 10.0, 50.0, 75.0, 50.0, 50.0, 60.0, 210.0, 50.0, 70.0, 55.0, 150.0, 180.0, 150.0, 50.0, 60.0, 50.0, 25.0, 100.0, 150.0, 50.0, 70.0, 60.0, 70.0, 50.0, 165.0, 50.0, 350.0, 100.0, 150.0, 25.0, 65.0, 50.0, 70.0, 150.0, 55.0, 40.0, 50.0, 150.0, 180.0, 185.0, 50.0, 75.0, 150.0, 210.0, 180.0, 135.0, 150.0, 50.0, 30.0, 60.0, 75.0, 175.0, 45.0, 165.0, 70.0, 75.0, 50.0, 50.0, 250.0, 25.0, 150.0, 50.0, 275.0, 150.0, 180.0, 50.0, 100.0, 100.0, 50.0, 50.0, 105.0, 100.0, 90.0, 50.0, 135.0, 40.0, 210.0, 5.0, 50.0, 45.0, 150.0, 15.0, 150.0, 300.0, 210.0, 45.0, 180.0, 100.0, 50.0, 100.0, 150.0, 420.0, 350.0, 50.0, 335.0, 250.0, 150.0, 75.0, 175.0, 400.0, 180.0, 70.0, 60.0, 195.0, 35.0, 455.0, 25.0, 325.0, 50.0, 50.0, 75.0, 65.0, 50.0, 65.0, 55.0, 195.0, 50.0, 605.0, 30.0, 65.0, 200.0, 50.0, 40.0, 65.0, 50.0, 70.0, 35.0, 50.0, 70.0, 55.0, 250.0, 55.0, 150.0, 40.0, 90.0, 350.0, 180.0, 50.0, 15.0, 45.0, 210.0, 180.0, 175.0, 65.0, 200.0, 15.0, 120.0, 35.0, 150.0, 350.0, 50.0, 275.0, 25.0, 40.0, 55.0, 60.0, 70.0, 10.0, 350.0, 160.0, 60.0, 60.0, 30.0, 50.0, 70.0, 105.0, 55.0, 15.0, 50.0, 435.0, 50.0, 50.0, 50.0, 50.0, 70.0, 30.0, 845.0, 25.0, 250.0, 70.0, 50.0, 140.0, 30.0, 455.0, 660.0, 175.0, 100.0, 25.0, 15.0, 150.0, 140.0, 50.0, 50.0, 210.0, 30.0, 25.0, 35.0, 65.0, 300.0, 70.0, 105.0, 70.0, 70.0, 25.0, 55.0, 50.0, 50.0, 50.0, 70.0, 50.0, 50.0, 50.0, 585.0, 100.0, 60.0, 100.0, 50.0, 50.0, 55.0, 50.0, 50.0, 25.0, 50.0, 250.0, 60.0, 25.0, 15.0, 150.0, 75.0, 315.0, 15.0, 50.0, 75.0, 150.0, 60.0, 125.0, 50.0, 70.0, 90.0, 25.0, 120.0, 200.0, 50.0, 45.0, 50.0, 50.0, 50.0, 35.0, 70.0, 40.0, 25.0, 50.0, 60.0, 50.0, 150.0, 45.0, 35.0, 10.0, 140.0, 35.0, 175.0, 50.0, 25.0, 45.0, 50.0, 125.0, 240.0, 350.0, 25.0, 630.0, 70.0, 50.0, 280.0, 140.0, 105.0, 350.0, 210.0, 250.0, 60.0, 150.0, 90.0, 60.0, 250.0, 175.0, 200.0, 10.0, 95.0, 320.0, 630.0, 50.0, 125.0, 70.0, 100.0, 30.0, 210.0, 40.0, 350.0, 50.0, 60.0, 250.0, 45.0, 250.0, 40.0, 35.0, 150.0, 210.0, 75.0, 50.0, 100.0, 50.0, 210.0, 200.0, 35.0, 50.0, 70.0, 55.0, 50.0, 55.0, 50.0, 150.0, 50.0, 150.0, 50.0, 75.0, 5.0, 150.0, 50.0, 50.0, 50.0, 150.0, 195.0, 35.0, 95.0, 50.0, 150.0, 65.0, 150.0, 75.0, 10.0, 360.0, 210.0, 455.0, 700.0, 175.0, 150.0, 50.0, 50.0, 250.0, 270.0, 60.0, 70.0, 250.0, 60.0, 120.0, 60.0, 560.0, 75.0, 50.0, 25.0, 210.0, 520.0, 5.0, 250.0, 10.0, 225.0, 520.0, 200.0, 75.0, 50.0, 25.0, 390.0, 455.0, 420.0, 350.0, 650.0, 225.0, 300.0, 250.0, 60.0, 350.0, 150.0, 200.0, 70.0, 35.0, 150.0, 70.0, 140.0, 45.0, 30.0, 420.0, 5.0, 30.0, 345.0, 385.0, 105.0, 100.0, 200.0, 50.0, 345.0, 5.0, 50.0, 400.0, 150.0, 195.0, 50.0, 5.0, 70.0, 25.0, 150.0, 70.0, 50.0, 215.0, 120.0, 125.0, 70.0, 35.0, 175.0, 200.0, 455.0, 50.0, 60.0, 30.0, 150.0, 35.0, 30.0, 420.0, 165.0, 50.0, 60.0, 30.0, 50.0, 25.0, 50.0, 65.0, 200.0, 50.0, 70.0, 25.0, 65.0, 105.0, 100.0, 50.0, 210.0, 70.0, 10.0, 150.0, 50.0, 210.0, 50.0, 140.0, 25.0, 90.0, 315.0, 5.0, 35.0, 65.0, 350.0, 50.0, 30.0, 35.0, 50.0, 70.0, 250.0, 210.0, 165.0, 35.0, 150.0, 150.0, 150.0, 225.0, 5.0, 250.0, 50.0, 210.0, 180.0, 60.0, 90.0, 350.0, 15.0, 50.0, 125.0, 25.0, 220.0, 420.0, 125.0, 150.0, 30.0, 120.0, 110.0, 150.0, 120.0, 250.0, 120.0, 200.0, 250.0, 100.0, 60.0, 120.0, 90.0, 60.0, 275.0, 20.0, 50.0, 215.0, 630.0, 150.0, 110.0, 25.0, 50.0, 55.0, 50.0, 60.0, 300.0, 50.0, 350.0, 135.0, 910.0, 40.0, 50.0, 50.0, 150.0, 50.0, 5.0, 55.0, 75.0, 450.0, 350.0, 30.0, 35.0, 50.0, 75.0, 75.0, 210.0, 25.0, 65.0, 70.0, 90.0, 50.0, 50.0, 245.0, 30.0, 75.0, 60.0, 200.0, 135.0, 25.0, 50.0, 100.0, 70.0, 75.0, 150.0, 50.0, 315.0, 180.0, 210.0, 30.0, 50.0, 15.0, 35.0, 40.0, 110.0, 30.0, 180.0, 70.0, 50.0, 30.0, 25.0, 215.0, 165.0, 70.0, 25.0, 200.0, 595.0, 5.0, 60.0, 45.0, 90.0, 10.0, 60.0, 50.0, 150.0, 15.0, 120.0, 210.0, 100.0, 250.0, 30.0, 180.0, 195.0, 55.0, 150.0, 50.0, 50.0, 350.0, 50.0, 280.0, 200.0, 55.0, 100.0, 175.0, 250.0, 250.0, 70.0, 160.0, 25.0, 75.0, 150.0, 160.0, 300.0, 105.0, 20.0, 400.0, 5.0, 25.0, 195.0, 65.0, 35.0, 5.0, 5.0, 65.0, 35.0, 135.0, 25.0, 60.0, 75.0, 5.0, 910.0, 40.0, 10.0, 35.0, 70.0, 40.0, 25.0, 30.0, 50.0, 55.0, 910.0, 630.0, 140.0, 60.0, 280.0, 175.0, 50.0, 150.0, 630.0, 770.0, 150.0, 210.0, 50.0, 50.0, 225.0, 630.0, 50.0, 125.0, 330.0, 150.0, 50.0, 55.0, 50.0, 70.0, 150.0, 100.0, 50.0, 50.0, 70.0, 70.0, 350.0, 180.0, 70.0, 50.0, 50.0, 455.0, 280.0, 35.0, 5.0, 350.0, 65.0, 50.0, 50.0, 75.0, 50.0, 50.0, 65.0, 40.0, 90.0, 50.0, 50.0, 100.0, 50.0, 50.0, 100.0, 350.0, 75.0, 150.0, 55.0, 50.0, 10.0, 150.0, 35.0, 125.0, 350.0, 150.0, 180.0, 150.0, 455.0, 100.0, 540.0, 55.0, 65.0, 70.0, 150.0, 300.0, 50.0, 15.0, 50.0, 240.0, 300.0, 70.0, 70.0, 30.0, 585.0, 50.0, 35.0, 60.0, 400.0, 150.0, 150.0, 175.0, 120.0, 250.0, 90.0, 300.0, 210.0, 65.0, 455.0, 215.0, 120.0, 40.0, 70.0, 60.0, 135.0, 150.0, 70.0, 60.0, 210.0, 350.0, 60.0, 5.0, 910.0, 15.0, 200.0, 150.0, 350.0, 15.0, 210.0, 5.0, 70.0, 50.0, 100.0, 30.0, 55.0, 250.0, 175.0, 250.0, 50.0, 60.0, 275.0, 75.0, 220.0, 25.0, 50.0, 15.0, 25.0, 175.0, 75.0, 250.0, 315.0, 25.0, 25.0, 360.0, 195.0, 105.0, 350.0, 125.0, 150.0, 10.0, 10.0, 5.0, 20.0, 35.0, 10.0, 140.0, 105.0, 25.0, 50.0, 50.0, 30.0, 15.0, 5.0, 25.0, 150.0, 30.0, 120.0, 355.0, 70.0, 35.0, 165.0, 65.0, 105.0, 50.0, 15.0, 50.0, 30.0, 200.0, 50.0, 140.0, 30.0, 40.0, 55.0, 50.0, 150.0, 25.0, 60.0, 35.0, 250.0, 445.0, 195.0, 50.0, 180.0, 350.0, 650.0, 10.0, 70.0, 70.0, 70.0, 35.0, 250.0, 10.0, 95.0, 60.0, 210.0, 50.0, 180.0, 50.0, 150.0, 165.0, 30.0, 175.0, 250.0, 210.0, 45.0, 100.0, 150.0, 50.0, 315.0, 50.0, 200.0, 210.0, 70.0, 150.0, 200.0, 450.0, 200.0, 180.0, 35.0, 350.0, 250.0, 150.0, 70.0, 70.0, 150.0, 95.0, 50.0, 455.0, 20.0, 45.0, 50.0, 420.0, 50.0, 140.0, 70.0, 200.0, 10.0, 100.0, 350.0, 150.0, 70.0, 165.0, 200.0, 35.0, 210.0, 150.0, 100.0, 30.0, 100.0, 50.0, 435.0, 210.0, 50.0, 65.0, 325.0, 35.0, 100.0, 60.0, 55.0, 40.0, 40.0, 50.0, 150.0, 70.0, 200.0, 50.0, 200.0, 150.0, 180.0, 715.0, 70.0, 55.0, 15.0, 175.0, 35.0, 150.0, 150.0, 85.0, 50.0, 50.0, 200.0, 70.0, 25.0, 20.0, 65.0, 210.0, 150.0, 210.0, 50.0, 180.0, 50.0, 40.0, 45.0, 60.0, 30.0, 15.0, 200.0, 150.0, 70.0, 50.0, 70.0, 250.0, 60.0, 5.0, 350.0, 150.0, 180.0, 250.0, 50.0, 200.0, 350.0, 30.0, 70.0, 70.0, 200.0, 70.0, 50.0, 150.0, 420.0, 660.0, 50.0, 60.0, 35.0, 60.0, 200.0, 35.0, 105.0, 65.0, 200.0, 25.0, null, 50.0, 165.0, 55.0, 35.0, 115.0, 50.0, 30.0, 10.0, 40.0, 150.0, 70.0, 70.0, 495.0, 165.0, 100.0, 165.0, 45.0, 25.0, 25.0, 20.0, 40.0, 170.0, 5.0, 60.0, 50.0, 150.0, 35.0, 135.0, 105.0, 300.0, 150.0, 150.0, 150.0, 420.0, 50.0, 55.0, 70.0, 150.0, 420.0, 150.0, 910.0, 450.0, 50.0, 50.0, 195.0, 50.0, 10.0, 50.0, 250.0, 275.0, 60.0, 50.0, 220.0, 35.0, 70.0, 60.0, 50.0, 50.0, 60.0, 25.0, 50.0, 70.0, 190.0, 10.0, 150.0, 70.0, 25.0, 45.0, 70.0, 210.0, 70.0, 210.0, 45.0, 70.0, 50.0, 50.0, 70.0, 50.0, 50.0, 70.0, 50.0, 70.0, 50.0, 50.0, 50.0, 50.0, 70.0, 50.0, 50.0, 50.0, 60.0, 5.0, 60.0, 300.0, 250.0, 70.0, 50.0, 30.0, 280.0, 120.0, 320.0, 50.0, 120.0, 325.0, 90.0, 40.0, 150.0, 50.0, 250.0, 50.0, 60.0, 50.0, 350.0, 350.0, 60.0, 105.0, 150.0, 45.0, 70.0, 200.0, 140.0, 40.0, 150.0, 50.0, 50.0, 110.0, 50.0, 125.0, 50.0, 300.0, 65.0, 120.0, 210.0, 140.0, 100.0, 90.0, 90.0, 35.0, 45.0, 150.0, 195.0, 150.0, 30.0, 150.0, 210.0, 5.0, 300.0, 300.0, 50.0, 105.0, 5.0, 50.0, 25.0, 25.0, 35.0, 165.0, 250.0, 40.0, 120.0, 20.0, 135.0, 15.0, 135.0, 420.0, 50.0, 275.0, 350.0, 70.0, 10.0, 140.0, 25.0, 230.0, 50.0, 75.0, 300.0, 150.0, 420.0, 180.0, 245.0, 30.0, 35.0, 210.0, 100.0, 300.0, 60.0, 120.0, 30.0, 30.0, 75.0, 420.0, 25.0, 180.0, 25.0, 225.0, 100.0, 60.0, 90.0, 55.0, 95.0, 80.0, 250.0, 65.0, 5.0, 70.0, 50.0, 70.0, 150.0, 45.0, 210.0, 160.0, 150.0, 50.0, 75.0, 180.0, 300.0, 140.0, 275.0, 150.0, 200.0, 150.0, 50.0, 250.0, 250.0, 70.0, 175.0, 50.0, 250.0, 300.0, 320.0, 180.0, 55.0, 150.0, 325.0, 300.0, 50.0, 470.0, 200.0, 165.0, 275.0, 50.0, 180.0, 200.0, 5.0, 60.0, 150.0, 50.0, 70.0, 75.0, 80.0, 30.0, 50.0, 50.0, 50.0, 10.0, 25.0, 30.0, 50.0, 50.0, 50.0, 50.0, 45.0, 50.0, 50.0, 50.0, 210.0, 350.0, 35.0, 25.0, 50.0, 550.0, 50.0, 60.0, 45.0, 35.0, 60.0, 90.0, 55.0, 70.0, 70.0, 50.0, 50.0, 30.0, 60.0, 495.0, 300.0, 50.0, 325.0, 5.0, 25.0, 60.0, 55.0, 105.0, 50.0, 70.0, 75.0, 455.0, 150.0, 50.0, 10.0, 150.0, 5.0, 50.0, 180.0, 10.0, 35.0, 70.0, 90.0, 100.0, 70.0, 180.0, 150.0, 250.0, 150.0, 175.0, 405.0, 50.0, 105.0, 385.0, 80.0, 350.0, 650.0, 150.0, 105.0, 100.0, 15.0, 105.0, 105.0, 210.0, 50.0, 60.0, 210.0, 60.0, 50.0, 270.0, 250.0, 120.0, 400.0, 15.0, 275.0, 100.0, 100.0, 250.0, 195.0, 140.0, 265.0, 175.0, 195.0, 585.0, 200.0, 50.0, 270.0, 300.0, 115.0, 325.0, 250.0, 150.0, 225.0, 150.0, 150.0, 50.0, 150.0, 440.0, 150.0, 250.0, 10.0, 250.0, 150.0, 150.0, 125.0, 60.0, 50.0, 150.0, 125.0, 150.0, 550.0, 70.0, 180.0, 50.0, 50.0, 150.0, 150.0, 245.0, 15.0, 200.0, 420.0, 60.0, 50.0, 70.0, 45.0, 50.0, 150.0, 350.0, 30.0, 150.0, 55.0, 25.0, 105.0, 50.0, 75.0, 50.0, 60.0, 35.0, 275.0, 45.0, 55.0, 90.0, 150.0, 70.0, 60.0, 70.0, 150.0, 70.0, 210.0, 55.0, 50.0, 50.0, 20.0, 60.0, 45.0, 50.0, 70.0, 50.0, 150.0, 50.0, 350.0, 70.0, 70.0, 150.0, 55.0, 210.0, 400.0, 105.0, 50.0, 495.0, 70.0, 150.0, 300.0, 70.0, 300.0, 420.0, 150.0, 150.0, 165.0, 350.0, 50.0, 45.0, 45.0, 60.0, 200.0, 150.0, 30.0, 45.0, 70.0, 5.0, 250.0, 50.0, 50.0, 70.0, 50.0, 50.0, 30.0, 50.0, 30.0, 50.0, 285.0, 50.0, 25.0, 65.0, 150.0, 40.0, 25.0, 45.0, 175.0, 10.0, 350.0, 155.0, 90.0, null, 15.0, 200.0, 420.0, 10.0, 50.0, 15.0, 165.0, 75.0, 70.0, 845.0, 150.0, 30.0, 70.0, 30.0, 120.0, 30.0, 65.0, 125.0, 715.0, 50.0, 5.0, 350.0, 200.0, 175.0, 225.0, 150.0, 125.0, 60.0, 200.0, 150.0, 250.0, 60.0, 25.0, 50.0, 350.0, 60.0, 250.0, 105.0, 125.0, 70.0, 25.0, 50.0, 25.0, 350.0, 45.0, 15.0, 70.0, 20.0, 300.0, 210.0, 300.0, 15.0, 250.0, 130.0, 65.0, 150.0, 455.0, 50.0, 90.0, 30.0, 100.0, 105.0, 500.0, 70.0, 150.0, 150.0, 60.0, 50.0, 15.0, 75.0, 90.0, 210.0, 50.0, 150.0, 275.0, 60.0, 135.0, 90.0, 150.0, 50.0, 210.0, 315.0, 120.0, 30.0, 180.0, 25.0, 50.0, 150.0, 55.0, 55.0, 210.0, 50.0, 25.0, 70.0, 150.0, 50.0, 50.0, 60.0, 50.0, 105.0, 210.0, 175.0, null, 90.0, null, 105.0, 5.0, 125.0, 190.0, 65.0, 660.0, 25.0, 325.0, 350.0, 105.0, 65.0, 70.0, 100.0, 20.0, 45.0, 150.0, 15.0, 50.0, 50.0, 40.0, 35.0, 25.0, 50.0, 60.0, 10.0, 15.0, 105.0, 50.0, 25.0, 30.0, 150.0, 100.0, 775.0, 135.0, 110.0, 50.0, 45.0, 400.0, 120.0, 180.0, 100.0, 50.0, 100.0, 30.0, 130.0, 35.0, 70.0, 140.0, 65.0, 75.0, 70.0, 55.0, 60.0, 60.0, 60.0, 70.0, 50.0, 60.0, 125.0, 280.0, 60.0, 280.0, 60.0, 35.0, 50.0, 175.0, 15.0, 50.0, 35.0, 25.0, 105.0, 150.0, 250.0, 250.0, 70.0, 105.0, 215.0, 200.0, 55.0, 35.0, 90.0, 10.0, 40.0, 50.0, 50.0, 325.0, 175.0, 150.0, 150.0, 200.0, 165.0, 150.0, 520.0, 350.0, 200.0, 200.0, 150.0, 200.0, 135.0, 200.0, 70.0, 250.0, 140.0, 125.0, 75.0, 210.0, 250.0, 450.0, 350.0, 60.0, 50.0, 630.0, 70.0, 210.0, 140.0, 200.0, 75.0, 60.0, 105.0, 110.0, 175.0, 200.0, 50.0, 50.0, 50.0, 70.0, 180.0, 60.0, 60.0, 75.0, 40.0, 50.0, 50.0, 15.0, 350.0, 185.0, 50.0, 50.0, 50.0, 110.0, 140.0, 35.0, 50.0, 175.0, 420.0, 70.0, 75.0, 30.0, 25.0, 50.0, 50.0, 50.0, 305.0, 50.0, 35.0, 150.0, 50.0, 75.0, 150.0, 150.0, 50.0, 125.0, 50.0, 50.0, 30.0, 55.0, 15.0, 60.0, 15.0, 315.0, 15.0, 50.0, 175.0, 90.0, 30.0, 85.0, 150.0, 150.0, 10.0, 50.0, 150.0, 150.0, 55.0, 5.0, 45.0, 70.0, 840.0, 5.0, 125.0, 50.0, 50.0, 50.0, 400.0, 85.0, 45.0, 15.0, 225.0, 55.0, 45.0, 25.0, 125.0, 165.0, 100.0, 15.0, 5.0, 150.0, 5.0, null, 35.0, 50.0, 845.0, 70.0, 50.0, 30.0, 30.0, 150.0, 135.0, 25.0, 210.0, 100.0, 150.0, 265.0, 60.0, 70.0, 45.0, 70.0, 245.0, 150.0, 50.0, 50.0, 75.0, 30.0, 180.0, 70.0, 20.0, 65.0, 50.0, 150.0, 15.0, 60.0, 105.0, 45.0, 50.0, 60.0, 60.0, 105.0, 90.0, 15.0, 300.0, 50.0, 150.0, 50.0, 70.0, 150.0, 45.0, 50.0, 300.0, 250.0, 210.0, 150.0, 150.0, 150.0, 30.0, 350.0, 70.0, 125.0, 70.0, 210.0, 70.0, 150.0, 165.0, 5.0, 90.0, 55.0, 150.0, 210.0, 150.0, 195.0, 125.0, 400.0, 150.0, 25.0, 180.0, 30.0, 490.0, 55.0, 135.0, 150.0, 75.0, 250.0, 150.0, 15.0, 50.0, 150.0, 85.0, 200.0, 225.0, 150.0, 50.0, 30.0, 15.0, 180.0, 100.0, 50.0, 280.0, 35.0, 55.0, 910.0, 140.0, 50.0, 35.0, 200.0, 5.0, 5.0, 60.0, 25.0, 50.0, 15.0, 70.0, 50.0, 150.0, 30.0, 60.0, 60.0, 70.0, 20.0, 15.0, 555.0, 45.0, 150.0, 45.0, 175.0, 145.0, 55.0, 120.0, 50.0, 50.0, 50.0, 165.0, 90.0, 105.0, 150.0, 50.0, 140.0, 50.0, 180.0, 70.0, 55.0, 50.0, 50.0, 910.0, 50.0, 105.0, 70.0, 60.0, 35.0, 115.0, 50.0, 30.0, 195.0, 70.0, 50.0, 70.0, 75.0, 50.0, 35.0, 50.0, 210.0, 200.0, 60.0, 50.0, 75.0, 30.0, 15.0, 140.0, 75.0, 150.0, 125.0, 200.0, 150.0, 220.0, 50.0, 70.0, 55.0, 165.0, 30.0, 80.0, 20.0, 300.0, 175.0, 50.0, 50.0, 75.0, 45.0, 50.0, 35.0, 75.0, 175.0, 70.0, 210.0, 50.0, 25.0, 25.0, 200.0, 120.0, 225.0, 250.0, 210.0, 50.0, 125.0, 50.0, 15.0, 225.0, 50.0, 10.0, 70.0, 150.0, 60.0, 105.0, 25.0, 90.0, 115.0, 40.0, 350.0, 20.0, 325.0, 250.0, 55.0, 300.0, 65.0, 150.0, 70.0, 100.0, 100.0, 250.0, 210.0, 35.0, 35.0, 120.0, 15.0, 40.0, 10.0, 60.0, 250.0, 55.0, 210.0, 50.0, 455.0, 50.0, 330.0, 25.0, 70.0, 200.0, 50.0, 50.0, 50.0, 180.0, 50.0, 70.0, 55.0, 350.0, 35.0, 120.0, 35.0, 100.0, 455.0, 25.0, 65.0, 125.0, 260.0, null, 25.0, null, 445.0, 90.0, 35.0, null, 35.0, 50.0, 50.0, 60.0, 250.0, 250.0, 55.0, 275.0, 150.0, 50.0, 250.0, 165.0, 35.0, 60.0, 300.0, 70.0, 70.0, 70.0, 230.0, 70.0, 50.0, 195.0, 70.0, 50.0, 10.0, 105.0, 150.0, 150.0, 60.0, 90.0, 50.0, 40.0, 55.0, 70.0, 50.0, 105.0, 35.0, 70.0, 150.0, 50.0, 40.0, 65.0, 300.0, 210.0, 280.0, 50.0, 120.0, 400.0, 615.0, 70.0, 200.0, 550.0, 250.0, 70.0, 100.0, 210.0, 225.0, 60.0, 100.0, 490.0, 90.0, 120.0, 45.0, 420.0, 540.0, 375.0, 280.0, 250.0, 125.0, 250.0, 165.0, 180.0, 25.0, 75.0, 150.0, 75.0, 50.0, 50.0, 200.0, 150.0, 45.0, 150.0, 100.0, 225.0, 30.0, 90.0, 15.0, 270.0, 150.0, 25.0, 50.0, 15.0, 600.0, 30.0, 40.0, 65.0, 25.0, 35.0, 15.0, 20.0, 30.0, 125.0, 60.0, 180.0, 50.0, 75.0, 45.0, 50.0, 150.0, 120.0, 45.0, 90.0, 60.0, 50.0, 30.0, 50.0, 30.0, 25.0, 45.0, 50.0, 15.0, 310.0, 55.0, 30.0, 70.0, 50.0, 50.0, 35.0, 200.0, 35.0, 45.0, 50.0, 30.0, 25.0, 50.0, 50.0, 10.0, 60.0, 30.0, 30.0, 200.0, 130.0, 115.0, 150.0, 150.0, 250.0, 35.0, 470.0, 35.0, 65.0, 150.0, 35.0, 770.0, 10.0, 75.0, 660.0, 45.0, 200.0, 50.0, 500.0, 30.0, 10.0, 135.0, 100.0, 50.0, 30.0, 300.0, 60.0, 55.0, 150.0, 65.0, 540.0, 250.0, 70.0, 50.0, 30.0, 20.0, 75.0, 50.0], \"y0\": \" \", \"yaxis\": \"y\"}],\n",
              "                        {\"boxmode\": \"group\", \"legend\": {\"tracegroupgap\": 0}, \"template\": {\"data\": {\"bar\": [{\"error_x\": {\"color\": \"#2a3f5f\"}, \"error_y\": {\"color\": \"#2a3f5f\"}, \"marker\": {\"line\": {\"color\": \"#E5ECF6\", \"width\": 0.5}}, \"type\": \"bar\"}], \"barpolar\": [{\"marker\": {\"line\": {\"color\": \"#E5ECF6\", \"width\": 0.5}}, \"type\": \"barpolar\"}], \"carpet\": [{\"aaxis\": {\"endlinecolor\": \"#2a3f5f\", \"gridcolor\": \"white\", \"linecolor\": \"white\", \"minorgridcolor\": \"white\", \"startlinecolor\": \"#2a3f5f\"}, \"baxis\": {\"endlinecolor\": \"#2a3f5f\", \"gridcolor\": \"white\", \"linecolor\": \"white\", \"minorgridcolor\": \"white\", \"startlinecolor\": \"#2a3f5f\"}, \"type\": \"carpet\"}], \"choropleth\": [{\"colorbar\": {\"outlinewidth\": 0, \"ticks\": \"\"}, \"type\": \"choropleth\"}], \"contour\": [{\"colorbar\": {\"outlinewidth\": 0, \"ticks\": \"\"}, \"colorscale\": [[0.0, \"#0d0887\"], [0.1111111111111111, \"#46039f\"], [0.2222222222222222, \"#7201a8\"], [0.3333333333333333, \"#9c179e\"], [0.4444444444444444, \"#bd3786\"], [0.5555555555555556, \"#d8576b\"], [0.6666666666666666, \"#ed7953\"], [0.7777777777777778, \"#fb9f3a\"], [0.8888888888888888, \"#fdca26\"], [1.0, \"#f0f921\"]], \"type\": \"contour\"}], \"contourcarpet\": [{\"colorbar\": {\"outlinewidth\": 0, \"ticks\": \"\"}, \"type\": \"contourcarpet\"}], \"heatmap\": [{\"colorbar\": {\"outlinewidth\": 0, \"ticks\": \"\"}, \"colorscale\": [[0.0, \"#0d0887\"], [0.1111111111111111, \"#46039f\"], [0.2222222222222222, \"#7201a8\"], [0.3333333333333333, \"#9c179e\"], [0.4444444444444444, \"#bd3786\"], [0.5555555555555556, \"#d8576b\"], [0.6666666666666666, \"#ed7953\"], [0.7777777777777778, \"#fb9f3a\"], [0.8888888888888888, \"#fdca26\"], [1.0, \"#f0f921\"]], \"type\": \"heatmap\"}], \"heatmapgl\": [{\"colorbar\": {\"outlinewidth\": 0, \"ticks\": \"\"}, \"colorscale\": [[0.0, \"#0d0887\"], [0.1111111111111111, \"#46039f\"], [0.2222222222222222, \"#7201a8\"], [0.3333333333333333, \"#9c179e\"], [0.4444444444444444, \"#bd3786\"], [0.5555555555555556, \"#d8576b\"], [0.6666666666666666, \"#ed7953\"], [0.7777777777777778, \"#fb9f3a\"], [0.8888888888888888, \"#fdca26\"], [1.0, \"#f0f921\"]], \"type\": \"heatmapgl\"}], \"histogram\": [{\"marker\": {\"colorbar\": {\"outlinewidth\": 0, \"ticks\": \"\"}}, \"type\": \"histogram\"}], \"histogram2d\": [{\"colorbar\": {\"outlinewidth\": 0, \"ticks\": \"\"}, \"colorscale\": [[0.0, \"#0d0887\"], [0.1111111111111111, \"#46039f\"], [0.2222222222222222, \"#7201a8\"], [0.3333333333333333, \"#9c179e\"], [0.4444444444444444, \"#bd3786\"], [0.5555555555555556, \"#d8576b\"], [0.6666666666666666, \"#ed7953\"], [0.7777777777777778, \"#fb9f3a\"], [0.8888888888888888, \"#fdca26\"], [1.0, \"#f0f921\"]], \"type\": \"histogram2d\"}], \"histogram2dcontour\": [{\"colorbar\": {\"outlinewidth\": 0, \"ticks\": \"\"}, \"colorscale\": [[0.0, \"#0d0887\"], [0.1111111111111111, \"#46039f\"], [0.2222222222222222, \"#7201a8\"], [0.3333333333333333, \"#9c179e\"], [0.4444444444444444, \"#bd3786\"], [0.5555555555555556, \"#d8576b\"], [0.6666666666666666, \"#ed7953\"], [0.7777777777777778, \"#fb9f3a\"], [0.8888888888888888, \"#fdca26\"], [1.0, \"#f0f921\"]], \"type\": \"histogram2dcontour\"}], \"mesh3d\": [{\"colorbar\": {\"outlinewidth\": 0, \"ticks\": \"\"}, \"type\": \"mesh3d\"}], \"parcoords\": [{\"line\": {\"colorbar\": {\"outlinewidth\": 0, \"ticks\": \"\"}}, \"type\": \"parcoords\"}], \"pie\": [{\"automargin\": true, \"type\": \"pie\"}], \"scatter\": [{\"marker\": {\"colorbar\": {\"outlinewidth\": 0, \"ticks\": \"\"}}, \"type\": \"scatter\"}], \"scatter3d\": [{\"line\": {\"colorbar\": {\"outlinewidth\": 0, \"ticks\": \"\"}}, \"marker\": {\"colorbar\": {\"outlinewidth\": 0, \"ticks\": \"\"}}, \"type\": \"scatter3d\"}], \"scattercarpet\": [{\"marker\": {\"colorbar\": {\"outlinewidth\": 0, \"ticks\": \"\"}}, \"type\": \"scattercarpet\"}], \"scattergeo\": [{\"marker\": {\"colorbar\": {\"outlinewidth\": 0, \"ticks\": \"\"}}, \"type\": \"scattergeo\"}], \"scattergl\": [{\"marker\": {\"colorbar\": {\"outlinewidth\": 0, \"ticks\": \"\"}}, \"type\": \"scattergl\"}], \"scattermapbox\": [{\"marker\": {\"colorbar\": {\"outlinewidth\": 0, \"ticks\": \"\"}}, \"type\": \"scattermapbox\"}], \"scatterpolar\": [{\"marker\": {\"colorbar\": {\"outlinewidth\": 0, \"ticks\": \"\"}}, \"type\": \"scatterpolar\"}], \"scatterpolargl\": [{\"marker\": {\"colorbar\": {\"outlinewidth\": 0, \"ticks\": \"\"}}, \"type\": \"scatterpolargl\"}], \"scatterternary\": [{\"marker\": {\"colorbar\": {\"outlinewidth\": 0, \"ticks\": \"\"}}, \"type\": \"scatterternary\"}], \"surface\": [{\"colorbar\": {\"outlinewidth\": 0, \"ticks\": \"\"}, \"colorscale\": [[0.0, \"#0d0887\"], [0.1111111111111111, \"#46039f\"], [0.2222222222222222, \"#7201a8\"], [0.3333333333333333, \"#9c179e\"], [0.4444444444444444, \"#bd3786\"], [0.5555555555555556, \"#d8576b\"], [0.6666666666666666, \"#ed7953\"], [0.7777777777777778, \"#fb9f3a\"], [0.8888888888888888, \"#fdca26\"], [1.0, \"#f0f921\"]], \"type\": \"surface\"}], \"table\": [{\"cells\": {\"fill\": {\"color\": \"#EBF0F8\"}, \"line\": {\"color\": \"white\"}}, \"header\": {\"fill\": {\"color\": \"#C8D4E3\"}, \"line\": {\"color\": \"white\"}}, \"type\": \"table\"}]}, \"layout\": {\"annotationdefaults\": {\"arrowcolor\": \"#2a3f5f\", \"arrowhead\": 0, \"arrowwidth\": 1}, \"coloraxis\": {\"colorbar\": {\"outlinewidth\": 0, \"ticks\": \"\"}}, \"colorscale\": {\"diverging\": [[0, \"#8e0152\"], [0.1, \"#c51b7d\"], [0.2, \"#de77ae\"], [0.3, \"#f1b6da\"], [0.4, \"#fde0ef\"], [0.5, \"#f7f7f7\"], [0.6, \"#e6f5d0\"], [0.7, \"#b8e186\"], [0.8, \"#7fbc41\"], [0.9, \"#4d9221\"], [1, \"#276419\"]], \"sequential\": [[0.0, \"#0d0887\"], [0.1111111111111111, \"#46039f\"], [0.2222222222222222, \"#7201a8\"], [0.3333333333333333, \"#9c179e\"], [0.4444444444444444, \"#bd3786\"], [0.5555555555555556, \"#d8576b\"], [0.6666666666666666, \"#ed7953\"], [0.7777777777777778, \"#fb9f3a\"], [0.8888888888888888, \"#fdca26\"], [1.0, \"#f0f921\"]], \"sequentialminus\": [[0.0, \"#0d0887\"], [0.1111111111111111, \"#46039f\"], [0.2222222222222222, \"#7201a8\"], [0.3333333333333333, \"#9c179e\"], [0.4444444444444444, \"#bd3786\"], [0.5555555555555556, \"#d8576b\"], [0.6666666666666666, \"#ed7953\"], [0.7777777777777778, \"#fb9f3a\"], [0.8888888888888888, \"#fdca26\"], [1.0, \"#f0f921\"]]}, \"colorway\": [\"#636efa\", \"#EF553B\", \"#00cc96\", \"#ab63fa\", \"#FFA15A\", \"#19d3f3\", \"#FF6692\", \"#B6E880\", \"#FF97FF\", \"#FECB52\"], \"font\": {\"color\": \"#2a3f5f\"}, \"geo\": {\"bgcolor\": \"white\", \"lakecolor\": \"white\", \"landcolor\": \"#E5ECF6\", \"showlakes\": true, \"showland\": true, \"subunitcolor\": \"white\"}, \"hoverlabel\": {\"align\": \"left\"}, \"hovermode\": \"closest\", \"mapbox\": {\"style\": \"light\"}, \"paper_bgcolor\": \"white\", \"plot_bgcolor\": \"#E5ECF6\", \"polar\": {\"angularaxis\": {\"gridcolor\": \"white\", \"linecolor\": \"white\", \"ticks\": \"\"}, \"bgcolor\": \"#E5ECF6\", \"radialaxis\": {\"gridcolor\": \"white\", \"linecolor\": \"white\", \"ticks\": \"\"}}, \"scene\": {\"xaxis\": {\"backgroundcolor\": \"#E5ECF6\", \"gridcolor\": \"white\", \"gridwidth\": 2, \"linecolor\": \"white\", \"showbackground\": true, \"ticks\": \"\", \"zerolinecolor\": \"white\"}, \"yaxis\": {\"backgroundcolor\": \"#E5ECF6\", \"gridcolor\": \"white\", \"gridwidth\": 2, \"linecolor\": \"white\", \"showbackground\": true, \"ticks\": \"\", \"zerolinecolor\": \"white\"}, \"zaxis\": {\"backgroundcolor\": \"#E5ECF6\", \"gridcolor\": \"white\", \"gridwidth\": 2, \"linecolor\": \"white\", \"showbackground\": true, \"ticks\": \"\", \"zerolinecolor\": \"white\"}}, \"shapedefaults\": {\"line\": {\"color\": \"#2a3f5f\"}}, \"ternary\": {\"aaxis\": {\"gridcolor\": \"white\", \"linecolor\": \"white\", \"ticks\": \"\"}, \"baxis\": {\"gridcolor\": \"white\", \"linecolor\": \"white\", \"ticks\": \"\"}, \"bgcolor\": \"#E5ECF6\", \"caxis\": {\"gridcolor\": \"white\", \"linecolor\": \"white\", \"ticks\": \"\"}}, \"title\": {\"x\": 0.05}, \"xaxis\": {\"automargin\": true, \"gridcolor\": \"white\", \"linecolor\": \"white\", \"ticks\": \"\", \"title\": {\"standoff\": 15}, \"zerolinecolor\": \"white\", \"zerolinewidth\": 2}, \"yaxis\": {\"automargin\": true, \"gridcolor\": \"white\", \"linecolor\": \"white\", \"ticks\": \"\", \"title\": {\"standoff\": 15}, \"zerolinecolor\": \"white\", \"zerolinewidth\": 2}}}, \"title\": {\"text\": \"Distribui\\u00e7\\u00e3o dos Deslocamentos Di\\u00e1rios\"}, \"xaxis\": {\"anchor\": \"y\", \"domain\": [0.0, 1.0]}, \"yaxis\": {\"anchor\": \"x\", \"domain\": [0.0, 1.0], \"title\": {\"text\": \"DeslocDiario\"}}},\n",
              "                        {\"responsive\": true}\n",
              "                    ).then(function(){\n",
              "                            \n",
              "var gd = document.getElementById('59ee41cc-6944-4f96-b24e-a5f566327100');\n",
              "var x = new MutationObserver(function (mutations, observer) {{\n",
              "        var display = window.getComputedStyle(gd).display;\n",
              "        if (!display || display === 'none') {{\n",
              "            console.log([gd, 'removed!']);\n",
              "            Plotly.purge(gd);\n",
              "            observer.disconnect();\n",
              "        }}\n",
              "}});\n",
              "\n",
              "// Listen for the removal of the full notebook cells\n",
              "var notebookContainer = gd.closest('#notebook-container');\n",
              "if (notebookContainer) {{\n",
              "    x.observe(notebookContainer, {childList: true});\n",
              "}}\n",
              "\n",
              "// Listen for the clearing of the current output cell\n",
              "var outputEl = gd.closest('.output');\n",
              "if (outputEl) {{\n",
              "    x.observe(outputEl, {childList: true});\n",
              "}}\n",
              "\n",
              "                        })\n",
              "                };\n",
              "                \n",
              "            </script>\n",
              "        </div>\n",
              "</body>\n",
              "</html>"
            ]
          },
          "metadata": {
            "tags": []
          }
        }
      ]
    },
    {
      "cell_type": "markdown",
      "metadata": {
        "id": "HOiiAuC4qFic"
      },
      "source": [
        "Neste novo cenário, vemos que a média de deslocamento diário é de 124 minutos (2 horas) e a moda é de 50 minutos.\r\n",
        "\r\n",
        "Deste modo, podemos agora dividir os tempos de deslocamento entre escolas públicas e privadas para avaliar a hipótese sugerida."
      ]
    },
    {
      "cell_type": "code",
      "metadata": {
        "colab": {
          "base_uri": "https://localhost:8080/",
          "height": 350
        },
        "id": "cXMdCbxUrOvq",
        "outputId": "ac8c4bb2-6043-4c86-b096-066db8461e1c"
      },
      "source": [
        "ax = sns.histplot(data = dados_deslocamento, x = 'DeslocDiario', kde=True, hue = 'TipoEscola', palette='rocket_r')\r\n",
        "ax.set_title('Distribuição dos Tempos de Deslocamento por tipo de Escola (Privada x Publica)')\r\n",
        "ax.figure.set_size_inches(10, 5)"
      ],
      "execution_count": 101,
      "outputs": [
        {
          "output_type": "display_data",
          "data": {
            "image/png": "[encoded data removed]",
            "text/plain": [
              "<Figure size 720x360 with 1 Axes>"
            ]
          },
          "metadata": {
            "tags": [],
            "needs_background": "light"
          }
        }
      ]
    },
    {
      "cell_type": "markdown",
      "metadata": {
        "id": "x0K3Gxa7r6HJ"
      },
      "source": [
        "**Conclusão:** Como podemos ver o tempo de deslocamento dos alunos de escola pública são consideravelmente superiores aos dos alunos de escola privada, o que pode comprometer diversos outros aspectos no processo de aprendizagem."
      ]
    },
    {
      "cell_type": "markdown",
      "metadata": {
        "id": "x2IEaBViYtun"
      },
      "source": [
        "###### **6) Uma pesquisa recente noticiada na revista Galileu aponta que as meninas de 19 anos têm em média 23,30 de IMC. A amostra utilizada condiz com a pesquisa (mesmo contendo dados de 2015)?**"
      ]
    },
    {
      "cell_type": "markdown",
      "metadata": {
        "id": "YPdIZQsttjaz"
      },
      "source": [
        "Para esta análise (que é de certa forma muito específica: sexo = feminino e idade = 19), iremos separar a base de dados com meninas com idade 18 e 19 anos para termos um volume maior de dados. \r\n"
      ]
    },
    {
      "cell_type": "code",
      "metadata": {
        "colab": {
          "base_uri": "https://localhost:8080/",
          "height": 297
        },
        "id": "JwtFPdOgu0RW",
        "outputId": "827cd386-7975-46f2-df7e-a810f868a3ab"
      },
      "source": [
        "dados_meninas_18mais = dados.loc[(dados[\"Idade\"] >= 18) & (dados[\"Sexo\"]==\"Feminino\")]\r\n",
        "dados_meninas_18mais_privada = dados.loc[(dados[\"Idade\"]>= 18) & (dados[\"Sexo\"]==\"Feminino\") & (dados[\"TipoEscola\"]==\"Privada\")]\r\n",
        "dados_meninas_18mais_publica = dados.loc[(dados[\"Idade\"]>= 18) & (dados[\"Sexo\"]==\"Feminino\") & (dados[\"TipoEscola\"]==\"Pública\")]\r\n",
        "dados_meninas_18mais.describe()"
      ],
      "execution_count": 102,
      "outputs": [
        {
          "output_type": "execute_result",
          "data": {
            "text/html": [
              "<div>\n",
              "<style scoped>\n",
              "    .dataframe tbody tr th:only-of-type {\n",
              "        vertical-align: middle;\n",
              "    }\n",
              "\n",
              "    .dataframe tbody tr th {\n",
              "        vertical-align: top;\n",
              "    }\n",
              "\n",
              "    .dataframe thead th {\n",
              "        text-align: right;\n",
              "    }\n",
              "</style>\n",
              "<table border=\"1\" class=\"dataframe\">\n",
              "  <thead>\n",
              "    <tr style=\"text-align: right;\">\n",
              "      <th></th>\n",
              "      <th>Idade</th>\n",
              "      <th>DeslocDiario</th>\n",
              "      <th>Altura</th>\n",
              "      <th>Peso</th>\n",
              "      <th>IMC</th>\n",
              "    </tr>\n",
              "  </thead>\n",
              "  <tbody>\n",
              "    <tr>\n",
              "      <th>count</th>\n",
              "      <td>392.000000</td>\n",
              "      <td>391.000000</td>\n",
              "      <td>392.000000</td>\n",
              "      <td>392.000000</td>\n",
              "      <td>392.000000</td>\n",
              "    </tr>\n",
              "    <tr>\n",
              "      <th>mean</th>\n",
              "      <td>18.436224</td>\n",
              "      <td>91.905371</td>\n",
              "      <td>1.592194</td>\n",
              "      <td>58.921173</td>\n",
              "      <td>23.222959</td>\n",
              "    </tr>\n",
              "    <tr>\n",
              "      <th>std</th>\n",
              "      <td>0.496550</td>\n",
              "      <td>129.659371</td>\n",
              "      <td>0.066327</td>\n",
              "      <td>13.182701</td>\n",
              "      <td>4.891700</td>\n",
              "    </tr>\n",
              "    <tr>\n",
              "      <th>min</th>\n",
              "      <td>18.000000</td>\n",
              "      <td>0.000000</td>\n",
              "      <td>1.440000</td>\n",
              "      <td>36.600000</td>\n",
              "      <td>14.610000</td>\n",
              "    </tr>\n",
              "    <tr>\n",
              "      <th>25%</th>\n",
              "      <td>18.000000</td>\n",
              "      <td>0.000000</td>\n",
              "      <td>1.550000</td>\n",
              "      <td>50.175000</td>\n",
              "      <td>19.702500</td>\n",
              "    </tr>\n",
              "    <tr>\n",
              "      <th>50%</th>\n",
              "      <td>18.000000</td>\n",
              "      <td>50.000000</td>\n",
              "      <td>1.590000</td>\n",
              "      <td>56.400000</td>\n",
              "      <td>22.270000</td>\n",
              "    </tr>\n",
              "    <tr>\n",
              "      <th>75%</th>\n",
              "      <td>19.000000</td>\n",
              "      <td>150.000000</td>\n",
              "      <td>1.640000</td>\n",
              "      <td>65.425000</td>\n",
              "      <td>25.855000</td>\n",
              "    </tr>\n",
              "    <tr>\n",
              "      <th>max</th>\n",
              "      <td>19.000000</td>\n",
              "      <td>910.000000</td>\n",
              "      <td>1.850000</td>\n",
              "      <td>122.000000</td>\n",
              "      <td>44.270000</td>\n",
              "    </tr>\n",
              "  </tbody>\n",
              "</table>\n",
              "</div>"
            ],
            "text/plain": [
              "            Idade  DeslocDiario      Altura        Peso         IMC\n",
              "count  392.000000    391.000000  392.000000  392.000000  392.000000\n",
              "mean    18.436224     91.905371    1.592194   58.921173   23.222959\n",
              "std      0.496550    129.659371    0.066327   13.182701    4.891700\n",
              "min     18.000000      0.000000    1.440000   36.600000   14.610000\n",
              "25%     18.000000      0.000000    1.550000   50.175000   19.702500\n",
              "50%     18.000000     50.000000    1.590000   56.400000   22.270000\n",
              "75%     19.000000    150.000000    1.640000   65.425000   25.855000\n",
              "max     19.000000    910.000000    1.850000  122.000000   44.270000"
            ]
          },
          "metadata": {
            "tags": []
          },
          "execution_count": 102
        }
      ]
    },
    {
      "cell_type": "markdown",
      "metadata": {
        "id": "U0SVIvN8vusH"
      },
      "source": [
        "Após separar as bases de dados, iremos utilizar o [T-Test](https://blog.minitab.com/pt/como-entender-os-testes-t-valores-t-e-distribuicoes-t) para obter o [p-valor](https://blog.minitab.com/blog/adventures-in-statistics-2/how-to-correctly-interpret-p-values) deste teste estatístico para obter a significância estatística da nossa hipótese apresentada na amostra de dados em estudo. Desta forma, poderemos rejeitar ou aceitar a hipótese de meninas de 19 anos terem IMC médio de 23.3. Ou seja, quão mais próximo for o p-valor de 0, mais improvável é a hipótese ser verdadeira.\r\n",
        "\r\n",
        "**Extra:** Entendimento de [Testes de Hipóteses](https://medium.com/data-hackers/o-que-realmente-um-teste-de-hip%C3%B3teses-quer-nos-dizer-b82801b03529)."
      ]
    },
    {
      "cell_type": "code",
      "metadata": {
        "colab": {
          "base_uri": "https://localhost:8080/"
        },
        "id": "gvzj6sDsvYHb",
        "outputId": "56d762f4-8782-4532-a754-e7379cc3993b"
      },
      "source": [
        "stat2, p = sct.ttest_1samp(dados_meninas_18mais['IMC'], popmean=23.30)\r\n",
        "print('Teste de Escola Pública')\r\n",
        "print('Estatística de teste: {}'.format(stat2.round(2)))\r\n",
        "print('p-valor: {}'.format(p.round(2)))"
      ],
      "execution_count": 109,
      "outputs": [
        {
          "output_type": "stream",
          "text": [
            "Teste de Escola Pública\n",
            "Estatística de teste: -0.31\n",
            "p-valor: 0.76\n"
          ],
          "name": "stdout"
        }
      ]
    },
    {
      "cell_type": "markdown",
      "metadata": {
        "id": "_V6A_qQkyAvq"
      },
      "source": [
        "Como vemos acima, o p-valor é de 0.76. A depender do grau de confiabilidade de quem interpreta, este valor pode ser aceito ou não. Ao meu entendimento da base de dados, seria aceitável uma probabilidade de 76% de ser verdade."
      ]
    },
    {
      "cell_type": "code",
      "metadata": {
        "colab": {
          "base_uri": "https://localhost:8080/",
          "height": 297
        },
        "id": "82JeszJzvAfZ",
        "outputId": "9687a123-230b-4b50-a4f6-d53d33729695"
      },
      "source": [
        "dados_meninas_18mais_privada.describe()"
      ],
      "execution_count": 103,
      "outputs": [
        {
          "output_type": "execute_result",
          "data": {
            "text/html": [
              "<div>\n",
              "<style scoped>\n",
              "    .dataframe tbody tr th:only-of-type {\n",
              "        vertical-align: middle;\n",
              "    }\n",
              "\n",
              "    .dataframe tbody tr th {\n",
              "        vertical-align: top;\n",
              "    }\n",
              "\n",
              "    .dataframe thead th {\n",
              "        text-align: right;\n",
              "    }\n",
              "</style>\n",
              "<table border=\"1\" class=\"dataframe\">\n",
              "  <thead>\n",
              "    <tr style=\"text-align: right;\">\n",
              "      <th></th>\n",
              "      <th>Idade</th>\n",
              "      <th>DeslocDiario</th>\n",
              "      <th>Altura</th>\n",
              "      <th>Peso</th>\n",
              "      <th>IMC</th>\n",
              "    </tr>\n",
              "  </thead>\n",
              "  <tbody>\n",
              "    <tr>\n",
              "      <th>count</th>\n",
              "      <td>19.000000</td>\n",
              "      <td>19.000000</td>\n",
              "      <td>19.000000</td>\n",
              "      <td>19.00000</td>\n",
              "      <td>19.000000</td>\n",
              "    </tr>\n",
              "    <tr>\n",
              "      <th>mean</th>\n",
              "      <td>18.157895</td>\n",
              "      <td>11.052632</td>\n",
              "      <td>1.618421</td>\n",
              "      <td>60.90000</td>\n",
              "      <td>23.254737</td>\n",
              "    </tr>\n",
              "    <tr>\n",
              "      <th>std</th>\n",
              "      <td>0.374634</td>\n",
              "      <td>20.855252</td>\n",
              "      <td>0.075001</td>\n",
              "      <td>13.48184</td>\n",
              "      <td>5.160787</td>\n",
              "    </tr>\n",
              "    <tr>\n",
              "      <th>min</th>\n",
              "      <td>18.000000</td>\n",
              "      <td>0.000000</td>\n",
              "      <td>1.500000</td>\n",
              "      <td>44.40000</td>\n",
              "      <td>18.030000</td>\n",
              "    </tr>\n",
              "    <tr>\n",
              "      <th>25%</th>\n",
              "      <td>18.000000</td>\n",
              "      <td>0.000000</td>\n",
              "      <td>1.580000</td>\n",
              "      <td>48.35000</td>\n",
              "      <td>19.385000</td>\n",
              "    </tr>\n",
              "    <tr>\n",
              "      <th>50%</th>\n",
              "      <td>18.000000</td>\n",
              "      <td>0.000000</td>\n",
              "      <td>1.600000</td>\n",
              "      <td>56.20000</td>\n",
              "      <td>23.030000</td>\n",
              "    </tr>\n",
              "    <tr>\n",
              "      <th>75%</th>\n",
              "      <td>18.000000</td>\n",
              "      <td>12.500000</td>\n",
              "      <td>1.635000</td>\n",
              "      <td>69.60000</td>\n",
              "      <td>24.170000</td>\n",
              "    </tr>\n",
              "    <tr>\n",
              "      <th>max</th>\n",
              "      <td>19.000000</td>\n",
              "      <td>70.000000</td>\n",
              "      <td>1.840000</td>\n",
              "      <td>86.30000</td>\n",
              "      <td>37.200000</td>\n",
              "    </tr>\n",
              "  </tbody>\n",
              "</table>\n",
              "</div>"
            ],
            "text/plain": [
              "           Idade  DeslocDiario     Altura      Peso        IMC\n",
              "count  19.000000     19.000000  19.000000  19.00000  19.000000\n",
              "mean   18.157895     11.052632   1.618421  60.90000  23.254737\n",
              "std     0.374634     20.855252   0.075001  13.48184   5.160787\n",
              "min    18.000000      0.000000   1.500000  44.40000  18.030000\n",
              "25%    18.000000      0.000000   1.580000  48.35000  19.385000\n",
              "50%    18.000000      0.000000   1.600000  56.20000  23.030000\n",
              "75%    18.000000     12.500000   1.635000  69.60000  24.170000\n",
              "max    19.000000     70.000000   1.840000  86.30000  37.200000"
            ]
          },
          "metadata": {
            "tags": []
          },
          "execution_count": 103
        }
      ]
    },
    {
      "cell_type": "code",
      "metadata": {
        "colab": {
          "base_uri": "https://localhost:8080/"
        },
        "id": "tXzLrq-4vKlQ",
        "outputId": "2c3918d8-e1ed-4387-ef67-6da266cd80fb"
      },
      "source": [
        "stat, p = sct.ttest_1samp(dados_meninas_18mais_privada['IMC'], popmean=23.30)\r\n",
        "print('Teste de Escola Privada')\r\n",
        "print('Estatística de teste: {}'.format(stat.round(2)))\r\n",
        "print('p-valor: {}'.format(p.round(2)))"
      ],
      "execution_count": 107,
      "outputs": [
        {
          "output_type": "stream",
          "text": [
            "Teste de Escola Privada\n",
            "Estatística de teste: -0.04\n",
            "p-valor: 0.97\n"
          ],
          "name": "stdout"
        }
      ]
    },
    {
      "cell_type": "code",
      "metadata": {
        "colab": {
          "base_uri": "https://localhost:8080/",
          "height": 297
        },
        "id": "C8LLJhP-vCMs",
        "outputId": "a5fc1182-9c45-436c-898a-09a0d9434f61"
      },
      "source": [
        "dados_meninas_18mais_publica.describe()"
      ],
      "execution_count": 104,
      "outputs": [
        {
          "output_type": "execute_result",
          "data": {
            "text/html": [
              "<div>\n",
              "<style scoped>\n",
              "    .dataframe tbody tr th:only-of-type {\n",
              "        vertical-align: middle;\n",
              "    }\n",
              "\n",
              "    .dataframe tbody tr th {\n",
              "        vertical-align: top;\n",
              "    }\n",
              "\n",
              "    .dataframe thead th {\n",
              "        text-align: right;\n",
              "    }\n",
              "</style>\n",
              "<table border=\"1\" class=\"dataframe\">\n",
              "  <thead>\n",
              "    <tr style=\"text-align: right;\">\n",
              "      <th></th>\n",
              "      <th>Idade</th>\n",
              "      <th>DeslocDiario</th>\n",
              "      <th>Altura</th>\n",
              "      <th>Peso</th>\n",
              "      <th>IMC</th>\n",
              "    </tr>\n",
              "  </thead>\n",
              "  <tbody>\n",
              "    <tr>\n",
              "      <th>count</th>\n",
              "      <td>373.000000</td>\n",
              "      <td>372.000000</td>\n",
              "      <td>373.000000</td>\n",
              "      <td>373.000000</td>\n",
              "      <td>373.000000</td>\n",
              "    </tr>\n",
              "    <tr>\n",
              "      <th>mean</th>\n",
              "      <td>18.450402</td>\n",
              "      <td>96.034946</td>\n",
              "      <td>1.590858</td>\n",
              "      <td>58.820375</td>\n",
              "      <td>23.221340</td>\n",
              "    </tr>\n",
              "    <tr>\n",
              "      <th>std</th>\n",
              "      <td>0.498202</td>\n",
              "      <td>131.527687</td>\n",
              "      <td>0.065688</td>\n",
              "      <td>13.177809</td>\n",
              "      <td>4.884886</td>\n",
              "    </tr>\n",
              "    <tr>\n",
              "      <th>min</th>\n",
              "      <td>18.000000</td>\n",
              "      <td>0.000000</td>\n",
              "      <td>1.440000</td>\n",
              "      <td>36.600000</td>\n",
              "      <td>14.610000</td>\n",
              "    </tr>\n",
              "    <tr>\n",
              "      <th>25%</th>\n",
              "      <td>18.000000</td>\n",
              "      <td>0.000000</td>\n",
              "      <td>1.550000</td>\n",
              "      <td>50.300000</td>\n",
              "      <td>19.740000</td>\n",
              "    </tr>\n",
              "    <tr>\n",
              "      <th>50%</th>\n",
              "      <td>18.000000</td>\n",
              "      <td>50.000000</td>\n",
              "      <td>1.580000</td>\n",
              "      <td>56.400000</td>\n",
              "      <td>22.270000</td>\n",
              "    </tr>\n",
              "    <tr>\n",
              "      <th>75%</th>\n",
              "      <td>19.000000</td>\n",
              "      <td>150.000000</td>\n",
              "      <td>1.640000</td>\n",
              "      <td>65.400000</td>\n",
              "      <td>25.870000</td>\n",
              "    </tr>\n",
              "    <tr>\n",
              "      <th>max</th>\n",
              "      <td>19.000000</td>\n",
              "      <td>910.000000</td>\n",
              "      <td>1.850000</td>\n",
              "      <td>122.000000</td>\n",
              "      <td>44.270000</td>\n",
              "    </tr>\n",
              "  </tbody>\n",
              "</table>\n",
              "</div>"
            ],
            "text/plain": [
              "            Idade  DeslocDiario      Altura        Peso         IMC\n",
              "count  373.000000    372.000000  373.000000  373.000000  373.000000\n",
              "mean    18.450402     96.034946    1.590858   58.820375   23.221340\n",
              "std      0.498202    131.527687    0.065688   13.177809    4.884886\n",
              "min     18.000000      0.000000    1.440000   36.600000   14.610000\n",
              "25%     18.000000      0.000000    1.550000   50.300000   19.740000\n",
              "50%     18.000000     50.000000    1.580000   56.400000   22.270000\n",
              "75%     19.000000    150.000000    1.640000   65.400000   25.870000\n",
              "max     19.000000    910.000000    1.850000  122.000000   44.270000"
            ]
          },
          "metadata": {
            "tags": []
          },
          "execution_count": 104
        }
      ]
    },
    {
      "cell_type": "code",
      "metadata": {
        "colab": {
          "base_uri": "https://localhost:8080/"
        },
        "id": "UlcoGUEfvWZx",
        "outputId": "ec3f15d8-02d9-49ef-cc9d-914ab09dd676"
      },
      "source": [
        "stat2, p = sct.ttest_1samp(dados_meninas_18mais_publica['IMC'], popmean=23.30)\r\n",
        "print('Teste de Escola Pública')\r\n",
        "print('Estatística de teste: {}'.format(stat2.round(2)))\r\n",
        "print('p-valor: {}'.format(p.round(2)))"
      ],
      "execution_count": 108,
      "outputs": [
        {
          "output_type": "stream",
          "text": [
            "Teste de Escola Pública\n",
            "Estatística de teste: -0.31\n",
            "p-valor: 0.76\n"
          ],
          "name": "stdout"
        }
      ]
    },
    {
      "cell_type": "markdown",
      "metadata": {
        "id": "kqMuhlOmyZx0"
      },
      "source": [
        "**Conclusão:** Quando dividimos em escolas Públicas e Privadas, podemos ver que a probabilidade da hipótese ser verdadeira para Escolas Privadas é de 97%, enquanto que nas escolas Públicas, é de 76% (igual ao do percentual da amostra completa). Logicamente o volume das amostras pode estar interferindo nos resultados, mas como prática de estudo, estarei validando."
      ]
    }
  ]
}