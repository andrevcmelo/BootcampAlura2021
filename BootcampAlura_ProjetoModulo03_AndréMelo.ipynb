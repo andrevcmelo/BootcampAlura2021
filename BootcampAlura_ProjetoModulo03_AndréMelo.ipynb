{
  "nbformat": 4,
  "nbformat_minor": 0,
  "metadata": {
    "colab": {
      "name": "BootcampAlura_ProjetoModulo03_AndréMelo.ipynb",
      "provenance": [],
      "authorship_tag": "ABX9TyM8dU/JLzjvXfStYEj2a5Wi",
      "include_colab_link": true
    },
    "kernelspec": {
      "name": "python3",
      "display_name": "Python 3"
    }
  },
  "cells": [
    {
      "cell_type": "markdown",
      "metadata": {
        "id": "view-in-github",
        "colab_type": "text"
      },
      "source": [
        "<a href=\"https://colab.research.google.com/github/andrevcmelo/BootcampAlura2021/blob/main/BootcampAlura_ProjetoModulo03_Andr%C3%A9Melo.ipynb\" target=\"_parent\"><img src=\"https://colab.research.google.com/assets/colab-badge.svg\" alt=\"Open In Colab\"/></a>"
      ]
    },
    {
      "cell_type": "markdown",
      "metadata": {
        "id": "KBMmoV-Y7ZU_"
      },
      "source": [
        ""
      ]
    },
    {
      "cell_type": "code",
      "metadata": {
        "id": "2tkq6VcI7QHO"
      },
      "source": [
        ""
      ],
      "execution_count": null,
      "outputs": []
    },
    {
      "cell_type": "markdown",
      "metadata": {
        "id": "NDNIBVlV7Gyz"
      },
      "source": [
        "Informações sobre a PeNSE 2015 - https://www.ibge.gov.br/estatisticas/sociais/populacao/9134-pesquisa-nacional-de-saude-do-escolar.html?=&t=o-que-e\r\n",
        "\r\n",
        "IBGE Explica - PeNSE: https://www.youtube.com/watch?v=z4BBCHZUvD4\r\n",
        "\r\n",
        "Microdados Download: https://www.ibge.gov.br/estatisticas/downloads-estatisticas.html?caminho=pense/2015/microdados/\r\n",
        "\r\n",
        "Link Dicionário dos Dados: https://github.com/andrevcmelo/BootcampAlura2021/blob/main/bases_modulo3/Dicionario_PENSE_Microdados_Amostra1.xls\r\n",
        "\r\n",
        "Link Base de Dados: https://drive.google.com/file/d/15PqTHhjgvG3KCCx27U2iEmhnhuL8oGa3/view?usp=sharing"
      ]
    }
  ]
}