{
  "nbformat": 4,
  "nbformat_minor": 0,
  "metadata": {
    "colab": {
      "name": "BootcampAlura_ProjetoModulo02_AndréMelo.ipynb",
      "provenance": [],
      "collapsed_sections": [],
      "authorship_tag": "ABX9TyNKNxA+IPs3Dlwdra5KUsPk",
      "include_colab_link": true
    },
    "kernelspec": {
      "name": "python3",
      "display_name": "Python 3"
    }
  },
  "cells": [
    {
      "cell_type": "markdown",
      "metadata": {
        "id": "view-in-github",
        "colab_type": "text"
      },
      "source": [
        "<a href=\"https://colab.research.google.com/github/andrevcmelo/BootcampAlura2021/blob/main/BootcampAlura_ProjetoModulo02_Andr%C3%A9Melo.ipynb\" target=\"_parent\"><img src=\"https://colab.research.google.com/assets/colab-badge.svg\" alt=\"Open In Colab\"/></a>"
      ]
    },
    {
      "cell_type": "markdown",
      "metadata": {
        "id": "GP5Gu0Cq6Ny_"
      },
      "source": [
        "[EM PROCESSO DE ATUALIZAÇÃO DO ARQUIVO]"
      ]
    },
    {
      "cell_type": "markdown",
      "metadata": {
        "id": "8xoFLq6d6F2D"
      },
      "source": [
        "#### Importação de Bibliotecas"
      ]
    },
    {
      "cell_type": "code",
      "metadata": {
        "id": "2GAFgR_c5_ua"
      },
      "source": [
        "import numpy as np\n",
        "import pandas as pd\n",
        "import matplotlib.pyplot as plt\n",
        "import matplotlib.ticker as ticker\n",
        "import seaborn as sns\n",
        "import datetime"
      ],
      "execution_count": null,
      "outputs": []
    },
    {
      "cell_type": "markdown",
      "metadata": {
        "id": "sWG0eceK6MZa"
      },
      "source": [
        "#### Importação de Dados"
      ]
    },
    {
      "cell_type": "code",
      "metadata": {
        "id": "aero-TcbQcjR"
      },
      "source": [
        ""
      ],
      "execution_count": null,
      "outputs": []
    },
    {
      "cell_type": "code",
      "metadata": {
        "id": "YsSMKiihBuuq"
      },
      "source": [
        ""
      ],
      "execution_count": null,
      "outputs": []
    }
  ]
}