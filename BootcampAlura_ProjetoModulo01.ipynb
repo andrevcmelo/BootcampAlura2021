{
  "nbformat": 4,
  "nbformat_minor": 0,
  "metadata": {
    "colab": {
      "name": "BootcampAlura_ProjetoModulo01.ipynb",
      "provenance": [],
      "collapsed_sections": [],
      "authorship_tag": "ABX9TyMP+a2p/JHI1dGNQwT5Kvuk",
      "include_colab_link": true
    },
    "kernelspec": {
      "name": "python3",
      "display_name": "Python 3"
    }
  },
  "cells": [
    {
      "cell_type": "markdown",
      "metadata": {
        "id": "view-in-github",
        "colab_type": "text"
      },
      "source": [
        "<a href=\"https://colab.research.google.com/github/andrevcmelo/BootcampAlura2021/blob/main/BootcampAlura_ProjetoModulo01.ipynb\" target=\"_parent\"><img src=\"https://colab.research.google.com/assets/colab-badge.svg\" alt=\"Open In Colab\"/></a>"
      ]
    },
    {
      "cell_type": "markdown",
      "metadata": {
        "id": "uF0go-t_P0Lr"
      },
      "source": [
        "**Projeto do Módulo 01 do Bootcamp Alura em Data Science Aplicada 2020**\n",
        "\n",
        "O objetivo deste projeto é realizar uma análise exploratória na base de dados do COVID-19 do Brasil.IO.\n",
        "\n",
        "1. Link da base de dados (baixado em 06-11-2020): https://github.com/andrevcmelo/BootcampAlura2021/blob/main/COVID19-BRASILIO-06-11-2020.csv.gz\n",
        "\n",
        "2. Link do Brasil.IO: https://brasil.io/home/\n",
        "\n",
        "3. Link da descrição do dataset: https://github.com/turicas/covid19-br/blob/master/README.md#licen%C3%A7a-e-cita%C3%A7%C3%A3o\n"
      ]
    },
    {
      "cell_type": "markdown",
      "metadata": {
        "id": "-V6C-Rd0Rgyx"
      },
      "source": [
        "#### Importação de Bibliotecas"
      ]
    },
    {
      "cell_type": "code",
      "metadata": {
        "id": "60tIANB-Pvg1"
      },
      "source": [
        "import numpy as np\n",
        "import pandas as pd\n",
        "import matplotlib.pyplot as plt\n",
        "import matplotlib.ticker as ticker\n",
        "import seaborn as sns\n",
        "\n",
        "#Definição do tema dos gráficos do matplotlib\n",
        "plt.style.use('ggplot')"
      ],
      "execution_count": 18,
      "outputs": []
    },
    {
      "cell_type": "markdown",
      "metadata": {
        "id": "ZU7RXiSjRvgY"
      },
      "source": [
        "#### Importação de Dados"
      ]
    },
    {
      "cell_type": "code",
      "metadata": {
        "id": "X_BiNjNZRxjt",
        "outputId": "7bbadff4-f3a9-40fa-b10e-3f837a78924b",
        "colab": {
          "base_uri": "https://localhost:8080/",
          "height": 305
        }
      },
      "source": [
        "file_gzip = (\"https://raw.githubusercontent.com/alura-cursos/agendamento-hospitalar/main/dados/COVID19-BRASILIO-06-11-2020.csv.gz\")\n",
        "\n",
        "dados = pd.read_csv(file_gzip, compression='gzip',  \n",
        "                    sep=\",\", decimal=\".\",\n",
        "                   error_bad_lines=False)\n",
        "\n",
        "#Definindo formato dos registros tipo númerico\n",
        "pd.options.display.float_format = \"{:.2f}\".format\n",
        "#Avaliando as linhas iniciais do dataset\n",
        "dados.head()"
      ],
      "execution_count": 19,
      "outputs": [
        {
          "output_type": "execute_result",
          "data": {
            "text/html": [
              "<div>\n",
              "<style scoped>\n",
              "    .dataframe tbody tr th:only-of-type {\n",
              "        vertical-align: middle;\n",
              "    }\n",
              "\n",
              "    .dataframe tbody tr th {\n",
              "        vertical-align: top;\n",
              "    }\n",
              "\n",
              "    .dataframe thead th {\n",
              "        text-align: right;\n",
              "    }\n",
              "</style>\n",
              "<table border=\"1\" class=\"dataframe\">\n",
              "  <thead>\n",
              "    <tr style=\"text-align: right;\">\n",
              "      <th></th>\n",
              "      <th>date</th>\n",
              "      <th>state</th>\n",
              "      <th>city</th>\n",
              "      <th>place_type</th>\n",
              "      <th>confirmed</th>\n",
              "      <th>deaths</th>\n",
              "      <th>order_for_place</th>\n",
              "      <th>is_last</th>\n",
              "      <th>estimated_population_2019</th>\n",
              "      <th>estimated_population</th>\n",
              "      <th>city_ibge_code</th>\n",
              "      <th>confirmed_per_100k_inhabitants</th>\n",
              "      <th>death_rate</th>\n",
              "    </tr>\n",
              "  </thead>\n",
              "  <tbody>\n",
              "    <tr>\n",
              "      <th>0</th>\n",
              "      <td>2020-11-05</td>\n",
              "      <td>AC</td>\n",
              "      <td>NaN</td>\n",
              "      <td>state</td>\n",
              "      <td>31248</td>\n",
              "      <td>697</td>\n",
              "      <td>234</td>\n",
              "      <td>True</td>\n",
              "      <td>881935.00</td>\n",
              "      <td>894470.00</td>\n",
              "      <td>12.00</td>\n",
              "      <td>3493.47</td>\n",
              "      <td>0.02</td>\n",
              "    </tr>\n",
              "    <tr>\n",
              "      <th>1</th>\n",
              "      <td>2020-11-04</td>\n",
              "      <td>AC</td>\n",
              "      <td>NaN</td>\n",
              "      <td>state</td>\n",
              "      <td>31218</td>\n",
              "      <td>696</td>\n",
              "      <td>233</td>\n",
              "      <td>False</td>\n",
              "      <td>881935.00</td>\n",
              "      <td>894470.00</td>\n",
              "      <td>12.00</td>\n",
              "      <td>3490.11</td>\n",
              "      <td>0.02</td>\n",
              "    </tr>\n",
              "    <tr>\n",
              "      <th>2</th>\n",
              "      <td>2020-11-03</td>\n",
              "      <td>AC</td>\n",
              "      <td>NaN</td>\n",
              "      <td>state</td>\n",
              "      <td>30962</td>\n",
              "      <td>695</td>\n",
              "      <td>232</td>\n",
              "      <td>False</td>\n",
              "      <td>881935.00</td>\n",
              "      <td>894470.00</td>\n",
              "      <td>12.00</td>\n",
              "      <td>3461.49</td>\n",
              "      <td>0.02</td>\n",
              "    </tr>\n",
              "    <tr>\n",
              "      <th>3</th>\n",
              "      <td>2020-11-02</td>\n",
              "      <td>AC</td>\n",
              "      <td>NaN</td>\n",
              "      <td>state</td>\n",
              "      <td>30954</td>\n",
              "      <td>693</td>\n",
              "      <td>231</td>\n",
              "      <td>False</td>\n",
              "      <td>881935.00</td>\n",
              "      <td>894470.00</td>\n",
              "      <td>12.00</td>\n",
              "      <td>3460.60</td>\n",
              "      <td>0.02</td>\n",
              "    </tr>\n",
              "    <tr>\n",
              "      <th>4</th>\n",
              "      <td>2020-11-01</td>\n",
              "      <td>AC</td>\n",
              "      <td>NaN</td>\n",
              "      <td>state</td>\n",
              "      <td>30951</td>\n",
              "      <td>693</td>\n",
              "      <td>230</td>\n",
              "      <td>False</td>\n",
              "      <td>881935.00</td>\n",
              "      <td>894470.00</td>\n",
              "      <td>12.00</td>\n",
              "      <td>3460.26</td>\n",
              "      <td>0.02</td>\n",
              "    </tr>\n",
              "  </tbody>\n",
              "</table>\n",
              "</div>"
            ],
            "text/plain": [
              "         date state  ... confirmed_per_100k_inhabitants death_rate\n",
              "0  2020-11-05    AC  ...                        3493.47       0.02\n",
              "1  2020-11-04    AC  ...                        3490.11       0.02\n",
              "2  2020-11-03    AC  ...                        3461.49       0.02\n",
              "3  2020-11-02    AC  ...                        3460.60       0.02\n",
              "4  2020-11-01    AC  ...                        3460.26       0.02\n",
              "\n",
              "[5 rows x 13 columns]"
            ]
          },
          "metadata": {
            "tags": []
          },
          "execution_count": 19
        }
      ]
    },
    {
      "cell_type": "code",
      "metadata": {
        "id": "mp4TnGl4R7gG",
        "outputId": "eb2f4541-6393-4f4e-f8e7-b10a2df5d218",
        "colab": {
          "base_uri": "https://localhost:8080/",
          "height": 305
        }
      },
      "source": [
        "dados.tail()"
      ],
      "execution_count": 20,
      "outputs": [
        {
          "output_type": "execute_result",
          "data": {
            "text/html": [
              "<div>\n",
              "<style scoped>\n",
              "    .dataframe tbody tr th:only-of-type {\n",
              "        vertical-align: middle;\n",
              "    }\n",
              "\n",
              "    .dataframe tbody tr th {\n",
              "        vertical-align: top;\n",
              "    }\n",
              "\n",
              "    .dataframe thead th {\n",
              "        text-align: right;\n",
              "    }\n",
              "</style>\n",
              "<table border=\"1\" class=\"dataframe\">\n",
              "  <thead>\n",
              "    <tr style=\"text-align: right;\">\n",
              "      <th></th>\n",
              "      <th>date</th>\n",
              "      <th>state</th>\n",
              "      <th>city</th>\n",
              "      <th>place_type</th>\n",
              "      <th>confirmed</th>\n",
              "      <th>deaths</th>\n",
              "      <th>order_for_place</th>\n",
              "      <th>is_last</th>\n",
              "      <th>estimated_population_2019</th>\n",
              "      <th>estimated_population</th>\n",
              "      <th>city_ibge_code</th>\n",
              "      <th>confirmed_per_100k_inhabitants</th>\n",
              "      <th>death_rate</th>\n",
              "    </tr>\n",
              "  </thead>\n",
              "  <tbody>\n",
              "    <tr>\n",
              "      <th>936865</th>\n",
              "      <td>2020-06-23</td>\n",
              "      <td>SP</td>\n",
              "      <td>Óleo</td>\n",
              "      <td>city</td>\n",
              "      <td>1</td>\n",
              "      <td>0</td>\n",
              "      <td>5</td>\n",
              "      <td>False</td>\n",
              "      <td>2496.00</td>\n",
              "      <td>2471.00</td>\n",
              "      <td>3533809.00</td>\n",
              "      <td>40.47</td>\n",
              "      <td>0.00</td>\n",
              "    </tr>\n",
              "    <tr>\n",
              "      <th>936866</th>\n",
              "      <td>2020-06-22</td>\n",
              "      <td>SP</td>\n",
              "      <td>Óleo</td>\n",
              "      <td>city</td>\n",
              "      <td>1</td>\n",
              "      <td>0</td>\n",
              "      <td>4</td>\n",
              "      <td>False</td>\n",
              "      <td>2496.00</td>\n",
              "      <td>2471.00</td>\n",
              "      <td>3533809.00</td>\n",
              "      <td>40.47</td>\n",
              "      <td>0.00</td>\n",
              "    </tr>\n",
              "    <tr>\n",
              "      <th>936867</th>\n",
              "      <td>2020-06-21</td>\n",
              "      <td>SP</td>\n",
              "      <td>Óleo</td>\n",
              "      <td>city</td>\n",
              "      <td>1</td>\n",
              "      <td>0</td>\n",
              "      <td>3</td>\n",
              "      <td>False</td>\n",
              "      <td>2496.00</td>\n",
              "      <td>2471.00</td>\n",
              "      <td>3533809.00</td>\n",
              "      <td>40.47</td>\n",
              "      <td>0.00</td>\n",
              "    </tr>\n",
              "    <tr>\n",
              "      <th>936868</th>\n",
              "      <td>2020-06-20</td>\n",
              "      <td>SP</td>\n",
              "      <td>Óleo</td>\n",
              "      <td>city</td>\n",
              "      <td>1</td>\n",
              "      <td>0</td>\n",
              "      <td>2</td>\n",
              "      <td>False</td>\n",
              "      <td>2496.00</td>\n",
              "      <td>2471.00</td>\n",
              "      <td>3533809.00</td>\n",
              "      <td>40.47</td>\n",
              "      <td>0.00</td>\n",
              "    </tr>\n",
              "    <tr>\n",
              "      <th>936869</th>\n",
              "      <td>2020-06-19</td>\n",
              "      <td>SP</td>\n",
              "      <td>Óleo</td>\n",
              "      <td>city</td>\n",
              "      <td>1</td>\n",
              "      <td>0</td>\n",
              "      <td>1</td>\n",
              "      <td>False</td>\n",
              "      <td>2496.00</td>\n",
              "      <td>2471.00</td>\n",
              "      <td>3533809.00</td>\n",
              "      <td>40.47</td>\n",
              "      <td>0.00</td>\n",
              "    </tr>\n",
              "  </tbody>\n",
              "</table>\n",
              "</div>"
            ],
            "text/plain": [
              "              date state  ... confirmed_per_100k_inhabitants death_rate\n",
              "936865  2020-06-23    SP  ...                          40.47       0.00\n",
              "936866  2020-06-22    SP  ...                          40.47       0.00\n",
              "936867  2020-06-21    SP  ...                          40.47       0.00\n",
              "936868  2020-06-20    SP  ...                          40.47       0.00\n",
              "936869  2020-06-19    SP  ...                          40.47       0.00\n",
              "\n",
              "[5 rows x 13 columns]"
            ]
          },
          "metadata": {
            "tags": []
          },
          "execution_count": 20
        }
      ]
    },
    {
      "cell_type": "code",
      "metadata": {
        "id": "Hhxq6z5UZTn6",
        "outputId": "b48df8fb-e2a3-49ec-ed43-c8d6bd7a83b6",
        "colab": {
          "base_uri": "https://localhost:8080/"
        }
      },
      "source": [
        "dados.info()"
      ],
      "execution_count": 21,
      "outputs": [
        {
          "output_type": "stream",
          "text": [
            "<class 'pandas.core.frame.DataFrame'>\n",
            "RangeIndex: 936870 entries, 0 to 936869\n",
            "Data columns (total 13 columns):\n",
            " #   Column                          Non-Null Count   Dtype  \n",
            "---  ------                          --------------   -----  \n",
            " 0   date                            936870 non-null  object \n",
            " 1   state                           936870 non-null  object \n",
            " 2   city                            930535 non-null  object \n",
            " 3   place_type                      936870 non-null  object \n",
            " 4   confirmed                       936870 non-null  int64  \n",
            " 5   deaths                          936870 non-null  int64  \n",
            " 6   order_for_place                 936870 non-null  int64  \n",
            " 7   is_last                         936870 non-null  bool   \n",
            " 8   estimated_population_2019       933215 non-null  float64\n",
            " 9   estimated_population            933215 non-null  float64\n",
            " 10  city_ibge_code                  933215 non-null  float64\n",
            " 11  confirmed_per_100k_inhabitants  919888 non-null  float64\n",
            " 12  death_rate                      936870 non-null  float64\n",
            "dtypes: bool(1), float64(5), int64(3), object(4)\n",
            "memory usage: 86.7+ MB\n"
          ],
          "name": "stdout"
        }
      ]
    },
    {
      "cell_type": "code",
      "metadata": {
        "id": "H83Sy8aVcelZ",
        "outputId": "4d614972-d950-4ec0-a908-0ae8341238c5",
        "colab": {
          "base_uri": "https://localhost:8080/"
        }
      },
      "source": [
        "#Quantidade de valores em branco\n",
        "print(dados.isna().sum())\n",
        "print('\\n')"
      ],
      "execution_count": 37,
      "outputs": [
        {
          "output_type": "stream",
          "text": [
            "date                                  0\n",
            "state                                 0\n",
            "city                               6335\n",
            "place_type                            0\n",
            "confirmed                             0\n",
            "deaths                                0\n",
            "order_for_place                       0\n",
            "is_last                               0\n",
            "estimated_population_2019          3655\n",
            "estimated_population               3655\n",
            "city_ibge_code                     3655\n",
            "confirmed_per_100k_inhabitants    16982\n",
            "death_rate                            0\n",
            "dtype: int64\n",
            "\n",
            "\n"
          ],
          "name": "stdout"
        }
      ]
    },
    {
      "cell_type": "markdown",
      "metadata": {
        "id": "SWPnXvf_acAH"
      },
      "source": [
        "#### Tratamento dos dados"
      ]
    },
    {
      "cell_type": "markdown",
      "metadata": {
        "id": "7Qfymt6naxys"
      },
      "source": [
        "Alterando o tipo do campo `date` de *object* para *datetime*"
      ]
    },
    {
      "cell_type": "code",
      "metadata": {
        "id": "hq6MyKjiaVtH"
      },
      "source": [
        "dados['date'] = pd.to_datetime(dados['date'])\n",
        "dados.info()"
      ],
      "execution_count": null,
      "outputs": []
    },
    {
      "cell_type": "markdown",
      "metadata": {
        "id": "JtDEvGWubKt2"
      },
      "source": [
        "De acordo com a documentação, o campo `place_type` está subdividido em Estado e Cidade. Irei dividir em 2 datasets, um para a visão por Estados e outro para a visão por Cidades."
      ]
    },
    {
      "cell_type": "code",
      "metadata": {
        "id": "nOWpZAkCbeXP",
        "outputId": "30e38ef9-5f3e-4094-b23a-a0d449aacffb",
        "colab": {
          "base_uri": "https://localhost:8080/",
          "height": 305
        }
      },
      "source": [
        "#dados_estado -> Estados\n",
        "dados_estado = dados[dados['place_type']=='state'].reset_index(drop=True)\n",
        "dados_estado.head(5)"
      ],
      "execution_count": 35,
      "outputs": [
        {
          "output_type": "execute_result",
          "data": {
            "text/html": [
              "<div>\n",
              "<style scoped>\n",
              "    .dataframe tbody tr th:only-of-type {\n",
              "        vertical-align: middle;\n",
              "    }\n",
              "\n",
              "    .dataframe tbody tr th {\n",
              "        vertical-align: top;\n",
              "    }\n",
              "\n",
              "    .dataframe thead th {\n",
              "        text-align: right;\n",
              "    }\n",
              "</style>\n",
              "<table border=\"1\" class=\"dataframe\">\n",
              "  <thead>\n",
              "    <tr style=\"text-align: right;\">\n",
              "      <th></th>\n",
              "      <th>date</th>\n",
              "      <th>state</th>\n",
              "      <th>city</th>\n",
              "      <th>place_type</th>\n",
              "      <th>confirmed</th>\n",
              "      <th>deaths</th>\n",
              "      <th>order_for_place</th>\n",
              "      <th>is_last</th>\n",
              "      <th>estimated_population_2019</th>\n",
              "      <th>estimated_population</th>\n",
              "      <th>city_ibge_code</th>\n",
              "      <th>confirmed_per_100k_inhabitants</th>\n",
              "      <th>death_rate</th>\n",
              "    </tr>\n",
              "  </thead>\n",
              "  <tbody>\n",
              "    <tr>\n",
              "      <th>0</th>\n",
              "      <td>2020-11-05</td>\n",
              "      <td>AC</td>\n",
              "      <td>NaN</td>\n",
              "      <td>state</td>\n",
              "      <td>31248</td>\n",
              "      <td>697</td>\n",
              "      <td>234</td>\n",
              "      <td>True</td>\n",
              "      <td>881935.00</td>\n",
              "      <td>894470.00</td>\n",
              "      <td>12.00</td>\n",
              "      <td>3493.47</td>\n",
              "      <td>0.02</td>\n",
              "    </tr>\n",
              "    <tr>\n",
              "      <th>1</th>\n",
              "      <td>2020-11-04</td>\n",
              "      <td>AC</td>\n",
              "      <td>NaN</td>\n",
              "      <td>state</td>\n",
              "      <td>31218</td>\n",
              "      <td>696</td>\n",
              "      <td>233</td>\n",
              "      <td>False</td>\n",
              "      <td>881935.00</td>\n",
              "      <td>894470.00</td>\n",
              "      <td>12.00</td>\n",
              "      <td>3490.11</td>\n",
              "      <td>0.02</td>\n",
              "    </tr>\n",
              "    <tr>\n",
              "      <th>2</th>\n",
              "      <td>2020-11-03</td>\n",
              "      <td>AC</td>\n",
              "      <td>NaN</td>\n",
              "      <td>state</td>\n",
              "      <td>30962</td>\n",
              "      <td>695</td>\n",
              "      <td>232</td>\n",
              "      <td>False</td>\n",
              "      <td>881935.00</td>\n",
              "      <td>894470.00</td>\n",
              "      <td>12.00</td>\n",
              "      <td>3461.49</td>\n",
              "      <td>0.02</td>\n",
              "    </tr>\n",
              "    <tr>\n",
              "      <th>3</th>\n",
              "      <td>2020-11-02</td>\n",
              "      <td>AC</td>\n",
              "      <td>NaN</td>\n",
              "      <td>state</td>\n",
              "      <td>30954</td>\n",
              "      <td>693</td>\n",
              "      <td>231</td>\n",
              "      <td>False</td>\n",
              "      <td>881935.00</td>\n",
              "      <td>894470.00</td>\n",
              "      <td>12.00</td>\n",
              "      <td>3460.60</td>\n",
              "      <td>0.02</td>\n",
              "    </tr>\n",
              "    <tr>\n",
              "      <th>4</th>\n",
              "      <td>2020-11-01</td>\n",
              "      <td>AC</td>\n",
              "      <td>NaN</td>\n",
              "      <td>state</td>\n",
              "      <td>30951</td>\n",
              "      <td>693</td>\n",
              "      <td>230</td>\n",
              "      <td>False</td>\n",
              "      <td>881935.00</td>\n",
              "      <td>894470.00</td>\n",
              "      <td>12.00</td>\n",
              "      <td>3460.26</td>\n",
              "      <td>0.02</td>\n",
              "    </tr>\n",
              "  </tbody>\n",
              "</table>\n",
              "</div>"
            ],
            "text/plain": [
              "        date state  ... confirmed_per_100k_inhabitants death_rate\n",
              "0 2020-11-05    AC  ...                        3493.47       0.02\n",
              "1 2020-11-04    AC  ...                        3490.11       0.02\n",
              "2 2020-11-03    AC  ...                        3461.49       0.02\n",
              "3 2020-11-02    AC  ...                        3460.60       0.02\n",
              "4 2020-11-01    AC  ...                        3460.26       0.02\n",
              "\n",
              "[5 rows x 13 columns]"
            ]
          },
          "metadata": {
            "tags": []
          },
          "execution_count": 35
        }
      ]
    },
    {
      "cell_type": "code",
      "metadata": {
        "id": "fjZsXs_Ebrv9",
        "outputId": "ede357fd-1197-4d93-8bc6-306ca8ac3b3d",
        "colab": {
          "base_uri": "https://localhost:8080/",
          "height": 305
        }
      },
      "source": [
        "#dados_cidade -> Cidades\n",
        "dados_cidade = dados[dados['place_type']=='city'].reset_index(drop=True)\n",
        "dados_cidade.head(5)"
      ],
      "execution_count": 36,
      "outputs": [
        {
          "output_type": "execute_result",
          "data": {
            "text/html": [
              "<div>\n",
              "<style scoped>\n",
              "    .dataframe tbody tr th:only-of-type {\n",
              "        vertical-align: middle;\n",
              "    }\n",
              "\n",
              "    .dataframe tbody tr th {\n",
              "        vertical-align: top;\n",
              "    }\n",
              "\n",
              "    .dataframe thead th {\n",
              "        text-align: right;\n",
              "    }\n",
              "</style>\n",
              "<table border=\"1\" class=\"dataframe\">\n",
              "  <thead>\n",
              "    <tr style=\"text-align: right;\">\n",
              "      <th></th>\n",
              "      <th>date</th>\n",
              "      <th>state</th>\n",
              "      <th>city</th>\n",
              "      <th>place_type</th>\n",
              "      <th>confirmed</th>\n",
              "      <th>deaths</th>\n",
              "      <th>order_for_place</th>\n",
              "      <th>is_last</th>\n",
              "      <th>estimated_population_2019</th>\n",
              "      <th>estimated_population</th>\n",
              "      <th>city_ibge_code</th>\n",
              "      <th>confirmed_per_100k_inhabitants</th>\n",
              "      <th>death_rate</th>\n",
              "    </tr>\n",
              "  </thead>\n",
              "  <tbody>\n",
              "    <tr>\n",
              "      <th>0</th>\n",
              "      <td>2020-11-05</td>\n",
              "      <td>AC</td>\n",
              "      <td>Acrelândia</td>\n",
              "      <td>city</td>\n",
              "      <td>492</td>\n",
              "      <td>11</td>\n",
              "      <td>211</td>\n",
              "      <td>True</td>\n",
              "      <td>15256.00</td>\n",
              "      <td>15490.00</td>\n",
              "      <td>1200013.00</td>\n",
              "      <td>3176.24</td>\n",
              "      <td>0.02</td>\n",
              "    </tr>\n",
              "    <tr>\n",
              "      <th>1</th>\n",
              "      <td>2020-11-04</td>\n",
              "      <td>AC</td>\n",
              "      <td>Acrelândia</td>\n",
              "      <td>city</td>\n",
              "      <td>492</td>\n",
              "      <td>11</td>\n",
              "      <td>210</td>\n",
              "      <td>False</td>\n",
              "      <td>15256.00</td>\n",
              "      <td>15490.00</td>\n",
              "      <td>1200013.00</td>\n",
              "      <td>3176.24</td>\n",
              "      <td>0.02</td>\n",
              "    </tr>\n",
              "    <tr>\n",
              "      <th>2</th>\n",
              "      <td>2020-11-03</td>\n",
              "      <td>AC</td>\n",
              "      <td>Acrelândia</td>\n",
              "      <td>city</td>\n",
              "      <td>492</td>\n",
              "      <td>11</td>\n",
              "      <td>209</td>\n",
              "      <td>False</td>\n",
              "      <td>15256.00</td>\n",
              "      <td>15490.00</td>\n",
              "      <td>1200013.00</td>\n",
              "      <td>3176.24</td>\n",
              "      <td>0.02</td>\n",
              "    </tr>\n",
              "    <tr>\n",
              "      <th>3</th>\n",
              "      <td>2020-11-02</td>\n",
              "      <td>AC</td>\n",
              "      <td>Acrelândia</td>\n",
              "      <td>city</td>\n",
              "      <td>492</td>\n",
              "      <td>10</td>\n",
              "      <td>208</td>\n",
              "      <td>False</td>\n",
              "      <td>15256.00</td>\n",
              "      <td>15490.00</td>\n",
              "      <td>1200013.00</td>\n",
              "      <td>3176.24</td>\n",
              "      <td>0.02</td>\n",
              "    </tr>\n",
              "    <tr>\n",
              "      <th>4</th>\n",
              "      <td>2020-11-01</td>\n",
              "      <td>AC</td>\n",
              "      <td>Acrelândia</td>\n",
              "      <td>city</td>\n",
              "      <td>492</td>\n",
              "      <td>10</td>\n",
              "      <td>207</td>\n",
              "      <td>False</td>\n",
              "      <td>15256.00</td>\n",
              "      <td>15490.00</td>\n",
              "      <td>1200013.00</td>\n",
              "      <td>3176.24</td>\n",
              "      <td>0.02</td>\n",
              "    </tr>\n",
              "  </tbody>\n",
              "</table>\n",
              "</div>"
            ],
            "text/plain": [
              "        date state  ... confirmed_per_100k_inhabitants death_rate\n",
              "0 2020-11-05    AC  ...                        3176.24       0.02\n",
              "1 2020-11-04    AC  ...                        3176.24       0.02\n",
              "2 2020-11-03    AC  ...                        3176.24       0.02\n",
              "3 2020-11-02    AC  ...                        3176.24       0.02\n",
              "4 2020-11-01    AC  ...                        3176.24       0.02\n",
              "\n",
              "[5 rows x 13 columns]"
            ]
          },
          "metadata": {
            "tags": []
          },
          "execution_count": 36
        }
      ]
    }
  ]
}