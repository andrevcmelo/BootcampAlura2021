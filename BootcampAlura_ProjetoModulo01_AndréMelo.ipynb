{
  "nbformat": 4,
  "nbformat_minor": 0,
  "metadata": {
    "colab": {
      "name": "BootcampAlura_ProjetoModulo01_AndréMelo.ipynb",
      "provenance": [],
      "collapsed_sections": [
        "-V6C-Rd0Rgyx",
        "ZU7RXiSjRvgY",
        "SWPnXvf_acAH",
        "m7RS2cxkPv4T"
      ],
      "authorship_tag": "ABX9TyMdt1EJaquYOgI9Wju68cMI",
      "include_colab_link": true
    },
    "kernelspec": {
      "name": "python3",
      "display_name": "Python 3"
    }
  },
  "cells": [
    {
      "cell_type": "markdown",
      "metadata": {
        "id": "view-in-github",
        "colab_type": "text"
      },
      "source": [
        "<a href=\"https://colab.research.google.com/github/andrevcmelo/BootcampAlura2021/blob/main/BootcampAlura_ProjetoModulo01_Andr%C3%A9Melo.ipynb\" target=\"_parent\"><img src=\"https://colab.research.google.com/assets/colab-badge.svg\" alt=\"Open In Colab\"/></a>"
      ]
    },
    {
      "cell_type": "markdown",
      "metadata": {
        "id": "uF0go-t_P0Lr"
      },
      "source": [
        "**Projeto do Módulo 01 do Bootcamp Alura em Data Science Aplicada 2020**\n",
        "\n",
        "**Aluno: [André Victor Costa de Melo](https://https://www.linkedin.com/in/andrevcmelo/)**\n",
        "\n",
        "O objetivo deste projeto é realizar uma análise exploratória na base de dados do COVID-19 do Brasil.IO.\n",
        "\n",
        "1. Link da base de dados (baixado em 06-11-2020): https://github.com/andrevcmelo/BootcampAlura2021/blob/main/COVID19-BRASILIO-06-11-2020.csv.gz\n",
        "\n",
        "2. Link do Brasil.IO: https://brasil.io/home/\n",
        "\n",
        "3. Link da descrição do dataset: https://github.com/turicas/covid19-br/blob/master/README.md#licen%C3%A7a-e-cita%C3%A7%C3%A3o\n",
        "\n",
        "Todos os gráficos utilizados neste notebook serão elaborados com a biblioteca `matplotlib`, pois é o conteúdo do Módulo 01 e estarei aproveitando para explorar esta biblioteca. No Módulo 02 explorarei a biblioteca `seaborn`.\n"
      ]
    },
    {
      "cell_type": "markdown",
      "metadata": {
        "id": "CkSwC-32UUJ3"
      },
      "source": [
        "# **Resumo**"
      ]
    },
    {
      "cell_type": "markdown",
      "metadata": {
        "id": "kuTbKHv9UXjZ"
      },
      "source": [
        "O objetivo deste projeto é analisar os dados da COVID-19 no Brasil e identificar aspectos relevantes ou curiosos no quesito quantidade de casos e morte, que são os dados disponíveis neste dataset. Não irei cruzar informações com outras bases, pois tentarei explorar ao máximo estes dados para levantar hipóteses, cabendo um segundo momento para confirmação de hipóteses.\n",
        "\n",
        "Levantei 5 questionamentos para serem analisados nos dados, que foram:\n",
        "\n",
        "1. Como está o cenário do Total de casos e mortes por Estado na posição do dia 06-11-2020? E o mesmo quantitativo por 100k de habitantes, será que temos o mesmo cenário?\n",
        "\n",
        "2. Acompanhamento do Total de casos e mortes por Estado até o dia 06-11-2020, como está o cenário de casos e mortes no Brasil desde o início da pandemia?\n",
        "\n",
        "3. Como estão os índices de novos casos e óbitos no país?\n",
        "\n",
        "4. Será que tivemos momentos de aumento extremo de casos?\n",
        "\n",
        "5. Avaliando os quantitativos do Estado de Pernambuco vs sua Capital Recife. Como será que está sendo a influência da Capital nos números gerais do Estado?"
      ]
    },
    {
      "cell_type": "markdown",
      "metadata": {
        "id": "FmoUQYipUZKP"
      },
      "source": [
        "# **Análise dos Dados**"
      ]
    },
    {
      "cell_type": "markdown",
      "metadata": {
        "id": "-V6C-Rd0Rgyx"
      },
      "source": [
        "## Importação de Bibliotecas"
      ]
    },
    {
      "cell_type": "code",
      "metadata": {
        "id": "60tIANB-Pvg1"
      },
      "source": [
        "import numpy as np\n",
        "import pandas as pd\n",
        "import matplotlib.pyplot as plt\n",
        "import matplotlib.ticker as ticker\n",
        "\n",
        "#Definição do tema dos gráficos do matplotlib\n",
        "plt.style.use('ggplot')"
      ],
      "execution_count": 321,
      "outputs": []
    },
    {
      "cell_type": "markdown",
      "metadata": {
        "id": "ZU7RXiSjRvgY"
      },
      "source": [
        "## Importação de Dados"
      ]
    },
    {
      "cell_type": "code",
      "metadata": {
        "id": "X_BiNjNZRxjt",
        "outputId": "f4801a10-e7b2-40ef-d807-7251065a378a",
        "colab": {
          "base_uri": "https://localhost:8080/",
          "height": 0
        }
      },
      "source": [
        "file_gzip = (\"https://raw.githubusercontent.com/alura-cursos/agendamento-hospitalar/main/dados/COVID19-BRASILIO-06-11-2020.csv.gz\")\n",
        "\n",
        "dados = pd.read_csv(file_gzip, compression='gzip',  \n",
        "                    sep=\",\", decimal=\".\",\n",
        "                   error_bad_lines=False)\n",
        "\n",
        "#Definindo formato dos registros tipo númerico\n",
        "pd.options.display.float_format = \"{:.2f}\".format\n",
        "#Avaliando as linhas iniciais do dataset\n",
        "dados.head()"
      ],
      "execution_count": 322,
      "outputs": [
        {
          "output_type": "execute_result",
          "data": {
            "text/html": [
              "<div>\n",
              "<style scoped>\n",
              "    .dataframe tbody tr th:only-of-type {\n",
              "        vertical-align: middle;\n",
              "    }\n",
              "\n",
              "    .dataframe tbody tr th {\n",
              "        vertical-align: top;\n",
              "    }\n",
              "\n",
              "    .dataframe thead th {\n",
              "        text-align: right;\n",
              "    }\n",
              "</style>\n",
              "<table border=\"1\" class=\"dataframe\">\n",
              "  <thead>\n",
              "    <tr style=\"text-align: right;\">\n",
              "      <th></th>\n",
              "      <th>date</th>\n",
              "      <th>state</th>\n",
              "      <th>city</th>\n",
              "      <th>place_type</th>\n",
              "      <th>confirmed</th>\n",
              "      <th>deaths</th>\n",
              "      <th>order_for_place</th>\n",
              "      <th>is_last</th>\n",
              "      <th>estimated_population_2019</th>\n",
              "      <th>estimated_population</th>\n",
              "      <th>city_ibge_code</th>\n",
              "      <th>confirmed_per_100k_inhabitants</th>\n",
              "      <th>death_rate</th>\n",
              "    </tr>\n",
              "  </thead>\n",
              "  <tbody>\n",
              "    <tr>\n",
              "      <th>0</th>\n",
              "      <td>2020-11-05</td>\n",
              "      <td>AC</td>\n",
              "      <td>NaN</td>\n",
              "      <td>state</td>\n",
              "      <td>31248</td>\n",
              "      <td>697</td>\n",
              "      <td>234</td>\n",
              "      <td>True</td>\n",
              "      <td>881935.00</td>\n",
              "      <td>894470.00</td>\n",
              "      <td>12.00</td>\n",
              "      <td>3493.47</td>\n",
              "      <td>0.02</td>\n",
              "    </tr>\n",
              "    <tr>\n",
              "      <th>1</th>\n",
              "      <td>2020-11-04</td>\n",
              "      <td>AC</td>\n",
              "      <td>NaN</td>\n",
              "      <td>state</td>\n",
              "      <td>31218</td>\n",
              "      <td>696</td>\n",
              "      <td>233</td>\n",
              "      <td>False</td>\n",
              "      <td>881935.00</td>\n",
              "      <td>894470.00</td>\n",
              "      <td>12.00</td>\n",
              "      <td>3490.11</td>\n",
              "      <td>0.02</td>\n",
              "    </tr>\n",
              "    <tr>\n",
              "      <th>2</th>\n",
              "      <td>2020-11-03</td>\n",
              "      <td>AC</td>\n",
              "      <td>NaN</td>\n",
              "      <td>state</td>\n",
              "      <td>30962</td>\n",
              "      <td>695</td>\n",
              "      <td>232</td>\n",
              "      <td>False</td>\n",
              "      <td>881935.00</td>\n",
              "      <td>894470.00</td>\n",
              "      <td>12.00</td>\n",
              "      <td>3461.49</td>\n",
              "      <td>0.02</td>\n",
              "    </tr>\n",
              "    <tr>\n",
              "      <th>3</th>\n",
              "      <td>2020-11-02</td>\n",
              "      <td>AC</td>\n",
              "      <td>NaN</td>\n",
              "      <td>state</td>\n",
              "      <td>30954</td>\n",
              "      <td>693</td>\n",
              "      <td>231</td>\n",
              "      <td>False</td>\n",
              "      <td>881935.00</td>\n",
              "      <td>894470.00</td>\n",
              "      <td>12.00</td>\n",
              "      <td>3460.60</td>\n",
              "      <td>0.02</td>\n",
              "    </tr>\n",
              "    <tr>\n",
              "      <th>4</th>\n",
              "      <td>2020-11-01</td>\n",
              "      <td>AC</td>\n",
              "      <td>NaN</td>\n",
              "      <td>state</td>\n",
              "      <td>30951</td>\n",
              "      <td>693</td>\n",
              "      <td>230</td>\n",
              "      <td>False</td>\n",
              "      <td>881935.00</td>\n",
              "      <td>894470.00</td>\n",
              "      <td>12.00</td>\n",
              "      <td>3460.26</td>\n",
              "      <td>0.02</td>\n",
              "    </tr>\n",
              "  </tbody>\n",
              "</table>\n",
              "</div>"
            ],
            "text/plain": [
              "         date state  ... confirmed_per_100k_inhabitants death_rate\n",
              "0  2020-11-05    AC  ...                        3493.47       0.02\n",
              "1  2020-11-04    AC  ...                        3490.11       0.02\n",
              "2  2020-11-03    AC  ...                        3461.49       0.02\n",
              "3  2020-11-02    AC  ...                        3460.60       0.02\n",
              "4  2020-11-01    AC  ...                        3460.26       0.02\n",
              "\n",
              "[5 rows x 13 columns]"
            ]
          },
          "metadata": {
            "tags": []
          },
          "execution_count": 322
        }
      ]
    },
    {
      "cell_type": "code",
      "metadata": {
        "id": "mp4TnGl4R7gG",
        "outputId": "913f0fb9-558f-42bf-df34-a6358a438039",
        "colab": {
          "base_uri": "https://localhost:8080/",
          "height": 0
        }
      },
      "source": [
        "dados.tail()"
      ],
      "execution_count": 323,
      "outputs": [
        {
          "output_type": "execute_result",
          "data": {
            "text/html": [
              "<div>\n",
              "<style scoped>\n",
              "    .dataframe tbody tr th:only-of-type {\n",
              "        vertical-align: middle;\n",
              "    }\n",
              "\n",
              "    .dataframe tbody tr th {\n",
              "        vertical-align: top;\n",
              "    }\n",
              "\n",
              "    .dataframe thead th {\n",
              "        text-align: right;\n",
              "    }\n",
              "</style>\n",
              "<table border=\"1\" class=\"dataframe\">\n",
              "  <thead>\n",
              "    <tr style=\"text-align: right;\">\n",
              "      <th></th>\n",
              "      <th>date</th>\n",
              "      <th>state</th>\n",
              "      <th>city</th>\n",
              "      <th>place_type</th>\n",
              "      <th>confirmed</th>\n",
              "      <th>deaths</th>\n",
              "      <th>order_for_place</th>\n",
              "      <th>is_last</th>\n",
              "      <th>estimated_population_2019</th>\n",
              "      <th>estimated_population</th>\n",
              "      <th>city_ibge_code</th>\n",
              "      <th>confirmed_per_100k_inhabitants</th>\n",
              "      <th>death_rate</th>\n",
              "    </tr>\n",
              "  </thead>\n",
              "  <tbody>\n",
              "    <tr>\n",
              "      <th>936865</th>\n",
              "      <td>2020-06-23</td>\n",
              "      <td>SP</td>\n",
              "      <td>Óleo</td>\n",
              "      <td>city</td>\n",
              "      <td>1</td>\n",
              "      <td>0</td>\n",
              "      <td>5</td>\n",
              "      <td>False</td>\n",
              "      <td>2496.00</td>\n",
              "      <td>2471.00</td>\n",
              "      <td>3533809.00</td>\n",
              "      <td>40.47</td>\n",
              "      <td>0.00</td>\n",
              "    </tr>\n",
              "    <tr>\n",
              "      <th>936866</th>\n",
              "      <td>2020-06-22</td>\n",
              "      <td>SP</td>\n",
              "      <td>Óleo</td>\n",
              "      <td>city</td>\n",
              "      <td>1</td>\n",
              "      <td>0</td>\n",
              "      <td>4</td>\n",
              "      <td>False</td>\n",
              "      <td>2496.00</td>\n",
              "      <td>2471.00</td>\n",
              "      <td>3533809.00</td>\n",
              "      <td>40.47</td>\n",
              "      <td>0.00</td>\n",
              "    </tr>\n",
              "    <tr>\n",
              "      <th>936867</th>\n",
              "      <td>2020-06-21</td>\n",
              "      <td>SP</td>\n",
              "      <td>Óleo</td>\n",
              "      <td>city</td>\n",
              "      <td>1</td>\n",
              "      <td>0</td>\n",
              "      <td>3</td>\n",
              "      <td>False</td>\n",
              "      <td>2496.00</td>\n",
              "      <td>2471.00</td>\n",
              "      <td>3533809.00</td>\n",
              "      <td>40.47</td>\n",
              "      <td>0.00</td>\n",
              "    </tr>\n",
              "    <tr>\n",
              "      <th>936868</th>\n",
              "      <td>2020-06-20</td>\n",
              "      <td>SP</td>\n",
              "      <td>Óleo</td>\n",
              "      <td>city</td>\n",
              "      <td>1</td>\n",
              "      <td>0</td>\n",
              "      <td>2</td>\n",
              "      <td>False</td>\n",
              "      <td>2496.00</td>\n",
              "      <td>2471.00</td>\n",
              "      <td>3533809.00</td>\n",
              "      <td>40.47</td>\n",
              "      <td>0.00</td>\n",
              "    </tr>\n",
              "    <tr>\n",
              "      <th>936869</th>\n",
              "      <td>2020-06-19</td>\n",
              "      <td>SP</td>\n",
              "      <td>Óleo</td>\n",
              "      <td>city</td>\n",
              "      <td>1</td>\n",
              "      <td>0</td>\n",
              "      <td>1</td>\n",
              "      <td>False</td>\n",
              "      <td>2496.00</td>\n",
              "      <td>2471.00</td>\n",
              "      <td>3533809.00</td>\n",
              "      <td>40.47</td>\n",
              "      <td>0.00</td>\n",
              "    </tr>\n",
              "  </tbody>\n",
              "</table>\n",
              "</div>"
            ],
            "text/plain": [
              "              date state  ... confirmed_per_100k_inhabitants death_rate\n",
              "936865  2020-06-23    SP  ...                          40.47       0.00\n",
              "936866  2020-06-22    SP  ...                          40.47       0.00\n",
              "936867  2020-06-21    SP  ...                          40.47       0.00\n",
              "936868  2020-06-20    SP  ...                          40.47       0.00\n",
              "936869  2020-06-19    SP  ...                          40.47       0.00\n",
              "\n",
              "[5 rows x 13 columns]"
            ]
          },
          "metadata": {
            "tags": []
          },
          "execution_count": 323
        }
      ]
    },
    {
      "cell_type": "code",
      "metadata": {
        "id": "Hhxq6z5UZTn6",
        "outputId": "cf801e87-b269-463d-c741-fcac607d3ec5",
        "colab": {
          "base_uri": "https://localhost:8080/"
        }
      },
      "source": [
        "#Verificando as informações sobre o dataset\n",
        "dados.info()"
      ],
      "execution_count": 324,
      "outputs": [
        {
          "output_type": "stream",
          "text": [
            "<class 'pandas.core.frame.DataFrame'>\n",
            "RangeIndex: 936870 entries, 0 to 936869\n",
            "Data columns (total 13 columns):\n",
            " #   Column                          Non-Null Count   Dtype  \n",
            "---  ------                          --------------   -----  \n",
            " 0   date                            936870 non-null  object \n",
            " 1   state                           936870 non-null  object \n",
            " 2   city                            930535 non-null  object \n",
            " 3   place_type                      936870 non-null  object \n",
            " 4   confirmed                       936870 non-null  int64  \n",
            " 5   deaths                          936870 non-null  int64  \n",
            " 6   order_for_place                 936870 non-null  int64  \n",
            " 7   is_last                         936870 non-null  bool   \n",
            " 8   estimated_population_2019       933215 non-null  float64\n",
            " 9   estimated_population            933215 non-null  float64\n",
            " 10  city_ibge_code                  933215 non-null  float64\n",
            " 11  confirmed_per_100k_inhabitants  919888 non-null  float64\n",
            " 12  death_rate                      936870 non-null  float64\n",
            "dtypes: bool(1), float64(5), int64(3), object(4)\n",
            "memory usage: 86.7+ MB\n"
          ],
          "name": "stdout"
        }
      ]
    },
    {
      "cell_type": "code",
      "metadata": {
        "id": "H83Sy8aVcelZ",
        "outputId": "a6fe8bea-d884-44b9-cf74-f3d909d59e60",
        "colab": {
          "base_uri": "https://localhost:8080/"
        }
      },
      "source": [
        "#Quantidade de valores em branco\n",
        "print(dados.isna().sum())\n",
        "print('\\n')"
      ],
      "execution_count": 325,
      "outputs": [
        {
          "output_type": "stream",
          "text": [
            "date                                  0\n",
            "state                                 0\n",
            "city                               6335\n",
            "place_type                            0\n",
            "confirmed                             0\n",
            "deaths                                0\n",
            "order_for_place                       0\n",
            "is_last                               0\n",
            "estimated_population_2019          3655\n",
            "estimated_population               3655\n",
            "city_ibge_code                     3655\n",
            "confirmed_per_100k_inhabitants    16982\n",
            "death_rate                            0\n",
            "dtype: int64\n",
            "\n",
            "\n"
          ],
          "name": "stdout"
        }
      ]
    },
    {
      "cell_type": "code",
      "metadata": {
        "id": "pbTM4dyOVT7U",
        "outputId": "2263999b-e4ef-4783-db78-0295db02d3eb",
        "colab": {
          "base_uri": "https://localhost:8080/",
          "height": 0
        }
      },
      "source": [
        "dados.describe()"
      ],
      "execution_count": 326,
      "outputs": [
        {
          "output_type": "execute_result",
          "data": {
            "text/html": [
              "<div>\n",
              "<style scoped>\n",
              "    .dataframe tbody tr th:only-of-type {\n",
              "        vertical-align: middle;\n",
              "    }\n",
              "\n",
              "    .dataframe tbody tr th {\n",
              "        vertical-align: top;\n",
              "    }\n",
              "\n",
              "    .dataframe thead th {\n",
              "        text-align: right;\n",
              "    }\n",
              "</style>\n",
              "<table border=\"1\" class=\"dataframe\">\n",
              "  <thead>\n",
              "    <tr style=\"text-align: right;\">\n",
              "      <th></th>\n",
              "      <th>confirmed</th>\n",
              "      <th>deaths</th>\n",
              "      <th>order_for_place</th>\n",
              "      <th>estimated_population_2019</th>\n",
              "      <th>estimated_population</th>\n",
              "      <th>city_ibge_code</th>\n",
              "      <th>confirmed_per_100k_inhabitants</th>\n",
              "      <th>death_rate</th>\n",
              "    </tr>\n",
              "  </thead>\n",
              "  <tbody>\n",
              "    <tr>\n",
              "      <th>count</th>\n",
              "      <td>936870.00</td>\n",
              "      <td>936870.00</td>\n",
              "      <td>936870.00</td>\n",
              "      <td>933215.00</td>\n",
              "      <td>933215.00</td>\n",
              "      <td>933215.00</td>\n",
              "      <td>919888.00</td>\n",
              "      <td>936870.00</td>\n",
              "    </tr>\n",
              "    <tr>\n",
              "      <th>mean</th>\n",
              "      <td>1063.58</td>\n",
              "      <td>34.99</td>\n",
              "      <td>87.49</td>\n",
              "      <td>99649.78</td>\n",
              "      <td>100419.54</td>\n",
              "      <td>3187880.28</td>\n",
              "      <td>1025.48</td>\n",
              "      <td>0.04</td>\n",
              "    </tr>\n",
              "    <tr>\n",
              "      <th>std</th>\n",
              "      <td>13372.73</td>\n",
              "      <td>508.06</td>\n",
              "      <td>53.40</td>\n",
              "      <td>1038472.32</td>\n",
              "      <td>1046044.50</td>\n",
              "      <td>1003370.52</td>\n",
              "      <td>1349.55</td>\n",
              "      <td>0.09</td>\n",
              "    </tr>\n",
              "    <tr>\n",
              "      <th>min</th>\n",
              "      <td>0.00</td>\n",
              "      <td>0.00</td>\n",
              "      <td>1.00</td>\n",
              "      <td>781.00</td>\n",
              "      <td>776.00</td>\n",
              "      <td>11.00</td>\n",
              "      <td>0.00</td>\n",
              "      <td>0.00</td>\n",
              "    </tr>\n",
              "    <tr>\n",
              "      <th>25%</th>\n",
              "      <td>11.00</td>\n",
              "      <td>0.00</td>\n",
              "      <td>42.00</td>\n",
              "      <td>6169.00</td>\n",
              "      <td>6171.00</td>\n",
              "      <td>2505279.00</td>\n",
              "      <td>114.78</td>\n",
              "      <td>0.00</td>\n",
              "    </tr>\n",
              "    <tr>\n",
              "      <th>50%</th>\n",
              "      <td>58.00</td>\n",
              "      <td>1.00</td>\n",
              "      <td>84.00</td>\n",
              "      <td>13649.00</td>\n",
              "      <td>13742.00</td>\n",
              "      <td>3138708.00</td>\n",
              "      <td>550.25</td>\n",
              "      <td>0.01</td>\n",
              "    </tr>\n",
              "    <tr>\n",
              "      <th>75%</th>\n",
              "      <td>253.00</td>\n",
              "      <td>5.00</td>\n",
              "      <td>128.00</td>\n",
              "      <td>30407.00</td>\n",
              "      <td>30747.00</td>\n",
              "      <td>4112306.00</td>\n",
              "      <td>1431.05</td>\n",
              "      <td>0.03</td>\n",
              "    </tr>\n",
              "    <tr>\n",
              "      <th>max</th>\n",
              "      <td>1125936.00</td>\n",
              "      <td>39717.00</td>\n",
              "      <td>253.00</td>\n",
              "      <td>45919049.00</td>\n",
              "      <td>46289333.00</td>\n",
              "      <td>5300108.00</td>\n",
              "      <td>22358.37</td>\n",
              "      <td>1.00</td>\n",
              "    </tr>\n",
              "  </tbody>\n",
              "</table>\n",
              "</div>"
            ],
            "text/plain": [
              "       confirmed    deaths  ...  confirmed_per_100k_inhabitants  death_rate\n",
              "count  936870.00 936870.00  ...                       919888.00   936870.00\n",
              "mean     1063.58     34.99  ...                         1025.48        0.04\n",
              "std     13372.73    508.06  ...                         1349.55        0.09\n",
              "min         0.00      0.00  ...                            0.00        0.00\n",
              "25%        11.00      0.00  ...                          114.78        0.00\n",
              "50%        58.00      1.00  ...                          550.25        0.01\n",
              "75%       253.00      5.00  ...                         1431.05        0.03\n",
              "max   1125936.00  39717.00  ...                        22358.37        1.00\n",
              "\n",
              "[8 rows x 8 columns]"
            ]
          },
          "metadata": {
            "tags": []
          },
          "execution_count": 326
        }
      ]
    },
    {
      "cell_type": "markdown",
      "metadata": {
        "id": "SWPnXvf_acAH"
      },
      "source": [
        "## Tratamento dos dados"
      ]
    },
    {
      "cell_type": "markdown",
      "metadata": {
        "id": "7Qfymt6naxys"
      },
      "source": [
        "Alterando o tipo do campo `date` de *object* para *datetime*"
      ]
    },
    {
      "cell_type": "code",
      "metadata": {
        "id": "hq6MyKjiaVtH",
        "outputId": "9602303c-e509-44de-b835-c49834fd699a",
        "colab": {
          "base_uri": "https://localhost:8080/"
        }
      },
      "source": [
        "dados['date'] = pd.to_datetime(dados['date'], format=\"%Y/%m/%d\")\n",
        "dados.info()"
      ],
      "execution_count": 327,
      "outputs": [
        {
          "output_type": "stream",
          "text": [
            "<class 'pandas.core.frame.DataFrame'>\n",
            "RangeIndex: 936870 entries, 0 to 936869\n",
            "Data columns (total 13 columns):\n",
            " #   Column                          Non-Null Count   Dtype         \n",
            "---  ------                          --------------   -----         \n",
            " 0   date                            936870 non-null  datetime64[ns]\n",
            " 1   state                           936870 non-null  object        \n",
            " 2   city                            930535 non-null  object        \n",
            " 3   place_type                      936870 non-null  object        \n",
            " 4   confirmed                       936870 non-null  int64         \n",
            " 5   deaths                          936870 non-null  int64         \n",
            " 6   order_for_place                 936870 non-null  int64         \n",
            " 7   is_last                         936870 non-null  bool          \n",
            " 8   estimated_population_2019       933215 non-null  float64       \n",
            " 9   estimated_population            933215 non-null  float64       \n",
            " 10  city_ibge_code                  933215 non-null  float64       \n",
            " 11  confirmed_per_100k_inhabitants  919888 non-null  float64       \n",
            " 12  death_rate                      936870 non-null  float64       \n",
            "dtypes: bool(1), datetime64[ns](1), float64(5), int64(3), object(3)\n",
            "memory usage: 86.7+ MB\n"
          ],
          "name": "stdout"
        }
      ]
    },
    {
      "cell_type": "markdown",
      "metadata": {
        "id": "JtDEvGWubKt2"
      },
      "source": [
        "De acordo com a documentação, o campo `place_type` está subdividido em Estado e Cidade. Irei dividir em 2 datasets, um para a visão por Estados e outro para a visão por Cidades."
      ]
    },
    {
      "cell_type": "code",
      "metadata": {
        "id": "nOWpZAkCbeXP",
        "outputId": "9d40faf3-fd2a-4900-91a4-a7676e4e4946",
        "colab": {
          "base_uri": "https://localhost:8080/",
          "height": 0
        }
      },
      "source": [
        "#dados_estado -> Estados\n",
        "dados_estado = dados[dados['place_type']=='state'].reset_index(drop=True)\n",
        "dados_estado.set_index('date')\n",
        "dados_estado.head(5)"
      ],
      "execution_count": 328,
      "outputs": [
        {
          "output_type": "execute_result",
          "data": {
            "text/html": [
              "<div>\n",
              "<style scoped>\n",
              "    .dataframe tbody tr th:only-of-type {\n",
              "        vertical-align: middle;\n",
              "    }\n",
              "\n",
              "    .dataframe tbody tr th {\n",
              "        vertical-align: top;\n",
              "    }\n",
              "\n",
              "    .dataframe thead th {\n",
              "        text-align: right;\n",
              "    }\n",
              "</style>\n",
              "<table border=\"1\" class=\"dataframe\">\n",
              "  <thead>\n",
              "    <tr style=\"text-align: right;\">\n",
              "      <th></th>\n",
              "      <th>date</th>\n",
              "      <th>state</th>\n",
              "      <th>city</th>\n",
              "      <th>place_type</th>\n",
              "      <th>confirmed</th>\n",
              "      <th>deaths</th>\n",
              "      <th>order_for_place</th>\n",
              "      <th>is_last</th>\n",
              "      <th>estimated_population_2019</th>\n",
              "      <th>estimated_population</th>\n",
              "      <th>city_ibge_code</th>\n",
              "      <th>confirmed_per_100k_inhabitants</th>\n",
              "      <th>death_rate</th>\n",
              "    </tr>\n",
              "  </thead>\n",
              "  <tbody>\n",
              "    <tr>\n",
              "      <th>0</th>\n",
              "      <td>2020-11-05</td>\n",
              "      <td>AC</td>\n",
              "      <td>NaN</td>\n",
              "      <td>state</td>\n",
              "      <td>31248</td>\n",
              "      <td>697</td>\n",
              "      <td>234</td>\n",
              "      <td>True</td>\n",
              "      <td>881935.00</td>\n",
              "      <td>894470.00</td>\n",
              "      <td>12.00</td>\n",
              "      <td>3493.47</td>\n",
              "      <td>0.02</td>\n",
              "    </tr>\n",
              "    <tr>\n",
              "      <th>1</th>\n",
              "      <td>2020-11-04</td>\n",
              "      <td>AC</td>\n",
              "      <td>NaN</td>\n",
              "      <td>state</td>\n",
              "      <td>31218</td>\n",
              "      <td>696</td>\n",
              "      <td>233</td>\n",
              "      <td>False</td>\n",
              "      <td>881935.00</td>\n",
              "      <td>894470.00</td>\n",
              "      <td>12.00</td>\n",
              "      <td>3490.11</td>\n",
              "      <td>0.02</td>\n",
              "    </tr>\n",
              "    <tr>\n",
              "      <th>2</th>\n",
              "      <td>2020-11-03</td>\n",
              "      <td>AC</td>\n",
              "      <td>NaN</td>\n",
              "      <td>state</td>\n",
              "      <td>30962</td>\n",
              "      <td>695</td>\n",
              "      <td>232</td>\n",
              "      <td>False</td>\n",
              "      <td>881935.00</td>\n",
              "      <td>894470.00</td>\n",
              "      <td>12.00</td>\n",
              "      <td>3461.49</td>\n",
              "      <td>0.02</td>\n",
              "    </tr>\n",
              "    <tr>\n",
              "      <th>3</th>\n",
              "      <td>2020-11-02</td>\n",
              "      <td>AC</td>\n",
              "      <td>NaN</td>\n",
              "      <td>state</td>\n",
              "      <td>30954</td>\n",
              "      <td>693</td>\n",
              "      <td>231</td>\n",
              "      <td>False</td>\n",
              "      <td>881935.00</td>\n",
              "      <td>894470.00</td>\n",
              "      <td>12.00</td>\n",
              "      <td>3460.60</td>\n",
              "      <td>0.02</td>\n",
              "    </tr>\n",
              "    <tr>\n",
              "      <th>4</th>\n",
              "      <td>2020-11-01</td>\n",
              "      <td>AC</td>\n",
              "      <td>NaN</td>\n",
              "      <td>state</td>\n",
              "      <td>30951</td>\n",
              "      <td>693</td>\n",
              "      <td>230</td>\n",
              "      <td>False</td>\n",
              "      <td>881935.00</td>\n",
              "      <td>894470.00</td>\n",
              "      <td>12.00</td>\n",
              "      <td>3460.26</td>\n",
              "      <td>0.02</td>\n",
              "    </tr>\n",
              "  </tbody>\n",
              "</table>\n",
              "</div>"
            ],
            "text/plain": [
              "        date state  ... confirmed_per_100k_inhabitants death_rate\n",
              "0 2020-11-05    AC  ...                        3493.47       0.02\n",
              "1 2020-11-04    AC  ...                        3490.11       0.02\n",
              "2 2020-11-03    AC  ...                        3461.49       0.02\n",
              "3 2020-11-02    AC  ...                        3460.60       0.02\n",
              "4 2020-11-01    AC  ...                        3460.26       0.02\n",
              "\n",
              "[5 rows x 13 columns]"
            ]
          },
          "metadata": {
            "tags": []
          },
          "execution_count": 328
        }
      ]
    },
    {
      "cell_type": "code",
      "metadata": {
        "id": "Sc37Re8AVxhj",
        "outputId": "bb5d33a6-3851-40b7-c567-fb9f6c9503f1",
        "colab": {
          "base_uri": "https://localhost:8080/"
        }
      },
      "source": [
        "#Quantidade de valores em branco no dataset dos Estados\n",
        "print(dados_estado.isna().sum())\n",
        "print('\\n')"
      ],
      "execution_count": 329,
      "outputs": [
        {
          "output_type": "stream",
          "text": [
            "date                                 0\n",
            "state                                0\n",
            "city                              6335\n",
            "place_type                           0\n",
            "confirmed                            0\n",
            "deaths                               0\n",
            "order_for_place                      0\n",
            "is_last                              0\n",
            "estimated_population_2019            0\n",
            "estimated_population                 0\n",
            "city_ibge_code                       0\n",
            "confirmed_per_100k_inhabitants       6\n",
            "death_rate                           0\n",
            "dtype: int64\n",
            "\n",
            "\n"
          ],
          "name": "stdout"
        }
      ]
    },
    {
      "cell_type": "code",
      "metadata": {
        "id": "fjZsXs_Ebrv9",
        "outputId": "adfd6b03-09af-468c-ae93-327bb6aa5d39",
        "colab": {
          "base_uri": "https://localhost:8080/",
          "height": 0
        }
      },
      "source": [
        "#dados_cidade -> Cidades\n",
        "dados_cidade = dados[dados['place_type']=='city'].reset_index(drop=True)\n",
        "dados_cidade.set_index('date')\n",
        "dados_cidade.head(5)"
      ],
      "execution_count": 330,
      "outputs": [
        {
          "output_type": "execute_result",
          "data": {
            "text/html": [
              "<div>\n",
              "<style scoped>\n",
              "    .dataframe tbody tr th:only-of-type {\n",
              "        vertical-align: middle;\n",
              "    }\n",
              "\n",
              "    .dataframe tbody tr th {\n",
              "        vertical-align: top;\n",
              "    }\n",
              "\n",
              "    .dataframe thead th {\n",
              "        text-align: right;\n",
              "    }\n",
              "</style>\n",
              "<table border=\"1\" class=\"dataframe\">\n",
              "  <thead>\n",
              "    <tr style=\"text-align: right;\">\n",
              "      <th></th>\n",
              "      <th>date</th>\n",
              "      <th>state</th>\n",
              "      <th>city</th>\n",
              "      <th>place_type</th>\n",
              "      <th>confirmed</th>\n",
              "      <th>deaths</th>\n",
              "      <th>order_for_place</th>\n",
              "      <th>is_last</th>\n",
              "      <th>estimated_population_2019</th>\n",
              "      <th>estimated_population</th>\n",
              "      <th>city_ibge_code</th>\n",
              "      <th>confirmed_per_100k_inhabitants</th>\n",
              "      <th>death_rate</th>\n",
              "    </tr>\n",
              "  </thead>\n",
              "  <tbody>\n",
              "    <tr>\n",
              "      <th>0</th>\n",
              "      <td>2020-11-05</td>\n",
              "      <td>AC</td>\n",
              "      <td>Acrelândia</td>\n",
              "      <td>city</td>\n",
              "      <td>492</td>\n",
              "      <td>11</td>\n",
              "      <td>211</td>\n",
              "      <td>True</td>\n",
              "      <td>15256.00</td>\n",
              "      <td>15490.00</td>\n",
              "      <td>1200013.00</td>\n",
              "      <td>3176.24</td>\n",
              "      <td>0.02</td>\n",
              "    </tr>\n",
              "    <tr>\n",
              "      <th>1</th>\n",
              "      <td>2020-11-04</td>\n",
              "      <td>AC</td>\n",
              "      <td>Acrelândia</td>\n",
              "      <td>city</td>\n",
              "      <td>492</td>\n",
              "      <td>11</td>\n",
              "      <td>210</td>\n",
              "      <td>False</td>\n",
              "      <td>15256.00</td>\n",
              "      <td>15490.00</td>\n",
              "      <td>1200013.00</td>\n",
              "      <td>3176.24</td>\n",
              "      <td>0.02</td>\n",
              "    </tr>\n",
              "    <tr>\n",
              "      <th>2</th>\n",
              "      <td>2020-11-03</td>\n",
              "      <td>AC</td>\n",
              "      <td>Acrelândia</td>\n",
              "      <td>city</td>\n",
              "      <td>492</td>\n",
              "      <td>11</td>\n",
              "      <td>209</td>\n",
              "      <td>False</td>\n",
              "      <td>15256.00</td>\n",
              "      <td>15490.00</td>\n",
              "      <td>1200013.00</td>\n",
              "      <td>3176.24</td>\n",
              "      <td>0.02</td>\n",
              "    </tr>\n",
              "    <tr>\n",
              "      <th>3</th>\n",
              "      <td>2020-11-02</td>\n",
              "      <td>AC</td>\n",
              "      <td>Acrelândia</td>\n",
              "      <td>city</td>\n",
              "      <td>492</td>\n",
              "      <td>10</td>\n",
              "      <td>208</td>\n",
              "      <td>False</td>\n",
              "      <td>15256.00</td>\n",
              "      <td>15490.00</td>\n",
              "      <td>1200013.00</td>\n",
              "      <td>3176.24</td>\n",
              "      <td>0.02</td>\n",
              "    </tr>\n",
              "    <tr>\n",
              "      <th>4</th>\n",
              "      <td>2020-11-01</td>\n",
              "      <td>AC</td>\n",
              "      <td>Acrelândia</td>\n",
              "      <td>city</td>\n",
              "      <td>492</td>\n",
              "      <td>10</td>\n",
              "      <td>207</td>\n",
              "      <td>False</td>\n",
              "      <td>15256.00</td>\n",
              "      <td>15490.00</td>\n",
              "      <td>1200013.00</td>\n",
              "      <td>3176.24</td>\n",
              "      <td>0.02</td>\n",
              "    </tr>\n",
              "  </tbody>\n",
              "</table>\n",
              "</div>"
            ],
            "text/plain": [
              "        date state  ... confirmed_per_100k_inhabitants death_rate\n",
              "0 2020-11-05    AC  ...                        3176.24       0.02\n",
              "1 2020-11-04    AC  ...                        3176.24       0.02\n",
              "2 2020-11-03    AC  ...                        3176.24       0.02\n",
              "3 2020-11-02    AC  ...                        3176.24       0.02\n",
              "4 2020-11-01    AC  ...                        3176.24       0.02\n",
              "\n",
              "[5 rows x 13 columns]"
            ]
          },
          "metadata": {
            "tags": []
          },
          "execution_count": 330
        }
      ]
    },
    {
      "cell_type": "code",
      "metadata": {
        "id": "6ewBNdVqV4IY",
        "outputId": "387bb025-2253-42fd-bcac-6967cc233933",
        "colab": {
          "base_uri": "https://localhost:8080/"
        }
      },
      "source": [
        "#Quantidade de valores em branco no dataset das Cidades\n",
        "print(dados_cidade.isna().sum())\n",
        "print('\\n')"
      ],
      "execution_count": 331,
      "outputs": [
        {
          "output_type": "stream",
          "text": [
            "date                                  0\n",
            "state                                 0\n",
            "city                                  0\n",
            "place_type                            0\n",
            "confirmed                             0\n",
            "deaths                                0\n",
            "order_for_place                       0\n",
            "is_last                               0\n",
            "estimated_population_2019          3655\n",
            "estimated_population               3655\n",
            "city_ibge_code                     3655\n",
            "confirmed_per_100k_inhabitants    16976\n",
            "death_rate                            0\n",
            "dtype: int64\n",
            "\n",
            "\n"
          ],
          "name": "stdout"
        }
      ]
    },
    {
      "cell_type": "code",
      "metadata": {
        "id": "armiQl-0ahbH"
      },
      "source": [
        "#Criando a coluna Mês nos datasets de Estado e Cidade\n",
        "dados_estado['Mes'] = dados_estado['date'].dt.month\n",
        "dados_cidade['Mes'] = dados_cidade['date'].dt.month"
      ],
      "execution_count": 332,
      "outputs": []
    },
    {
      "cell_type": "markdown",
      "metadata": {
        "id": "WbgopQICFSFg"
      },
      "source": [
        "## Análises"
      ]
    },
    {
      "cell_type": "markdown",
      "metadata": {
        "id": "rryA7FUHjsWu"
      },
      "source": [
        "###### **1) Como está o cenário do Total de casos e mortes por Estado na posição do dia 06-11-2020? E o mesmo quantitativo por 100k de habitantes, será que temos o mesmo cenário?**"
      ]
    },
    {
      "cell_type": "code",
      "metadata": {
        "id": "SmM3476ojMxP",
        "outputId": "d092ae2e-7a5e-4dab-c902-748f426defe1",
        "colab": {
          "base_uri": "https://localhost:8080/",
          "height": 340
        }
      },
      "source": [
        "dados_estado_islast = dados_estado[dados_estado['is_last']==True].sort_values('confirmed',ascending=True).set_index('state')\n",
        "dados_estado_islast.head(5)"
      ],
      "execution_count": 333,
      "outputs": [
        {
          "output_type": "execute_result",
          "data": {
            "text/html": [
              "<div>\n",
              "<style scoped>\n",
              "    .dataframe tbody tr th:only-of-type {\n",
              "        vertical-align: middle;\n",
              "    }\n",
              "\n",
              "    .dataframe tbody tr th {\n",
              "        vertical-align: top;\n",
              "    }\n",
              "\n",
              "    .dataframe thead th {\n",
              "        text-align: right;\n",
              "    }\n",
              "</style>\n",
              "<table border=\"1\" class=\"dataframe\">\n",
              "  <thead>\n",
              "    <tr style=\"text-align: right;\">\n",
              "      <th></th>\n",
              "      <th>date</th>\n",
              "      <th>city</th>\n",
              "      <th>place_type</th>\n",
              "      <th>confirmed</th>\n",
              "      <th>deaths</th>\n",
              "      <th>order_for_place</th>\n",
              "      <th>is_last</th>\n",
              "      <th>estimated_population_2019</th>\n",
              "      <th>estimated_population</th>\n",
              "      <th>city_ibge_code</th>\n",
              "      <th>confirmed_per_100k_inhabitants</th>\n",
              "      <th>death_rate</th>\n",
              "      <th>Mes</th>\n",
              "    </tr>\n",
              "    <tr>\n",
              "      <th>state</th>\n",
              "      <th></th>\n",
              "      <th></th>\n",
              "      <th></th>\n",
              "      <th></th>\n",
              "      <th></th>\n",
              "      <th></th>\n",
              "      <th></th>\n",
              "      <th></th>\n",
              "      <th></th>\n",
              "      <th></th>\n",
              "      <th></th>\n",
              "      <th></th>\n",
              "      <th></th>\n",
              "    </tr>\n",
              "  </thead>\n",
              "  <tbody>\n",
              "    <tr>\n",
              "      <th>AC</th>\n",
              "      <td>2020-11-05</td>\n",
              "      <td>NaN</td>\n",
              "      <td>state</td>\n",
              "      <td>31248</td>\n",
              "      <td>697</td>\n",
              "      <td>234</td>\n",
              "      <td>True</td>\n",
              "      <td>881935.00</td>\n",
              "      <td>894470.00</td>\n",
              "      <td>12.00</td>\n",
              "      <td>3493.47</td>\n",
              "      <td>0.02</td>\n",
              "      <td>11</td>\n",
              "    </tr>\n",
              "    <tr>\n",
              "      <th>AP</th>\n",
              "      <td>2020-11-03</td>\n",
              "      <td>NaN</td>\n",
              "      <td>state</td>\n",
              "      <td>52832</td>\n",
              "      <td>751</td>\n",
              "      <td>228</td>\n",
              "      <td>True</td>\n",
              "      <td>845731.00</td>\n",
              "      <td>861773.00</td>\n",
              "      <td>16.00</td>\n",
              "      <td>6130.62</td>\n",
              "      <td>0.01</td>\n",
              "      <td>11</td>\n",
              "    </tr>\n",
              "    <tr>\n",
              "      <th>RR</th>\n",
              "      <td>2020-11-04</td>\n",
              "      <td>NaN</td>\n",
              "      <td>state</td>\n",
              "      <td>58304</td>\n",
              "      <td>695</td>\n",
              "      <td>226</td>\n",
              "      <td>True</td>\n",
              "      <td>605761.00</td>\n",
              "      <td>631181.00</td>\n",
              "      <td>14.00</td>\n",
              "      <td>9237.29</td>\n",
              "      <td>0.01</td>\n",
              "      <td>11</td>\n",
              "    </tr>\n",
              "    <tr>\n",
              "      <th>RO</th>\n",
              "      <td>2020-11-05</td>\n",
              "      <td>NaN</td>\n",
              "      <td>state</td>\n",
              "      <td>72630</td>\n",
              "      <td>1470</td>\n",
              "      <td>222</td>\n",
              "      <td>True</td>\n",
              "      <td>1777225.00</td>\n",
              "      <td>1796460.00</td>\n",
              "      <td>11.00</td>\n",
              "      <td>4042.95</td>\n",
              "      <td>0.02</td>\n",
              "      <td>11</td>\n",
              "    </tr>\n",
              "    <tr>\n",
              "      <th>TO</th>\n",
              "      <td>2020-11-04</td>\n",
              "      <td>NaN</td>\n",
              "      <td>state</td>\n",
              "      <td>76175</td>\n",
              "      <td>1108</td>\n",
              "      <td>228</td>\n",
              "      <td>True</td>\n",
              "      <td>1572866.00</td>\n",
              "      <td>1590248.00</td>\n",
              "      <td>17.00</td>\n",
              "      <td>4790.13</td>\n",
              "      <td>0.01</td>\n",
              "      <td>11</td>\n",
              "    </tr>\n",
              "  </tbody>\n",
              "</table>\n",
              "</div>"
            ],
            "text/plain": [
              "            date city  ... death_rate  Mes\n",
              "state                  ...                \n",
              "AC    2020-11-05  NaN  ...       0.02   11\n",
              "AP    2020-11-03  NaN  ...       0.01   11\n",
              "RR    2020-11-04  NaN  ...       0.01   11\n",
              "RO    2020-11-05  NaN  ...       0.02   11\n",
              "TO    2020-11-04  NaN  ...       0.01   11\n",
              "\n",
              "[5 rows x 13 columns]"
            ]
          },
          "metadata": {
            "tags": []
          },
          "execution_count": 333
        }
      ]
    },
    {
      "cell_type": "code",
      "metadata": {
        "id": "db2HN8yIkO2h",
        "outputId": "f6a36484-63fd-47a5-abc4-d20102b43b0f",
        "colab": {
          "base_uri": "https://localhost:8080/",
          "height": 352
        }
      },
      "source": [
        "fig, axs = plt.subplots(1, 2, figsize=(20,5))\n",
        "\n",
        "dados_estado_islast['confirmed'].plot(ax = axs[0], kind='bar', color='darkblue')\n",
        "axs[0].set_title('Quantidade de Casos Confirmados')\n",
        "axs[0].yaxis.set_major_formatter(ticker.StrMethodFormatter(\"{x:,.2f}\"))\n",
        "axs[0].set_ylabel('Quantidade de casos')\n",
        "axs[0].legend(loc='best')\n",
        "axs[0].set_ylim(bottom = 0)\n",
        "\n",
        "dados_estado_islast['confirmed_per_100k_inhabitants'].sort_values(ascending=True).plot(ax = axs[1], kind='bar', color='lightblue')\n",
        "axs[1].set_title('Quantidade de Casos Confirmados por 100mil habitantes')\n",
        "axs[1].yaxis.set_major_formatter(ticker.StrMethodFormatter(\"{x:,.2f}\"))\n",
        "axs[1].set_ylabel('Quantidade de casos')\n",
        "axs[1].legend(loc='best')\n",
        "axs[1].set_ylim(bottom = 0)\n",
        "\n",
        "fig.subplots_adjust(left=0.08, right=0.98, bottom=0.05, top=0.9,hspace=0.4, wspace=0.3)\n",
        "\n",
        "plt.show()"
      ],
      "execution_count": 334,
      "outputs": [
        {
          "output_type": "display_data",
          "data": {
            "image/png": "[encoded data removed]",
            "text/plain": [
              "<Figure size 1440x360 with 2 Axes>"
            ]
          },
          "metadata": {
            "tags": []
          }
        }
      ]
    },
    {
      "cell_type": "markdown",
      "metadata": {
        "id": "c2y1kHFUSvAJ"
      },
      "source": [
        "**Comentário:** Quando comparado o número de casos no Estado vs número de casos por 100mil habitantes, podemos observar que os Estados com maior quantitativo de casos, quando dividido pela sua população, na sua maioria não concentram os maiores quantitativos. Deste modo, a criticidade de termos um Estado com menos população e mais casos por 100mil habitantes é um sinal de alerta para o sistema de saúde da localidade. Pois o Estado muito provavelmente não estará em condições de atender a demanda, visto que com uma população pequena, o número de leitos tende a ser menor.\n",
        "\n",
        "Estados da região Norte, como Roraima e Amapá, apesar de estarem nos menores números de casos, estão nos maiores concentrados por 100mil habitantes. Já São Paulo, líder disparado em casos, é o 8° quando se trata em concentração por 100mil habitantes. "
      ]
    },
    {
      "cell_type": "code",
      "metadata": {
        "id": "v-oRQKp8qqOp",
        "outputId": "230d43b1-e070-434e-a1af-cc77aba56c0b",
        "colab": {
          "base_uri": "https://localhost:8080/",
          "height": 356
        }
      },
      "source": [
        "fig, axs = plt.subplots(1, 2, figsize=(20,5))\n",
        "\n",
        "dados_estado_islast['deaths'].sort_values(ascending=True).plot(ax = axs[0], kind='bar', color='darkred')\n",
        "axs[0].set_title('Quantidade de Mortes Confirmadas')\n",
        "axs[0].yaxis.set_major_formatter(ticker.StrMethodFormatter(\"{x:,.2f}\"))\n",
        "axs[0].set_ylabel('Quantidade de casos')\n",
        "axs[0].legend(loc='best')\n",
        "axs[0].set_ylim(bottom = 0)\n",
        "\n",
        "dados_estado_islast['death_rate'].sort_values(ascending=True).plot(ax = axs[1], kind='bar', color='red')\n",
        "axs[1].set_title('Taxa de mortalidade')\n",
        "axs[1].yaxis.set_major_formatter(ticker.StrMethodFormatter(\"{x:,.2f}\"))\n",
        "axs[1].set_ylabel('Quantidade de casos')\n",
        "axs[1].legend(loc='best')\n",
        "axs[1].set_ylim(bottom = 0)\n",
        "\n",
        "fig.subplots_adjust(left=0.08, right=0.98, bottom=0.05, top=0.9,hspace=0.4, wspace=0.3)\n",
        "\n",
        "plt.show()"
      ],
      "execution_count": 335,
      "outputs": [
        {
          "output_type": "display_data",
          "data": {
            "image/png": "[encoded data removed]",
            "text/plain": [
              "<Figure size 1440x360 with 2 Axes>"
            ]
          },
          "metadata": {
            "tags": []
          }
        }
      ]
    },
    {
      "cell_type": "markdown",
      "metadata": {
        "id": "bQ-S818hUvzW"
      },
      "source": [
        "**Comentário:** Referente ao número de mortos, a tendência de um Estado ter uma taxa de mortalidade alta está significativamente relacionada com o quantitativo de mortes."
      ]
    },
    {
      "cell_type": "markdown",
      "metadata": {
        "id": "Ad3TQQ41rEjy"
      },
      "source": [
        "###### **2) Acompanhamento do Total de casos e mortes por Estado até o dia 06-11-2020, como está o cenário de casos e mortes no Brasil desde o início da pandemia?**"
      ]
    },
    {
      "cell_type": "code",
      "metadata": {
        "id": "VezVrR_4ZfPo",
        "outputId": "997f3e0b-84a8-4b5d-e604-704de6c09648",
        "colab": {
          "base_uri": "https://localhost:8080/",
          "height": 235
        }
      },
      "source": [
        "dados_agrupado_casos = pd.DataFrame(dados_estado.groupby('date').sum(['confirmed','deaths']))\n",
        "dados_agrupado_casos = dados_agrupado_casos[['confirmed','deaths']].reset_index()\n",
        "dados_agrupado_casos['Mes'] = dados_agrupado_casos['date'].dt.month\n",
        "dados_agrupado_casos.set_index('date', inplace=True)\n",
        "dados_agrupado_casos.tail(5)"
      ],
      "execution_count": 336,
      "outputs": [
        {
          "output_type": "execute_result",
          "data": {
            "text/html": [
              "<div>\n",
              "<style scoped>\n",
              "    .dataframe tbody tr th:only-of-type {\n",
              "        vertical-align: middle;\n",
              "    }\n",
              "\n",
              "    .dataframe tbody tr th {\n",
              "        vertical-align: top;\n",
              "    }\n",
              "\n",
              "    .dataframe thead th {\n",
              "        text-align: right;\n",
              "    }\n",
              "</style>\n",
              "<table border=\"1\" class=\"dataframe\">\n",
              "  <thead>\n",
              "    <tr style=\"text-align: right;\">\n",
              "      <th></th>\n",
              "      <th>confirmed</th>\n",
              "      <th>deaths</th>\n",
              "      <th>Mes</th>\n",
              "    </tr>\n",
              "    <tr>\n",
              "      <th>date</th>\n",
              "      <th></th>\n",
              "      <th></th>\n",
              "      <th></th>\n",
              "    </tr>\n",
              "  </thead>\n",
              "  <tbody>\n",
              "    <tr>\n",
              "      <th>2020-11-01</th>\n",
              "      <td>5547951</td>\n",
              "      <td>160175</td>\n",
              "      <td>11</td>\n",
              "    </tr>\n",
              "    <tr>\n",
              "      <th>2020-11-02</th>\n",
              "      <td>5556200</td>\n",
              "      <td>160339</td>\n",
              "      <td>11</td>\n",
              "    </tr>\n",
              "    <tr>\n",
              "      <th>2020-11-03</th>\n",
              "      <td>5570782</td>\n",
              "      <td>160628</td>\n",
              "      <td>11</td>\n",
              "    </tr>\n",
              "    <tr>\n",
              "      <th>2020-11-04</th>\n",
              "      <td>5541266</td>\n",
              "      <td>160495</td>\n",
              "      <td>11</td>\n",
              "    </tr>\n",
              "    <tr>\n",
              "      <th>2020-11-05</th>\n",
              "      <td>5263129</td>\n",
              "      <td>155053</td>\n",
              "      <td>11</td>\n",
              "    </tr>\n",
              "  </tbody>\n",
              "</table>\n",
              "</div>"
            ],
            "text/plain": [
              "            confirmed  deaths  Mes\n",
              "date                              \n",
              "2020-11-01    5547951  160175   11\n",
              "2020-11-02    5556200  160339   11\n",
              "2020-11-03    5570782  160628   11\n",
              "2020-11-04    5541266  160495   11\n",
              "2020-11-05    5263129  155053   11"
            ]
          },
          "metadata": {
            "tags": []
          },
          "execution_count": 336
        }
      ]
    },
    {
      "cell_type": "code",
      "metadata": {
        "id": "RdkAKi3WtjjY",
        "outputId": "784516e6-ce74-47c1-e0d9-3b33524d668d",
        "colab": {
          "base_uri": "https://localhost:8080/",
          "height": 347
        }
      },
      "source": [
        "labels = dados_agrupado_casos.index\n",
        "\n",
        "x = np.arange(len(labels)) # the label locations\n",
        "width = 0.5  # the width of the bars\n",
        "\n",
        "fig, axs = plt.subplots(1, 2, figsize=(20,5))\n",
        "\n",
        "axs[0].bar(x - width/2, dados_agrupado_casos['confirmed'], width, color='darkblue')\n",
        "axs[0].set_title('Acompanhamento do Total de casos no Brasil - 06-11-2020')\n",
        "axs[0].yaxis.set_major_formatter(ticker.StrMethodFormatter(\"{x:,.2f}\"))\n",
        "axs[0].set_xlabel('Dias de Pandemia - entre 12/03/20 e 05/11/20')\n",
        "axs[0].set_ylabel('Quantidade de casos')\n",
        "axs[0].set_ylim(bottom = 0)\n",
        "\n",
        "axs[1].bar(x - width/2, dados_agrupado_casos['deaths'], width, color='tomato')\n",
        "axs[1].set_title('Acompanhamento do Total de óbitos no Brasil - 06-11-2020')\n",
        "axs[1].yaxis.set_major_formatter(ticker.StrMethodFormatter(\"{x:,.2f}\"))\n",
        "axs[1].set_xlabel('Dias de Pandemia - entre 12/03/20 e 05/11/20')\n",
        "axs[1].set_ylabel('Quantidade de óbitos')\n",
        "axs[1].set_ylim(bottom = 0)\n",
        "\n",
        "fig.subplots_adjust(left=0.08, right=0.98, bottom=0.05, top=0.9,hspace=0.4, wspace=0.3)\n",
        "\n",
        "plt.show()"
      ],
      "execution_count": 337,
      "outputs": [
        {
          "output_type": "display_data",
          "data": {
            "image/png": "[encoded data removed]",
            "text/plain": [
              "<Figure size 1440x360 with 2 Axes>"
            ]
          },
          "metadata": {
            "tags": []
          }
        }
      ]
    },
    {
      "cell_type": "markdown",
      "metadata": {
        "id": "y_FeJwjlVjux"
      },
      "source": [
        "**Comentário:** O Brasil não demonstrou uma curva de estabilidade longeva de número de casos, apesar de haver a diminuição de novos casos (como mostra a imagem retirada do https://covid.saude.gov.br/) \n",
        "\n",
        "![image.png](data:image/png;base64,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)"
      ]
    },
    {
      "cell_type": "markdown",
      "metadata": {
        "id": "VqdXkeqSy7aK"
      },
      "source": [
        "###### **3) Um outro ponto de vista sobre os números da pandemia é a visão de novos casos por período de tempo. Nesta base de dados não temos o dado de novos casos, por este motivo irei criar. Como estão os índices de novos casos e óbitos no país?**"
      ]
    },
    {
      "cell_type": "markdown",
      "metadata": {
        "id": "DmjI29xadu3o"
      },
      "source": [
        "`Criando coluna de 'novos casos' e 'novas mortes'. O cálculo será o valor da linha subtraido pela linha abaixo.`"
      ]
    },
    {
      "cell_type": "code",
      "metadata": {
        "id": "nG_Jw--ZWC9i",
        "outputId": "4199c077-cf55-45a8-cb22-8e030e4e44fc",
        "colab": {
          "base_uri": "https://localhost:8080/"
        }
      },
      "source": [
        "dados_estado['novos_casos']=0\n",
        "dados_estado['novas_mortes']=0\n",
        "i=0\n",
        "j=1\n",
        "\n",
        "for estado in dados_estado['state']:\n",
        "  if j < len(dados_estado):\n",
        "    if dados_estado['order_for_place'][i]==1:\n",
        "      dados_estado['novos_casos'][i] = 0\n",
        "      dados_estado['novas_mortes'][i]=0\n",
        "      i=i+1\n",
        "      j=j+1\n",
        "    else:\n",
        "      dados_estado['novos_casos'][i] = dados_estado['confirmed'][i] - dados_estado['confirmed'][j]\n",
        "      dados_estado['novas_mortes'][i] = dados_estado['deaths'][i] - dados_estado['deaths'][j]\n",
        "      i=i+1\n",
        "      j=j+1\n",
        "\n"
      ],
      "execution_count": 357,
      "outputs": [
        {
          "output_type": "stream",
          "text": [
            "/usr/local/lib/python3.6/dist-packages/ipykernel_launcher.py:14: SettingWithCopyWarning: \n",
            "A value is trying to be set on a copy of a slice from a DataFrame\n",
            "\n",
            "See the caveats in the documentation: https://pandas.pydata.org/pandas-docs/stable/user_guide/indexing.html#returning-a-view-versus-a-copy\n",
            "  \n",
            "/usr/local/lib/python3.6/dist-packages/ipykernel_launcher.py:15: SettingWithCopyWarning: \n",
            "A value is trying to be set on a copy of a slice from a DataFrame\n",
            "\n",
            "See the caveats in the documentation: https://pandas.pydata.org/pandas-docs/stable/user_guide/indexing.html#returning-a-view-versus-a-copy\n",
            "  from ipykernel import kernelapp as app\n",
            "/usr/local/lib/python3.6/dist-packages/ipykernel_launcher.py:9: SettingWithCopyWarning: \n",
            "A value is trying to be set on a copy of a slice from a DataFrame\n",
            "\n",
            "See the caveats in the documentation: https://pandas.pydata.org/pandas-docs/stable/user_guide/indexing.html#returning-a-view-versus-a-copy\n",
            "  if __name__ == '__main__':\n",
            "/usr/local/lib/python3.6/dist-packages/ipykernel_launcher.py:10: SettingWithCopyWarning: \n",
            "A value is trying to be set on a copy of a slice from a DataFrame\n",
            "\n",
            "See the caveats in the documentation: https://pandas.pydata.org/pandas-docs/stable/user_guide/indexing.html#returning-a-view-versus-a-copy\n",
            "  # Remove the CWD from sys.path while we load stuff.\n"
          ],
          "name": "stderr"
        }
      ]
    },
    {
      "cell_type": "code",
      "metadata": {
        "id": "zEgBOwvFdxxQ",
        "outputId": "31751116-78b5-46f1-8147-5149ce5d6157",
        "colab": {
          "base_uri": "https://localhost:8080/",
          "height": 824
        }
      },
      "source": [
        "#Testando o campo criado\n",
        "dados_estado[['date','state','confirmed','novos_casos','deaths','novas_mortes']].tail(25)"
      ],
      "execution_count": 339,
      "outputs": [
        {
          "output_type": "execute_result",
          "data": {
            "text/html": [
              "<div>\n",
              "<style scoped>\n",
              "    .dataframe tbody tr th:only-of-type {\n",
              "        vertical-align: middle;\n",
              "    }\n",
              "\n",
              "    .dataframe tbody tr th {\n",
              "        vertical-align: top;\n",
              "    }\n",
              "\n",
              "    .dataframe thead th {\n",
              "        text-align: right;\n",
              "    }\n",
              "</style>\n",
              "<table border=\"1\" class=\"dataframe\">\n",
              "  <thead>\n",
              "    <tr style=\"text-align: right;\">\n",
              "      <th></th>\n",
              "      <th>date</th>\n",
              "      <th>state</th>\n",
              "      <th>confirmed</th>\n",
              "      <th>novos_casos</th>\n",
              "      <th>deaths</th>\n",
              "      <th>novas_mortes</th>\n",
              "    </tr>\n",
              "  </thead>\n",
              "  <tbody>\n",
              "    <tr>\n",
              "      <th>6310</th>\n",
              "      <td>2020-03-22</td>\n",
              "      <td>SP</td>\n",
              "      <td>631</td>\n",
              "      <td>235</td>\n",
              "      <td>22</td>\n",
              "      <td>7</td>\n",
              "    </tr>\n",
              "    <tr>\n",
              "      <th>6311</th>\n",
              "      <td>2020-03-21</td>\n",
              "      <td>SP</td>\n",
              "      <td>396</td>\n",
              "      <td>0</td>\n",
              "      <td>15</td>\n",
              "      <td>6</td>\n",
              "    </tr>\n",
              "    <tr>\n",
              "      <th>6312</th>\n",
              "      <td>2020-03-20</td>\n",
              "      <td>SP</td>\n",
              "      <td>396</td>\n",
              "      <td>110</td>\n",
              "      <td>9</td>\n",
              "      <td>4</td>\n",
              "    </tr>\n",
              "    <tr>\n",
              "      <th>6313</th>\n",
              "      <td>2020-03-19</td>\n",
              "      <td>SP</td>\n",
              "      <td>286</td>\n",
              "      <td>46</td>\n",
              "      <td>5</td>\n",
              "      <td>2</td>\n",
              "    </tr>\n",
              "    <tr>\n",
              "      <th>6314</th>\n",
              "      <td>2020-03-18</td>\n",
              "      <td>SP</td>\n",
              "      <td>240</td>\n",
              "      <td>76</td>\n",
              "      <td>3</td>\n",
              "      <td>2</td>\n",
              "    </tr>\n",
              "    <tr>\n",
              "      <th>6315</th>\n",
              "      <td>2020-03-17</td>\n",
              "      <td>SP</td>\n",
              "      <td>164</td>\n",
              "      <td>12</td>\n",
              "      <td>1</td>\n",
              "      <td>1</td>\n",
              "    </tr>\n",
              "    <tr>\n",
              "      <th>6316</th>\n",
              "      <td>2020-03-16</td>\n",
              "      <td>SP</td>\n",
              "      <td>152</td>\n",
              "      <td>87</td>\n",
              "      <td>0</td>\n",
              "      <td>0</td>\n",
              "    </tr>\n",
              "    <tr>\n",
              "      <th>6317</th>\n",
              "      <td>2020-03-14</td>\n",
              "      <td>SP</td>\n",
              "      <td>65</td>\n",
              "      <td>19</td>\n",
              "      <td>0</td>\n",
              "      <td>0</td>\n",
              "    </tr>\n",
              "    <tr>\n",
              "      <th>6318</th>\n",
              "      <td>2020-03-12</td>\n",
              "      <td>SP</td>\n",
              "      <td>46</td>\n",
              "      <td>16</td>\n",
              "      <td>0</td>\n",
              "      <td>0</td>\n",
              "    </tr>\n",
              "    <tr>\n",
              "      <th>6319</th>\n",
              "      <td>2020-03-11</td>\n",
              "      <td>SP</td>\n",
              "      <td>30</td>\n",
              "      <td>11</td>\n",
              "      <td>0</td>\n",
              "      <td>0</td>\n",
              "    </tr>\n",
              "    <tr>\n",
              "      <th>6320</th>\n",
              "      <td>2020-03-10</td>\n",
              "      <td>SP</td>\n",
              "      <td>19</td>\n",
              "      <td>3</td>\n",
              "      <td>0</td>\n",
              "      <td>0</td>\n",
              "    </tr>\n",
              "    <tr>\n",
              "      <th>6321</th>\n",
              "      <td>2020-03-09</td>\n",
              "      <td>SP</td>\n",
              "      <td>16</td>\n",
              "      <td>0</td>\n",
              "      <td>0</td>\n",
              "      <td>0</td>\n",
              "    </tr>\n",
              "    <tr>\n",
              "      <th>6322</th>\n",
              "      <td>2020-03-08</td>\n",
              "      <td>SP</td>\n",
              "      <td>16</td>\n",
              "      <td>3</td>\n",
              "      <td>0</td>\n",
              "      <td>0</td>\n",
              "    </tr>\n",
              "    <tr>\n",
              "      <th>6323</th>\n",
              "      <td>2020-03-07</td>\n",
              "      <td>SP</td>\n",
              "      <td>13</td>\n",
              "      <td>3</td>\n",
              "      <td>0</td>\n",
              "      <td>0</td>\n",
              "    </tr>\n",
              "    <tr>\n",
              "      <th>6324</th>\n",
              "      <td>2020-03-06</td>\n",
              "      <td>SP</td>\n",
              "      <td>10</td>\n",
              "      <td>4</td>\n",
              "      <td>0</td>\n",
              "      <td>0</td>\n",
              "    </tr>\n",
              "    <tr>\n",
              "      <th>6325</th>\n",
              "      <td>2020-03-05</td>\n",
              "      <td>SP</td>\n",
              "      <td>6</td>\n",
              "      <td>3</td>\n",
              "      <td>0</td>\n",
              "      <td>0</td>\n",
              "    </tr>\n",
              "    <tr>\n",
              "      <th>6326</th>\n",
              "      <td>2020-03-04</td>\n",
              "      <td>SP</td>\n",
              "      <td>3</td>\n",
              "      <td>1</td>\n",
              "      <td>0</td>\n",
              "      <td>0</td>\n",
              "    </tr>\n",
              "    <tr>\n",
              "      <th>6327</th>\n",
              "      <td>2020-03-03</td>\n",
              "      <td>SP</td>\n",
              "      <td>2</td>\n",
              "      <td>0</td>\n",
              "      <td>0</td>\n",
              "      <td>0</td>\n",
              "    </tr>\n",
              "    <tr>\n",
              "      <th>6328</th>\n",
              "      <td>2020-03-02</td>\n",
              "      <td>SP</td>\n",
              "      <td>2</td>\n",
              "      <td>0</td>\n",
              "      <td>0</td>\n",
              "      <td>0</td>\n",
              "    </tr>\n",
              "    <tr>\n",
              "      <th>6329</th>\n",
              "      <td>2020-03-01</td>\n",
              "      <td>SP</td>\n",
              "      <td>2</td>\n",
              "      <td>0</td>\n",
              "      <td>0</td>\n",
              "      <td>0</td>\n",
              "    </tr>\n",
              "    <tr>\n",
              "      <th>6330</th>\n",
              "      <td>2020-02-29</td>\n",
              "      <td>SP</td>\n",
              "      <td>2</td>\n",
              "      <td>0</td>\n",
              "      <td>0</td>\n",
              "      <td>0</td>\n",
              "    </tr>\n",
              "    <tr>\n",
              "      <th>6331</th>\n",
              "      <td>2020-02-28</td>\n",
              "      <td>SP</td>\n",
              "      <td>2</td>\n",
              "      <td>1</td>\n",
              "      <td>0</td>\n",
              "      <td>0</td>\n",
              "    </tr>\n",
              "    <tr>\n",
              "      <th>6332</th>\n",
              "      <td>2020-02-27</td>\n",
              "      <td>SP</td>\n",
              "      <td>1</td>\n",
              "      <td>0</td>\n",
              "      <td>0</td>\n",
              "      <td>0</td>\n",
              "    </tr>\n",
              "    <tr>\n",
              "      <th>6333</th>\n",
              "      <td>2020-02-26</td>\n",
              "      <td>SP</td>\n",
              "      <td>1</td>\n",
              "      <td>0</td>\n",
              "      <td>0</td>\n",
              "      <td>0</td>\n",
              "    </tr>\n",
              "    <tr>\n",
              "      <th>6334</th>\n",
              "      <td>2020-02-25</td>\n",
              "      <td>SP</td>\n",
              "      <td>1</td>\n",
              "      <td>0</td>\n",
              "      <td>0</td>\n",
              "      <td>0</td>\n",
              "    </tr>\n",
              "  </tbody>\n",
              "</table>\n",
              "</div>"
            ],
            "text/plain": [
              "           date state  confirmed  novos_casos  deaths  novas_mortes\n",
              "6310 2020-03-22    SP        631          235      22             7\n",
              "6311 2020-03-21    SP        396            0      15             6\n",
              "6312 2020-03-20    SP        396          110       9             4\n",
              "6313 2020-03-19    SP        286           46       5             2\n",
              "6314 2020-03-18    SP        240           76       3             2\n",
              "6315 2020-03-17    SP        164           12       1             1\n",
              "6316 2020-03-16    SP        152           87       0             0\n",
              "6317 2020-03-14    SP         65           19       0             0\n",
              "6318 2020-03-12    SP         46           16       0             0\n",
              "6319 2020-03-11    SP         30           11       0             0\n",
              "6320 2020-03-10    SP         19            3       0             0\n",
              "6321 2020-03-09    SP         16            0       0             0\n",
              "6322 2020-03-08    SP         16            3       0             0\n",
              "6323 2020-03-07    SP         13            3       0             0\n",
              "6324 2020-03-06    SP         10            4       0             0\n",
              "6325 2020-03-05    SP          6            3       0             0\n",
              "6326 2020-03-04    SP          3            1       0             0\n",
              "6327 2020-03-03    SP          2            0       0             0\n",
              "6328 2020-03-02    SP          2            0       0             0\n",
              "6329 2020-03-01    SP          2            0       0             0\n",
              "6330 2020-02-29    SP          2            0       0             0\n",
              "6331 2020-02-28    SP          2            1       0             0\n",
              "6332 2020-02-27    SP          1            0       0             0\n",
              "6333 2020-02-26    SP          1            0       0             0\n",
              "6334 2020-02-25    SP          1            0       0             0"
            ]
          },
          "metadata": {
            "tags": []
          },
          "execution_count": 339
        }
      ]
    },
    {
      "cell_type": "markdown",
      "metadata": {
        "id": "0ffXJuLbfdTS"
      },
      "source": [
        "`Acompanhamento dos Novos Casos e Óbitos no Brasil - até 06-11-2020`"
      ]
    },
    {
      "cell_type": "code",
      "metadata": {
        "id": "2Ll-BmO7gUiS",
        "outputId": "a7ee0818-4a4d-41f6-fef7-0ed20e619f52",
        "colab": {
          "base_uri": "https://localhost:8080/",
          "height": 235
        }
      },
      "source": [
        "dados_agrupado_novos_casos = pd.DataFrame(dados_estado.groupby('date').sum(['novos_casos','novas_mortes']))\n",
        "dados_agrupado_novos_casos = dados_agrupado_novos_casos[['novos_casos','novas_mortes']].reset_index()\n",
        "dados_agrupado_novos_casos['Mes'] = dados_agrupado_novos_casos['date'].dt.month\n",
        "dados_agrupado_novos_casos.set_index('date', inplace=True)\n",
        "dados_agrupado_novos_casos.tail(5)"
      ],
      "execution_count": 340,
      "outputs": [
        {
          "output_type": "execute_result",
          "data": {
            "text/html": [
              "<div>\n",
              "<style scoped>\n",
              "    .dataframe tbody tr th:only-of-type {\n",
              "        vertical-align: middle;\n",
              "    }\n",
              "\n",
              "    .dataframe tbody tr th {\n",
              "        vertical-align: top;\n",
              "    }\n",
              "\n",
              "    .dataframe thead th {\n",
              "        text-align: right;\n",
              "    }\n",
              "</style>\n",
              "<table border=\"1\" class=\"dataframe\">\n",
              "  <thead>\n",
              "    <tr style=\"text-align: right;\">\n",
              "      <th></th>\n",
              "      <th>novos_casos</th>\n",
              "      <th>novas_mortes</th>\n",
              "      <th>Mes</th>\n",
              "    </tr>\n",
              "    <tr>\n",
              "      <th>date</th>\n",
              "      <th></th>\n",
              "      <th></th>\n",
              "      <th></th>\n",
              "    </tr>\n",
              "  </thead>\n",
              "  <tbody>\n",
              "    <tr>\n",
              "      <th>2020-11-01</th>\n",
              "      <td>10188</td>\n",
              "      <td>203</td>\n",
              "      <td>11</td>\n",
              "    </tr>\n",
              "    <tr>\n",
              "      <th>2020-11-02</th>\n",
              "      <td>8249</td>\n",
              "      <td>164</td>\n",
              "      <td>11</td>\n",
              "    </tr>\n",
              "    <tr>\n",
              "      <th>2020-11-03</th>\n",
              "      <td>14582</td>\n",
              "      <td>289</td>\n",
              "      <td>11</td>\n",
              "    </tr>\n",
              "    <tr>\n",
              "      <th>2020-11-04</th>\n",
              "      <td>23316</td>\n",
              "      <td>618</td>\n",
              "      <td>11</td>\n",
              "    </tr>\n",
              "    <tr>\n",
              "      <th>2020-11-05</th>\n",
              "      <td>22378</td>\n",
              "      <td>593</td>\n",
              "      <td>11</td>\n",
              "    </tr>\n",
              "  </tbody>\n",
              "</table>\n",
              "</div>"
            ],
            "text/plain": [
              "            novos_casos  novas_mortes  Mes\n",
              "date                                      \n",
              "2020-11-01        10188           203   11\n",
              "2020-11-02         8249           164   11\n",
              "2020-11-03        14582           289   11\n",
              "2020-11-04        23316           618   11\n",
              "2020-11-05        22378           593   11"
            ]
          },
          "metadata": {
            "tags": []
          },
          "execution_count": 340
        }
      ]
    },
    {
      "cell_type": "code",
      "metadata": {
        "id": "IFLePxBBfcZt",
        "outputId": "124c964a-d97f-41c7-cbac-b81f7cb1dd3f",
        "colab": {
          "base_uri": "https://localhost:8080/",
          "height": 352
        }
      },
      "source": [
        "labels = dados_agrupado_casos.index\n",
        "\n",
        "x = np.arange(len(labels)) # the label locations\n",
        "width = 0.5  # the width of the bars\n",
        "\n",
        "axs[0].bar(x - width/2, dados_agrupado_casos['confirmed'], width, color='darkblue')\n",
        "\n",
        "fig, axs = plt.subplots(1, 2, figsize=(20,5))\n",
        "\n",
        "axs[0].bar(x - width/2, dados_agrupado_novos_casos['novos_casos'], width, color='darkblue')\n",
        "axs[0].set_title('Acompanhamento dos Novos Casos no Brasil - até 06-11-2020')\n",
        "axs[0].yaxis.set_major_formatter(ticker.StrMethodFormatter(\"{x:,.2f}\"))\n",
        "axs[0].set_xlabel('Dias de Pandemia - entre 12/03/20 e 05/11/20')\n",
        "axs[0].set_ylabel('Quantidade de casos')\n",
        "axs[0].set_ylim(bottom = 0)\n",
        "\n",
        "axs[1].bar(x - width/2, dados_agrupado_novos_casos['novas_mortes'], width, color='tomato')\n",
        "axs[1].set_title('Acompanhamento dos Novos Óbitos no Brasil - até 06-11-2020')\n",
        "axs[1].yaxis.set_major_formatter(ticker.StrMethodFormatter(\"{x:,.2f}\"))\n",
        "axs[1].set_xlabel('Dias de Pandemia - entre 12/03/20 e 05/11/20')\n",
        "axs[1].set_ylabel('Quantidade de óbitos')\n",
        "axs[1].set_ylim(bottom = 0)\n",
        "\n",
        "fig.subplots_adjust(left=0.08, right=0.98, bottom=0.05, top=0.9,hspace=0.4, wspace=0.3)\n",
        "\n",
        "plt.show()"
      ],
      "execution_count": 341,
      "outputs": [
        {
          "output_type": "display_data",
          "data": {
            "image/png": "[encoded data removed]",
            "text/plain": [
              "<Figure size 1440x360 with 2 Axes>"
            ]
          },
          "metadata": {
            "tags": []
          }
        }
      ]
    },
    {
      "cell_type": "markdown",
      "metadata": {
        "id": "kzCQbo0w0aKR"
      },
      "source": [
        "**Comentário:** O Brasil apresenta uma tendência de diminuição de novos casos e novas mortes por volta do dia 170 de pandemia, entretanto, apresenta alguns picos de aumento periódico entre os momentos de queda. Isto demonstra a tendência de termos a necessidade de levar mais tempo para voltarmos ao 'antigo normal'"
      ]
    },
    {
      "cell_type": "markdown",
      "metadata": {
        "id": "NyoMZHmlkSVI"
      },
      "source": [
        "###### **4) Avaliando o quantitativo de Novos Casos e Novos Óbitos que são outliers (acima do 3° quartil na distribuição do BoxPlot abaixo) a nível Nacional, ou seja, os valores serão comparados com todos os Estados. Será que tivemos momentos de aumento extremo de casos?**\n",
        "\n",
        "Exemplificarei outlier por Estado selecionando 2 Estados. Deste modo, um outlier a \"nível Estadual\" pode não ser outlier a \"a nível Nacional\", uma vez que as medianas irão mudar a depender do conjunto de dados."
      ]
    },
    {
      "cell_type": "code",
      "metadata": {
        "id": "rmKnH1uDhvhI",
        "outputId": "7e2805e6-4676-47aa-8a4d-8592ca0a6f52",
        "colab": {
          "base_uri": "https://localhost:8080/",
          "height": 337
        }
      },
      "source": [
        "fig, axs = plt.subplots(1, 2, figsize=(20,5))\n",
        "\n",
        "axs[0].boxplot(dados_estado['novos_casos'])\n",
        "axs[0].set_title(\"Picos de Novos Casos - Nacional\")\n",
        "axs[0].set_ylabel('Novos Casos');\n",
        "\n",
        "axs[1].boxplot(dados_estado['novas_mortes'])\n",
        "axs[1].set_title(\"Picos de Novos Óbitos - Nacional\")\n",
        "axs[1].set_ylabel('Novos Óbitos');"
      ],
      "execution_count": 342,
      "outputs": [
        {
          "output_type": "display_data",
          "data": {
            "image/png": "[encoded data removed]",
            "text/plain": [
              "<Figure size 1440x360 with 2 Axes>"
            ]
          },
          "metadata": {
            "tags": []
          }
        }
      ]
    },
    {
      "cell_type": "markdown",
      "metadata": {
        "id": "nYoVPiGUnD1r"
      },
      "source": [
        "No *'olhômetro*' estimei que os outliers dos Novos Casos são aproximadamente acima de 2.500. Já os de Novos Óbitos, são os valores aproximadamente acima de 70"
      ]
    },
    {
      "cell_type": "code",
      "metadata": {
        "id": "2Catw_KQilHT",
        "outputId": "a9d378fa-1797-4116-a453-acd09f2c3e85",
        "colab": {
          "base_uri": "https://localhost:8080/"
        }
      },
      "source": [
        "#Identificando o quantitativo de casos 'acima do comum'\n",
        "print(\"Quantidade de novos casos outliers:\",dados_estado['state'][dados_estado['novos_casos'] > 2500].count())\n",
        "print(\"Quantidade de novos ótibos outliers:\",dados_estado['state'][dados_estado['novas_mortes'] > 70].count())"
      ],
      "execution_count": 343,
      "outputs": [
        {
          "output_type": "stream",
          "text": [
            "Quantidade de novos casos outliers: 477\n",
            "Quantidade de novos ótibos outliers: 503\n"
          ],
          "name": "stdout"
        }
      ]
    },
    {
      "cell_type": "code",
      "metadata": {
        "id": "-zHRc-5ynm6f",
        "outputId": "dad64996-2961-4618-943f-e389e74298d3",
        "colab": {
          "base_uri": "https://localhost:8080/",
          "height": 309
        }
      },
      "source": [
        "#Separando os resultados outliers\n",
        "dados_outliers_casos = dados_estado[dados_estado['novos_casos'] > 2500]\n",
        "dados_outliers_casos.head(5)"
      ],
      "execution_count": 344,
      "outputs": [
        {
          "output_type": "execute_result",
          "data": {
            "text/html": [
              "<div>\n",
              "<style scoped>\n",
              "    .dataframe tbody tr th:only-of-type {\n",
              "        vertical-align: middle;\n",
              "    }\n",
              "\n",
              "    .dataframe tbody tr th {\n",
              "        vertical-align: top;\n",
              "    }\n",
              "\n",
              "    .dataframe thead th {\n",
              "        text-align: right;\n",
              "    }\n",
              "</style>\n",
              "<table border=\"1\" class=\"dataframe\">\n",
              "  <thead>\n",
              "    <tr style=\"text-align: right;\">\n",
              "      <th></th>\n",
              "      <th>date</th>\n",
              "      <th>state</th>\n",
              "      <th>city</th>\n",
              "      <th>place_type</th>\n",
              "      <th>confirmed</th>\n",
              "      <th>deaths</th>\n",
              "      <th>order_for_place</th>\n",
              "      <th>is_last</th>\n",
              "      <th>estimated_population_2019</th>\n",
              "      <th>estimated_population</th>\n",
              "      <th>city_ibge_code</th>\n",
              "      <th>confirmed_per_100k_inhabitants</th>\n",
              "      <th>death_rate</th>\n",
              "      <th>Mes</th>\n",
              "      <th>novos_casos</th>\n",
              "      <th>novas_mortes</th>\n",
              "    </tr>\n",
              "  </thead>\n",
              "  <tbody>\n",
              "    <tr>\n",
              "      <th>368</th>\n",
              "      <td>2020-06-22</td>\n",
              "      <td>AP</td>\n",
              "      <td>NaN</td>\n",
              "      <td>state</td>\n",
              "      <td>24862</td>\n",
              "      <td>372</td>\n",
              "      <td>94</td>\n",
              "      <td>False</td>\n",
              "      <td>845731.00</td>\n",
              "      <td>861773.00</td>\n",
              "      <td>16.00</td>\n",
              "      <td>2884.98</td>\n",
              "      <td>0.01</td>\n",
              "      <td>6</td>\n",
              "      <td>3022</td>\n",
              "      <td>13</td>\n",
              "    </tr>\n",
              "    <tr>\n",
              "      <th>583</th>\n",
              "      <td>2020-07-07</td>\n",
              "      <td>AM</td>\n",
              "      <td>NaN</td>\n",
              "      <td>state</td>\n",
              "      <td>79167</td>\n",
              "      <td>2952</td>\n",
              "      <td>113</td>\n",
              "      <td>False</td>\n",
              "      <td>4144597.00</td>\n",
              "      <td>4207714.00</td>\n",
              "      <td>13.00</td>\n",
              "      <td>1881.47</td>\n",
              "      <td>0.04</td>\n",
              "      <td>7</td>\n",
              "      <td>2740</td>\n",
              "      <td>14</td>\n",
              "    </tr>\n",
              "    <tr>\n",
              "      <th>622</th>\n",
              "      <td>2020-05-29</td>\n",
              "      <td>AM</td>\n",
              "      <td>NaN</td>\n",
              "      <td>state</td>\n",
              "      <td>38909</td>\n",
              "      <td>2011</td>\n",
              "      <td>74</td>\n",
              "      <td>False</td>\n",
              "      <td>4144597.00</td>\n",
              "      <td>4207714.00</td>\n",
              "      <td>13.00</td>\n",
              "      <td>924.71</td>\n",
              "      <td>0.05</td>\n",
              "      <td>5</td>\n",
              "      <td>2763</td>\n",
              "      <td>47</td>\n",
              "    </tr>\n",
              "    <tr>\n",
              "      <th>623</th>\n",
              "      <td>2020-05-28</td>\n",
              "      <td>AM</td>\n",
              "      <td>NaN</td>\n",
              "      <td>state</td>\n",
              "      <td>36146</td>\n",
              "      <td>1964</td>\n",
              "      <td>73</td>\n",
              "      <td>False</td>\n",
              "      <td>4144597.00</td>\n",
              "      <td>4207714.00</td>\n",
              "      <td>13.00</td>\n",
              "      <td>859.04</td>\n",
              "      <td>0.05</td>\n",
              "      <td>5</td>\n",
              "      <td>2638</td>\n",
              "      <td>73</td>\n",
              "    </tr>\n",
              "    <tr>\n",
              "      <th>1008</th>\n",
              "      <td>2020-08-25</td>\n",
              "      <td>DF</td>\n",
              "      <td>NaN</td>\n",
              "      <td>state</td>\n",
              "      <td>153690</td>\n",
              "      <td>2344</td>\n",
              "      <td>171</td>\n",
              "      <td>False</td>\n",
              "      <td>3015268.00</td>\n",
              "      <td>3055149.00</td>\n",
              "      <td>53.00</td>\n",
              "      <td>5030.52</td>\n",
              "      <td>0.02</td>\n",
              "      <td>8</td>\n",
              "      <td>3171</td>\n",
              "      <td>28</td>\n",
              "    </tr>\n",
              "  </tbody>\n",
              "</table>\n",
              "</div>"
            ],
            "text/plain": [
              "           date state city  ... Mes  novos_casos  novas_mortes\n",
              "368  2020-06-22    AP  NaN  ...   6         3022            13\n",
              "583  2020-07-07    AM  NaN  ...   7         2740            14\n",
              "622  2020-05-29    AM  NaN  ...   5         2763            47\n",
              "623  2020-05-28    AM  NaN  ...   5         2638            73\n",
              "1008 2020-08-25    DF  NaN  ...   8         3171            28\n",
              "\n",
              "[5 rows x 16 columns]"
            ]
          },
          "metadata": {
            "tags": []
          },
          "execution_count": 344
        }
      ]
    },
    {
      "cell_type": "markdown",
      "metadata": {
        "id": "u302E2atuEpn"
      },
      "source": [
        "Quantidade de Outliers por Estado"
      ]
    },
    {
      "cell_type": "code",
      "metadata": {
        "id": "Zfpr627pqMOG",
        "outputId": "222cb2a0-c287-4a7b-d431-3fe853d77e63",
        "colab": {
          "base_uri": "https://localhost:8080/",
          "height": 545
        }
      },
      "source": [
        "dados_estados_outliers_casos = pd.DataFrame(dados_outliers_casos.set_index('state').groupby('state')['date'].count().sort_values(ascending=False))\n",
        "dados_estados_outliers_casos.rename(columns={'date': 'Qtd Outliers'}, inplace = True)\n",
        "dados_estados_outliers_casos"
      ],
      "execution_count": 345,
      "outputs": [
        {
          "output_type": "execute_result",
          "data": {
            "text/html": [
              "<div>\n",
              "<style scoped>\n",
              "    .dataframe tbody tr th:only-of-type {\n",
              "        vertical-align: middle;\n",
              "    }\n",
              "\n",
              "    .dataframe tbody tr th {\n",
              "        vertical-align: top;\n",
              "    }\n",
              "\n",
              "    .dataframe thead th {\n",
              "        text-align: right;\n",
              "    }\n",
              "</style>\n",
              "<table border=\"1\" class=\"dataframe\">\n",
              "  <thead>\n",
              "    <tr style=\"text-align: right;\">\n",
              "      <th></th>\n",
              "      <th>Qtd Outliers</th>\n",
              "    </tr>\n",
              "    <tr>\n",
              "      <th>state</th>\n",
              "      <th></th>\n",
              "    </tr>\n",
              "  </thead>\n",
              "  <tbody>\n",
              "    <tr>\n",
              "      <th>SP</th>\n",
              "      <td>145</td>\n",
              "    </tr>\n",
              "    <tr>\n",
              "      <th>MG</th>\n",
              "      <td>69</td>\n",
              "    </tr>\n",
              "    <tr>\n",
              "      <th>BA</th>\n",
              "      <td>51</td>\n",
              "    </tr>\n",
              "    <tr>\n",
              "      <th>GO</th>\n",
              "      <td>47</td>\n",
              "    </tr>\n",
              "    <tr>\n",
              "      <th>RJ</th>\n",
              "      <td>40</td>\n",
              "    </tr>\n",
              "    <tr>\n",
              "      <th>RS</th>\n",
              "      <td>34</td>\n",
              "    </tr>\n",
              "    <tr>\n",
              "      <th>CE</th>\n",
              "      <td>28</td>\n",
              "    </tr>\n",
              "    <tr>\n",
              "      <th>SC</th>\n",
              "      <td>26</td>\n",
              "    </tr>\n",
              "    <tr>\n",
              "      <th>PA</th>\n",
              "      <td>18</td>\n",
              "    </tr>\n",
              "    <tr>\n",
              "      <th>PR</th>\n",
              "      <td>5</td>\n",
              "    </tr>\n",
              "    <tr>\n",
              "      <th>MA</th>\n",
              "      <td>5</td>\n",
              "    </tr>\n",
              "    <tr>\n",
              "      <th>DF</th>\n",
              "      <td>3</td>\n",
              "    </tr>\n",
              "    <tr>\n",
              "      <th>AM</th>\n",
              "      <td>3</td>\n",
              "    </tr>\n",
              "    <tr>\n",
              "      <th>RN</th>\n",
              "      <td>2</td>\n",
              "    </tr>\n",
              "    <tr>\n",
              "      <th>AP</th>\n",
              "      <td>1</td>\n",
              "    </tr>\n",
              "  </tbody>\n",
              "</table>\n",
              "</div>"
            ],
            "text/plain": [
              "       Qtd Outliers\n",
              "state              \n",
              "SP              145\n",
              "MG               69\n",
              "BA               51\n",
              "GO               47\n",
              "RJ               40\n",
              "RS               34\n",
              "CE               28\n",
              "SC               26\n",
              "PA               18\n",
              "PR                5\n",
              "MA                5\n",
              "DF                3\n",
              "AM                3\n",
              "RN                2\n",
              "AP                1"
            ]
          },
          "metadata": {
            "tags": []
          },
          "execution_count": 345
        }
      ]
    },
    {
      "cell_type": "markdown",
      "metadata": {
        "id": "CFbOR4VSMsuU"
      },
      "source": [
        "**Comentário:** Alguns Estados não tiveram picos significativos a nível Nacional (tais como PE, PB, AC e MT), mantendo um crescimento de casos de forma gradativa e possivelmente diminuindo a possibilidade de esgotamento das UTIs de forma descontrolada."
      ]
    },
    {
      "cell_type": "markdown",
      "metadata": {
        "id": "8IMoHCwnuKLc"
      },
      "source": [
        "Quantidade de Outliers por Mês"
      ]
    },
    {
      "cell_type": "code",
      "metadata": {
        "id": "TJn_HLuZuN9b",
        "outputId": "55273cd9-4324-4e2b-92cb-dc679a9a2959",
        "colab": {
          "base_uri": "https://localhost:8080/",
          "height": 328
        }
      },
      "source": [
        "dados_mes_outliers_casos = pd.DataFrame(dados_outliers_casos.groupby(dados_outliers_casos['date'].dt.month)['state'].count().sort_values(ascending=False))\n",
        "dados_mes_outliers_casos.rename(columns={'state': 'Qtd Outliers'}, inplace = True)\n",
        "dados_mes_outliers_casos"
      ],
      "execution_count": 346,
      "outputs": [
        {
          "output_type": "execute_result",
          "data": {
            "text/html": [
              "<div>\n",
              "<style scoped>\n",
              "    .dataframe tbody tr th:only-of-type {\n",
              "        vertical-align: middle;\n",
              "    }\n",
              "\n",
              "    .dataframe tbody tr th {\n",
              "        vertical-align: top;\n",
              "    }\n",
              "\n",
              "    .dataframe thead th {\n",
              "        text-align: right;\n",
              "    }\n",
              "</style>\n",
              "<table border=\"1\" class=\"dataframe\">\n",
              "  <thead>\n",
              "    <tr style=\"text-align: right;\">\n",
              "      <th></th>\n",
              "      <th>Qtd Outliers</th>\n",
              "    </tr>\n",
              "    <tr>\n",
              "      <th>date</th>\n",
              "      <th></th>\n",
              "    </tr>\n",
              "  </thead>\n",
              "  <tbody>\n",
              "    <tr>\n",
              "      <th>8</th>\n",
              "      <td>130</td>\n",
              "    </tr>\n",
              "    <tr>\n",
              "      <th>7</th>\n",
              "      <td>110</td>\n",
              "    </tr>\n",
              "    <tr>\n",
              "      <th>9</th>\n",
              "      <td>81</td>\n",
              "    </tr>\n",
              "    <tr>\n",
              "      <th>6</th>\n",
              "      <td>70</td>\n",
              "    </tr>\n",
              "    <tr>\n",
              "      <th>10</th>\n",
              "      <td>50</td>\n",
              "    </tr>\n",
              "    <tr>\n",
              "      <th>5</th>\n",
              "      <td>30</td>\n",
              "    </tr>\n",
              "    <tr>\n",
              "      <th>11</th>\n",
              "      <td>5</td>\n",
              "    </tr>\n",
              "    <tr>\n",
              "      <th>4</th>\n",
              "      <td>1</td>\n",
              "    </tr>\n",
              "  </tbody>\n",
              "</table>\n",
              "</div>"
            ],
            "text/plain": [
              "      Qtd Outliers\n",
              "date              \n",
              "8              130\n",
              "7              110\n",
              "9               81\n",
              "6               70\n",
              "10              50\n",
              "5               30\n",
              "11               5\n",
              "4                1"
            ]
          },
          "metadata": {
            "tags": []
          },
          "execution_count": 346
        }
      ]
    },
    {
      "cell_type": "markdown",
      "metadata": {
        "id": "PHi6VF-_N0pl"
      },
      "source": [
        "**Comentário:** Os principais meses com picos significativos de casos foram Julho, Agosto e Setembro, tendo uma tendência, pelo menos até o dia 06-11-2020, de diminuição destes casos."
      ]
    },
    {
      "cell_type": "code",
      "metadata": {
        "id": "5ihvjhSMTY-r"
      },
      "source": [
        "dados_mes_outliers_casos_2 = dados_mes_outliers_casos.reset_index().sort_values('date')\n",
        "dados_mes_outliers_casos_2 = dados_mes_outliers_casos_2.set_index('date')"
      ],
      "execution_count": 347,
      "outputs": []
    },
    {
      "cell_type": "markdown",
      "metadata": {
        "id": "4ISBrELRWgHe"
      },
      "source": [
        "Número de Casos acima do comum (outliers) por Estado e por Mês"
      ]
    },
    {
      "cell_type": "code",
      "metadata": {
        "id": "K5QIeX7HRCFj",
        "outputId": "a0ba0612-a962-4724-81ab-0d5d67d68572",
        "colab": {
          "base_uri": "https://localhost:8080/",
          "height": 360
        }
      },
      "source": [
        "fig, axs = plt.subplots(1, 2, figsize=(20,5))\n",
        "\n",
        "dados_estados_outliers_casos['Qtd Outliers'].plot(ax = axs[0], kind='bar', color='darkgreen')\n",
        "axs[0].set_title('Números de casos acima do comum por Estado')\n",
        "axs[0].yaxis.set_major_formatter(ticker.StrMethodFormatter(\"{x:,.2f}\"))\n",
        "axs[0].set_ylabel('Quantidade de casos')\n",
        "axs[0].legend(loc='best')\n",
        "axs[0].set_ylim(bottom = 0)\n",
        "\n",
        "dados_mes_outliers_casos_2['Qtd Outliers'].plot(ax = axs[1], kind='bar', color='lightgreen')\n",
        "axs[1].set_title('Números de casos acima do comum por Mês')\n",
        "axs[1].yaxis.set_major_formatter(ticker.StrMethodFormatter(\"{x:,.2f}\"))\n",
        "axs[1].set_ylabel('Quantidade de casos')\n",
        "axs[1].legend(loc='best')\n",
        "axs[1].set_ylim(bottom = 0)\n",
        "\n",
        "fig.subplots_adjust(left=0.08, right=0.98, bottom=0.05, top=0.9,hspace=0.4, wspace=0.3)\n",
        "\n",
        "plt.show()"
      ],
      "execution_count": 348,
      "outputs": [
        {
          "output_type": "display_data",
          "data": {
            "image/png": "[encoded data removed]",
            "text/plain": [
              "<Figure size 1440x360 with 2 Axes>"
            ]
          },
          "metadata": {
            "tags": []
          }
        }
      ]
    },
    {
      "cell_type": "markdown",
      "metadata": {
        "id": "WHTSiRqdXMXp"
      },
      "source": [
        "**Comparação de Outliers em Pernambuco e São Paulo**"
      ]
    },
    {
      "cell_type": "code",
      "metadata": {
        "id": "bo7u8ZywXL9h",
        "outputId": "e5de748f-e737-4902-da17-dc7f599df300",
        "colab": {
          "base_uri": "https://localhost:8080/",
          "height": 337
        }
      },
      "source": [
        "dados_pe = dados_estado[dados_estado['state']=='PE']\n",
        "dados_sp = dados_estado[dados_estado['state']=='SP']\n",
        "\n",
        "fig, axs = plt.subplots(1, 2, figsize=(20,5))\n",
        "\n",
        "axs[0].boxplot(dados_pe['novos_casos'])\n",
        "axs[0].set_title(\"Picos de Novos Casos em Pernambuco\")\n",
        "axs[0].set_ylabel('Novos Casos');\n",
        "\n",
        "axs[1].boxplot(dados_sp['novos_casos'])\n",
        "axs[1].set_title(\"Picos de Novos Casos em São Paulo\")\n",
        "axs[1].set_ylabel('Novos Casos');"
      ],
      "execution_count": 349,
      "outputs": [
        {
          "output_type": "display_data",
          "data": {
            "image/png": "[encoded data removed]",
            "text/plain": [
              "<Figure size 1440x360 with 2 Axes>"
            ]
          },
          "metadata": {
            "tags": []
          }
        }
      ]
    },
    {
      "cell_type": "code",
      "metadata": {
        "id": "fiPLQNMsY1VD",
        "outputId": "b18710bc-7ee1-414a-af6d-db7037b91aea",
        "colab": {
          "base_uri": "https://localhost:8080/",
          "height": 117
        }
      },
      "source": [
        "#Data do maior pico de Novos Casos no Estado de Pernambuco\n",
        "dados_pe[dados_pe['novos_casos'] > 2000]"
      ],
      "execution_count": 350,
      "outputs": [
        {
          "output_type": "execute_result",
          "data": {
            "text/html": [
              "<div>\n",
              "<style scoped>\n",
              "    .dataframe tbody tr th:only-of-type {\n",
              "        vertical-align: middle;\n",
              "    }\n",
              "\n",
              "    .dataframe tbody tr th {\n",
              "        vertical-align: top;\n",
              "    }\n",
              "\n",
              "    .dataframe thead th {\n",
              "        text-align: right;\n",
              "    }\n",
              "</style>\n",
              "<table border=\"1\" class=\"dataframe\">\n",
              "  <thead>\n",
              "    <tr style=\"text-align: right;\">\n",
              "      <th></th>\n",
              "      <th>date</th>\n",
              "      <th>state</th>\n",
              "      <th>city</th>\n",
              "      <th>place_type</th>\n",
              "      <th>confirmed</th>\n",
              "      <th>deaths</th>\n",
              "      <th>order_for_place</th>\n",
              "      <th>is_last</th>\n",
              "      <th>estimated_population_2019</th>\n",
              "      <th>estimated_population</th>\n",
              "      <th>city_ibge_code</th>\n",
              "      <th>confirmed_per_100k_inhabitants</th>\n",
              "      <th>death_rate</th>\n",
              "      <th>Mes</th>\n",
              "      <th>novos_casos</th>\n",
              "      <th>novas_mortes</th>\n",
              "    </tr>\n",
              "  </thead>\n",
              "  <tbody>\n",
              "    <tr>\n",
              "      <th>3481</th>\n",
              "      <td>2020-05-16</td>\n",
              "      <td>PE</td>\n",
              "      <td>NaN</td>\n",
              "      <td>state</td>\n",
              "      <td>18488</td>\n",
              "      <td>1461</td>\n",
              "      <td>66</td>\n",
              "      <td>False</td>\n",
              "      <td>9557071.00</td>\n",
              "      <td>9616621.00</td>\n",
              "      <td>26.00</td>\n",
              "      <td>192.25</td>\n",
              "      <td>0.08</td>\n",
              "      <td>5</td>\n",
              "      <td>2279</td>\n",
              "      <td>80</td>\n",
              "    </tr>\n",
              "  </tbody>\n",
              "</table>\n",
              "</div>"
            ],
            "text/plain": [
              "           date state city  ... Mes  novos_casos  novas_mortes\n",
              "3481 2020-05-16    PE  NaN  ...   5         2279            80\n",
              "\n",
              "[1 rows x 16 columns]"
            ]
          },
          "metadata": {
            "tags": []
          },
          "execution_count": 350
        }
      ]
    },
    {
      "cell_type": "code",
      "metadata": {
        "id": "XJjojj6war0F",
        "outputId": "44c8ec27-a77b-44bc-d439-ada3f39d8284",
        "colab": {
          "base_uri": "https://localhost:8080/",
          "height": 357
        }
      },
      "source": [
        "#Data do maior pico de Novos Casos no Estado de São Paulo\n",
        "dados_sp[dados_sp['novos_casos'] > 15000]"
      ],
      "execution_count": 351,
      "outputs": [
        {
          "output_type": "execute_result",
          "data": {
            "text/html": [
              "<div>\n",
              "<style scoped>\n",
              "    .dataframe tbody tr th:only-of-type {\n",
              "        vertical-align: middle;\n",
              "    }\n",
              "\n",
              "    .dataframe tbody tr th {\n",
              "        vertical-align: top;\n",
              "    }\n",
              "\n",
              "    .dataframe thead th {\n",
              "        text-align: right;\n",
              "    }\n",
              "</style>\n",
              "<table border=\"1\" class=\"dataframe\">\n",
              "  <thead>\n",
              "    <tr style=\"text-align: right;\">\n",
              "      <th></th>\n",
              "      <th>date</th>\n",
              "      <th>state</th>\n",
              "      <th>city</th>\n",
              "      <th>place_type</th>\n",
              "      <th>confirmed</th>\n",
              "      <th>deaths</th>\n",
              "      <th>order_for_place</th>\n",
              "      <th>is_last</th>\n",
              "      <th>estimated_population_2019</th>\n",
              "      <th>estimated_population</th>\n",
              "      <th>city_ibge_code</th>\n",
              "      <th>confirmed_per_100k_inhabitants</th>\n",
              "      <th>death_rate</th>\n",
              "      <th>Mes</th>\n",
              "      <th>novos_casos</th>\n",
              "      <th>novas_mortes</th>\n",
              "    </tr>\n",
              "  </thead>\n",
              "  <tbody>\n",
              "    <tr>\n",
              "      <th>6166</th>\n",
              "      <td>2020-08-13</td>\n",
              "      <td>SP</td>\n",
              "      <td>NaN</td>\n",
              "      <td>state</td>\n",
              "      <td>674455</td>\n",
              "      <td>26324</td>\n",
              "      <td>169</td>\n",
              "      <td>False</td>\n",
              "      <td>45919049.00</td>\n",
              "      <td>46289333.00</td>\n",
              "      <td>35.00</td>\n",
              "      <td>1457.04</td>\n",
              "      <td>0.04</td>\n",
              "      <td>8</td>\n",
              "      <td>19274</td>\n",
              "      <td>455</td>\n",
              "    </tr>\n",
              "    <tr>\n",
              "      <th>6167</th>\n",
              "      <td>2020-08-12</td>\n",
              "      <td>SP</td>\n",
              "      <td>NaN</td>\n",
              "      <td>state</td>\n",
              "      <td>655181</td>\n",
              "      <td>25869</td>\n",
              "      <td>168</td>\n",
              "      <td>False</td>\n",
              "      <td>45919049.00</td>\n",
              "      <td>46289333.00</td>\n",
              "      <td>35.00</td>\n",
              "      <td>1415.40</td>\n",
              "      <td>0.04</td>\n",
              "      <td>8</td>\n",
              "      <td>15619</td>\n",
              "      <td>298</td>\n",
              "    </tr>\n",
              "    <tr>\n",
              "      <th>6175</th>\n",
              "      <td>2020-08-04</td>\n",
              "      <td>SP</td>\n",
              "      <td>NaN</td>\n",
              "      <td>state</td>\n",
              "      <td>575589</td>\n",
              "      <td>23702</td>\n",
              "      <td>160</td>\n",
              "      <td>False</td>\n",
              "      <td>45919049.00</td>\n",
              "      <td>46289333.00</td>\n",
              "      <td>35.00</td>\n",
              "      <td>1243.46</td>\n",
              "      <td>0.04</td>\n",
              "      <td>8</td>\n",
              "      <td>15371</td>\n",
              "      <td>337</td>\n",
              "    </tr>\n",
              "    <tr>\n",
              "      <th>6185</th>\n",
              "      <td>2020-07-25</td>\n",
              "      <td>SP</td>\n",
              "      <td>NaN</td>\n",
              "      <td>state</td>\n",
              "      <td>479481</td>\n",
              "      <td>21517</td>\n",
              "      <td>150</td>\n",
              "      <td>False</td>\n",
              "      <td>45919049.00</td>\n",
              "      <td>46289333.00</td>\n",
              "      <td>35.00</td>\n",
              "      <td>1035.83</td>\n",
              "      <td>0.04</td>\n",
              "      <td>7</td>\n",
              "      <td>16263</td>\n",
              "      <td>311</td>\n",
              "    </tr>\n",
              "    <tr>\n",
              "      <th>6188</th>\n",
              "      <td>2020-07-22</td>\n",
              "      <td>SP</td>\n",
              "      <td>NaN</td>\n",
              "      <td>state</td>\n",
              "      <td>439446</td>\n",
              "      <td>20532</td>\n",
              "      <td>147</td>\n",
              "      <td>False</td>\n",
              "      <td>45919049.00</td>\n",
              "      <td>46289333.00</td>\n",
              "      <td>35.00</td>\n",
              "      <td>949.35</td>\n",
              "      <td>0.05</td>\n",
              "      <td>7</td>\n",
              "      <td>16777</td>\n",
              "      <td>361</td>\n",
              "    </tr>\n",
              "    <tr>\n",
              "      <th>6221</th>\n",
              "      <td>2020-06-19</td>\n",
              "      <td>SP</td>\n",
              "      <td>NaN</td>\n",
              "      <td>state</td>\n",
              "      <td>211658</td>\n",
              "      <td>12232</td>\n",
              "      <td>114</td>\n",
              "      <td>False</td>\n",
              "      <td>45919049.00</td>\n",
              "      <td>46289333.00</td>\n",
              "      <td>35.00</td>\n",
              "      <td>457.25</td>\n",
              "      <td>0.06</td>\n",
              "      <td>6</td>\n",
              "      <td>19030</td>\n",
              "      <td>386</td>\n",
              "    </tr>\n",
              "  </tbody>\n",
              "</table>\n",
              "</div>"
            ],
            "text/plain": [
              "           date state city  ... Mes  novos_casos  novas_mortes\n",
              "6166 2020-08-13    SP  NaN  ...   8        19274           455\n",
              "6167 2020-08-12    SP  NaN  ...   8        15619           298\n",
              "6175 2020-08-04    SP  NaN  ...   8        15371           337\n",
              "6185 2020-07-25    SP  NaN  ...   7        16263           311\n",
              "6188 2020-07-22    SP  NaN  ...   7        16777           361\n",
              "6221 2020-06-19    SP  NaN  ...   6        19030           386\n",
              "\n",
              "[6 rows x 16 columns]"
            ]
          },
          "metadata": {
            "tags": []
          },
          "execution_count": 351
        }
      ]
    },
    {
      "cell_type": "markdown",
      "metadata": {
        "id": "MULlDLiBYkp-"
      },
      "source": [
        "**Comentáio:** Como podemos ver, se considerarmos somente os casos por Estado, Pernambuco possui um caso bastante 'acima do comum'. Foi no dia 16-05-2020 e foi registrado 2.279 novos casos. Na ocasião, o Estado registrou 18.488 casos de COVID-19 e 1.461 mortes. \n",
        "\n",
        "Já no Estado de São Paulo, líder de picos em anomalia no cenário Nacional, foram observados 6 momentos 'acima do comum' em registro de novos casos, sendo 3 em Agosto, 2 em Julho e 1 em Junho. Evidencia-se a curva de crescimento de casos entre Junho e Agosto, onde o número total de casos de COVID-19 triplicou, saindo de 211.658 no primeiro registro de pico (dia 19-06-2020) para 674.455 no último registro (dia 13-08-2020)."
      ]
    },
    {
      "cell_type": "markdown",
      "metadata": {
        "id": "m7RS2cxkPv4T"
      },
      "source": [
        "###### **5) Avaliando os quantitativos do Estado de Pernambuco vs sua Capital Recife. Como será que está sendo a influência da Capital nos números gerais do Estado?**"
      ]
    },
    {
      "cell_type": "code",
      "metadata": {
        "id": "-g4td49hZq2N"
      },
      "source": [
        "dados_pe = dados_estado[dados_estado['state']=='PE'].sort_values('date', ascending = True)\n",
        "dados_recife = dados_cidade[dados_cidade['city']=='Recife'].sort_values('date', ascending = True)\n",
        "\n",
        "dados_pe_mes = dados_pe.sort_values('Mes', ascending = True).set_index('Mes')\n",
        "dados_recife_mes = dados_recife.sort_values('Mes', ascending = True).set_index('Mes')"
      ],
      "execution_count": 352,
      "outputs": []
    },
    {
      "cell_type": "code",
      "metadata": {
        "id": "NdPGsIzfQZqk",
        "outputId": "162a35a8-ae1c-45ac-dc81-c4c4cb45f537",
        "colab": {
          "base_uri": "https://localhost:8080/",
          "height": 0
        }
      },
      "source": [
        "labels = dados_pe['date']\n",
        "labels2 = dados_recife['date']\n",
        "\n",
        "x = np.arange(len(labels))\n",
        "x2 = np.arange(len(labels2))  # the label locations\n",
        "width = 0.35  # the width of the bars\n",
        "\n",
        "fig, axs = plt.subplots(1, 2, figsize=(20,5))\n",
        "\n",
        "axs[0].bar(x - width/2, dados_pe['confirmed'], width, color='peru')\n",
        "axs[0].set_title('Acompanhamento dos Casos em Pernambuco - até 06-11-2020')\n",
        "axs[0].yaxis.set_major_formatter(ticker.StrMethodFormatter(\"{x:,.2f}\"))\n",
        "axs[0].set_ylabel('Quantidade de casos')\n",
        "axs[0].set_xlabel('Dias de Pandemia - entre 12/03/20 e 05/11/20')\n",
        "axs[0].set_ylim(bottom = 0)\n",
        "\n",
        "axs[1].bar(x2 - width/2, dados_recife['confirmed'], width, color='saddlebrown')\n",
        "axs[1].set_title('Acompanhamento dos Casos em Recife - até 06-11-2020')\n",
        "axs[1].yaxis.set_major_formatter(ticker.StrMethodFormatter(\"{x:,.2f}\"))\n",
        "axs[1].set_ylabel('Quantidade de casos')\n",
        "axs[1].set_xlabel('Dias de Pandemia - entre 12/03/20 e 05/11/20')\n",
        "axs[1].set_ylim(bottom = 0)\n",
        "\n",
        "fig.subplots_adjust(left=0.08, right=0.98, bottom=0.05, top=0.9,hspace=0.4, wspace=0.3)\n",
        "\n",
        "plt.show();"
      ],
      "execution_count": 353,
      "outputs": [
        {
          "output_type": "display_data",
          "data": {
            "image/png": "[encoded data removed]",
            "text/plain": [
              "<Figure size 1440x360 with 2 Axes>"
            ]
          },
          "metadata": {
            "tags": []
          }
        }
      ]
    },
    {
      "cell_type": "code",
      "metadata": {
        "id": "GWAC-8FZRbbz",
        "outputId": "e66f65c6-705d-4427-b9dc-dd6abe8b5a37",
        "colab": {
          "base_uri": "https://localhost:8080/",
          "height": 0
        }
      },
      "source": [
        "labels = dados_pe['date']\n",
        "labels2 = dados_recife['date']\n",
        "\n",
        "x = np.arange(len(labels))\n",
        "x2 = np.arange(len(labels2))  # the label locations\n",
        "width = 0.35  # the width of the bars\n",
        "\n",
        "fig, ax = plt.subplots(figsize=(20,5))\n",
        "rects1 = ax.bar(x - width/2, dados_pe['confirmed'], width, label='PE', color='peru')\n",
        "rects2 = ax.bar(x2 + width/2, dados_recife['confirmed'], width, label='Recife', color='saddlebrown')\n",
        "\n",
        "# Add some text for labels, title and custom x-axis tick labels, etc.\n",
        "ax.set_ylabel('Casos Confirmados')\n",
        "ax.set_title('Casos Confirmados de COVID-19:PE vs Recife')\n",
        "ax.set_xlabel('Dias de Pandemia - entre 12/03/20 e 05/11/20')\n",
        "ax.legend()\n",
        "fig.tight_layout()\n",
        "plt.show()"
      ],
      "execution_count": 354,
      "outputs": [
        {
          "output_type": "display_data",
          "data": {
            "image/png": "[encoded data removed]",
            "text/plain": [
              "<Figure size 1440x360 with 1 Axes>"
            ]
          },
          "metadata": {
            "tags": []
          }
        }
      ]
    },
    {
      "cell_type": "code",
      "metadata": {
        "id": "zYZKOGku2n8i",
        "outputId": "d2a5c0eb-581e-4e5e-afb8-d8c3895a4f24",
        "colab": {
          "base_uri": "https://localhost:8080/",
          "height": 0
        }
      },
      "source": [
        "dados_cidade_pe = dados_cidade[dados_cidade['state']=='PE']\n",
        "dados_cidade_pe = dados_cidade_pe[dados_cidade_pe['is_last']==True].sort_values('confirmed', ascending=True).reset_index()\n",
        "dados_cidade_pe"
      ],
      "execution_count": 355,
      "outputs": [
        {
          "output_type": "execute_result",
          "data": {
            "text/html": [
              "<div>\n",
              "<style scoped>\n",
              "    .dataframe tbody tr th:only-of-type {\n",
              "        vertical-align: middle;\n",
              "    }\n",
              "\n",
              "    .dataframe tbody tr th {\n",
              "        vertical-align: top;\n",
              "    }\n",
              "\n",
              "    .dataframe thead th {\n",
              "        text-align: right;\n",
              "    }\n",
              "</style>\n",
              "<table border=\"1\" class=\"dataframe\">\n",
              "  <thead>\n",
              "    <tr style=\"text-align: right;\">\n",
              "      <th></th>\n",
              "      <th>index</th>\n",
              "      <th>date</th>\n",
              "      <th>state</th>\n",
              "      <th>city</th>\n",
              "      <th>place_type</th>\n",
              "      <th>confirmed</th>\n",
              "      <th>deaths</th>\n",
              "      <th>order_for_place</th>\n",
              "      <th>is_last</th>\n",
              "      <th>estimated_population_2019</th>\n",
              "      <th>estimated_population</th>\n",
              "      <th>city_ibge_code</th>\n",
              "      <th>confirmed_per_100k_inhabitants</th>\n",
              "      <th>death_rate</th>\n",
              "      <th>Mes</th>\n",
              "    </tr>\n",
              "  </thead>\n",
              "  <tbody>\n",
              "    <tr>\n",
              "      <th>0</th>\n",
              "      <td>346540</td>\n",
              "      <td>2020-11-04</td>\n",
              "      <td>PE</td>\n",
              "      <td>Importados/Indefinidos</td>\n",
              "      <td>city</td>\n",
              "      <td>0</td>\n",
              "      <td>0</td>\n",
              "      <td>228</td>\n",
              "      <td>True</td>\n",
              "      <td>nan</td>\n",
              "      <td>nan</td>\n",
              "      <td>nan</td>\n",
              "      <td>nan</td>\n",
              "      <td>0.00</td>\n",
              "      <td>11</td>\n",
              "    </tr>\n",
              "    <tr>\n",
              "      <th>1</th>\n",
              "      <td>347533</td>\n",
              "      <td>2020-11-04</td>\n",
              "      <td>PE</td>\n",
              "      <td>Itacuruba</td>\n",
              "      <td>city</td>\n",
              "      <td>12</td>\n",
              "      <td>2</td>\n",
              "      <td>157</td>\n",
              "      <td>True</td>\n",
              "      <td>4918.00</td>\n",
              "      <td>4966.00</td>\n",
              "      <td>2607406.00</td>\n",
              "      <td>241.64</td>\n",
              "      <td>0.17</td>\n",
              "      <td>11</td>\n",
              "    </tr>\n",
              "    <tr>\n",
              "      <th>2</th>\n",
              "      <td>354183</td>\n",
              "      <td>2020-11-04</td>\n",
              "      <td>PE</td>\n",
              "      <td>Palmeirina</td>\n",
              "      <td>city</td>\n",
              "      <td>29</td>\n",
              "      <td>2</td>\n",
              "      <td>168</td>\n",
              "      <td>True</td>\n",
              "      <td>7693.00</td>\n",
              "      <td>7600.00</td>\n",
              "      <td>2610103.00</td>\n",
              "      <td>381.58</td>\n",
              "      <td>0.07</td>\n",
              "      <td>11</td>\n",
              "    </tr>\n",
              "    <tr>\n",
              "      <th>3</th>\n",
              "      <td>336971</td>\n",
              "      <td>2020-11-04</td>\n",
              "      <td>PE</td>\n",
              "      <td>Brejão</td>\n",
              "      <td>city</td>\n",
              "      <td>33</td>\n",
              "      <td>2</td>\n",
              "      <td>155</td>\n",
              "      <td>True</td>\n",
              "      <td>8993.00</td>\n",
              "      <td>8987.00</td>\n",
              "      <td>2602407.00</td>\n",
              "      <td>367.20</td>\n",
              "      <td>0.06</td>\n",
              "      <td>11</td>\n",
              "    </tr>\n",
              "    <tr>\n",
              "      <th>4</th>\n",
              "      <td>339577</td>\n",
              "      <td>2020-11-04</td>\n",
              "      <td>PE</td>\n",
              "      <td>Carnaubeira da Penha</td>\n",
              "      <td>city</td>\n",
              "      <td>45</td>\n",
              "      <td>2</td>\n",
              "      <td>188</td>\n",
              "      <td>True</td>\n",
              "      <td>12932.00</td>\n",
              "      <td>13025.00</td>\n",
              "      <td>2603926.00</td>\n",
              "      <td>345.49</td>\n",
              "      <td>0.04</td>\n",
              "      <td>11</td>\n",
              "    </tr>\n",
              "    <tr>\n",
              "      <th>...</th>\n",
              "      <td>...</td>\n",
              "      <td>...</td>\n",
              "      <td>...</td>\n",
              "      <td>...</td>\n",
              "      <td>...</td>\n",
              "      <td>...</td>\n",
              "      <td>...</td>\n",
              "      <td>...</td>\n",
              "      <td>...</td>\n",
              "      <td>...</td>\n",
              "      <td>...</td>\n",
              "      <td>...</td>\n",
              "      <td>...</td>\n",
              "      <td>...</td>\n",
              "      <td>...</td>\n",
              "    </tr>\n",
              "    <tr>\n",
              "      <th>181</th>\n",
              "      <td>355896</td>\n",
              "      <td>2020-11-04</td>\n",
              "      <td>PE</td>\n",
              "      <td>Petrolina</td>\n",
              "      <td>city</td>\n",
              "      <td>6396</td>\n",
              "      <td>101</td>\n",
              "      <td>222</td>\n",
              "      <td>True</td>\n",
              "      <td>349145.00</td>\n",
              "      <td>354317.00</td>\n",
              "      <td>2611101.00</td>\n",
              "      <td>1805.16</td>\n",
              "      <td>0.02</td>\n",
              "      <td>11</td>\n",
              "    </tr>\n",
              "    <tr>\n",
              "      <th>182</th>\n",
              "      <td>353177</td>\n",
              "      <td>2020-11-04</td>\n",
              "      <td>PE</td>\n",
              "      <td>Olinda</td>\n",
              "      <td>city</td>\n",
              "      <td>6607</td>\n",
              "      <td>512</td>\n",
              "      <td>223</td>\n",
              "      <td>True</td>\n",
              "      <td>392482.00</td>\n",
              "      <td>393115.00</td>\n",
              "      <td>2609600.00</td>\n",
              "      <td>1680.68</td>\n",
              "      <td>0.08</td>\n",
              "      <td>11</td>\n",
              "    </tr>\n",
              "    <tr>\n",
              "      <th>183</th>\n",
              "      <td>340170</td>\n",
              "      <td>2020-11-04</td>\n",
              "      <td>PE</td>\n",
              "      <td>Caruaru</td>\n",
              "      <td>city</td>\n",
              "      <td>9663</td>\n",
              "      <td>348</td>\n",
              "      <td>222</td>\n",
              "      <td>True</td>\n",
              "      <td>361118.00</td>\n",
              "      <td>365278.00</td>\n",
              "      <td>2604106.00</td>\n",
              "      <td>2645.38</td>\n",
              "      <td>0.04</td>\n",
              "      <td>11</td>\n",
              "    </tr>\n",
              "    <tr>\n",
              "      <th>184</th>\n",
              "      <td>348644</td>\n",
              "      <td>2020-11-04</td>\n",
              "      <td>PE</td>\n",
              "      <td>Jaboatão dos Guararapes</td>\n",
              "      <td>city</td>\n",
              "      <td>9934</td>\n",
              "      <td>862</td>\n",
              "      <td>226</td>\n",
              "      <td>True</td>\n",
              "      <td>702298.00</td>\n",
              "      <td>706867.00</td>\n",
              "      <td>2607901.00</td>\n",
              "      <td>1405.36</td>\n",
              "      <td>0.09</td>\n",
              "      <td>11</td>\n",
              "    </tr>\n",
              "    <tr>\n",
              "      <th>185</th>\n",
              "      <td>357285</td>\n",
              "      <td>2020-11-04</td>\n",
              "      <td>PE</td>\n",
              "      <td>Recife</td>\n",
              "      <td>city</td>\n",
              "      <td>36778</td>\n",
              "      <td>2469</td>\n",
              "      <td>230</td>\n",
              "      <td>True</td>\n",
              "      <td>1645727.00</td>\n",
              "      <td>1653461.00</td>\n",
              "      <td>2611606.00</td>\n",
              "      <td>2224.30</td>\n",
              "      <td>0.07</td>\n",
              "      <td>11</td>\n",
              "    </tr>\n",
              "  </tbody>\n",
              "</table>\n",
              "<p>186 rows × 15 columns</p>\n",
              "</div>"
            ],
            "text/plain": [
              "      index       date state  ... confirmed_per_100k_inhabitants death_rate  Mes\n",
              "0    346540 2020-11-04    PE  ...                            nan       0.00   11\n",
              "1    347533 2020-11-04    PE  ...                         241.64       0.17   11\n",
              "2    354183 2020-11-04    PE  ...                         381.58       0.07   11\n",
              "3    336971 2020-11-04    PE  ...                         367.20       0.06   11\n",
              "4    339577 2020-11-04    PE  ...                         345.49       0.04   11\n",
              "..      ...        ...   ...  ...                            ...        ...  ...\n",
              "181  355896 2020-11-04    PE  ...                        1805.16       0.02   11\n",
              "182  353177 2020-11-04    PE  ...                        1680.68       0.08   11\n",
              "183  340170 2020-11-04    PE  ...                        2645.38       0.04   11\n",
              "184  348644 2020-11-04    PE  ...                        1405.36       0.09   11\n",
              "185  357285 2020-11-04    PE  ...                        2224.30       0.07   11\n",
              "\n",
              "[186 rows x 15 columns]"
            ]
          },
          "metadata": {
            "tags": []
          },
          "execution_count": 355
        }
      ]
    },
    {
      "cell_type": "code",
      "metadata": {
        "id": "Cd8RM1um5z6o",
        "outputId": "2753ec94-e14c-4028-8eb5-8325439d7990",
        "colab": {
          "base_uri": "https://localhost:8080/"
        }
      },
      "source": [
        "print(\"Soma de casos Pernambuco - Recife:\",sum(dados_cidade_pe['confirmed'][:-1]))\n",
        "print(\"Soma de casos Recife:\",sum(dados_cidade_pe['confirmed'][-1:]))"
      ],
      "execution_count": 356,
      "outputs": [
        {
          "output_type": "stream",
          "text": [
            "Soma de casos Pernambuco - Recife: 126864\n",
            "Soma de casos Recife: 36778\n"
          ],
          "name": "stdout"
        }
      ]
    },
    {
      "cell_type": "markdown",
      "metadata": {
        "id": "QDg099ua6p04"
      },
      "source": [
        "População de Pernambuco (2014): 9,278 milhões\n",
        "\n",
        "População de Recife (2012): 1,555 milhão"
      ]
    },
    {
      "cell_type": "markdown",
      "metadata": {
        "id": "G3d_kJOE1mb-"
      },
      "source": [
        "**Comentário:** Como podemos ver, até o dia 50 da pandemia os números de casos do Estado de Pernambuco eram basicamente os números da sua Capital Recife. Ao avançar dos dias, o vírus se espalha pelo Estado a ponto de no dia 100 a Recife representar cerca de metade do total do Estado e nos dias mais recentes representa cerca de 1/4 do total de casos no Estado.\n",
        "\n",
        "Podemos levantar a hipótese de que a população da capital tem se prevenido melhor e mais antecipadamente contra o vírus, visto que os números vão subindo de forma mais lenta na Capital em relação aos demais."
      ]
    }
  ]
}